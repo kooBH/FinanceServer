{
 "cells": [
  {
   "cell_type": "markdown",
   "metadata": {},
   "source": [
    "# Chapter 2\n",
    "+ 아래로 내려가면서 구현\n",
    "+ 다 구현되면 .py 파일로 모듈화\n",
    "\n",
    "### mlfinlab\n",
    "+ https://github.com/hudson-and-thames/mlfinlab/blob/master/mlfinlab/data_structures/base_bars.py\n",
    "+ https://github.com/hudson-and-thames/mlfinlab/blob/master/mlfinlab/data_structures/imbalance_data_structures.py\n",
    "\n",
    "### BlackArbsCEO/Adv_Fin_ML_Exercises\n",
    "+ https://github.com/BlackArbsCEO/Adv_Fin_ML_Exercises/blob/master/src/features/bars.py"
   ]
  },
  {
   "cell_type": "code",
   "execution_count": 33,
   "metadata": {},
   "outputs": [],
   "source": [
    "# from alpha_vantage.timeseries import TimeSeries\n",
    "import pandas as pd\n",
    "import numpy as np\n",
    "import os\n",
    "import matplotlib.pyplot as plt\n",
    "import seaborn as sns; sns.set()"
   ]
  },
  {
   "cell_type": "code",
   "execution_count": 2,
   "metadata": {},
   "outputs": [
    {
     "data": {
      "text/plain": [
       "['181122-1219.csv',\n",
       " '181220-1231.csv',\n",
       " '190101-0117.csv',\n",
       " '190118-0131.csv',\n",
       " '190201-0217.csv']"
      ]
     },
     "metadata": {},
     "output_type": "display_data"
    },
    {
     "name": "stdout",
     "output_type": "stream",
     "text": [
      "reading MiniKospi/181122-1219.csv 1/5\n",
      "reading MiniKospi/181220-1231.csv 2/5\n",
      "reading MiniKospi/190101-0117.csv 3/5\n",
      "reading MiniKospi/190118-0131.csv 4/5\n",
      "reading MiniKospi/190201-0217.csv 5/5\n"
     ]
    },
    {
     "data": {
      "text/html": [
       "<div>\n",
       "<style scoped>\n",
       "    .dataframe tbody tr th:only-of-type {\n",
       "        vertical-align: middle;\n",
       "    }\n",
       "\n",
       "    .dataframe tbody tr th {\n",
       "        vertical-align: top;\n",
       "    }\n",
       "\n",
       "    .dataframe thead th {\n",
       "        text-align: right;\n",
       "    }\n",
       "</style>\n",
       "<table border=\"1\" class=\"dataframe\">\n",
       "  <thead>\n",
       "    <tr style=\"text-align: right;\">\n",
       "      <th></th>\n",
       "      <th>close</th>\n",
       "      <th>volume</th>\n",
       "    </tr>\n",
       "    <tr>\n",
       "      <th>timestamp</th>\n",
       "      <th></th>\n",
       "      <th></th>\n",
       "    </tr>\n",
       "  </thead>\n",
       "  <tbody>\n",
       "    <tr>\n",
       "      <th>2018-11-22 09:00:00</th>\n",
       "      <td>268.559998</td>\n",
       "      <td>29.0</td>\n",
       "    </tr>\n",
       "    <tr>\n",
       "      <th>2018-11-22 09:00:00</th>\n",
       "      <td>268.600006</td>\n",
       "      <td>1.0</td>\n",
       "    </tr>\n",
       "    <tr>\n",
       "      <th>2018-11-22 09:00:00</th>\n",
       "      <td>268.579987</td>\n",
       "      <td>1.0</td>\n",
       "    </tr>\n",
       "    <tr>\n",
       "      <th>2018-11-22 09:00:00</th>\n",
       "      <td>268.660004</td>\n",
       "      <td>1.0</td>\n",
       "    </tr>\n",
       "    <tr>\n",
       "      <th>2018-11-22 09:00:00</th>\n",
       "      <td>268.619995</td>\n",
       "      <td>1.0</td>\n",
       "    </tr>\n",
       "  </tbody>\n",
       "</table>\n",
       "</div>"
      ],
      "text/plain": [
       "                          close  volume\n",
       "timestamp                              \n",
       "2018-11-22 09:00:00  268.559998    29.0\n",
       "2018-11-22 09:00:00  268.600006     1.0\n",
       "2018-11-22 09:00:00  268.579987     1.0\n",
       "2018-11-22 09:00:00  268.660004     1.0\n",
       "2018-11-22 09:00:00  268.619995     1.0"
      ]
     },
     "metadata": {},
     "output_type": "display_data"
    },
    {
     "data": {
      "text/html": [
       "<div>\n",
       "<style scoped>\n",
       "    .dataframe tbody tr th:only-of-type {\n",
       "        vertical-align: middle;\n",
       "    }\n",
       "\n",
       "    .dataframe tbody tr th {\n",
       "        vertical-align: top;\n",
       "    }\n",
       "\n",
       "    .dataframe thead th {\n",
       "        text-align: right;\n",
       "    }\n",
       "</style>\n",
       "<table border=\"1\" class=\"dataframe\">\n",
       "  <thead>\n",
       "    <tr style=\"text-align: right;\">\n",
       "      <th></th>\n",
       "      <th>close</th>\n",
       "      <th>volume</th>\n",
       "    </tr>\n",
       "    <tr>\n",
       "      <th>timestamp</th>\n",
       "      <th></th>\n",
       "      <th></th>\n",
       "    </tr>\n",
       "  </thead>\n",
       "  <tbody>\n",
       "    <tr>\n",
       "      <th>2019-02-15 15:34:00</th>\n",
       "      <td>284.279999</td>\n",
       "      <td>1.0</td>\n",
       "    </tr>\n",
       "    <tr>\n",
       "      <th>2019-02-15 15:34:00</th>\n",
       "      <td>284.260010</td>\n",
       "      <td>1.0</td>\n",
       "    </tr>\n",
       "    <tr>\n",
       "      <th>2019-02-15 15:34:00</th>\n",
       "      <td>284.260010</td>\n",
       "      <td>1.0</td>\n",
       "    </tr>\n",
       "    <tr>\n",
       "      <th>2019-02-15 15:34:00</th>\n",
       "      <td>284.260010</td>\n",
       "      <td>21.0</td>\n",
       "    </tr>\n",
       "    <tr>\n",
       "      <th>2019-02-15 15:45:00</th>\n",
       "      <td>284.200012</td>\n",
       "      <td>135.0</td>\n",
       "    </tr>\n",
       "  </tbody>\n",
       "</table>\n",
       "</div>"
      ],
      "text/plain": [
       "                          close  volume\n",
       "timestamp                              \n",
       "2019-02-15 15:34:00  284.279999     1.0\n",
       "2019-02-15 15:34:00  284.260010     1.0\n",
       "2019-02-15 15:34:00  284.260010     1.0\n",
       "2019-02-15 15:34:00  284.260010    21.0\n",
       "2019-02-15 15:45:00  284.200012   135.0"
      ]
     },
     "metadata": {},
     "output_type": "display_data"
    }
   ],
   "source": [
    "'''\n",
    "symbol = 'ES=F'\n",
    "f = open(\"ALPHA_KEY\", 'r')\n",
    "key = f.readline()\n",
    "f.close()\n",
    "# AlphaVantage에서 데이터를 받아온다.\n",
    "ts  = TimeSeries(key=key, output_format='pandas')\n",
    "tmp, meta_tmp = ts.get_intraday(symbol=symbol,interval='1min', outputsize='full')\n",
    "tmp.index = pd.to_datetime(tmp.index)\n",
    "## -> tick data 아님\n",
    "'''\n",
    "\n",
    "# 틱 데이터\n",
    "path = 'MiniKospi/'\n",
    "# 파일명이 일관성이 있으며 시간순으로 오름차순이어야함. \n",
    "# 아니면 별도의 sort 또는 예외처리를 해야한다. \n",
    "list_file = os.listdir(path)\n",
    "list_file.sort()\n",
    "display(list_file)\n",
    "\n",
    "data = pd.DataFrame(columns=['close','volume']) \n",
    "data.index.names = ['timestamp']\n",
    "cnt=0\n",
    "\n",
    "\n",
    "# 일단은 전체 데이터를 하나의 dataframe이 넣어서 돌리자\n",
    "# 메모리 이슈 생각하면 파일을 쪼개서 하나씩 처리해야 하지만, 아직은 데이터 셋이 그렇게 크지 않음\n",
    "# 다만 항상 분할해서 처리해야함을 염두해 두자.\n",
    "for file in list_file :\n",
    "    cnt+=1\n",
    "    print('reading ' + path + file + ' ' + str(cnt) +'/' + str(len(list_file)) )\n",
    "    tmp = pd.read_csv(path+file,index_col=0)\n",
    "    tmp = tmp.drop(columns=['date','time','sell','buy'])\n",
    "    # conver to datetime\n",
    "    tmp.index = pd.to_datetime(tmp.index)\n",
    "    tmp.index.names = ['timestamp']\n",
    "    data = data.append(tmp)\n",
    "    # display(tmp.head())\n",
    "    # 일단 2개만.\n",
    "# display\n",
    "display(data.head())\n",
    "display(data.tail())"
   ]
  },
  {
   "cell_type": "code",
   "execution_count": 3,
   "metadata": {
    "scrolled": true
   },
   "outputs": [
    {
     "data": {
      "text/plain": [
       "<matplotlib.axes._subplots.AxesSubplot at 0x7fa78cc3fe80>"
      ]
     },
     "execution_count": 3,
     "metadata": {},
     "output_type": "execute_result"
    },
    {
     "data": {
      "image/png": "[encoded data removed]",
      "text/plain": [
       "<Figure size 432x288 with 1 Axes>"
      ]
     },
     "metadata": {
      "needs_background": "light"
     },
     "output_type": "display_data"
    }
   ],
   "source": [
    "data['close'].plot()"
   ]
  },
  {
   "cell_type": "markdown",
   "metadata": {},
   "source": [
    "## Exponential Weighted Moving Average\n",
    "\n",
    "https://www.investopedia.com/terms/e/ema.asp\n",
    "\n",
    "\n",
    "Calculating the EMA\n",
    "To calculate an EMA, you must first compute the simple moving average (SMA) over a particular time period. The calculation for the SMA is straightforward: it is simply the sum of the stock's closing prices for the number of time periods in question, divided by that same number of periods. So, for example, a 20-day SMA is just the sum of the closing prices for the past 20 trading days, divided by 20.\n",
    "\n",
    "Next, you must calculate the multiplier for smoothing (weighting) the EMA, which typically follows the formula: [2 ÷ (selected time period + 1)]. So, for a 20-day moving average, the multiplier would be [2/(20+1)]= 0.0952.\n",
    "\n",
    "Finally, to calculate the current EMA, the following formula is used: [Closing price-EMA (previous day)] x multiplier + EMA (previous day)\n",
    "\n",
    "내가 이해하기로는 EWMA 의 식은\n",
    "\n",
    "$ \\text{SMA}_t = \\frac{\\sum_{k=t-\\text{n}}^t \\text{value}_k}{\\text{n}}$ \n",
    "\n",
    "$ \\large \\text{weight} = \\frac{2}{\\text{n} + 1}$\n",
    "\n",
    "$ \\text{EMA}_t = \\text{SMA}_t * \\text{weight} + EMA_{t-1}*(1-\\text{weight}) $\n",
    "\n",
    "인데\n",
    "\n",
    "\n",
    "+ https://stackoverflow.com/questions/42869495/numpy-version-of-exponential-weighted-moving-average-equivalent-to-pandas-ewm/51392341#51392341\n",
    "+ mlfinlab 에서 사용한 ewma 코드 출처\n",
    "\n",
    "```python\n",
    "   n = arr_in.shape[0]\n",
    "    ewma = np.empty(n, dtype=float64)\n",
    "    alpha = 2 / float(window + 1)\n",
    "    w = 1\n",
    "    ewma_old = arr_in[0]\n",
    "    ewma[0] = ewma_old\n",
    "    for i in range(1, n):\n",
    "        w += (1-alpha)**i\n",
    "        ewma_old = ewma_old*(1-alpha) + arr_in[i]\n",
    "        ewma[i] = ewma_old / w\n",
    "    return ewma\n",
    "    \n",
    "```\n",
    "\n",
    "좀 다르다?   \n",
    "```ewma_old = ewma_old*(1-alpha) + arr_in[i]   \n",
    "ewma[i] = ewma_old / w```  \n",
    "*TODO*   \n",
    "계산해보면 같을거 같긴한데, 일단 짜보자"
   ]
  },
  {
   "cell_type": "code",
   "execution_count": 4,
   "metadata": {},
   "outputs": [
    {
     "data": {
      "text/plain": [
       "0.09523809523809523"
      ]
     },
     "execution_count": 4,
     "metadata": {},
     "output_type": "execute_result"
    }
   ],
   "source": [
    "def ewma_weight(window):\n",
    "    return 2/(window+1)\n",
    "ewma_weight(20)"
   ]
  },
  {
   "cell_type": "markdown",
   "metadata": {},
   "source": [
    "## Unit of Bar\n",
    "\n",
    "일단 주 단위로 구해보자\n",
    "\n",
    "https://stackoverflow.com/questions/41625077/python-pandas-split-a-timeserie-per-month-or-week  \n",
    "\n",
    "[Grouper](https://pandas.pydata.org/pandas-docs/stable/reference/api/pandas.Grouper.html)"
   ]
  },
  {
   "cell_type": "code",
   "execution_count": 5,
   "metadata": {},
   "outputs": [
    {
     "name": "stdout",
     "output_type": "stream",
     "text": [
      "13\n"
     ]
    }
   ],
   "source": [
    "weekly = [g for n, g in data.groupby(pd.Grouper(level='timestamp', freq='W'))]\n",
    "print(len(weekly))"
   ]
  },
  {
   "cell_type": "markdown",
   "metadata": {},
   "source": [
    "## Tick Imbalance Bars\n",
    "\n",
    "### step 1  \n",
    "$\n",
    " b_t  = \n",
    " \\begin{cases}\n",
    " \\Delta b_{t-1}  &\\text{if  \\( \\Delta P_t = 0\\)}\\\\\n",
    " \\frac{|\\Delta P_t|}{\\Delta P_t} &\\text{if \\( \\Delta P_t \\neq 0 \\)}\n",
    " \\end{cases}\n",
    "$\n",
    "### step 2  \n",
    "$\n",
    "   \\theta_T = \\sum_{t = 1}^T b_t\n",
    "$\n",
    " \n",
    " \n",
    "현재 주 단위로 ```weekly``` 리스트에 들어있음. weekly\n",
    "\n",
    "일단 weekly[0] 를 거르고 - 월~금이 다 있는지 장담할 수 없음 - weekly[1] 을 기준 삼아 진행해 나가자. \n",
    "\n",
    "일단 weekly[1] 에서 $P[b_t = 1]$ 은 구할수 있는데 문제는 $E_0[T]$ 의 설정. 일단 구하고자 하는 것은\n",
    "\n",
    "### step 3  \n",
    "$\\text{arg } \\text{min} \\{  |\\theta_t| \\geq E_0[T] \\mid 2P[b_t = 1] -1 \\mid \\} $.\n",
    "\n",
    "\n",
    "인데 $ E_0[T] $를 뭘로 둘까? \n",
    "\n",
    "mlfinlab 에서는 \n",
    "\n",
    "```exp_num_ticks_init=100000``` 로 해두었지만 이건 케바케가 굉장히 심한 요소.\n",
    "\n",
    "$ E_0[T] \\mid 2P[b_t = 1] -1 \\mid $ 는  원래 $ E_0[T] \\mid P[b_t = 1] -P[b_t = -1] \\mid $ 이는\n",
    "imbalance 를 측정하기 위함.  \n",
    "그렇다면 t=0 를 기준으로 잡게 하는 $E_0[T]$ 를 구하면 되지 않을까? \n",
    "\n",
    "$|\\theta_t| \\geq E_0[T] \\mid 2P[b_t = 1] -1 \\mid$   \n",
    "\n",
    "-> $|\\theta_t| = E_0[T] \\mid 2P[b_t = 1] -1 \\mid$  \n",
    "\n",
    "-> $ E_0[T] =  [ \\frac{|\\theta_t|}{2P[b_t = 1] -1 \\mid} ]$  ??\n",
    "\n",
    "이러면 $P[b_t=1] = 0.5$ 면 $ E_0[T] = \\infty$..\n",
    "\n",
    "첫 bar에서 $ \\theta_t $ 랑 $ P[b_T= 1] $ 을 구할 수 있으니 $ = $ 이 되는 값을 $E_0[T]$ 로 두면 될 거 같은데\n",
    "\n",
    "$\\theta_t$ 의 t를 마지막 tick 으로 잡아야할까 아니면 기댓값을 써야할까?..  \n",
    "\n",
    "imbalance 의 관점에서 생각해보자. 따라오는 bar에서 기존보다 큰 imbalance 를 감지하는 것이 목적.  \n",
    "\n",
    "*TODO*  \n",
    "$ E[\\theta_t] + \\sigma[\\theta_t]$ : 값이 너무 크게 나옴      \n",
    "$ E[\\theta_t]   $ \n",
    "\n",
    "아 일단 그냥 $  E_0[T] = E[\\theta_t] $ 로 해두자 하루종일 이거 하네\n",
    "\n",
    "일단 $P_t$와 $\\theta_t$를 구하는 부분 부터, 나중에 모듈화 해야하는 거 고려하면서 프로토타입 작성."
   ]
  },
  {
   "cell_type": "markdown",
   "metadata": {},
   "source": [
    "# TODO\n",
    "인터페이스 구성 \n",
    "+ Dataframe : 원하는 방향.\n",
    "+ list,tuple : datafarme 에서 추출하는 대부분의 명령어들이 dataframe을 반환하지 않고 기본 데이터구조를 반환함.\n",
    "\n",
    "웬만해서는 다 Dataframe 구조를 유지한 상태에서 진행해야 추후 데이터 조작이 편해질거 같은데,\n",
    "연산은 numpy로 돌려야 빠름.  \n",
    "    1. Dataframe 상태를 유지하는 연산 사용\n",
    "    2. 매 연산마다 Dataframe 으로 변환. \n",
    "    3. batch 로 Dataframe 으로 변환 -> 이게 괜찮을듯. mlfinlab 도 대체로 np 로 연산하는 거 같다."
   ]
  },
  {
   "cell_type": "code",
   "execution_count": 6,
   "metadata": {
    "scrolled": true
   },
   "outputs": [
    {
     "data": {
      "text/plain": [
       "Index(['close', 'volume'], dtype='object')"
      ]
     },
     "execution_count": 6,
     "metadata": {},
     "output_type": "execute_result"
    }
   ],
   "source": [
    "data.columns"
   ]
  },
  {
   "cell_type": "markdown",
   "metadata": {},
   "source": [
    "### Initializaiton"
   ]
  },
  {
   "cell_type": "code",
   "execution_count": 15,
   "metadata": {},
   "outputs": [],
   "source": [
    "def for_init(data,value='close'):\n",
    "    # target variables\n",
    "    pr = 0\n",
    "    e_0 =0\n",
    "    # imtermediate variables\n",
    "    theta = []\n",
    "    \n",
    "    cur_tick = 0\n",
    "    \n",
    "    prev_p =0\n",
    "    d_p =0\n",
    "    cur_p = data.iloc[0][1]\n",
    "    \n",
    "    prev_b =0\n",
    "    cur_b =0\n",
    "    cum_b=0\n",
    "    \n",
    "    # p[b_t = 1]\n",
    "    num_tick=0 \n",
    "    num_p_1 =0 \n",
    "    \n",
    "    for i in data.iterrows():\n",
    "        # tick\n",
    "        cur_tick += 1\n",
    "        if(cur_tick >= threshold):\n",
    "            cur_tick = 0    \n",
    "            # step 1\n",
    "            prev_p = cur_p\n",
    "            cur_p = i[1]['close']\n",
    "            d_p = cur_p - prev_p\n",
    "            if d_p != 0:\n",
    "                cur_b = abs(d_p)/d_p                \n",
    "            else :\n",
    "                if prev_b == 0 : # 예외처리\n",
    "                    cur_b = 1\n",
    "                else :\n",
    "                    cur_b = prev_b          \n",
    "            # step 2        \n",
    "            cum_b += cur_b\n",
    "            theta.append(cum_b )\n",
    "            num_tick+=1\n",
    "            if(cur_b==1):\n",
    "                num_p_1 +=1\n",
    "    pr = num_p_1/num_tick\n",
    "    #e_0 = (np.mean(theta) + np.std(theta))/abs(2*pr - 1)\n",
    "   # display(theta)\n",
    "    #e_0 = (np.mean(np.abs(theta)))/abs(2*pr - 1)\n",
    "    e_0 = (np.mean(np.abs(theta))) + np.std(theta)\n",
    "    #e_0 = (np.mean( np.abs(theta)  )   )\n",
    "    # display(theta)\n",
    "    \n",
    "    plt.plot(theta)\n",
    "    plt.title('theta')\n",
    "    return e_0,pr"
   ]
  },
  {
   "cell_type": "code",
   "execution_count": 8,
   "metadata": {},
   "outputs": [
    {
     "name": "stdout",
     "output_type": "stream",
     "text": [
      "6.274193548387097 0.532258064516129\n"
     ]
    },
    {
     "data": {
      "image/png": "[encoded data removed]",
      "text/plain": [
       "<Figure size 432x288 with 1 Axes>"
      ]
     },
     "metadata": {
      "needs_background": "light"
     },
     "output_type": "display_data"
    }
   ],
   "source": [
    "threshold = 1000\n",
    "\n",
    "# init\n",
    "e_0,pr =  for_init(weekly[1],threshold)  \n",
    "print(str(e_0) + ' ' + str(pr))"
   ]
  },
  {
   "cell_type": "markdown",
   "metadata": {},
   "source": [
    "이제는 ewma 도 고려해서, tick bar 또한 생성\n",
    "\n",
    "mlfinlab 을 보면  \n",
    "\n",
    "```python\n",
    "# Expected number of ticks based on formed bars\n",
    "                self.exp_num_ticks = ewma(np.array(\n",
    "                    self.num_ticks_bar[-self.num_prev_bars:], dtype=float), self.num_prev_bars)[-1]\n",
    "```\n",
    "\n",
    "tick bar 생성시 지금까지의 tick을 가지고 새로 $E[T]$ 를 생성. \n",
    "\n",
    "그리고 카운터 리셋\n",
    "\n",
    "```python\n",
    " # Reset counters\n",
    "                cum_ticks, cum_volume, cum_theta = 0, 0, 0\n",
    "```\n",
    "\n",
    "TODO  \n",
    "이 부분을 좀 생각해야겠다. 일단은 $\\theta_t$ 를 초기화 하는 걸로 해두자."
   ]
  },
  {
   "cell_type": "code",
   "execution_count": 9,
   "metadata": {},
   "outputs": [
    {
     "name": "stdout",
     "output_type": "stream",
     "text": [
      "2018-11-26 09:00:00\n",
      "266.94000244140625\n",
      "2018-11-26 09:00:00\n",
      "266.95999145507807\n",
      "2018-11-26 09:00:00\n",
      "266.98001098632807\n",
      "2018-11-26 09:00:00\n",
      "266.98001098632807\n",
      "2018-11-26 09:00:00\n",
      "267.0\n",
      "2018-11-26 09:00:00\n",
      "267.0\n"
     ]
    }
   ],
   "source": [
    "weekly[1].size\n",
    "tick = pd.DataFrame(columns=['close','volume']) \n",
    "tick.index.names = ['timestamp']\n",
    "\n",
    "cnt = 0\n",
    "for tmp in weekly[1].iterrows():\n",
    "    print(tmp[0])\n",
    "    print(tmp[1]['close'])\n",
    "    cnt+=1\n",
    "    if(cnt > 5):\n",
    "        break"
   ]
  },
  {
   "cell_type": "markdown",
   "metadata": {},
   "source": [
    "### Procedure"
   ]
  },
  {
   "cell_type": "code",
   "execution_count": 10,
   "metadata": {},
   "outputs": [],
   "source": [
    "def for_procedure(data,e_0,pr,threshold=500,value='close'):\n",
    "    # imtermediate variables\n",
    "    theta = 0\n",
    "    \n",
    "    cur_tick = 0\n",
    "    \n",
    "    prev_p =0\n",
    "    d_p =0\n",
    "    cur_p = data.iloc[0,0]\n",
    "    prev_b =0\n",
    "    cur_b =0\n",
    "    # p[b_t = 1]\n",
    "    num_tick=0 \n",
    "    num_p_1 =0 \n",
    "    \n",
    "    tick = pd.DataFrame(columns=['close']) \n",
    "    tick.index.names = ['timestamp']\n",
    "    num_tick = 0\n",
    "    \n",
    "    \n",
    "    for i in range(len(data.index)):\n",
    "        # tick\n",
    "        cur_tick += 1\n",
    "        if(cur_tick >= threshold):\n",
    "            cur_tick = 0\n",
    "            # step 1\n",
    "            prev_p = cur_p\n",
    "            cur_p = data.iloc[i,0]\n",
    "            d_p = cur_p - prev_p\n",
    "            \n",
    "            prev_b = cur_b\n",
    "            if d_p != 0:\n",
    "                cur_b = abs(d_p)/d_p                \n",
    "            else :\n",
    "                if prev_b == 0 : # 예외처리\n",
    "                    cur_b = 1\n",
    "                else :\n",
    "                    cur_b = prev_b     \n",
    "            # step 2\n",
    "            theta += cur_b\n",
    "            \n",
    "            if(cur_b==1):\n",
    "                num_p_1 +=1\n",
    "            # step 3\n",
    "            if(np.abs(theta) > e_0 * np.abs(2*pr - 1)):    \n",
    "                tmp = data.iloc[i]           \n",
    "                \n",
    "                # reset \n",
    "                theta=0\n",
    "                \n",
    "                    #print(data.index[i])\n",
    "                    #print(tmp[0])\n",
    "                    #print(tmp[1])\n",
    "                tick.loc[data.index[i]] = [tmp[0]] \n",
    "            num_tick+=1\n",
    "        \n",
    "    # update        \n",
    "    weight = ewma_weight(20)\n",
    "            # print('previous e_0 : ' + str(e_0) + ' | pr : ' + str(pr) )\n",
    "    pr = (num_p_1/num_tick)*weight + pr*(1-weight)    \n",
    "    print('tick_size ' + str(tick.size))\n",
    "    e_0 = tick.size*weight + e_0*(1-weight)       \n",
    "               # print('current e_0 : ' + str(e_0) + ' | pr : ' + str(pr) )\n",
    "               # print('num_tick ' + str(num_tick))\n",
    "               #  display(tick.head())\n",
    "    return e_0,pr,tick"
   ]
  },
  {
   "cell_type": "markdown",
   "metadata": {},
   "source": [
    "tick size 가 너무 큰데"
   ]
  },
  {
   "cell_type": "code",
   "execution_count": 16,
   "metadata": {},
   "outputs": [
    {
     "name": "stdout",
     "output_type": "stream",
     "text": [
      "4.4056635220094345 0.5\n",
      "tick_size 17\n",
      "5.605124138960917 0.4803921568627451\n",
      "tick_size 18\n",
      "6.785588506678925 0.4928415810768752\n",
      "tick_size 15\n",
      "7.567913410804742 0.5093963511330458\n",
      "tick_size 15\n",
      "8.275731181204291 0.505326857374343\n",
      "tick_size 12\n",
      "8.630423449661025 0.4889465217513897\n",
      "tick_size 17\n",
      "9.427525978264738 0.5040048362064394\n",
      "tick_size 17\n",
      "10.148713980334762 0.5232312663716525\n",
      "tick_size 18\n",
      "10.896455506017166 0.5368917806854634\n",
      "tick_size 20\n",
      "11.763459743539341 0.5429020872868479\n",
      "tick_size 2\n",
      "10.833606434630832 0.5048025687697331\n",
      "tick_size 16\n",
      "11.325643917046943 0.5102975622202347\n"
     ]
    },
    {
     "data": {
      "text/plain": [
       "Text(0.5, 1.0, 'tick')"
      ]
     },
     "execution_count": 16,
     "metadata": {},
     "output_type": "execute_result"
    },
    {
     "data": {
      "image/png": "[encoded data removed]",
      "text/plain": [
       "<Figure size 432x288 with 1 Axes>"
      ]
     },
     "metadata": {
      "needs_background": "light"
     },
     "output_type": "display_data"
    },
    {
     "data": {
      "image/png": "[encoded data removed]",
      "text/plain": [
       "<Figure size 432x288 with 1 Axes>"
      ]
     },
     "metadata": {
      "needs_background": "light"
     },
     "output_type": "display_data"
    }
   ],
   "source": [
    "threshold = 5000\n",
    "\n",
    "\n",
    "# init\n",
    "e_0,pr =  for_init(weekly[1],threshold)  \n",
    "print(str(e_0) + ' ' + str(pr))\n",
    "\n",
    "tick = pd.DataFrame(columns=['close']) \n",
    "tick.index.names = ['timestamp']\n",
    "\n",
    "# procedure\n",
    "for tmp in weekly[2:]:\n",
    "    e_0,pr,t_tick = for_procedure(tmp,e_0,pr,threshold)\n",
    "    tick = pd.concat([tick, t_tick])\n",
    "    #display(tick.head())\n",
    "    print(str(e_0) + ' ' + str(pr))\n",
    "\n",
    "plt.figure()\n",
    "plt.plot(tick)\n",
    "plt.title('tick')\n"
   ]
  },
  {
   "cell_type": "markdown",
   "metadata": {},
   "source": [
    "잘 된건지 확인을 어떻게? \n",
    "mlfinlab 도 한번 돌려서 같이 봐보자. "
   ]
  },
  {
   "cell_type": "code",
   "execution_count": null,
   "metadata": {},
   "outputs": [],
   "source": []
  },
  {
   "cell_type": "markdown",
   "metadata": {},
   "source": [
    "### Visualization  \n",
    "\n",
    "https://pandas.pydata.org/pandas-docs/stable/user_guide/visualization.html#visualization-barplot\n",
    "\n",
    "실제 가격변화와 tick_bar의 수를 표시해보자.  \n",
    "1. 일간 데이터로 변환\n",
    "2. 각 일간 tick_bar의 수를 받자.\n",
    "3. 표시  "
   ]
  },
  {
   "cell_type": "code",
   "execution_count": 37,
   "metadata": {},
   "outputs": [],
   "source": [
    "tick['dummy'] = 1\n",
    "logic_tick = {\n",
    "    'dummy'  : 'sum'\n",
    "    }\n",
    "tick_temp = tick.resample ('D' ).apply(logic_tick)\n",
    "\n",
    "logic = {\n",
    "    'close'  : 'last',\n",
    "    }\n",
    "\n",
    "data_day = data.resample('D').apply(logic)\n",
    "data_day = data_day.dropna()\n",
    "#display(data_day.head())\n",
    "#display(data_day.tail())\n",
    "\n",
    "#display(tick_temp.head())\n",
    "#display(tick_temp.tail())"
   ]
  },
  {
   "cell_type": "code",
   "execution_count": 18,
   "metadata": {
    "scrolled": true
   },
   "outputs": [
    {
     "data": {
      "image/png": "[encoded data removed]",
      "text/plain": [
       "<Figure size 1080x360 with 2 Axes>"
      ]
     },
     "metadata": {
      "needs_background": "light"
     },
     "output_type": "display_data"
    }
   ],
   "source": [
    "# https://fraserlab.com/2014/08/20/Figures-with-Python/\n",
    "\n",
    "fig, ax1 = plt.subplots()\n",
    "\n",
    "ax1.plot(data_day.index, data_day['close'],color='#60b6c9')\n",
    "ax2 = ax1.twinx()\n",
    "\n",
    "ax2 = ax2.bar(tick_temp.index, tick_temp['dummy'],color='#5d8c70')\n",
    "fig.set_figwidth(15)\n",
    "fig.set_figheight(5)\n",
    "plt.show()"
   ]
  },
  {
   "cell_type": "code",
   "execution_count": null,
   "metadata": {},
   "outputs": [],
   "source": [
    "for i in [10,100,1000] :\n",
    "    plt.figure()\n",
    "    plt.title('tick_imbalance with threshold '+ str(i))\n",
    "    plt.plot(tick_bar(data,i))"
   ]
  },
  {
   "cell_type": "markdown",
   "metadata": {},
   "source": [
    "### Volume Bars"
   ]
  },
  {
   "cell_type": "code",
   "execution_count": 30,
   "metadata": {},
   "outputs": [],
   "source": [
    "def volume_init(data,value='volume'):\n",
    "    # target variables\n",
    "    pr = 0\n",
    "    e_0 =0\n",
    "    # imtermediate variables\n",
    "    theta = []\n",
    "    \n",
    "    cur_tick = 0\n",
    "    \n",
    "    prev_p =0\n",
    "    d_p =0\n",
    "    cur_p = data.iloc[0][1]\n",
    "    \n",
    "    cur_v = 0\n",
    "    cnt_v=0\n",
    "    cum_v =0\n",
    "    \n",
    "    prev_b =0\n",
    "    cur_b =0\n",
    "    cum_b=0\n",
    "    \n",
    "    # p[b_t = 1]\n",
    "    num_tick=0 \n",
    "    num_p_1 =0 \n",
    "    \n",
    "    for i in data.iterrows():\n",
    "        # volume \n",
    "        \n",
    "        cur_v=i[1]['volume']\n",
    "       \n",
    "        cnt_v +=cur_v\n",
    "        if(cnt_v >= threshold):\n",
    "            cnt_v = 0    \n",
    "             cum_v += cur_v\n",
    "            # step 1\n",
    "            prev_p = cur_p\n",
    "            cur_p = i[1]['close']\n",
    "            d_p = cur_p - prev_p\n",
    "            \n",
    "                                  \n",
    "            if d_p != 0:\n",
    "                cur_b = abs(d_p)/d_p                \n",
    "            else :\n",
    "                if prev_b == 0 : # 예외처리\n",
    "                    cur_b = 1\n",
    "                else :\n",
    "                    cur_b = prev_b          \n",
    "            # step 2        \n",
    "            cum_b += cur_b * cur_v\n",
    "            theta.append(cum_b )\n",
    "            num_tick+=1\n",
    "            if(cur_b==1):\n",
    "                num_p_1 +=1\n",
    "    pr = num_p_1/num_tick\n",
    "    #e_0 = (np.mean(theta) + np.std(theta))/abs(2*pr - 1)\n",
    "   # display(theta)\n",
    "    #e_0 = (np.mean(np.abs(theta)))/abs(2*pr - 1)\n",
    "    e_0 = (np.mean(np.abs(theta))) + np.std(theta)\n",
    "    #e_0 = (np.mean( np.abs(theta)  )   )\n",
    "    # display(theta)\n",
    "    \n",
    "    plt.plot(theta)\n",
    "    plt.title('theta')\n",
    "    return e_0,pr"
   ]
  },
  {
   "cell_type": "code",
   "execution_count": 36,
   "metadata": {
    "scrolled": true
   },
   "outputs": [
    {
     "name": "stdout",
     "output_type": "stream",
     "text": [
      "80.95403956091002 0.5714285714285714\n"
     ]
    },
    {
     "data": {
      "image/png": "[encoded data removed]",
      "text/plain": [
       "<Figure size 432x288 with 1 Axes>"
      ]
     },
     "metadata": {},
     "output_type": "display_data"
    }
   ],
   "source": [
    "threshold = 45000\n",
    "# init\n",
    "e_0,pr =  volume_init(weekly[1],threshold)  \n",
    "print(str(e_0) + ' ' + str(pr))"
   ]
  },
  {
   "cell_type": "code",
   "execution_count": 27,
   "metadata": {},
   "outputs": [],
   "source": [
    "def volume_procedure(data,e_0,pr,threshold=500,value='close'):\n",
    "    # imtermediate variables\n",
    "    theta = 0\n",
    "    \n",
    "    cur_tick = 0\n",
    "    \n",
    "    prev_p =0\n",
    "    d_p =0\n",
    "    cur_p = data.iloc[0,0]\n",
    "    prev_b =0\n",
    "    cur_b =0\n",
    "    # p[b_t = 1]\n",
    "    num_tick=0 \n",
    "    num_p_1 =0 \n",
    "    \n",
    "    tick = pd.DataFrame(columns=['close']) \n",
    "    tick.index.names = ['timestamp']\n",
    "    num_tick = 0\n",
    "    \n",
    "    e_v=0\n",
    "    v_plus=0\n",
    "    \n",
    "    for i in range(len(data.index)):\n",
    "        # tick\n",
    "        cur_tick += 1\n",
    "        if(cur_tick >= threshold):\n",
    "            cur_tick = 0\n",
    "            # step 1\n",
    "            prev_p = cur_p\n",
    "            cur_p = data.iloc[i,0]\n",
    "            d_p = cur_p - prev_p\n",
    "            \n",
    "            prev_b = cur_b\n",
    "            if d_p != 0:\n",
    "                cur_b = abs(d_p)/d_p                \n",
    "            else :\n",
    "                if prev_b == 0 : # 예외처리\n",
    "                    cur_b = 1\n",
    "                else :\n",
    "                    cur_b = prev_b     \n",
    "            # step 2\n",
    "            theta += cur_b\n",
    "            \n",
    "            if(cur_b==1):\n",
    "                num_p_1 +=1\n",
    "            # step 3\n",
    "            if(np.abs(theta) > e_0 * np.abs(2*pr - 1)):    \n",
    "                tmp = data.iloc[i]                           \n",
    "                # reset \n",
    "                theta=0                \n",
    "                    #print(data.index[i])\n",
    "                    #print(tmp[0])\n",
    "                    #print(tmp[1])\n",
    "                tick.loc[data.index[i]] = [tmp[0]] \n",
    "            num_tick+=1\n",
    "        \n",
    "    # update        \n",
    "    weight = ewma_weight(20)\n",
    "            # print('previous e_0 : ' + str(e_0) + ' | pr : ' + str(pr) )\n",
    "    pr = (num_p_1/num_tick)*weight + pr*(1-weight)    \n",
    "    print('tick_size ' + str(tick.size))\n",
    "    e_0 = tick.size*weight + e_0*(1-weight)       \n",
    "               # print('current e_0 : ' + str(e_0) + ' | pr : ' + str(pr) )\n",
    "               # print('num_tick ' + str(num_tick))\n",
    "               #  display(tick.head())\n",
    "    return e_0,pr,tick"
   ]
  },
  {
   "cell_type": "code",
   "execution_count": null,
   "metadata": {},
   "outputs": [],
   "source": [
    "threshold = 5000\n",
    "\n",
    "\n",
    "# init\n",
    "e_0,pr =  for_init(weekly[1],threshold)  \n",
    "print(str(e_0) + ' ' + str(pr))\n",
    "\n",
    "volume = pd.DataFrame(columns=['close']) \n",
    "volume.index.names = ['timestamp']\n",
    "\n",
    "# procedure\n",
    "for tmp in weekly[2:]:\n",
    "    e_0,pr,t_volume = for_procedure(tmp,e_0,pr,threshold)\n",
    "    volume = pd.concat([volume, t_volume])\n",
    "    #display(tick.head())\n",
    "    print(str(e_0) + ' ' + str(pr))\n",
    "\n",
    "plt.figure()\n",
    "plt.plot(volume)\n",
    "plt.title('volume')"
   ]
  },
  {
   "cell_type": "code",
   "execution_count": null,
   "metadata": {},
   "outputs": [],
   "source": [
    "volume['dummy'] = 1\n",
    "logic_volume = {\n",
    "    'dummy'  : 'sum'\n",
    "    }\n",
    "volume_temp = volume.resample ('D' ).apply(logic_volume)\n",
    "\n",
    "logic = {\n",
    "    'close'  : 'last',\n",
    "    }\n",
    "\n",
    "data_day = data.resample('D').apply(logic)\n",
    "data_day = data_day.dropna()"
   ]
  },
  {
   "cell_type": "code",
   "execution_count": null,
   "metadata": {},
   "outputs": [],
   "source": [
    "fig, ax1 = plt.subplots()\n",
    "\n",
    "ax1.plot(data_day.index, data_day['close'],color='#60b6c9')\n",
    "ax2 = ax1.twinx()\n",
    "\n",
    "ax2 = ax2.bar(volume_temp.index, volume_temp['dummy'],color='#5d8c70')\n",
    "fig.set_figwidth(15)\n",
    "fig.set_figheight(5)\n",
    "plt.show()"
   ]
  },
  {
   "cell_type": "markdown",
   "metadata": {},
   "source": [
    "### Run Bars"
   ]
  },
  {
   "cell_type": "markdown",
   "metadata": {},
   "source": [
    "### CUSUM Filter"
   ]
  },
  {
   "cell_type": "markdown",
   "metadata": {},
   "source": [
    "## Distribution\n",
    "\n",
    "https://stackoverflow.com/questions/37487830/how-to-find-probability-distribution-and-parameters-for-real-data-python-3/51742444"
   ]
  },
  {
   "cell_type": "code",
   "execution_count": 35,
   "metadata": {},
   "outputs": [
    {
     "data": {
      "image/png": "[encoded data removed]",
      "text/plain": [
       "<Figure size 432x288 with 1 Axes>"
      ]
     },
     "metadata": {},
     "output_type": "display_data"
    }
   ],
   "source": [
    "fig, ax = plt.subplots()\n",
    "sns.distplot(tick['close'], bins=25, color=\"g\", ax=ax)\n",
    "plt.show()"
   ]
  },
  {
   "cell_type": "code",
   "execution_count": null,
   "metadata": {},
   "outputs": [],
   "source": []
  }
 ],
 "metadata": {
  "kernelspec": {
   "display_name": "Python 3",
   "language": "python",
   "name": "python3"
  },
  "language_info": {
   "codemirror_mode": {
    "name": "ipython",
    "version": 3
   },
   "file_extension": ".py",
   "mimetype": "text/x-python",
   "name": "python",
   "nbconvert_exporter": "python",
   "pygments_lexer": "ipython3",
   "version": "3.5.2"
  }
 },
 "nbformat": 4,
 "nbformat_minor": 2
}
