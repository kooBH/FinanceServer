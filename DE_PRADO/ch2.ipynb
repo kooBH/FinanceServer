{
 "cells": [
  {
   "cell_type": "markdown",
   "metadata": {},
   "source": [
    "# Chapter 2\n",
    "+ 아래로 내려가면서 구현\n",
    "+ 다 구현되면 .py 파일로 모듈화"
   ]
  },
  {
   "cell_type": "code",
   "execution_count": null,
   "metadata": {},
   "outputs": [],
   "source": [
    "from alpha_vantage.timeseries import TimeSeries\n",
    "import pandas as pd\n",
    "import numpy as np\n",
    "import os\n",
    "import matplotlib.pyplot as plt"
   ]
  },
  {
   "cell_type": "code",
   "execution_count": null,
   "metadata": {},
   "outputs": [],
   "source": [
    "'''\n",
    "symbol = 'ES=F'\n",
    "f = open(\"ALPHA_KEY\", 'r')\n",
    "key = f.readline()\n",
    "f.close()\n",
    "# AlphaVantage에서 데이터를 받아온다.\n",
    "ts  = TimeSeries(key=key, output_format='pandas')\n",
    "tmp, meta_tmp = ts.get_intraday(symbol=symbol,interval='1min', outputsize='full')\n",
    "tmp.index = pd.to_datetime(tmp.index)\n",
    "'''\n",
    "\n",
    "# 틱 데이터\n",
    "path = 'MiniKospi/'\n",
    "# 파일명이 일관성이 있으며 시간순으로 오름차순이어야함. \n",
    "# 아니면 별도의 sort 또는 예외처리를 해야한다. \n",
    "list_file = os.listdir(path)\n",
    "\n",
    "data = pd.DataFrame(columns=['close','volume']) \n",
    "data.index.names = ['timestamp']\n",
    "cnt=0\n",
    "\n",
    "\n",
    "# 일단은 전체 데이터를 하나의 dataframe이 넣어서 돌리자\n",
    "# 메모리 이슈 생각하면 파일을 쪼개서 하나씩 처리하면 되지만 아직은 데이터 셋이 그렇게 크지 않음\n",
    "# 다만 항상 분할해서 처리해야함을 염두해 두자.\n",
    "for file in list_file :\n",
    "    cnt+=1\n",
    "    print('reading ' + path + file + ' ' + str(cnt) +'/' + str(len(list_file)) )\n",
    "    tmp = pd.read_csv(path+file,index_col=0)\n",
    "    tmp = tmp.drop(columns=['date','time','sell','buy'])\n",
    "    # conver to datetime\n",
    "    tmp.index = pd.to_datetime(tmp.index)\n",
    "    tmp.index.names = ['timestamp']\n",
    "    data = data.append(tmp)\n",
    "    # display(tmp.head())\n",
    "    # 일단 3개만.\n",
    "    if cnt > 2 :\n",
    "        break\n",
    "# display\n",
    "display(data.head())\n",
    "display(data.tail())"
   ]
  },
  {
   "cell_type": "code",
   "execution_count": null,
   "metadata": {
    "scrolled": true
   },
   "outputs": [],
   "source": [
    "data['close'].plot()"
   ]
  },
  {
   "cell_type": "markdown",
   "metadata": {},
   "source": [
    "## Exponential Weighted Moving Average\n",
    "\n",
    "https://www.investopedia.com/terms/e/ema.asp\n",
    "\n",
    "\n",
    "Calculating the EMA\n",
    "To calculate an EMA, you must first compute the simple moving average (SMA) over a particular time period. The calculation for the SMA is straightforward: it is simply the sum of the stock's closing prices for the number of time periods in question, divided by that same number of periods. So, for example, a 20-day SMA is just the sum of the closing prices for the past 20 trading days, divided by 20.\n",
    "\n",
    "Next, you must calculate the multiplier for smoothing (weighting) the EMA, which typically follows the formula: [2 ÷ (selected time period + 1)]. So, for a 20-day moving average, the multiplier would be [2/(20+1)]= 0.0952.\n",
    "\n",
    "Finally, to calculate the current EMA, the following formula is used: [Closing price-EMA (previous day)] x multiplier + EMA (previous day)\n",
    "\n",
    "내가 이해하기로는 EWMA 의 식은\n",
    "\n",
    "$ \\text{SMA}_t = \\frac{\\sum_{k=t-\\text{n}}^t \\text{value}_k}{\\text{n}}$ \n",
    "\n",
    "$ \\large \\text{weight} = \\frac{2}{\\text{n} + 1}$\n",
    "\n",
    "$ \\text{EMA}_t = \\text{SMA}_t * \\text{weight} + EMA_{t-1}*(1-\\text{weight}) $\n",
    "\n",
    "인데\n",
    "\n",
    "\n",
    "+ https://stackoverflow.com/questions/42869495/numpy-version-of-exponential-weighted-moving-average-equivalent-to-pandas-ewm/51392341#51392341\n",
    "+ mlfinlab 에서 사용한 ewma 코드 출처\n",
    "\n",
    "```python\n",
    "   n = arr_in.shape[0]\n",
    "    ewma = np.empty(n, dtype=float64)\n",
    "    alpha = 2 / float(window + 1)\n",
    "    w = 1\n",
    "    ewma_old = arr_in[0]\n",
    "    ewma[0] = ewma_old\n",
    "    for i in range(1, n):\n",
    "        w += (1-alpha)**i\n",
    "        ewma_old = ewma_old*(1-alpha) + arr_in[i]\n",
    "        ewma[i] = ewma_old / w\n",
    "    return ewma\n",
    "    \n",
    "```\n",
    "\n",
    "좀 다르다?   \n",
    "```ewma_old = ewma_old*(1-alpha) + arr_in[i]   \n",
    "ewma[i] = ewma_old / w```  \n",
    "계산해보면 같을거 같긴한데, 일단 짜보자"
   ]
  },
  {
   "cell_type": "code",
   "execution_count": 29,
   "metadata": {},
   "outputs": [],
   "source": [
    "def ewma_weight(window):\n",
    "    return 2/(window+1)"
   ]
  },
  {
   "cell_type": "markdown",
   "metadata": {},
   "source": [
    "## Unit of Bar\n",
    "\n",
    "일단 주 단위로 구해보자\n",
    "\n",
    "https://stackoverflow.com/questions/41625077/python-pandas-split-a-timeserie-per-month-or-week  \n",
    "\n",
    "[Grouper](https://pandas.pydata.org/pandas-docs/stable/reference/api/pandas.Grouper.html)"
   ]
  },
  {
   "cell_type": "code",
   "execution_count": 21,
   "metadata": {},
   "outputs": [],
   "source": [
    "weekly = [g for n, g in data.groupby(pd.Grouper(level='timestamp', freq='W'))]"
   ]
  },
  {
   "cell_type": "markdown",
   "metadata": {},
   "source": [
    "## Tick Imbalance Bars\n",
    "\n",
    "### step 1  \n",
    "$\n",
    " b_t  = \n",
    " \\begin{cases}\n",
    " \\Delta b_{t-1}  &\\text{if  \\( \\Delta P_t = 0\\)}\\\\\n",
    " \\frac{|\\Delta P_t|}{\\Delta P_t} &\\text{if \\( \\Delta P_t \\neq 0 \\)}\n",
    " \\end{cases}\n",
    "$\n",
    "### step 2  \n",
    "$\n",
    "   \\theta_T = \\sum_{t = 1}^T b_t\n",
    "$\n",
    " \n",
    " \n",
    "현재 주 단위로 ```weekly``` 리스트에 들어있음. weekly\n",
    "\n",
    "일단 weekly[0] 를 거르고 - 월~금이 다 있는지 장담할 수 없음 - weekly[1] 을 기준 삼아 진행해 나가자. \n",
    "\n",
    "일단 weekly[1] 에서 $P[b_t = 1]$ 은 구할수 있는데 문제는 $E_0[T]$ 의 설정. 일단 구하고자 하는 것은\n",
    "\n",
    "### step 3  \n",
    "$\\text{arg } \\text{min} \\{  |\\theta_t| \\geq E_0[T] \\mid 2P[b_t = 1] -1 \\mid \\} $.\n",
    "\n",
    "mlfinlab 에서는 \n",
    "\n",
    "```exp_num_ticks_init=100000``` 로 해두었지만 이건 케바케가 굉장히 심한 요소.\n",
    "\n",
    "$ E_0[T] \\mid 2P[b_t = 1] -1 \\mid $ 는  원래 $ E_0[T] \\mid P[b_t = 1] -P[b_t = -1] \\mid $ 이는\n",
    "imbalance 를 측정하기 위함.  \n",
    "그렇다면 t=0 를 기준으로 잡게 하는 $E_0[T]$ 를 구하면 되지 않을까? \n",
    "\n",
    "그러면 생각나는 것이..\n",
    "+ $\\theta_0$ 의 평균\n",
    "+ $\\theta_0$ 의 최댓값\n",
    "+ $\\theta_0$ 의 평균 + 표준 편차 : 이게 좋겠다.  \n",
    "\n",
    "일단 $P_t$와 $\\theta_t$를 구하는 부분 부터, 나중에 모듈화 해야하는 거 고려하면서 프로토타입 작성."
   ]
  },
  {
   "cell_type": "code",
   "execution_count": 43,
   "metadata": {},
   "outputs": [
    {
     "data": {
      "text/plain": [
       "Index(['close', 'volume'], dtype='object')"
      ]
     },
     "execution_count": 43,
     "metadata": {},
     "output_type": "execute_result"
    }
   ],
   "source": [
    "data.columns"
   ]
  },
  {
   "cell_type": "code",
   "execution_count": 35,
   "metadata": {},
   "outputs": [],
   "source": [
    "def for_init(data,threshold=500,value='close'):\n",
    "    # target variables\n",
    "    pr = 0\n",
    "    e_0 =0\n",
    "    # imtermediate variables\n",
    "    theta = []\n",
    "    \n",
    "    cur_value = 0\n",
    "    \n",
    "    prev_p =0\n",
    "    d_p =0\n",
    "    cur_p = data.iloc[0]\n",
    "    cur_p = cur_p[value]\n",
    "    prev_b =0\n",
    "    cur_b =0\n",
    "    cum_b=0\n",
    "    # p[b_t = 1]\n",
    "    num_tick=0 \n",
    "    num_p_1 =0 \n",
    "    \n",
    "    for i in range(len(data.index)):\n",
    "        # tick\n",
    "        cur_value += 1\n",
    "        if(cur_value >= threshold):\n",
    "            cur_tick = 0    \n",
    "            # step 1\n",
    "            prev_p = cur_p\n",
    "            cur_p = i.iloc[i][value]\n",
    "            d_p = cur_p - prev_p\n",
    "            \n",
    "            prev_b = cur_b\n",
    "            if d_p != 0:\n",
    "                cur_b = abs(d_p)/d_p                \n",
    "            else :\n",
    "                if prev_b == 0 : # 예외처리\n",
    "                    cur_b = 1\n",
    "                else :\n",
    "                    cur_b = prev_b          \n",
    "            # step 2        \n",
    "            cum_b += cur_b\n",
    "            theta.append(cum_b )\n",
    "            num_tick+=1\n",
    "            if(cur_b==1):\n",
    "                num_p_1 +=1\n",
    "    pr = num_p_1/num_tick\n",
    "    e_0 = np.mean(theta) + np.std(theta)\n",
    "    # display(theta)\n",
    "    return e_0,pr"
   ]
  },
  {
   "cell_type": "markdown",
   "metadata": {},
   "source": [
    "이제는 ewma 도 고려해서, tick bar 또한 생성"
   ]
  },
  {
   "cell_type": "code",
   "execution_count": 39,
   "metadata": {},
   "outputs": [
    {
     "data": {
      "text/plain": [
       "pandas._libs.tslibs.timestamps.Timestamp"
      ]
     },
     "execution_count": 39,
     "metadata": {},
     "output_type": "execute_result"
    }
   ],
   "source": [
    "type(data.index[0])"
   ]
  },
  {
   "cell_type": "code",
   "execution_count": null,
   "metadata": {},
   "outputs": [],
   "source": [
    "def for_procedure(data,e_0,pr,threshold=500,value='close'):\n",
    "    # target variables\n",
    "    pr = 0\n",
    "    e_0 =0\n",
    "    # imtermediate variables\n",
    "    theta = []\n",
    "    \n",
    "    cur_value = 0\n",
    "    \n",
    "    prev_p =0\n",
    "    d_p =0\n",
    "    cur_p = data.iloc[0]\n",
    "    cur_p = cur_p[value]\n",
    "    prev_b =0\n",
    "    cur_b =0\n",
    "    cum_b=0\n",
    "    # p[b_t = 1]\n",
    "    num_tick=0 \n",
    "    num_p_1 =0 \n",
    "    \n",
    "    for i in data.values:\n",
    "        # tick\n",
    "        cur_value += 1\n",
    "        if(cur_value >= threshold):\n",
    "            cur_tick = 0    \n",
    "            # step 1\n",
    "            prev_p = cur_p\n",
    "            cur_p = i[0]\n",
    "            d_p = cur_p - prev_p\n",
    "            \n",
    "            prev_b = cur_b\n",
    "            if d_p != 0:\n",
    "                cur_b = abs(d_p)/d_p                \n",
    "            else :\n",
    "                if prev_b == 0 : # 예외처리\n",
    "                    cur_b = 1\n",
    "                else :\n",
    "                    cur_b = prev_b     \n",
    "            # step 2\n",
    "            cum_b += cur_b\n",
    "            theta.append(cum_b )\n",
    "            num_tick+=1\n",
    "            if(cur_b==1):\n",
    "                num_p_1 +=1\n",
    "    \n",
    "    weight = ewma_weight(num_tick)\n",
    "    pr = (num_p_1/num_tick)*weight + pr*(1-weight)\n",
    "    # step 3\n",
    "    tick = pd.DataFrame(columns=['close','volume']) \n",
    "    tick.index.names = ['timestamp']\n",
    "    \n",
    "    num_tick = 0\n",
    "    for i in range(len(theta)) :\n",
    "        num_tick+=1\n",
    "        if(abs(theta[i]) > e_0 * abs(2*pr - 1)):\n",
    "            tick.append(i)\n",
    "    return e_0,pr,tick"
   ]
  },
  {
   "cell_type": "code",
   "execution_count": 36,
   "metadata": {},
   "outputs": [
    {
     "ename": "AttributeError",
     "evalue": "'int' object has no attribute 'loc'",
     "output_type": "error",
     "traceback": [
      "\u001b[1;31m---------------------------------------------------------------------------\u001b[0m",
      "\u001b[1;31mAttributeError\u001b[0m                            Traceback (most recent call last)",
      "\u001b[1;32m<ipython-input-36-64cc70923ee2>\u001b[0m in \u001b[0;36m<module>\u001b[1;34m\u001b[0m\n\u001b[0;32m      3\u001b[0m \u001b[1;33m\u001b[0m\u001b[0m\n\u001b[0;32m      4\u001b[0m \u001b[1;31m# init\u001b[0m\u001b[1;33m\u001b[0m\u001b[1;33m\u001b[0m\u001b[1;33m\u001b[0m\u001b[0m\n\u001b[1;32m----> 5\u001b[1;33m \u001b[0me_0\u001b[0m\u001b[1;33m,\u001b[0m\u001b[0mpr\u001b[0m \u001b[1;33m=\u001b[0m  \u001b[0mfor_init\u001b[0m\u001b[1;33m(\u001b[0m\u001b[0mweekly\u001b[0m\u001b[1;33m[\u001b[0m\u001b[1;36m1\u001b[0m\u001b[1;33m]\u001b[0m\u001b[1;33m,\u001b[0m\u001b[0mthreshold\u001b[0m\u001b[1;33m)\u001b[0m\u001b[1;33m\u001b[0m\u001b[1;33m\u001b[0m\u001b[0m\n\u001b[0m\u001b[0;32m      6\u001b[0m \u001b[0mprint\u001b[0m\u001b[1;33m(\u001b[0m\u001b[0mstr\u001b[0m\u001b[1;33m(\u001b[0m\u001b[0me_0\u001b[0m\u001b[1;33m)\u001b[0m \u001b[1;33m+\u001b[0m \u001b[1;34m' '\u001b[0m \u001b[1;33m+\u001b[0m \u001b[0mstr\u001b[0m\u001b[1;33m(\u001b[0m\u001b[0mpr\u001b[0m\u001b[1;33m)\u001b[0m\u001b[1;33m)\u001b[0m\u001b[1;33m\u001b[0m\u001b[1;33m\u001b[0m\u001b[0m\n\u001b[0;32m      7\u001b[0m \u001b[1;31m# procedure\u001b[0m\u001b[1;33m\u001b[0m\u001b[1;33m\u001b[0m\u001b[1;33m\u001b[0m\u001b[0m\n",
      "\u001b[1;32m<ipython-input-35-086f0aa39fa0>\u001b[0m in \u001b[0;36mfor_init\u001b[1;34m(data, threshold, value)\u001b[0m\n\u001b[0;32m     26\u001b[0m             \u001b[1;31m# step 1\u001b[0m\u001b[1;33m\u001b[0m\u001b[1;33m\u001b[0m\u001b[1;33m\u001b[0m\u001b[0m\n\u001b[0;32m     27\u001b[0m             \u001b[0mprev_p\u001b[0m \u001b[1;33m=\u001b[0m \u001b[0mcur_p\u001b[0m\u001b[1;33m\u001b[0m\u001b[1;33m\u001b[0m\u001b[0m\n\u001b[1;32m---> 28\u001b[1;33m             \u001b[0mcur_p\u001b[0m \u001b[1;33m=\u001b[0m \u001b[0mi\u001b[0m\u001b[1;33m.\u001b[0m\u001b[0mloc\u001b[0m\u001b[1;33m[\u001b[0m\u001b[0mdata\u001b[0m\u001b[1;33m.\u001b[0m\u001b[0mindex\u001b[0m\u001b[1;33m[\u001b[0m\u001b[0mi\u001b[0m\u001b[1;33m]\u001b[0m\u001b[1;33m]\u001b[0m\u001b[1;33m[\u001b[0m\u001b[0mvalue\u001b[0m\u001b[1;33m]\u001b[0m\u001b[1;33m\u001b[0m\u001b[1;33m\u001b[0m\u001b[0m\n\u001b[0m\u001b[0;32m     29\u001b[0m             \u001b[0md_p\u001b[0m \u001b[1;33m=\u001b[0m \u001b[0mcur_p\u001b[0m \u001b[1;33m-\u001b[0m \u001b[0mprev_p\u001b[0m\u001b[1;33m\u001b[0m\u001b[1;33m\u001b[0m\u001b[0m\n\u001b[0;32m     30\u001b[0m \u001b[1;33m\u001b[0m\u001b[0m\n",
      "\u001b[1;31mAttributeError\u001b[0m: 'int' object has no attribute 'loc'"
     ]
    }
   ],
   "source": [
    "threshold = 100\n",
    "\n",
    "\n",
    "# init\n",
    "e_0,pr =  for_init(weekly[1],threshold)  \n",
    "print(str(e_0) + ' ' + str(pr))\n",
    "# procedure\n",
    "#for tmp in weekly[1:]: \n",
    " #   e_0,pr,t_tick = for_procedure(data,e_0,pr,threshold=500,value='close')\n",
    "\n"
   ]
  },
  {
   "cell_type": "markdown",
   "metadata": {},
   "source": [
    "구현하다 만것\n",
    "\n",
    "```python\n",
    "def tick_bar(data,threshold=100):\n",
    "    num_tick=0\n",
    "    c_tick = 0 # current tick counter\n",
    "    prev_p =0\n",
    "    cur_p =0\n",
    "    d_P_t =0\n",
    "    b_t=[]\n",
    "    t_close=0\n",
    "    for i in data.index:\n",
    "            c_tick += 1\n",
    "            num_tick +=1\n",
    "            t_close += data.loc[i]['close']\n",
    "            if(c_tick == threshold):\n",
    "                '''\n",
    "                    tick rule defines a sequence b_t\n",
    "                '''\n",
    "                prev_p = cur_p\n",
    "                cur_p = t_close/threshold\n",
    "                #cur_p = data.loc[i]['close']\n",
    "                d_p = cur_p - prev_p\n",
    "                if d_p != 0:\n",
    "                    b_t.append(abs(d_p)/d_p )\n",
    "                else :\n",
    "                    b_t.append(b_t[-1])\n",
    "                if(b_t[-1]==1):\n",
    "                    num_buy+=1\n",
    "                c_tick = 0\n",
    "                t_close = 0\n",
    "    sum_b = 0            \n",
    "    theta_t = []\n",
    "    for i in b_t : \n",
    "        sum_b += i\n",
    "        theta_t.append(sum_b)\n",
    "    '''\n",
    "        Second, we compute the expected value of e_t at the beginning of the bar\n",
    "    '''\n",
    "            \n",
    "    '''\n",
    "        Third, we define a tick imbalane bar (TIB) as a T^*-contiguous subset of ticks\n",
    "    '''\n",
    "    \n",
    "    return theta_t\n",
    "```"
   ]
  },
  {
   "cell_type": "code",
   "execution_count": null,
   "metadata": {},
   "outputs": [],
   "source": [
    "for i in [10,100,1000] :\n",
    "    plt.figure()\n",
    "    plt.title('tick_imbalance with threshold '+ str(i))\n",
    "    plt.plot(tick_bar(data,i))"
   ]
  },
  {
   "cell_type": "markdown",
   "metadata": {},
   "source": [
    "### Volume Bars"
   ]
  },
  {
   "cell_type": "code",
   "execution_count": null,
   "metadata": {},
   "outputs": [],
   "source": [
    "def volume_bar(data,threshold=100):\n",
    "    num_tick=0    \n",
    "    c_tick = 0 # current tick counter\n",
    "    prev_p =0\n",
    "    cur_p =0\n",
    "    d_P_t =0\n",
    "    \n",
    "    temp_v = 0\n",
    "    v_t=[]\n",
    "    \n",
    "    b_t=[]\n",
    "        \n",
    "    num_buy = 0\n",
    "    prob = 0\n",
    "    \n",
    "    for i in data.index:\n",
    "            c_tick += 1\n",
    "            temp_v +=data.loc[i]['volume']\n",
    "            if(c_tick == threshold):\n",
    "                num_tick +=1\n",
    "                prev_p = cur_p\n",
    "                cur_p = data.loc[i]['close']\n",
    "                d_p = cur_p - prev_p\n",
    "                if d_p != 0:\n",
    "                    b_t.append(abs(d_p)/d_p )\n",
    "                else :\n",
    "                    b_t.append(b_t[-1])\n",
    "                if(b_t[-1]==1):\n",
    "                    num_buy+=1\n",
    "                v_t.append(temp_v)    \n",
    "                    \n",
    "                prob = 0\n",
    "                \n",
    "                temp_v = 0                \n",
    "                c_tick = 0\n",
    "\n",
    "    sum_b = 0            \n",
    "    theta_t = []\n",
    "    for i in range(len(b_t)) : \n",
    "        sum_b += b_t[i]*v_t[i]\n",
    "        theta_t.append(sum_b)\n",
    "        \n",
    "    E_theta_t = 0\n",
    "    \n",
    "    \n",
    "    return theta_t"
   ]
  },
  {
   "cell_type": "code",
   "execution_count": null,
   "metadata": {},
   "outputs": [],
   "source": [
    "for i in [10,100,1000] :\n",
    "    plt.figure()\n",
    "    plt.title('volume imbalance with threshold '+ str(i))\n",
    "    plt.plot(volume_bar(data,i))\n"
   ]
  },
  {
   "cell_type": "code",
   "execution_count": null,
   "metadata": {},
   "outputs": [],
   "source": [
    "data.head()"
   ]
  },
  {
   "cell_type": "code",
   "execution_count": null,
   "metadata": {},
   "outputs": [],
   "source": []
  }
 ],
 "metadata": {
  "kernelspec": {
   "display_name": "Python 3",
   "language": "python",
   "name": "python3"
  },
  "language_info": {
   "codemirror_mode": {
    "name": "ipython",
    "version": 3
   },
   "file_extension": ".py",
   "mimetype": "text/x-python",
   "name": "python",
   "nbconvert_exporter": "python",
   "pygments_lexer": "ipython3",
   "version": "3.7.3"
  }
 },
 "nbformat": 4,
 "nbformat_minor": 2
}
