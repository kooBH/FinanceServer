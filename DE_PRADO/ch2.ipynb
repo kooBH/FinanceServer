{
 "cells": [
  {
   "cell_type": "markdown",
   "metadata": {},
   "source": [
    "# Chapter 2\n",
    "+ 아래로 내려가면서 구현\n",
    "+ 다 구현되면 .py 파일로 모듈화\n",
    "\n",
    "### mlfinlab\n",
    "+ https://github.com/hudson-and-thames/mlfinlab/blob/master/mlfinlab/data_structures/base_bars.py\n",
    "+ https://github.com/hudson-and-thames/mlfinlab/blob/master/mlfinlab/data_structures/imbalance_data_structures.py\n",
    "\n",
    "### BlackArbsCEO/Adv_Fin_ML_Exercises\n",
    "+ https://github.com/BlackArbsCEO/Adv_Fin_ML_Exercises/blob/master/src/features/bars.py"
   ]
  },
  {
   "cell_type": "code",
   "execution_count": 78,
   "metadata": {},
   "outputs": [],
   "source": [
    "# from alpha_vantage.timeseries import TimeSeries\n",
    "import pandas as pd\n",
    "import numpy as np\n",
    "import os\n",
    "import matplotlib.pyplot as plt\n",
    "import seaborn as sns; sns.set()\n",
    "\n",
    "from tqdm import tqdm"
   ]
  },
  {
   "cell_type": "code",
   "execution_count": 10,
   "metadata": {},
   "outputs": [
    {
     "data": {
      "text/plain": [
       "['181122-1219.csv',\n",
       " '181220-1231.csv',\n",
       " '190101-0117.csv',\n",
       " '190118-0131.csv',\n",
       " '190201-0217.csv',\n",
       " '190217-0301.csv',\n",
       " '190301-0324.csv',\n",
       " '190325-0417.csv',\n",
       " '190418-0506.csv',\n",
       " '190507-0529.csv',\n",
       " '190530-0620.csv']"
      ]
     },
     "metadata": {},
     "output_type": "display_data"
    },
    {
     "name": "stdout",
     "output_type": "stream",
     "text": [
      "reading MiniKospi/181122-1219.csv 1/11\n",
      "reading MiniKospi/181220-1231.csv 2/11\n",
      "reading MiniKospi/190101-0117.csv 3/11\n",
      "reading MiniKospi/190118-0131.csv 4/11\n",
      "reading MiniKospi/190201-0217.csv 5/11\n",
      "reading MiniKospi/190217-0301.csv 6/11\n",
      "reading MiniKospi/190301-0324.csv 7/11\n",
      "reading MiniKospi/190325-0417.csv 8/11\n",
      "reading MiniKospi/190418-0506.csv 9/11\n",
      "reading MiniKospi/190507-0529.csv 10/11\n",
      "reading MiniKospi/190530-0620.csv 11/11\n"
     ]
    },
    {
     "data": {
      "text/html": [
       "<div>\n",
       "<style scoped>\n",
       "    .dataframe tbody tr th:only-of-type {\n",
       "        vertical-align: middle;\n",
       "    }\n",
       "\n",
       "    .dataframe tbody tr th {\n",
       "        vertical-align: top;\n",
       "    }\n",
       "\n",
       "    .dataframe thead th {\n",
       "        text-align: right;\n",
       "    }\n",
       "</style>\n",
       "<table border=\"1\" class=\"dataframe\">\n",
       "  <thead>\n",
       "    <tr style=\"text-align: right;\">\n",
       "      <th></th>\n",
       "      <th>close</th>\n",
       "      <th>volume</th>\n",
       "    </tr>\n",
       "    <tr>\n",
       "      <th>timestamp</th>\n",
       "      <th></th>\n",
       "      <th></th>\n",
       "    </tr>\n",
       "  </thead>\n",
       "  <tbody>\n",
       "    <tr>\n",
       "      <th>2018-11-22 09:00:00</th>\n",
       "      <td>268.559998</td>\n",
       "      <td>29.0</td>\n",
       "    </tr>\n",
       "    <tr>\n",
       "      <th>2018-11-22 09:00:00</th>\n",
       "      <td>268.600006</td>\n",
       "      <td>1.0</td>\n",
       "    </tr>\n",
       "    <tr>\n",
       "      <th>2018-11-22 09:00:00</th>\n",
       "      <td>268.579987</td>\n",
       "      <td>1.0</td>\n",
       "    </tr>\n",
       "    <tr>\n",
       "      <th>2018-11-22 09:00:00</th>\n",
       "      <td>268.660004</td>\n",
       "      <td>1.0</td>\n",
       "    </tr>\n",
       "    <tr>\n",
       "      <th>2018-11-22 09:00:00</th>\n",
       "      <td>268.619995</td>\n",
       "      <td>1.0</td>\n",
       "    </tr>\n",
       "  </tbody>\n",
       "</table>\n",
       "</div>"
      ],
      "text/plain": [
       "                          close  volume\n",
       "timestamp                              \n",
       "2018-11-22 09:00:00  268.559998    29.0\n",
       "2018-11-22 09:00:00  268.600006     1.0\n",
       "2018-11-22 09:00:00  268.579987     1.0\n",
       "2018-11-22 09:00:00  268.660004     1.0\n",
       "2018-11-22 09:00:00  268.619995     1.0"
      ]
     },
     "metadata": {},
     "output_type": "display_data"
    },
    {
     "data": {
      "text/html": [
       "<div>\n",
       "<style scoped>\n",
       "    .dataframe tbody tr th:only-of-type {\n",
       "        vertical-align: middle;\n",
       "    }\n",
       "\n",
       "    .dataframe tbody tr th {\n",
       "        vertical-align: top;\n",
       "    }\n",
       "\n",
       "    .dataframe thead th {\n",
       "        text-align: right;\n",
       "    }\n",
       "</style>\n",
       "<table border=\"1\" class=\"dataframe\">\n",
       "  <thead>\n",
       "    <tr style=\"text-align: right;\">\n",
       "      <th></th>\n",
       "      <th>close</th>\n",
       "      <th>volume</th>\n",
       "    </tr>\n",
       "    <tr>\n",
       "      <th>timestamp</th>\n",
       "      <th></th>\n",
       "      <th></th>\n",
       "    </tr>\n",
       "  </thead>\n",
       "  <tbody>\n",
       "    <tr>\n",
       "      <th>2019-06-20 15:34:00</th>\n",
       "      <td>275.420013</td>\n",
       "      <td>5.0</td>\n",
       "    </tr>\n",
       "    <tr>\n",
       "      <th>2019-06-20 15:34:00</th>\n",
       "      <td>275.380005</td>\n",
       "      <td>1.0</td>\n",
       "    </tr>\n",
       "    <tr>\n",
       "      <th>2019-06-20 15:34:00</th>\n",
       "      <td>275.380005</td>\n",
       "      <td>4.0</td>\n",
       "    </tr>\n",
       "    <tr>\n",
       "      <th>2019-06-20 15:34:00</th>\n",
       "      <td>275.380005</td>\n",
       "      <td>4.0</td>\n",
       "    </tr>\n",
       "    <tr>\n",
       "      <th>2019-06-20 15:45:00</th>\n",
       "      <td>275.359985</td>\n",
       "      <td>92.0</td>\n",
       "    </tr>\n",
       "  </tbody>\n",
       "</table>\n",
       "</div>"
      ],
      "text/plain": [
       "                          close  volume\n",
       "timestamp                              \n",
       "2019-06-20 15:34:00  275.420013     5.0\n",
       "2019-06-20 15:34:00  275.380005     1.0\n",
       "2019-06-20 15:34:00  275.380005     4.0\n",
       "2019-06-20 15:34:00  275.380005     4.0\n",
       "2019-06-20 15:45:00  275.359985    92.0"
      ]
     },
     "metadata": {},
     "output_type": "display_data"
    }
   ],
   "source": [
    "'''\n",
    "symbol = 'ES=F'\n",
    "f = open(\"ALPHA_KEY\", 'r')\n",
    "key = f.readline()\n",
    "f.close()\n",
    "# AlphaVantage에서 데이터를 받아온다.\n",
    "ts  = TimeSeries(key=key, output_format='pandas')\n",
    "tmp, meta_tmp = ts.get_intraday(symbol=symbol,interval='1min', outputsize='full')\n",
    "tmp.index = pd.to_datetime(tmp.index)\n",
    "## -> tick data 아님\n",
    "'''\n",
    "\n",
    "# 틱 데이터\n",
    "path = 'MiniKospi/'\n",
    "# 파일명이 일관성이 있으며 시간순으로 오름차순이어야함. \n",
    "# 아니면 별도의 sort 또는 예외처리를 해야한다. \n",
    "list_file = os.listdir(path)\n",
    "list_file.sort()\n",
    "#display(list_file)\n",
    "\n",
    "data = pd.DataFrame(columns=['close','volume']) \n",
    "data.index.names = ['timestamp']\n",
    "cnt=0\n",
    "\n",
    "\n",
    "# 일단은 전체 데이터를 하나의 dataframe이 넣어서 돌리자\n",
    "# 메모리 이슈 생각하면 파일을 쪼개서 하나씩 처리해야 하지만, 아직은 데이터 셋이 그렇게 크지 않음\n",
    "# 다만 항상 분할해서 처리해야함을 염두해 두자.\n",
    "for file in list_file :\n",
    "    cnt+=1\n",
    "    print('reading ' + path + file + ' ' + str(cnt) +'/' + str(len(list_file)) )\n",
    "    tmp = pd.read_csv(path+file,index_col=0)\n",
    "    tmp = tmp.drop(columns=['date','time','sell','buy'])\n",
    "    # conver to datetime\n",
    "    tmp.index = pd.to_datetime(tmp.index)\n",
    "    tmp.index.names = ['timestamp']\n",
    "    data = data.append(tmp)"
   ]
  },
  {
   "cell_type": "code",
   "execution_count": 3,
   "metadata": {
    "scrolled": true
   },
   "outputs": [
    {
     "data": {
      "text/plain": [
       "<matplotlib.axes._subplots.AxesSubplot at 0x7fa78cc3fe80>"
      ]
     },
     "execution_count": 3,
     "metadata": {},
     "output_type": "execute_result"
    },
    {
     "data": {
      "image/png": "[encoded data removed]",
      "text/plain": [
       "<Figure size 432x288 with 1 Axes>"
      ]
     },
     "metadata": {
      "needs_background": "light"
     },
     "output_type": "display_data"
    }
   ],
   "source": [
    "data['close'].plot()"
   ]
  },
  {
   "cell_type": "markdown",
   "metadata": {},
   "source": [
    "## Exponential Weighted Moving Average\n",
    "\n",
    "https://www.investopedia.com/terms/e/ema.asp\n",
    "\n",
    "\n",
    "Calculating the EMA\n",
    "To calculate an EMA, you must first compute the simple moving average (SMA) over a particular time period. The calculation for the SMA is straightforward: it is simply the sum of the stock's closing prices for the number of time periods in question, divided by that same number of periods. So, for example, a 20-day SMA is just the sum of the closing prices for the past 20 trading days, divided by 20.\n",
    "\n",
    "Next, you must calculate the multiplier for smoothing (weighting) the EMA, which typically follows the formula: [2 ÷ (selected time period + 1)]. So, for a 20-day moving average, the multiplier would be [2/(20+1)]= 0.0952.\n",
    "\n",
    "Finally, to calculate the current EMA, the following formula is used: [Closing price-EMA (previous day)] x multiplier + EMA (previous day)\n",
    "\n",
    "내가 이해하기로는 EWMA 의 식은\n",
    "\n",
    "$ \\text{SMA}_t = \\frac{\\sum_{k=t-\\text{n}}^t \\text{value}_k}{\\text{n}}$ \n",
    "\n",
    "$ \\large \\text{weight} = \\frac{2}{\\text{n} + 1}$\n",
    "\n",
    "$ \\text{EMA}_t = \\text{SMA}_t * \\text{weight} + EMA_{t-1}*(1-\\text{weight}) $\n",
    "\n",
    "인데\n",
    "\n",
    "\n",
    "+ https://stackoverflow.com/questions/42869495/numpy-version-of-exponential-weighted-moving-average-equivalent-to-pandas-ewm/51392341#51392341\n",
    "+ mlfinlab 에서 사용한 ewma 코드 출처\n",
    "\n",
    "```python\n",
    "   n = arr_in.shape[0]\n",
    "    ewma = np.empty(n, dtype=float64)\n",
    "    alpha = 2 / float(window + 1)\n",
    "    w = 1\n",
    "    ewma_old = arr_in[0]\n",
    "    ewma[0] = ewma_old\n",
    "    for i in range(1, n):\n",
    "        w += (1-alpha)**i\n",
    "        ewma_old = ewma_old*(1-alpha) + arr_in[i]\n",
    "        ewma[i] = ewma_old / w\n",
    "    return ewma\n",
    "    \n",
    "```\n",
    "\n",
    "좀 다르다?   \n",
    "```ewma_old = ewma_old*(1-alpha) + arr_in[i]   \n",
    "ewma[i] = ewma_old / w```  \n",
    "*TODO*   \n",
    "계산해보면 같을거 같긴한데, 일단 짜보자"
   ]
  },
  {
   "cell_type": "code",
   "execution_count": 34,
   "metadata": {},
   "outputs": [
    {
     "name": "stdout",
     "output_type": "stream",
     "text": [
      "0.09523809523809523\n",
      "0.008298755186721992\n"
     ]
    }
   ],
   "source": [
    "def ewma_weight(window):\n",
    "    return 2/(window+1)\n",
    "print(ewma_weight(20))\n",
    "print(ewma_weight(240))"
   ]
  },
  {
   "cell_type": "markdown",
   "metadata": {},
   "source": [
    "## Unit of Bar\n",
    "\n",
    "일단 주 단위로 구해보자\n",
    "\n",
    "https://stackoverflow.com/questions/41625077/python-pandas-split-a-timeserie-per-month-or-week  \n",
    "\n",
    "[Grouper](https://pandas.pydata.org/pandas-docs/stable/reference/api/pandas.Grouper.html)"
   ]
  },
  {
   "cell_type": "code",
   "execution_count": 4,
   "metadata": {
    "scrolled": false
   },
   "outputs": [
    {
     "name": "stdout",
     "output_type": "stream",
     "text": [
      "31\n"
     ]
    }
   ],
   "source": [
    "weekly = [g for n, g in data.groupby(pd.Grouper(level='timestamp', freq='W'))]\n",
    "print(len(weekly))"
   ]
  },
  {
   "cell_type": "markdown",
   "metadata": {},
   "source": [
    "https://pandas.pydata.org/pandas-docs/stable/reference/api/pandas.DataFrame.diff.html"
   ]
  },
  {
   "cell_type": "code",
   "execution_count": 92,
   "metadata": {},
   "outputs": [
    {
     "data": {
      "text/html": [
       "<div>\n",
       "<style scoped>\n",
       "    .dataframe tbody tr th:only-of-type {\n",
       "        vertical-align: middle;\n",
       "    }\n",
       "\n",
       "    .dataframe tbody tr th {\n",
       "        vertical-align: top;\n",
       "    }\n",
       "\n",
       "    .dataframe thead th {\n",
       "        text-align: right;\n",
       "    }\n",
       "</style>\n",
       "<table border=\"1\" class=\"dataframe\">\n",
       "  <thead>\n",
       "    <tr style=\"text-align: right;\">\n",
       "      <th></th>\n",
       "      <th>close</th>\n",
       "      <th>volume</th>\n",
       "    </tr>\n",
       "    <tr>\n",
       "      <th>timestamp</th>\n",
       "      <th></th>\n",
       "      <th></th>\n",
       "    </tr>\n",
       "  </thead>\n",
       "  <tbody>\n",
       "    <tr>\n",
       "      <th>2018-11-26 09:00:00</th>\n",
       "      <td>NaN</td>\n",
       "      <td>NaN</td>\n",
       "    </tr>\n",
       "    <tr>\n",
       "      <th>2018-11-26 09:00:00</th>\n",
       "      <td>0.019989</td>\n",
       "      <td>-233.0</td>\n",
       "    </tr>\n",
       "    <tr>\n",
       "      <th>2018-11-26 09:00:00</th>\n",
       "      <td>0.020020</td>\n",
       "      <td>0.0</td>\n",
       "    </tr>\n",
       "    <tr>\n",
       "      <th>2018-11-26 09:00:00</th>\n",
       "      <td>0.000000</td>\n",
       "      <td>0.0</td>\n",
       "    </tr>\n",
       "    <tr>\n",
       "      <th>2018-11-26 09:00:00</th>\n",
       "      <td>0.019989</td>\n",
       "      <td>134.0</td>\n",
       "    </tr>\n",
       "    <tr>\n",
       "      <th>2018-11-26 09:00:00</th>\n",
       "      <td>0.000000</td>\n",
       "      <td>-134.0</td>\n",
       "    </tr>\n",
       "    <tr>\n",
       "      <th>2018-11-26 09:00:00</th>\n",
       "      <td>-0.019989</td>\n",
       "      <td>2.0</td>\n",
       "    </tr>\n",
       "    <tr>\n",
       "      <th>2018-11-26 09:00:00</th>\n",
       "      <td>0.000000</td>\n",
       "      <td>11.0</td>\n",
       "    </tr>\n",
       "    <tr>\n",
       "      <th>2018-11-26 09:00:00</th>\n",
       "      <td>0.000000</td>\n",
       "      <td>-13.0</td>\n",
       "    </tr>\n",
       "    <tr>\n",
       "      <th>2018-11-26 09:00:00</th>\n",
       "      <td>0.039978</td>\n",
       "      <td>0.0</td>\n",
       "    </tr>\n",
       "    <tr>\n",
       "      <th>2018-11-26 09:00:00</th>\n",
       "      <td>0.020020</td>\n",
       "      <td>2.0</td>\n",
       "    </tr>\n",
       "    <tr>\n",
       "      <th>2018-11-26 09:00:00</th>\n",
       "      <td>0.019989</td>\n",
       "      <td>-2.0</td>\n",
       "    </tr>\n",
       "    <tr>\n",
       "      <th>2018-11-26 09:00:00</th>\n",
       "      <td>0.000000</td>\n",
       "      <td>15.0</td>\n",
       "    </tr>\n",
       "    <tr>\n",
       "      <th>2018-11-26 09:00:00</th>\n",
       "      <td>0.019989</td>\n",
       "      <td>-15.0</td>\n",
       "    </tr>\n",
       "    <tr>\n",
       "      <th>2018-11-26 09:00:00</th>\n",
       "      <td>0.020020</td>\n",
       "      <td>2.0</td>\n",
       "    </tr>\n",
       "    <tr>\n",
       "      <th>2018-11-26 09:00:00</th>\n",
       "      <td>0.000000</td>\n",
       "      <td>-2.0</td>\n",
       "    </tr>\n",
       "    <tr>\n",
       "      <th>2018-11-26 09:00:00</th>\n",
       "      <td>0.079987</td>\n",
       "      <td>2.0</td>\n",
       "    </tr>\n",
       "    <tr>\n",
       "      <th>2018-11-26 09:00:00</th>\n",
       "      <td>0.020020</td>\n",
       "      <td>0.0</td>\n",
       "    </tr>\n",
       "    <tr>\n",
       "      <th>2018-11-26 09:00:00</th>\n",
       "      <td>0.019989</td>\n",
       "      <td>-2.0</td>\n",
       "    </tr>\n",
       "    <tr>\n",
       "      <th>2018-11-26 09:00:00</th>\n",
       "      <td>0.000000</td>\n",
       "      <td>0.0</td>\n",
       "    </tr>\n",
       "    <tr>\n",
       "      <th>2018-11-26 09:00:00</th>\n",
       "      <td>-0.160004</td>\n",
       "      <td>0.0</td>\n",
       "    </tr>\n",
       "    <tr>\n",
       "      <th>2018-11-26 09:00:00</th>\n",
       "      <td>0.040009</td>\n",
       "      <td>1.0</td>\n",
       "    </tr>\n",
       "    <tr>\n",
       "      <th>2018-11-26 09:00:00</th>\n",
       "      <td>0.199982</td>\n",
       "      <td>-1.0</td>\n",
       "    </tr>\n",
       "    <tr>\n",
       "      <th>2018-11-26 09:00:00</th>\n",
       "      <td>0.040009</td>\n",
       "      <td>0.0</td>\n",
       "    </tr>\n",
       "    <tr>\n",
       "      <th>2018-11-26 09:00:00</th>\n",
       "      <td>0.019989</td>\n",
       "      <td>1.0</td>\n",
       "    </tr>\n",
       "    <tr>\n",
       "      <th>2018-11-26 09:00:00</th>\n",
       "      <td>-0.059998</td>\n",
       "      <td>2.0</td>\n",
       "    </tr>\n",
       "    <tr>\n",
       "      <th>2018-11-26 09:00:00</th>\n",
       "      <td>0.040009</td>\n",
       "      <td>-2.0</td>\n",
       "    </tr>\n",
       "    <tr>\n",
       "      <th>2018-11-26 09:00:00</th>\n",
       "      <td>-0.139984</td>\n",
       "      <td>-1.0</td>\n",
       "    </tr>\n",
       "    <tr>\n",
       "      <th>2018-11-26 09:00:00</th>\n",
       "      <td>0.139984</td>\n",
       "      <td>0.0</td>\n",
       "    </tr>\n",
       "    <tr>\n",
       "      <th>2018-11-26 09:00:00</th>\n",
       "      <td>-0.059998</td>\n",
       "      <td>0.0</td>\n",
       "    </tr>\n",
       "    <tr>\n",
       "      <th>...</th>\n",
       "      <td>...</td>\n",
       "      <td>...</td>\n",
       "    </tr>\n",
       "    <tr>\n",
       "      <th>2018-11-30 15:33:00</th>\n",
       "      <td>0.019989</td>\n",
       "      <td>-64.0</td>\n",
       "    </tr>\n",
       "    <tr>\n",
       "      <th>2018-11-30 15:33:00</th>\n",
       "      <td>0.000000</td>\n",
       "      <td>0.0</td>\n",
       "    </tr>\n",
       "    <tr>\n",
       "      <th>2018-11-30 15:33:00</th>\n",
       "      <td>0.000000</td>\n",
       "      <td>1.0</td>\n",
       "    </tr>\n",
       "    <tr>\n",
       "      <th>2018-11-30 15:33:00</th>\n",
       "      <td>0.000000</td>\n",
       "      <td>0.0</td>\n",
       "    </tr>\n",
       "    <tr>\n",
       "      <th>2018-11-30 15:33:00</th>\n",
       "      <td>0.000000</td>\n",
       "      <td>-1.0</td>\n",
       "    </tr>\n",
       "    <tr>\n",
       "      <th>2018-11-30 15:34:00</th>\n",
       "      <td>0.000000</td>\n",
       "      <td>8.0</td>\n",
       "    </tr>\n",
       "    <tr>\n",
       "      <th>2018-11-30 15:34:00</th>\n",
       "      <td>-0.019989</td>\n",
       "      <td>-7.0</td>\n",
       "    </tr>\n",
       "    <tr>\n",
       "      <th>2018-11-30 15:34:00</th>\n",
       "      <td>0.019989</td>\n",
       "      <td>-1.0</td>\n",
       "    </tr>\n",
       "    <tr>\n",
       "      <th>2018-11-30 15:34:00</th>\n",
       "      <td>0.000000</td>\n",
       "      <td>6.0</td>\n",
       "    </tr>\n",
       "    <tr>\n",
       "      <th>2018-11-30 15:34:00</th>\n",
       "      <td>0.000000</td>\n",
       "      <td>30.0</td>\n",
       "    </tr>\n",
       "    <tr>\n",
       "      <th>2018-11-30 15:34:00</th>\n",
       "      <td>0.000000</td>\n",
       "      <td>-21.0</td>\n",
       "    </tr>\n",
       "    <tr>\n",
       "      <th>2018-11-30 15:34:00</th>\n",
       "      <td>-0.019989</td>\n",
       "      <td>-13.0</td>\n",
       "    </tr>\n",
       "    <tr>\n",
       "      <th>2018-11-30 15:34:00</th>\n",
       "      <td>0.039978</td>\n",
       "      <td>4.0</td>\n",
       "    </tr>\n",
       "    <tr>\n",
       "      <th>2018-11-30 15:34:00</th>\n",
       "      <td>-0.039978</td>\n",
       "      <td>30.0</td>\n",
       "    </tr>\n",
       "    <tr>\n",
       "      <th>2018-11-30 15:34:00</th>\n",
       "      <td>0.000000</td>\n",
       "      <td>-21.0</td>\n",
       "    </tr>\n",
       "    <tr>\n",
       "      <th>2018-11-30 15:34:00</th>\n",
       "      <td>0.000000</td>\n",
       "      <td>-14.0</td>\n",
       "    </tr>\n",
       "    <tr>\n",
       "      <th>2018-11-30 15:34:00</th>\n",
       "      <td>0.000000</td>\n",
       "      <td>-1.0</td>\n",
       "    </tr>\n",
       "    <tr>\n",
       "      <th>2018-11-30 15:34:00</th>\n",
       "      <td>0.019989</td>\n",
       "      <td>2.0</td>\n",
       "    </tr>\n",
       "    <tr>\n",
       "      <th>2018-11-30 15:34:00</th>\n",
       "      <td>0.019989</td>\n",
       "      <td>1.0</td>\n",
       "    </tr>\n",
       "    <tr>\n",
       "      <th>2018-11-30 15:34:00</th>\n",
       "      <td>-0.019989</td>\n",
       "      <td>5.0</td>\n",
       "    </tr>\n",
       "    <tr>\n",
       "      <th>2018-11-30 15:34:00</th>\n",
       "      <td>-0.019989</td>\n",
       "      <td>3.0</td>\n",
       "    </tr>\n",
       "    <tr>\n",
       "      <th>2018-11-30 15:34:00</th>\n",
       "      <td>-0.020020</td>\n",
       "      <td>-11.0</td>\n",
       "    </tr>\n",
       "    <tr>\n",
       "      <th>2018-11-30 15:34:00</th>\n",
       "      <td>0.020020</td>\n",
       "      <td>79.0</td>\n",
       "    </tr>\n",
       "    <tr>\n",
       "      <th>2018-11-30 15:34:00</th>\n",
       "      <td>0.019989</td>\n",
       "      <td>-78.0</td>\n",
       "    </tr>\n",
       "    <tr>\n",
       "      <th>2018-11-30 15:34:00</th>\n",
       "      <td>-0.019989</td>\n",
       "      <td>50.0</td>\n",
       "    </tr>\n",
       "    <tr>\n",
       "      <th>2018-11-30 15:34:00</th>\n",
       "      <td>0.019989</td>\n",
       "      <td>-48.0</td>\n",
       "    </tr>\n",
       "    <tr>\n",
       "      <th>2018-11-30 15:34:00</th>\n",
       "      <td>-0.040009</td>\n",
       "      <td>6.0</td>\n",
       "    </tr>\n",
       "    <tr>\n",
       "      <th>2018-11-30 15:34:00</th>\n",
       "      <td>-0.019989</td>\n",
       "      <td>-9.0</td>\n",
       "    </tr>\n",
       "    <tr>\n",
       "      <th>2018-11-30 15:34:00</th>\n",
       "      <td>0.000000</td>\n",
       "      <td>0.0</td>\n",
       "    </tr>\n",
       "    <tr>\n",
       "      <th>2018-11-30 15:45:00</th>\n",
       "      <td>-0.100006</td>\n",
       "      <td>49.0</td>\n",
       "    </tr>\n",
       "  </tbody>\n",
       "</table>\n",
       "<p>62379 rows × 2 columns</p>\n",
       "</div>"
      ],
      "text/plain": [
       "                        close  volume\n",
       "timestamp                            \n",
       "2018-11-26 09:00:00       NaN     NaN\n",
       "2018-11-26 09:00:00  0.019989  -233.0\n",
       "2018-11-26 09:00:00  0.020020     0.0\n",
       "2018-11-26 09:00:00  0.000000     0.0\n",
       "2018-11-26 09:00:00  0.019989   134.0\n",
       "2018-11-26 09:00:00  0.000000  -134.0\n",
       "2018-11-26 09:00:00 -0.019989     2.0\n",
       "2018-11-26 09:00:00  0.000000    11.0\n",
       "2018-11-26 09:00:00  0.000000   -13.0\n",
       "2018-11-26 09:00:00  0.039978     0.0\n",
       "2018-11-26 09:00:00  0.020020     2.0\n",
       "2018-11-26 09:00:00  0.019989    -2.0\n",
       "2018-11-26 09:00:00  0.000000    15.0\n",
       "2018-11-26 09:00:00  0.019989   -15.0\n",
       "2018-11-26 09:00:00  0.020020     2.0\n",
       "2018-11-26 09:00:00  0.000000    -2.0\n",
       "2018-11-26 09:00:00  0.079987     2.0\n",
       "2018-11-26 09:00:00  0.020020     0.0\n",
       "2018-11-26 09:00:00  0.019989    -2.0\n",
       "2018-11-26 09:00:00  0.000000     0.0\n",
       "2018-11-26 09:00:00 -0.160004     0.0\n",
       "2018-11-26 09:00:00  0.040009     1.0\n",
       "2018-11-26 09:00:00  0.199982    -1.0\n",
       "2018-11-26 09:00:00  0.040009     0.0\n",
       "2018-11-26 09:00:00  0.019989     1.0\n",
       "2018-11-26 09:00:00 -0.059998     2.0\n",
       "2018-11-26 09:00:00  0.040009    -2.0\n",
       "2018-11-26 09:00:00 -0.139984    -1.0\n",
       "2018-11-26 09:00:00  0.139984     0.0\n",
       "2018-11-26 09:00:00 -0.059998     0.0\n",
       "...                       ...     ...\n",
       "2018-11-30 15:33:00  0.019989   -64.0\n",
       "2018-11-30 15:33:00  0.000000     0.0\n",
       "2018-11-30 15:33:00  0.000000     1.0\n",
       "2018-11-30 15:33:00  0.000000     0.0\n",
       "2018-11-30 15:33:00  0.000000    -1.0\n",
       "2018-11-30 15:34:00  0.000000     8.0\n",
       "2018-11-30 15:34:00 -0.019989    -7.0\n",
       "2018-11-30 15:34:00  0.019989    -1.0\n",
       "2018-11-30 15:34:00  0.000000     6.0\n",
       "2018-11-30 15:34:00  0.000000    30.0\n",
       "2018-11-30 15:34:00  0.000000   -21.0\n",
       "2018-11-30 15:34:00 -0.019989   -13.0\n",
       "2018-11-30 15:34:00  0.039978     4.0\n",
       "2018-11-30 15:34:00 -0.039978    30.0\n",
       "2018-11-30 15:34:00  0.000000   -21.0\n",
       "2018-11-30 15:34:00  0.000000   -14.0\n",
       "2018-11-30 15:34:00  0.000000    -1.0\n",
       "2018-11-30 15:34:00  0.019989     2.0\n",
       "2018-11-30 15:34:00  0.019989     1.0\n",
       "2018-11-30 15:34:00 -0.019989     5.0\n",
       "2018-11-30 15:34:00 -0.019989     3.0\n",
       "2018-11-30 15:34:00 -0.020020   -11.0\n",
       "2018-11-30 15:34:00  0.020020    79.0\n",
       "2018-11-30 15:34:00  0.019989   -78.0\n",
       "2018-11-30 15:34:00 -0.019989    50.0\n",
       "2018-11-30 15:34:00  0.019989   -48.0\n",
       "2018-11-30 15:34:00 -0.040009     6.0\n",
       "2018-11-30 15:34:00 -0.019989    -9.0\n",
       "2018-11-30 15:34:00  0.000000     0.0\n",
       "2018-11-30 15:45:00 -0.100006    49.0\n",
       "\n",
       "[62379 rows x 2 columns]"
      ]
     },
     "execution_count": 92,
     "metadata": {},
     "output_type": "execute_result"
    }
   ],
   "source": [
    "weekly[0]\n",
    "weekly[1].diff(periods=1)\n"
   ]
  },
  {
   "cell_type": "markdown",
   "metadata": {},
   "source": [
    "## Tick Imbalance Bars\n",
    "\n",
    "### step 1  \n",
    "$\n",
    " b_t  = \n",
    " \\begin{cases}\n",
    " \\Delta b_{t-1}  &\\text{if  \\( \\Delta P_t = 0\\)}\\\\\n",
    " \\frac{|\\Delta P_t|}{\\Delta P_t} &\\text{if \\( \\Delta P_t \\neq 0 \\)}\n",
    " \\end{cases}\n",
    "$\n",
    "### step 2  \n",
    "$\n",
    "   \\theta_T = \\sum_{t = 1}^T b_t\n",
    "$\n",
    " \n",
    " \n",
    "현재 주 단위로 ```weekly``` 리스트에 들어있음. weekly\n",
    "\n",
    "일단 weekly[0] 를 거르고 - 월~금이 다 있는지 장담할 수 없음 - weekly[1] 을 기준 삼아 진행해 나가자. \n",
    "\n",
    "일단 weekly[1] 에서 $P[b_t = 1]$ 은 구할수 있는데 문제는 $E_0[T]$ 의 설정. 일단 구하고자 하는 것은\n",
    "\n",
    "### step 3  \n",
    "$\\text{arg } \\text{min} \\{  |\\theta_t| \\geq E_0[T] \\mid 2P[b_t = 1] -1 \\mid \\} $.\n",
    "\n",
    "\n",
    "인데 $ E_0[T] $를 뭘로 둘까? \n",
    "\n",
    "mlfinlab 에서는 \n",
    "\n",
    "```exp_num_ticks_init=100000``` 로 해두었지만 이건 케바케가 굉장히 심한 요소.\n",
    "\n",
    "$ E_0[T] \\mid 2P[b_t = 1] -1 \\mid $ 는  원래 $ E_0[T] \\mid P[b_t = 1] -P[b_t = -1] \\mid $ 이는\n",
    "imbalance 를 측정하기 위함.  \n",
    "그렇다면 t=0 를 기준으로 잡게 하는 $E_0[T]$ 를 구하면 되지 않을까? \n",
    "\n",
    "$|\\theta_t| \\geq E_0[T] \\mid 2P[b_t = 1] -1 \\mid$   \n",
    "\n",
    "-> $|\\theta_t| = E_0[T] \\mid 2P[b_t = 1] -1 \\mid$  \n",
    "\n",
    "-> $ E_0[T] =  [ \\frac{|\\theta_t|}{2P[b_t = 1] -1 \\mid} ]$  ??\n",
    "\n",
    "이러면 $P[b_t=1] = 0.5$ 면 $ E_0[T] = \\infty$..\n",
    "\n",
    "첫 bar에서 $ \\theta_t $ 랑 $ P[b_T= 1] $ 을 구할 수 있으니 $ = $ 이 되는 값을 $E_0[T]$ 로 두면 될 거 같은데\n",
    "\n",
    "$\\theta_t$ 의 t를 마지막 tick 으로 잡아야할까 아니면 기댓값을 써야할까?..  \n",
    "\n",
    "imbalance 의 관점에서 생각해보자. 따라오는 bar에서 기존보다 큰 imbalance 를 감지하는 것이 목적.  \n",
    "\n",
    "*TODO*  \n",
    "$ E[\\theta_t] + \\sigma[\\theta_t]$ : 값이 너무 크게 나옴      \n",
    "$ E[\\theta_t]   $ \n",
    "\n",
    "아 일단 그냥 $  E_0[T] = E[\\theta_t] $ 로 해두자 하루종일 이거 하네\n",
    "\n",
    "일단 $P_t$와 $\\theta_t$를 구하는 부분 부터, 나중에 모듈화 해야하는 거 고려하면서 프로토타입 작성."
   ]
  },
  {
   "cell_type": "markdown",
   "metadata": {},
   "source": [
    "# TODO\n",
    "인터페이스 구성 \n",
    "+ Dataframe : 원하는 방향.\n",
    "+ list,tuple : datafarme 에서 추출하는 대부분의 명령어들이 dataframe을 반환하지 않고 기본 데이터구조를 반환함.\n",
    "\n",
    "웬만해서는 다 Dataframe 구조를 유지한 상태에서 진행해야 추후 데이터 조작이 편해질거 같은데,\n",
    "연산은 numpy로 돌려야 빠름.  \n",
    "    1. Dataframe 상태를 유지하는 연산 사용\n",
    "    2. 매 연산마다 Dataframe 으로 변환. \n",
    "    3. batch 로 Dataframe 으로 변환 -> 이게 괜찮을듯. mlfinlab 도 대체로 np 로 연산하는 거 같다."
   ]
  },
  {
   "cell_type": "code",
   "execution_count": 6,
   "metadata": {
    "scrolled": true
   },
   "outputs": [
    {
     "data": {
      "text/plain": [
       "Index(['close', 'volume'], dtype='object')"
      ]
     },
     "execution_count": 6,
     "metadata": {},
     "output_type": "execute_result"
    }
   ],
   "source": [
    "data.columns"
   ]
  },
  {
   "cell_type": "markdown",
   "metadata": {},
   "source": [
    "### Initializaiton"
   ]
  },
  {
   "cell_type": "code",
   "execution_count": 35,
   "metadata": {},
   "outputs": [],
   "source": [
    "def for_init(data,value='close'):\n",
    "    # target variables\n",
    "    pr = 0\n",
    "    e_0 =0\n",
    "    # imtermediate variables\n",
    "    theta = []\n",
    "    \n",
    "    cur_tick = 0\n",
    "    \n",
    "    prev_p =0\n",
    "    d_p =0\n",
    "    cur_p = data.iloc[0][1]\n",
    "    \n",
    "    prev_b =0\n",
    "    cur_b =0\n",
    "    cum_b=0\n",
    "    \n",
    "    # p[b_t = 1]\n",
    "    num_tick=0 \n",
    "    num_p_1 =0 \n",
    "    \n",
    "    for i in data.iterrows():\n",
    "        # tick\n",
    "        cur_tick += 1\n",
    "        if(cur_tick >= threshold):\n",
    "            cur_tick = 0    \n",
    "            # step 1\n",
    "            prev_p = cur_p\n",
    "            cur_p = i[1]['close']\n",
    "            d_p = cur_p - prev_p\n",
    "            if d_p != 0:\n",
    "                cur_b = abs(d_p)/d_p                \n",
    "            else :\n",
    "                if prev_b == 0 : # 예외처리\n",
    "                    cur_b = 1\n",
    "                else :\n",
    "                    cur_b = prev_b          \n",
    "            # step 2        \n",
    "            cum_b += cur_b\n",
    "            theta.append(cum_b )\n",
    "            num_tick+=1\n",
    "            if(cur_b==1):\n",
    "                num_p_1 +=1\n",
    "    pr = num_p_1/num_tick\n",
    "    #e_0 = (np.mean(theta) + np.std(theta))/abs(2*pr - 1)\n",
    "   # display(theta)\n",
    "    #e_0 = (np.mean(np.abs(theta)))/abs(2*pr - 1)\n",
    "    e_0 = (np.mean(np.abs(theta))) + np.std(theta)\n",
    "    #e_0 = (np.mean( np.abs(theta)  )   )\n",
    "    # display(theta)\n",
    "    \n",
    "   # plt.plot(theta)\n",
    "   # plt.title('theta')\n",
    "    return e_0,pr"
   ]
  },
  {
   "cell_type": "code",
   "execution_count": 8,
   "metadata": {},
   "outputs": [
    {
     "name": "stdout",
     "output_type": "stream",
     "text": [
      "6.274193548387097 0.532258064516129\n"
     ]
    },
    {
     "data": {
      "image/png": "[encoded data removed]",
      "text/plain": [
       "<Figure size 432x288 with 1 Axes>"
      ]
     },
     "metadata": {
      "needs_background": "light"
     },
     "output_type": "display_data"
    }
   ],
   "source": [
    "threshold = 1000\n",
    "\n",
    "# init\n",
    "e_0,pr =  for_init(weekly[1],threshold)  \n",
    "print(str(e_0) + ' ' + str(pr))"
   ]
  },
  {
   "cell_type": "markdown",
   "metadata": {},
   "source": [
    "이제는 ewma 도 고려해서, tick bar 또한 생성\n",
    "\n",
    "mlfinlab 을 보면  \n",
    "\n",
    "```python\n",
    "# Expected number of ticks based on formed bars\n",
    "                self.exp_num_ticks = ewma(np.array(\n",
    "                    self.num_ticks_bar[-self.num_prev_bars:], dtype=float), self.num_prev_bars)[-1]\n",
    "```\n",
    "\n",
    "tick bar 생성시 지금까지의 tick을 가지고 새로 $E[T]$ 를 생성. \n",
    "\n",
    "그리고 카운터 리셋\n",
    "\n",
    "```python\n",
    " # Reset counters\n",
    "                cum_ticks, cum_volume, cum_theta = 0, 0, 0\n",
    "```\n",
    "\n",
    "TODO  \n",
    "이 부분을 좀 생각해야겠다. 일단은 $\\theta_t$ 를 초기화 하는 걸로 해두자."
   ]
  },
  {
   "cell_type": "code",
   "execution_count": 9,
   "metadata": {},
   "outputs": [
    {
     "name": "stdout",
     "output_type": "stream",
     "text": [
      "2018-11-26 09:00:00\n",
      "266.94000244140625\n",
      "2018-11-26 09:00:00\n",
      "266.95999145507807\n",
      "2018-11-26 09:00:00\n",
      "266.98001098632807\n",
      "2018-11-26 09:00:00\n",
      "266.98001098632807\n",
      "2018-11-26 09:00:00\n",
      "267.0\n",
      "2018-11-26 09:00:00\n",
      "267.0\n"
     ]
    }
   ],
   "source": [
    "weekly[1].size\n",
    "tick = pd.DataFrame(columns=['close','volume']) \n",
    "tick.index.names = ['timestamp']\n",
    "\n",
    "cnt = 0\n",
    "for tmp in weekly[1].iterrows():\n",
    "    print(tmp[0])\n",
    "    print(tmp[1]['close'])\n",
    "    cnt+=1\n",
    "    if(cnt > 5):\n",
    "        break"
   ]
  },
  {
   "cell_type": "markdown",
   "metadata": {},
   "source": [
    "### Procedure"
   ]
  },
  {
   "cell_type": "code",
   "execution_count": 76,
   "metadata": {},
   "outputs": [],
   "source": [
    "def for_procedure(data,e_0,pr,threshold=500,value='close'):\n",
    "    # imtermediate variables\n",
    "    theta = 0\n",
    "    \n",
    "    cur_tick = 0\n",
    "    \n",
    "    prev_p =0\n",
    "    d_p =0\n",
    "    cur_p = data.iloc[0,0]\n",
    "    prev_b =0\n",
    "    cur_b =0\n",
    "    # p[b_t = 1]\n",
    "    num_tick=0 \n",
    "    num_p_1 =0 \n",
    "    \n",
    "    tick = pd.DataFrame(columns=['close']) \n",
    "    tick.index.names = ['timestamp']\n",
    "    num_tick = 0\n",
    "    \n",
    "    \n",
    "    for i in range(len(data.index)):\n",
    "        # tick\n",
    "        cur_tick += 1\n",
    "        if(cur_tick >= threshold):\n",
    "            cur_tick = 0\n",
    "            # step 1\n",
    "            prev_p = cur_p\n",
    "            cur_p = data.iloc[i,0]\n",
    "            d_p = cur_p - prev_p\n",
    "            \n",
    "            prev_b = cur_b\n",
    "            if d_p != 0:\n",
    "                cur_b = abs(d_p)/d_p                \n",
    "            else :\n",
    "                if prev_b == 0 : # 예외처리\n",
    "                    cur_b = 1\n",
    "                else :\n",
    "                    cur_b = prev_b     \n",
    "            # step 2\n",
    "            theta += cur_b\n",
    "            \n",
    "            if(cur_b==1):\n",
    "                num_p_1 +=1\n",
    "            # step 3\n",
    "            if(np.abs(theta) > e_0 * np.abs(2*pr - 1)):    \n",
    "                tmp = data.iloc[i]           \n",
    "                \n",
    "                # reset \n",
    "                theta=0\n",
    "                \n",
    "                    #print(data.index[i])\n",
    "                    #print(tmp[0])\n",
    "                    #print(tmp[1])\n",
    "                tick.loc[data.index[i]] = [tmp[0]] \n",
    "            num_tick+=1\n",
    "        \n",
    "    # update        \n",
    "    weight = ewma_weight(num_tick)\n",
    "            # print('previous e_0 : ' + str(e_0) + ' | pr : ' + str(pr) )\n",
    "        \n",
    "    pr = (num_p_1/num_tick)*weight + pr*(1-weight)    \n",
    "    \n",
    "    #print('tick_size ' + str(tick.size))\n",
    "    \n",
    "    e_0 = tick.size*weight + e_0*(1-weight)       \n",
    "    \n",
    "               # print('current e_0 : ' + str(e_0) + ' | pr : ' + str(pr) )\n",
    "               # print('num_tick ' + str(num_tick))\n",
    "               #  display(tick.head())\n",
    "    return e_0,pr,tick"
   ]
  },
  {
   "cell_type": "markdown",
   "metadata": {},
   "source": [
    "tick size 가 너무 큰데"
   ]
  },
  {
   "cell_type": "code",
   "execution_count": 17,
   "metadata": {},
   "outputs": [
    {
     "name": "stdout",
     "output_type": "stream",
     "text": [
      "4.4056635220094345 0.5\n",
      "tick_size 17\n",
      "5.805034241786164 0.4771241830065359\n",
      "tick_size 18\n",
      "7.088714847913936 0.49122807017543857\n",
      "tick_size 15\n",
      "8.077625491924694 0.5131578947368421\n",
      "tick_size 15\n",
      "8.942922305434108 0.5073464912280702\n",
      "tick_size 12\n",
      "9.413241950751937 0.48057523616734144\n",
      "tick_size 17\n",
      "10.256215067335056 0.49907341254090476\n",
      "tick_size 17\n",
      "11.005524504297828 0.5220521836964904\n",
      "tick_size 18\n",
      "11.741785082792793 0.5372747608512458\n",
      "tick_size 20\n",
      "12.528281741574432 0.5432485931511272\n",
      "tick_size 2\n",
      "9.896211306180824 0.4431507305776311\n",
      "tick_size 5\n",
      "9.320186446630139 0.4571918210979098\n",
      "tick_size 21\n",
      "10.381987678754673 0.4632479758898747\n",
      "tick_size 18\n",
      "11.18388371256997 0.45542070357398146\n",
      "tick_size 22\n",
      "12.124415563650842 0.4434868874529238\n",
      "tick_size 5\n",
      "11.411974007285759 0.45703293554973673\n",
      "tick_size 21\n",
      "12.283612733896145 0.46743253881144897\n",
      "tick_size 21\n",
      "13.076011576269224 0.46389971060781077\n",
      "tick_size 19\n",
      "13.668410418642303 0.49645710796808235\n",
      "tick_size 17\n",
      "14.038587038793159 0.5066546842069228\n",
      "tick_size 17\n",
      "14.367632923371696 0.4961113532819706\n",
      "tick_size 20\n",
      "14.904048835431535 0.49171979582654485\n",
      "tick_size 18\n",
      "15.2299384317019 0.5101352559149788\n",
      "tick_size 21\n",
      "15.754489483365361 0.5027203625201105\n",
      "tick_size 24\n",
      "16.41413032469613 0.4925027335185017\n",
      "tick_size 25\n",
      "17.074581838181043 0.48231021555554004\n",
      "tick_size 24\n",
      "17.62861529112656 0.49039206497776355\n",
      "tick_size 17\n",
      "17.558769147668052 0.501263534882195\n",
      "tick_size 20\n",
      "17.791267324080618 0.5011431982267478\n",
      "tick_size 14\n",
      "17.285765014203204 0.5390860098917528\n"
     ]
    },
    {
     "data": {
      "text/plain": [
       "Text(0.5, 1.0, 'tick')"
      ]
     },
     "execution_count": 17,
     "metadata": {},
     "output_type": "execute_result"
    },
    {
     "data": {
      "image/png": "[encoded data removed]",
      "text/plain": [
       "<Figure size 432x288 with 1 Axes>"
      ]
     },
     "metadata": {
      "needs_background": "light"
     },
     "output_type": "display_data"
    },
    {
     "data": {
      "image/png": "[encoded data removed]",
      "text/plain": [
       "<Figure size 432x288 with 1 Axes>"
      ]
     },
     "metadata": {
      "needs_background": "light"
     },
     "output_type": "display_data"
    }
   ],
   "source": [
    "threshold = 5000\n",
    "\n",
    "# init\n",
    "e_0,pr =  for_init(weekly[1],threshold)  \n",
    "print(str(e_0) + ' ' + str(pr))\n",
    "\n",
    "tick = pd.DataFrame(columns=['close']) \n",
    "tick.index.names = ['timestamp']\n",
    "\n",
    "# procedure\n",
    "for tmp in weekly[2:]:\n",
    "    e_0,pr,t_tick = for_procedure(tmp,e_0,pr,threshold)\n",
    "    tick = pd.concat([tick, t_tick])\n",
    "    #display(tick.head())\n",
    "    print(str(e_0) + ' ' + str(pr))\n",
    "\n",
    "plt.figure()\n",
    "plt.plot(tick)\n",
    "plt.title('tick')\n"
   ]
  },
  {
   "cell_type": "markdown",
   "metadata": {},
   "source": [
    "잘 된건지 확인을 어떻게? \n",
    "mlfinlab 도 한번 돌려서 같이 봐보자. "
   ]
  },
  {
   "cell_type": "code",
   "execution_count": null,
   "metadata": {},
   "outputs": [],
   "source": []
  },
  {
   "cell_type": "markdown",
   "metadata": {},
   "source": [
    "### Visualization  \n",
    "\n",
    "https://pandas.pydata.org/pandas-docs/stable/user_guide/visualization.html#visualization-barplot\n",
    "\n",
    "실제 가격변화와 tick_bar의 수를 표시해보자.  \n",
    "1. 일간 데이터로 변환\n",
    "2. 각 일간 tick_bar의 수를 받자.\n",
    "3. 표시  "
   ]
  },
  {
   "cell_type": "code",
   "execution_count": 20,
   "metadata": {},
   "outputs": [
    {
     "data": {
      "text/html": [
       "<div>\n",
       "<style scoped>\n",
       "    .dataframe tbody tr th:only-of-type {\n",
       "        vertical-align: middle;\n",
       "    }\n",
       "\n",
       "    .dataframe tbody tr th {\n",
       "        vertical-align: top;\n",
       "    }\n",
       "\n",
       "    .dataframe thead th {\n",
       "        text-align: right;\n",
       "    }\n",
       "</style>\n",
       "<table border=\"1\" class=\"dataframe\">\n",
       "  <thead>\n",
       "    <tr style=\"text-align: right;\">\n",
       "      <th></th>\n",
       "      <th>dummy</th>\n",
       "    </tr>\n",
       "    <tr>\n",
       "      <th>timestamp</th>\n",
       "      <th></th>\n",
       "    </tr>\n",
       "  </thead>\n",
       "  <tbody>\n",
       "    <tr>\n",
       "      <th>2018-12-03</th>\n",
       "      <td>2</td>\n",
       "    </tr>\n",
       "    <tr>\n",
       "      <th>2018-12-04</th>\n",
       "      <td>3</td>\n",
       "    </tr>\n",
       "    <tr>\n",
       "      <th>2018-12-05</th>\n",
       "      <td>3</td>\n",
       "    </tr>\n",
       "    <tr>\n",
       "      <th>2018-12-06</th>\n",
       "      <td>5</td>\n",
       "    </tr>\n",
       "    <tr>\n",
       "      <th>2018-12-07</th>\n",
       "      <td>4</td>\n",
       "    </tr>\n",
       "  </tbody>\n",
       "</table>\n",
       "</div>"
      ],
      "text/plain": [
       "            dummy\n",
       "timestamp        \n",
       "2018-12-03      2\n",
       "2018-12-04      3\n",
       "2018-12-05      3\n",
       "2018-12-06      5\n",
       "2018-12-07      4"
      ]
     },
     "metadata": {},
     "output_type": "display_data"
    },
    {
     "data": {
      "text/html": [
       "<div>\n",
       "<style scoped>\n",
       "    .dataframe tbody tr th:only-of-type {\n",
       "        vertical-align: middle;\n",
       "    }\n",
       "\n",
       "    .dataframe tbody tr th {\n",
       "        vertical-align: top;\n",
       "    }\n",
       "\n",
       "    .dataframe thead th {\n",
       "        text-align: right;\n",
       "    }\n",
       "</style>\n",
       "<table border=\"1\" class=\"dataframe\">\n",
       "  <thead>\n",
       "    <tr style=\"text-align: right;\">\n",
       "      <th></th>\n",
       "      <th>dummy</th>\n",
       "    </tr>\n",
       "    <tr>\n",
       "      <th>timestamp</th>\n",
       "      <th></th>\n",
       "    </tr>\n",
       "  </thead>\n",
       "  <tbody>\n",
       "    <tr>\n",
       "      <th>2019-06-16</th>\n",
       "      <td>0</td>\n",
       "    </tr>\n",
       "    <tr>\n",
       "      <th>2019-06-17</th>\n",
       "      <td>3</td>\n",
       "    </tr>\n",
       "    <tr>\n",
       "      <th>2019-06-18</th>\n",
       "      <td>4</td>\n",
       "    </tr>\n",
       "    <tr>\n",
       "      <th>2019-06-19</th>\n",
       "      <td>4</td>\n",
       "    </tr>\n",
       "    <tr>\n",
       "      <th>2019-06-20</th>\n",
       "      <td>3</td>\n",
       "    </tr>\n",
       "  </tbody>\n",
       "</table>\n",
       "</div>"
      ],
      "text/plain": [
       "            dummy\n",
       "timestamp        \n",
       "2019-06-16      0\n",
       "2019-06-17      3\n",
       "2019-06-18      4\n",
       "2019-06-19      4\n",
       "2019-06-20      3"
      ]
     },
     "metadata": {},
     "output_type": "display_data"
    },
    {
     "data": {
      "text/html": [
       "<div>\n",
       "<style scoped>\n",
       "    .dataframe tbody tr th:only-of-type {\n",
       "        vertical-align: middle;\n",
       "    }\n",
       "\n",
       "    .dataframe tbody tr th {\n",
       "        vertical-align: top;\n",
       "    }\n",
       "\n",
       "    .dataframe thead th {\n",
       "        text-align: right;\n",
       "    }\n",
       "</style>\n",
       "<table border=\"1\" class=\"dataframe\">\n",
       "  <thead>\n",
       "    <tr style=\"text-align: right;\">\n",
       "      <th></th>\n",
       "      <th>dummy</th>\n",
       "    </tr>\n",
       "    <tr>\n",
       "      <th>timestamp</th>\n",
       "      <th></th>\n",
       "    </tr>\n",
       "  </thead>\n",
       "  <tbody>\n",
       "    <tr>\n",
       "      <th>2018-12-03</th>\n",
       "      <td>2</td>\n",
       "    </tr>\n",
       "    <tr>\n",
       "      <th>2018-12-04</th>\n",
       "      <td>3</td>\n",
       "    </tr>\n",
       "    <tr>\n",
       "      <th>2018-12-05</th>\n",
       "      <td>3</td>\n",
       "    </tr>\n",
       "    <tr>\n",
       "      <th>2018-12-06</th>\n",
       "      <td>5</td>\n",
       "    </tr>\n",
       "    <tr>\n",
       "      <th>2018-12-07</th>\n",
       "      <td>4</td>\n",
       "    </tr>\n",
       "    <tr>\n",
       "      <th>2018-12-08</th>\n",
       "      <td>0</td>\n",
       "    </tr>\n",
       "    <tr>\n",
       "      <th>2018-12-09</th>\n",
       "      <td>0</td>\n",
       "    </tr>\n",
       "    <tr>\n",
       "      <th>2018-12-10</th>\n",
       "      <td>4</td>\n",
       "    </tr>\n",
       "    <tr>\n",
       "      <th>2018-12-11</th>\n",
       "      <td>3</td>\n",
       "    </tr>\n",
       "    <tr>\n",
       "      <th>2018-12-12</th>\n",
       "      <td>4</td>\n",
       "    </tr>\n",
       "    <tr>\n",
       "      <th>2018-12-13</th>\n",
       "      <td>2</td>\n",
       "    </tr>\n",
       "    <tr>\n",
       "      <th>2018-12-14</th>\n",
       "      <td>5</td>\n",
       "    </tr>\n",
       "    <tr>\n",
       "      <th>2018-12-15</th>\n",
       "      <td>0</td>\n",
       "    </tr>\n",
       "    <tr>\n",
       "      <th>2018-12-16</th>\n",
       "      <td>0</td>\n",
       "    </tr>\n",
       "    <tr>\n",
       "      <th>2018-12-17</th>\n",
       "      <td>2</td>\n",
       "    </tr>\n",
       "    <tr>\n",
       "      <th>2018-12-18</th>\n",
       "      <td>3</td>\n",
       "    </tr>\n",
       "    <tr>\n",
       "      <th>2018-12-19</th>\n",
       "      <td>3</td>\n",
       "    </tr>\n",
       "    <tr>\n",
       "      <th>2018-12-20</th>\n",
       "      <td>5</td>\n",
       "    </tr>\n",
       "    <tr>\n",
       "      <th>2018-12-21</th>\n",
       "      <td>2</td>\n",
       "    </tr>\n",
       "    <tr>\n",
       "      <th>2018-12-22</th>\n",
       "      <td>0</td>\n",
       "    </tr>\n",
       "    <tr>\n",
       "      <th>2018-12-23</th>\n",
       "      <td>0</td>\n",
       "    </tr>\n",
       "    <tr>\n",
       "      <th>2018-12-24</th>\n",
       "      <td>2</td>\n",
       "    </tr>\n",
       "    <tr>\n",
       "      <th>2018-12-25</th>\n",
       "      <td>0</td>\n",
       "    </tr>\n",
       "    <tr>\n",
       "      <th>2018-12-26</th>\n",
       "      <td>6</td>\n",
       "    </tr>\n",
       "    <tr>\n",
       "      <th>2018-12-27</th>\n",
       "      <td>4</td>\n",
       "    </tr>\n",
       "    <tr>\n",
       "      <th>2018-12-28</th>\n",
       "      <td>3</td>\n",
       "    </tr>\n",
       "    <tr>\n",
       "      <th>2018-12-29</th>\n",
       "      <td>0</td>\n",
       "    </tr>\n",
       "    <tr>\n",
       "      <th>2018-12-30</th>\n",
       "      <td>0</td>\n",
       "    </tr>\n",
       "    <tr>\n",
       "      <th>2018-12-31</th>\n",
       "      <td>0</td>\n",
       "    </tr>\n",
       "    <tr>\n",
       "      <th>2019-01-01</th>\n",
       "      <td>0</td>\n",
       "    </tr>\n",
       "    <tr>\n",
       "      <th>...</th>\n",
       "      <td>...</td>\n",
       "    </tr>\n",
       "    <tr>\n",
       "      <th>2019-05-22</th>\n",
       "      <td>5</td>\n",
       "    </tr>\n",
       "    <tr>\n",
       "      <th>2019-05-23</th>\n",
       "      <td>5</td>\n",
       "    </tr>\n",
       "    <tr>\n",
       "      <th>2019-05-24</th>\n",
       "      <td>5</td>\n",
       "    </tr>\n",
       "    <tr>\n",
       "      <th>2019-05-25</th>\n",
       "      <td>0</td>\n",
       "    </tr>\n",
       "    <tr>\n",
       "      <th>2019-05-26</th>\n",
       "      <td>0</td>\n",
       "    </tr>\n",
       "    <tr>\n",
       "      <th>2019-05-27</th>\n",
       "      <td>4</td>\n",
       "    </tr>\n",
       "    <tr>\n",
       "      <th>2019-05-28</th>\n",
       "      <td>4</td>\n",
       "    </tr>\n",
       "    <tr>\n",
       "      <th>2019-05-29</th>\n",
       "      <td>6</td>\n",
       "    </tr>\n",
       "    <tr>\n",
       "      <th>2019-05-30</th>\n",
       "      <td>4</td>\n",
       "    </tr>\n",
       "    <tr>\n",
       "      <th>2019-05-31</th>\n",
       "      <td>6</td>\n",
       "    </tr>\n",
       "    <tr>\n",
       "      <th>2019-06-01</th>\n",
       "      <td>0</td>\n",
       "    </tr>\n",
       "    <tr>\n",
       "      <th>2019-06-02</th>\n",
       "      <td>0</td>\n",
       "    </tr>\n",
       "    <tr>\n",
       "      <th>2019-06-03</th>\n",
       "      <td>4</td>\n",
       "    </tr>\n",
       "    <tr>\n",
       "      <th>2019-06-04</th>\n",
       "      <td>4</td>\n",
       "    </tr>\n",
       "    <tr>\n",
       "      <th>2019-06-05</th>\n",
       "      <td>4</td>\n",
       "    </tr>\n",
       "    <tr>\n",
       "      <th>2019-06-06</th>\n",
       "      <td>0</td>\n",
       "    </tr>\n",
       "    <tr>\n",
       "      <th>2019-06-07</th>\n",
       "      <td>5</td>\n",
       "    </tr>\n",
       "    <tr>\n",
       "      <th>2019-06-08</th>\n",
       "      <td>0</td>\n",
       "    </tr>\n",
       "    <tr>\n",
       "      <th>2019-06-09</th>\n",
       "      <td>0</td>\n",
       "    </tr>\n",
       "    <tr>\n",
       "      <th>2019-06-10</th>\n",
       "      <td>4</td>\n",
       "    </tr>\n",
       "    <tr>\n",
       "      <th>2019-06-11</th>\n",
       "      <td>4</td>\n",
       "    </tr>\n",
       "    <tr>\n",
       "      <th>2019-06-12</th>\n",
       "      <td>5</td>\n",
       "    </tr>\n",
       "    <tr>\n",
       "      <th>2019-06-13</th>\n",
       "      <td>3</td>\n",
       "    </tr>\n",
       "    <tr>\n",
       "      <th>2019-06-14</th>\n",
       "      <td>4</td>\n",
       "    </tr>\n",
       "    <tr>\n",
       "      <th>2019-06-15</th>\n",
       "      <td>0</td>\n",
       "    </tr>\n",
       "    <tr>\n",
       "      <th>2019-06-16</th>\n",
       "      <td>0</td>\n",
       "    </tr>\n",
       "    <tr>\n",
       "      <th>2019-06-17</th>\n",
       "      <td>3</td>\n",
       "    </tr>\n",
       "    <tr>\n",
       "      <th>2019-06-18</th>\n",
       "      <td>4</td>\n",
       "    </tr>\n",
       "    <tr>\n",
       "      <th>2019-06-19</th>\n",
       "      <td>4</td>\n",
       "    </tr>\n",
       "    <tr>\n",
       "      <th>2019-06-20</th>\n",
       "      <td>3</td>\n",
       "    </tr>\n",
       "  </tbody>\n",
       "</table>\n",
       "<p>200 rows × 1 columns</p>\n",
       "</div>"
      ],
      "text/plain": [
       "            dummy\n",
       "timestamp        \n",
       "2018-12-03      2\n",
       "2018-12-04      3\n",
       "2018-12-05      3\n",
       "2018-12-06      5\n",
       "2018-12-07      4\n",
       "2018-12-08      0\n",
       "2018-12-09      0\n",
       "2018-12-10      4\n",
       "2018-12-11      3\n",
       "2018-12-12      4\n",
       "2018-12-13      2\n",
       "2018-12-14      5\n",
       "2018-12-15      0\n",
       "2018-12-16      0\n",
       "2018-12-17      2\n",
       "2018-12-18      3\n",
       "2018-12-19      3\n",
       "2018-12-20      5\n",
       "2018-12-21      2\n",
       "2018-12-22      0\n",
       "2018-12-23      0\n",
       "2018-12-24      2\n",
       "2018-12-25      0\n",
       "2018-12-26      6\n",
       "2018-12-27      4\n",
       "2018-12-28      3\n",
       "2018-12-29      0\n",
       "2018-12-30      0\n",
       "2018-12-31      0\n",
       "2019-01-01      0\n",
       "...           ...\n",
       "2019-05-22      5\n",
       "2019-05-23      5\n",
       "2019-05-24      5\n",
       "2019-05-25      0\n",
       "2019-05-26      0\n",
       "2019-05-27      4\n",
       "2019-05-28      4\n",
       "2019-05-29      6\n",
       "2019-05-30      4\n",
       "2019-05-31      6\n",
       "2019-06-01      0\n",
       "2019-06-02      0\n",
       "2019-06-03      4\n",
       "2019-06-04      4\n",
       "2019-06-05      4\n",
       "2019-06-06      0\n",
       "2019-06-07      5\n",
       "2019-06-08      0\n",
       "2019-06-09      0\n",
       "2019-06-10      4\n",
       "2019-06-11      4\n",
       "2019-06-12      5\n",
       "2019-06-13      3\n",
       "2019-06-14      4\n",
       "2019-06-15      0\n",
       "2019-06-16      0\n",
       "2019-06-17      3\n",
       "2019-06-18      4\n",
       "2019-06-19      4\n",
       "2019-06-20      3\n",
       "\n",
       "[200 rows x 1 columns]"
      ]
     },
     "metadata": {},
     "output_type": "display_data"
    }
   ],
   "source": [
    "tick['dummy'] = 1\n",
    "logic_tick = {\n",
    "    'dummy'  : 'sum'\n",
    "    }\n",
    "tick_temp = tick.resample ('D' ).apply(logic_tick)\n",
    "\n",
    "logic = {\n",
    "    'close'  : 'last',\n",
    "    }\n",
    "\n",
    "data_day = data.resample('D').apply(logic)\n",
    "data_day = data_day.dropna()\n",
    "#display(data_day.head())\n",
    "#display(data_day.tail())\n"
   ]
  },
  {
   "cell_type": "code",
   "execution_count": 21,
   "metadata": {
    "scrolled": true
   },
   "outputs": [
    {
     "data": {
      "image/png": "[encoded data removed]",
      "text/plain": [
       "<Figure size 1080x360 with 2 Axes>"
      ]
     },
     "metadata": {
      "needs_background": "light"
     },
     "output_type": "display_data"
    }
   ],
   "source": [
    "# https://fraserlab.com/2014/08/20/Figures-with-Python/\n",
    "\n",
    "fig, ax1 = plt.subplots()\n",
    "\n",
    "ax1.plot(data_day.index, data_day['close'],color='#60b6c9')\n",
    "ax2 = ax1.twinx()\n",
    "\n",
    "\n",
    "ax2 = ax2.bar(tick_temp.index, tick_temp['dummy'],color='#5d8c70')\n",
    "fig.set_figwidth(15)\n",
    "fig.set_figheight(5)\n",
    "plt.show()"
   ]
  },
  {
   "cell_type": "code",
   "execution_count": 43,
   "metadata": {},
   "outputs": [
    {
     "data": {
      "image/png": "[encoded data removed]",
      "text/plain": [
       "<Figure size 1080x360 with 2 Axes>"
      ]
     },
     "metadata": {
      "needs_background": "light"
     },
     "output_type": "display_data"
    }
   ],
   "source": [
    "fig, ax1 = plt.subplots()\n",
    "\n",
    "ax1.plot(data_day.index, data_day['close'],color='#60b6c9')\n",
    "ax2 = ax1.twinx()\n",
    "\n",
    "\n",
    "ax2 = ax2.plot(tick.index, tick['close'],color='#5d8c70')\n",
    "plt.bar(tick_temp.index, tick_temp['dummy'],color='#5d8c70')\n",
    "fig.set_figwidth(15)\n",
    "fig.set_figheight(5)\n",
    "plt.show()"
   ]
  },
  {
   "cell_type": "code",
   "execution_count": 48,
   "metadata": {
    "scrolled": false
   },
   "outputs": [
    {
     "data": {
      "image/png": "[encoded data removed]",
      "text/plain": [
       "<Figure size 1080x360 with 1 Axes>"
      ]
     },
     "metadata": {
      "needs_background": "light"
     },
     "output_type": "display_data"
    }
   ],
   "source": [
    "def check_tick(threshold):\n",
    "    e_0,pr =  for_init(weekly[1],threshold)  \n",
    "    tick = pd.DataFrame(columns=['close']) \n",
    "    tick.index.names = ['timestamp']\n",
    "\n",
    "    for tmp in weekly[2:]:\n",
    "        e_0,pr,t_tick = for_procedure(tmp,e_0,pr,threshold)\n",
    "        tick = pd.concat([tick, t_tick])\n",
    "        \n",
    "    tick['dummy'] = 1\n",
    "    logic_tick = {\n",
    "        'dummy'  : 'sum'\n",
    "        }\n",
    "    tick_temp = tick.resample ('D' ).apply(logic_tick)\n",
    "\n",
    "    \n",
    "    ''' logic = {\n",
    "        'close'  : 'last',\n",
    "        }\n",
    "\n",
    "    data_day = data.resample('D').apply(logic)\n",
    "    data_day = data_day.dropna()'''\n",
    "    \n",
    "    fig, ax1 = plt.subplots()\n",
    "\n",
    "    #plt.plot(data_day.index, data_day['close'],color='#ff0000')\n",
    "    plt.plot(data.index, data['close'],color='#ff0000')\n",
    "   # df_corr = data_day[data_day.columns[0]]\n",
    "   # print(df_corr.autocorr)\n",
    "\n",
    "    ''' ax2 = ax2.bar(tick_temp.index, tick_temp['dummy'],color='#5d8c70')'''\n",
    "    #ax2 = ax2.plot(tick.index, tick['close'],color='#5d8c70')\n",
    "    plt.plot(tick.index, tick['close'],color='#5d8c70')\n",
    "    fig.set_figwidth(15)\n",
    "    fig.set_figheight(5)\n",
    "    plt.show()\n",
    "\n",
    "check_tick(5000)"
   ]
  },
  {
   "cell_type": "markdown",
   "metadata": {},
   "source": [
    "다른 표현 방식을 찾아보자"
   ]
  },
  {
   "cell_type": "markdown",
   "metadata": {},
   "source": [
    "### Volume Bars - WIP"
   ]
  },
  {
   "cell_type": "code",
   "execution_count": 54,
   "metadata": {},
   "outputs": [],
   "source": [
    "def volume_init(data,value='volume'):\n",
    "    # target variables\n",
    "    pr = 0\n",
    "    e_0 =0\n",
    "    # imtermediate variables\n",
    "    theta = []\n",
    "    \n",
    "    cur_tick = 0\n",
    "    \n",
    "    prev_p =0\n",
    "    d_p =0\n",
    "    cur_p = data.iloc[0][1]\n",
    "    \n",
    "    cur_v = 0\n",
    "    cnt_v=0\n",
    "    cum_v =0\n",
    "    pos_v=0\n",
    "    num_pos=0\n",
    "    \n",
    "    prev_b =0\n",
    "    cur_b =0\n",
    "    cum_b=0\n",
    "    \n",
    "    # p[b_t = 1]\n",
    "    num_tick=0 \n",
    "    num_p_1 =0 \n",
    "    \n",
    "    v_plus=0\n",
    "    e_v=0\n",
    "    \n",
    "    for i in data.iterrows():\n",
    "        # volume \n",
    "        \n",
    "        cur_v=i[1]['volume']\n",
    "       \n",
    "        cnt_v +=cur_v\n",
    "        if(cnt_v >= threshold):\n",
    "            cnt_v = 0    \n",
    "            cum_v += cur_v\n",
    "            # step 1\n",
    "            prev_p = cur_p\n",
    "            cur_p = i[1]['close']\n",
    "            d_p = cur_p - prev_p\n",
    "            \n",
    "            # b_t                      \n",
    "            if d_p != 0:\n",
    "                cur_b = abs(d_p)/d_p                \n",
    "            else :\n",
    "                if prev_b == 0 : # 예외처리\n",
    "                    cur_b = 1\n",
    "                else :\n",
    "                    cur_b = prev_b     \n",
    "            # v_t       \n",
    "            if cur_b ==1:\n",
    "                pos_v +=cur_v\n",
    "                num_pos+=1\n",
    "            \n",
    "            # step 2        \n",
    "            cum_b += cur_b * cur_v\n",
    "            theta.append(cum_b )\n",
    "            num_tick+=1\n",
    "            if(cur_b==1):\n",
    "                num_p_1 +=1\n",
    "                \n",
    "    pr = num_p_1/num_tick\n",
    "    #e_0 = (np.mean(theta) + np.std(theta))/abs(2*pr - 1)\n",
    "   # display(theta)\n",
    "    #e_0 = (np.mean(np.abs(theta)))/abs(2*pr - 1)\n",
    "    e_0 = (np.mean(np.abs(theta))) + np.std(theta)\n",
    "    #e_0 = (np.mean( np.abs(theta)  )   )\n",
    "    # display(theta)\n",
    "    v_plus = pr*(pos_v/num_pos)\n",
    "    e_v = cum_v/num_tick\n",
    "\n",
    "    return e_0,v_plus,e_v"
   ]
  },
  {
   "cell_type": "code",
   "execution_count": 55,
   "metadata": {
    "scrolled": true
   },
   "outputs": [
    {
     "name": "stdout",
     "output_type": "stream",
     "text": [
      "80.95403956091002 10.428571428571429 29.142857142857142\n"
     ]
    }
   ],
   "source": [
    "threshold = 45000\n",
    "# init\n",
    "e_0,v_plus,e_v =  volume_init(weekly[1],threshold)  \n",
    "print(str(e_0) + ' ' + str(v_plus) + ' ' + str(e_v))"
   ]
  },
  {
   "cell_type": "code",
   "execution_count": 75,
   "metadata": {},
   "outputs": [],
   "source": [
    "def volume_procedure(data,e_0,v_plus,e_v,threshold=500,value='close'):\n",
    "    # imtermediate variables\n",
    "    theta = 0\n",
    "    cur_tick = 0\n",
    "    \n",
    "    #price\n",
    "    prev_p =0\n",
    "    d_p =0\n",
    "    cur_p = data.iloc[0,0]\n",
    "    prev_b =0\n",
    "    cur_b =0\n",
    "    \n",
    "    # volume\n",
    "    cur_v = 0\n",
    "    cnt_v=0\n",
    "    cum_v =0\n",
    "    pos_v=0\n",
    "    num_pos=0\n",
    "    \n",
    "    # p[b_t = 1]\n",
    "    num_tick=0 \n",
    "    num_p_1 =0 \n",
    "    \n",
    "    tick = pd.DataFrame(columns=['close']) \n",
    "    tick.index.names = ['timestamp']\n",
    "    num_tick = 0\n",
    "    \n",
    "    e_v=0\n",
    "    v_plus=0\n",
    "    \n",
    "    for i in range(len(data.index)):\n",
    "        # tick\n",
    "        cur_v=data.iloc[i,1]\n",
    "        cnt_v +=cur_v\n",
    "        if(cnt_v >= threshold):\n",
    "            cnt_v=0\n",
    "            cum_v +=cur_v\n",
    "            \n",
    "            # step 1\n",
    "            prev_p = cur_p\n",
    "            cur_p = data.iloc[i,0]\n",
    "            d_p = cur_p - prev_p\n",
    "            \n",
    "            prev_b = cur_b\n",
    "            if d_p != 0:\n",
    "                cur_b = abs(d_p)/d_p                \n",
    "            else :\n",
    "                if prev_b == 0 : # 예외처리\n",
    "                    cur_b = 1\n",
    "                else :\n",
    "                    cur_b = prev_b    \n",
    "                    \n",
    "            # v_t       \n",
    "            if cur_b ==1:\n",
    "                pos_v +=cur_v\n",
    "                num_pos+=1        \n",
    "                    \n",
    "            # step 2\n",
    "            theta += cur_b*cur_v\n",
    "            \n",
    "            if(cur_b==1):\n",
    "                num_p_1 +=1\n",
    "            # step 3\n",
    "            if(np.abs(theta) > e_0 * np.abs(2*v_plus - e_v)):    \n",
    "                tmp = data.iloc[i]                           \n",
    "                # reset \n",
    "                theta=0                \n",
    "                    #print(data.index[i])\n",
    "                    #print(tmp[0])\n",
    "                    #print(tmp[1])\n",
    "                tick.loc[data.index[i]] = [tmp[0]] \n",
    "            num_tick+=1\n",
    "        \n",
    "    # update        \n",
    "    weight = ewma_weight(20)\n",
    "            # print('previous e_0 : ' + str(e_0) + ' | pr : ' + str(pr) )\n",
    "    # pr 도 EWMA 로 ? \n",
    "    pr = num_p_1/num_tick    \n",
    "    \n",
    "    print('tick_size ' + str(tick.size))\n",
    "    e_0 = tick.size*weight + e_0*(1-weight)       \n",
    "               # print('current e_0 : ' + str(e_0) + ' | pr : ' + str(pr) )\n",
    "               # print('num_tick ' + str(num_tick))\n",
    "               #  display(tick.head())\n",
    "                \n",
    "    v_plus = pr*(pos_v/num_pos)*weight + v_plus*(1-weight)\n",
    "    e_v = (cum_v/num_tick)*weight + e_v*(1-weight)\n",
    "    return e_0,v_plus,e_v, tick"
   ]
  },
  {
   "cell_type": "code",
   "execution_count": 79,
   "metadata": {
    "scrolled": false
   },
   "outputs": [
    {
     "name": "stderr",
     "output_type": "stream",
     "text": [
      "100%|████████████████████████████████████████████████████████████████████████| 85362/85362 [00:00<00:00, 499408.13it/s]\n",
      "100%|██████████████████████████████████████████████████████████████████████████| 85362/85362 [00:30<00:00, 2818.57it/s]\n"
     ]
    },
    {
     "name": "stdout",
     "output_type": "stream",
     "text": [
      "tick_size 19\n"
     ]
    },
    {
     "name": "stderr",
     "output_type": "stream",
     "text": [
      "100%|████████████████████████████████████████████████████████████████████████| 91774/91774 [00:00<00:00, 540552.61it/s]\n",
      "100%|██████████████████████████████████████████████████████████████████████████| 91774/91774 [00:33<00:00, 2728.22it/s]\n"
     ]
    },
    {
     "name": "stdout",
     "output_type": "stream",
     "text": [
      "tick_size 19\n"
     ]
    },
    {
     "name": "stderr",
     "output_type": "stream",
     "text": [
      "100%|████████████████████████████████████████████████████████████████████████| 79212/79212 [00:00<00:00, 891465.02it/s]\n",
      "100%|██████████████████████████████████████████████████████████████████████████| 79212/79212 [00:28<00:00, 2779.45it/s]\n"
     ]
    },
    {
     "name": "stdout",
     "output_type": "stream",
     "text": [
      "tick_size 16\n"
     ]
    },
    {
     "name": "stderr",
     "output_type": "stream",
     "text": [
      "100%|████████████████████████████████████████████████████████████████████████| 79163/79163 [00:00<00:00, 809966.67it/s]\n",
      "100%|██████████████████████████████████████████████████████████████████████████| 79163/79163 [00:30<00:00, 2573.37it/s]\n"
     ]
    },
    {
     "name": "stdout",
     "output_type": "stream",
     "text": [
      "tick_size 17\n"
     ]
    },
    {
     "name": "stderr",
     "output_type": "stream",
     "text": [
      "100%|████████████████████████████████████████████████████████████████████████| 61535/61535 [00:00<00:00, 518496.15it/s]\n",
      "100%|██████████████████████████████████████████████████████████████████████████| 61535/61535 [00:20<00:00, 3011.41it/s]\n"
     ]
    },
    {
     "name": "stdout",
     "output_type": "stream",
     "text": [
      "tick_size 13\n"
     ]
    },
    {
     "name": "stderr",
     "output_type": "stream",
     "text": [
      "100%|████████████████████████████████████████████████████████████████████████| 86833/86833 [00:00<00:00, 555868.61it/s]\n",
      "100%|██████████████████████████████████████████████████████████████████████████| 86833/86833 [00:28<00:00, 3074.04it/s]\n"
     ]
    },
    {
     "name": "stdout",
     "output_type": "stream",
     "text": [
      "tick_size 18\n"
     ]
    },
    {
     "name": "stderr",
     "output_type": "stream",
     "text": [
      "100%|████████████████████████████████████████████████████████████████████████| 86260/86260 [00:00<00:00, 772241.74it/s]\n",
      "100%|██████████████████████████████████████████████████████████████████████████| 86260/86260 [00:29<00:00, 2941.38it/s]\n"
     ]
    },
    {
     "name": "stdout",
     "output_type": "stream",
     "text": [
      "tick_size 19\n"
     ]
    },
    {
     "name": "stderr",
     "output_type": "stream",
     "text": [
      "100%|████████████████████████████████████████████████████████████████████████| 91002/91002 [00:00<00:00, 994357.40it/s]\n",
      "100%|██████████████████████████████████████████████████████████████████████████| 91002/91002 [00:32<00:00, 2760.33it/s]\n"
     ]
    },
    {
     "name": "stdout",
     "output_type": "stream",
     "text": [
      "tick_size 21\n"
     ]
    },
    {
     "name": "stderr",
     "output_type": "stream",
     "text": [
      "100%|██████████████████████████████████████████████████████████████████████| 103764/103764 [00:00<00:00, 895565.08it/s]\n",
      "100%|████████████████████████████████████████████████████████████████████████| 103764/103764 [00:35<00:00, 2953.52it/s]\n"
     ]
    },
    {
     "name": "stdout",
     "output_type": "stream",
     "text": [
      "tick_size 22\n"
     ]
    },
    {
     "name": "stderr",
     "output_type": "stream",
     "text": [
      "100%|████████████████████████████████████████████████████████████████████████| 35592/35592 [00:00<00:00, 915059.17it/s]\n",
      "100%|██████████████████████████████████████████████████████████████████████████| 35592/35592 [00:10<00:00, 3253.97it/s]\n"
     ]
    },
    {
     "name": "stdout",
     "output_type": "stream",
     "text": [
      "tick_size 8\n"
     ]
    },
    {
     "name": "stderr",
     "output_type": "stream",
     "text": [
      "100%|████████████████████████████████████████████████████████████████████████| 81999/81999 [00:00<00:00, 652538.19it/s]\n",
      "100%|██████████████████████████████████████████████████████████████████████████| 81999/81999 [00:27<00:00, 2948.53it/s]\n"
     ]
    },
    {
     "name": "stdout",
     "output_type": "stream",
     "text": [
      "tick_size 18\n"
     ]
    },
    {
     "name": "stderr",
     "output_type": "stream",
     "text": [
      "100%|██████████████████████████████████████████████████████████████████████| 107998/107998 [00:00<00:00, 644412.80it/s]\n",
      "100%|████████████████████████████████████████████████████████████████████████| 107998/107998 [00:35<00:00, 3066.16it/s]\n"
     ]
    },
    {
     "name": "stdout",
     "output_type": "stream",
     "text": [
      "tick_size 25\n"
     ]
    },
    {
     "name": "stderr",
     "output_type": "stream",
     "text": [
      "100%|████████████████████████████████████████████████████████████████████████| 90889/90889 [00:00<00:00, 685205.43it/s]\n",
      "100%|██████████████████████████████████████████████████████████████████████████| 90889/90889 [00:29<00:00, 3130.95it/s]\n"
     ]
    },
    {
     "name": "stdout",
     "output_type": "stream",
     "text": [
      "tick_size 20\n"
     ]
    },
    {
     "name": "stderr",
     "output_type": "stream",
     "text": [
      "100%|██████████████████████████████████████████████████████████████████████| 113290/113290 [00:00<00:00, 604212.57it/s]\n",
      "100%|████████████████████████████████████████████████████████████████████████| 113290/113290 [00:40<00:00, 2783.06it/s]\n"
     ]
    },
    {
     "name": "stdout",
     "output_type": "stream",
     "text": [
      "tick_size 25\n"
     ]
    },
    {
     "name": "stderr",
     "output_type": "stream",
     "text": [
      "100%|████████████████████████████████████████████████████████████████████████| 95227/95227 [00:00<00:00, 672411.33it/s]\n",
      "100%|██████████████████████████████████████████████████████████████████████████| 95227/95227 [00:33<00:00, 2854.05it/s]\n"
     ]
    },
    {
     "name": "stdout",
     "output_type": "stream",
     "text": [
      "tick_size 22\n"
     ]
    },
    {
     "name": "stderr",
     "output_type": "stream",
     "text": [
      "100%|██████████████████████████████████████████████████████████████████████| 108219/108219 [00:00<00:00, 471777.62it/s]\n",
      "100%|████████████████████████████████████████████████████████████████████████| 108219/108219 [00:36<00:00, 2958.12it/s]\n"
     ]
    },
    {
     "name": "stdout",
     "output_type": "stream",
     "text": [
      "tick_size 24\n"
     ]
    },
    {
     "name": "stderr",
     "output_type": "stream",
     "text": [
      "100%|██████████████████████████████████████████████████████████████████████| 107360/107360 [00:00<00:00, 664323.63it/s]\n",
      "100%|████████████████████████████████████████████████████████████████████████| 107360/107360 [00:34<00:00, 3111.09it/s]\n"
     ]
    },
    {
     "name": "stdout",
     "output_type": "stream",
     "text": [
      "tick_size 24\n"
     ]
    },
    {
     "name": "stderr",
     "output_type": "stream",
     "text": [
      "100%|████████████████████████████████████████████████████████████████████████| 97447/97447 [00:00<00:00, 618769.07it/s]\n",
      "100%|██████████████████████████████████████████████████████████████████████████| 97447/97447 [00:32<00:00, 3009.11it/s]\n"
     ]
    },
    {
     "name": "stdout",
     "output_type": "stream",
     "text": [
      "tick_size 23\n"
     ]
    },
    {
     "name": "stderr",
     "output_type": "stream",
     "text": [
      "100%|████████████████████████████████████████████████████████████████████████| 88405/88405 [00:00<00:00, 714850.89it/s]\n",
      "100%|██████████████████████████████████████████████████████████████████████████| 88405/88405 [00:26<00:00, 3301.96it/s]\n"
     ]
    },
    {
     "name": "stdout",
     "output_type": "stream",
     "text": [
      "tick_size 21\n"
     ]
    },
    {
     "name": "stderr",
     "output_type": "stream",
     "text": [
      "100%|████████████████████████████████████████████████████████████████████████| 85867/85867 [00:00<00:00, 662285.72it/s]\n",
      "100%|██████████████████████████████████████████████████████████████████████████| 85867/85867 [00:25<00:00, 3327.21it/s]\n"
     ]
    },
    {
     "name": "stdout",
     "output_type": "stream",
     "text": [
      "tick_size 20\n"
     ]
    },
    {
     "name": "stderr",
     "output_type": "stream",
     "text": [
      "100%|██████████████████████████████████████████████████████████████████████| 103898/103898 [00:00<00:00, 694671.28it/s]\n",
      "100%|████████████████████████████████████████████████████████████████████████| 103898/103898 [00:32<00:00, 3196.36it/s]\n"
     ]
    },
    {
     "name": "stdout",
     "output_type": "stream",
     "text": [
      "tick_size 25\n"
     ]
    },
    {
     "name": "stderr",
     "output_type": "stream",
     "text": [
      "100%|████████████████████████████████████████████████████████████████████████| 94517/94517 [00:00<00:00, 634396.38it/s]\n",
      "100%|██████████████████████████████████████████████████████████████████████████| 94517/94517 [00:32<00:00, 2913.88it/s]\n"
     ]
    },
    {
     "name": "stdout",
     "output_type": "stream",
     "text": [
      "tick_size 21\n"
     ]
    },
    {
     "name": "stderr",
     "output_type": "stream",
     "text": [
      "100%|██████████████████████████████████████████████████████████████████████| 107800/107800 [00:00<00:00, 578020.29it/s]\n",
      "100%|████████████████████████████████████████████████████████████████████████| 107800/107800 [00:34<00:00, 3140.00it/s]\n"
     ]
    },
    {
     "name": "stdout",
     "output_type": "stream",
     "text": [
      "tick_size 21\n"
     ]
    },
    {
     "name": "stderr",
     "output_type": "stream",
     "text": [
      "100%|██████████████████████████████████████████████████████████████████████| 121309/121309 [00:00<00:00, 661654.25it/s]\n",
      "100%|████████████████████████████████████████████████████████████████████████| 121309/121309 [00:37<00:00, 3231.82it/s]\n"
     ]
    },
    {
     "name": "stdout",
     "output_type": "stream",
     "text": [
      "tick_size 23\n"
     ]
    },
    {
     "name": "stderr",
     "output_type": "stream",
     "text": [
      "100%|██████████████████████████████████████████████████████████████████████| 126948/126948 [00:00<00:00, 708355.12it/s]\n",
      "100%|████████████████████████████████████████████████████████████████████████| 126948/126948 [00:39<00:00, 3183.45it/s]\n"
     ]
    },
    {
     "name": "stdout",
     "output_type": "stream",
     "text": [
      "tick_size 24\n"
     ]
    },
    {
     "name": "stderr",
     "output_type": "stream",
     "text": [
      "100%|██████████████████████████████████████████████████████████████████████| 121261/121261 [00:00<00:00, 756386.31it/s]\n",
      "100%|████████████████████████████████████████████████████████████████████████| 121261/121261 [00:38<00:00, 3178.61it/s]\n"
     ]
    },
    {
     "name": "stdout",
     "output_type": "stream",
     "text": [
      "tick_size 26\n"
     ]
    },
    {
     "name": "stderr",
     "output_type": "stream",
     "text": [
      "100%|████████████████████████████████████████████████████████████████████████| 86284/86284 [00:00<00:00, 617950.25it/s]\n",
      "100%|██████████████████████████████████████████████████████████████████████████| 86284/86284 [00:27<00:00, 3134.08it/s]\n"
     ]
    },
    {
     "name": "stdout",
     "output_type": "stream",
     "text": [
      "tick_size 18\n"
     ]
    },
    {
     "name": "stderr",
     "output_type": "stream",
     "text": [
      "100%|██████████████████████████████████████████████████████████████████████| 104844/104844 [00:00<00:00, 705535.55it/s]\n",
      "100%|████████████████████████████████████████████████████████████████████████| 104844/104844 [00:31<00:00, 3315.95it/s]\n"
     ]
    },
    {
     "name": "stdout",
     "output_type": "stream",
     "text": [
      "tick_size 19\n"
     ]
    },
    {
     "name": "stderr",
     "output_type": "stream",
     "text": [
      "100%|████████████████████████████████████████████████████████████████████████| 74320/74320 [00:00<00:00, 703045.82it/s]\n",
      "100%|██████████████████████████████████████████████████████████████████████████| 74320/74320 [00:22<00:00, 3327.47it/s]\n"
     ]
    },
    {
     "name": "stdout",
     "output_type": "stream",
     "text": [
      "tick_size 14\n"
     ]
    },
    {
     "data": {
      "image/png": "[encoded data removed]",
      "text/plain": [
       "<Figure size 1080x360 with 1 Axes>"
      ]
     },
     "metadata": {},
     "output_type": "display_data"
    }
   ],
   "source": [
    "def check_volume(th_t,th_v):\n",
    "    \n",
    "    e_0,pr =  for_init(weekly[1],th_t)  \n",
    "    e_0_v,v_plus,e_v =  volume_init(weekly[1],th_v)  \n",
    "    \n",
    "    tick = pd.DataFrame(columns=['close']) \n",
    "    tick.index.names = ['timestamp']\n",
    "    volume = pd.DataFrame(columns=['close']) \n",
    "    volume.index.names = ['timestamp']\n",
    "    \n",
    "    for tmp in weekly[2:]:\n",
    "        e_0,pr,t_tick = for_procedure(tmp,e_0,pr,th_t)\n",
    "        tick = pd.concat([tick, t_tick])\n",
    "        \n",
    "        e_0_v,v_plus,e_v,t_volume = volume_procedure(tmp,e_0_v,v_plus,e_v,threshold)\n",
    "        volume = pd.concat([volume, t_volume]) \n",
    "    fig, ax1 = plt.subplots()\n",
    "\n",
    "    #plt.plot(data_day.index, data_day['close'],color='#ff0000')\n",
    "    plt.plot(data.index, data['close'],color='#ff0000')\n",
    "    # df_corr = data_day[data_day.columns[0]]\n",
    "    # print(df_corr.autocorr)\n",
    "\n",
    "    ''' ax2 = ax2.bar(tick_temp.index, tick_temp['dummy'],color='#5d8c70')'''\n",
    "    #ax2 = ax2.plot(tick.index, tick['close'],color='#5d8c70')\n",
    "    plt.plot(tick.index, tick['close'],color='#5d8c70')\n",
    "\n",
    "    plt.plot(volume.index, volume['close'],color='#c800ff')\n",
    "    fig.set_figwidth(15)\n",
    "    fig.set_figheight(5)\n",
    "    plt.show()\n",
    "    return tick, volume\n",
    "\n",
    "r_tick,r_volume = check_volume(5000,20000)"
   ]
  },
  {
   "cell_type": "code",
   "execution_count": 84,
   "metadata": {},
   "outputs": [
    {
     "data": {
      "image/png": "[encoded data removed]",
      "text/plain": [
       "<Figure size 432x288 with 1 Axes>"
      ]
     },
     "metadata": {},
     "output_type": "display_data"
    }
   ],
   "source": [
    "fig, ax = plt.subplots()\n",
    "#sns.distplot(r_tick['close'], bins=25, color=\"#5d8c70\", ax=ax)\n",
    "#sns.distplot(r_volume['close'], bins=25, color=\"#c800ff\", ax=ax)\n",
    "sns.kdeplot(r_tick['close'],  color=\"#5d8c70\")\n",
    "sns.kdeplot(r_volume['close'], color=\"#c800ff\")\n",
    "plt.show()"
   ]
  },
  {
   "cell_type": "markdown",
   "metadata": {},
   "source": [
    "### Dollar Bar"
   ]
  },
  {
   "cell_type": "markdown",
   "metadata": {},
   "source": [
    "### CUSUM Filter"
   ]
  },
  {
   "cell_type": "markdown",
   "metadata": {},
   "source": [
    "## Distribution\n",
    "\n",
    "https://stackoverflow.com/questions/37487830/how-to-find-probability-distribution-and-parameters-for-real-data-python-3/51742444"
   ]
  },
  {
   "cell_type": "code",
   "execution_count": 35,
   "metadata": {},
   "outputs": [
    {
     "data": {
      "image/png": "[encoded data removed]",
      "text/plain": [
       "<Figure size 432x288 with 1 Axes>"
      ]
     },
     "metadata": {},
     "output_type": "display_data"
    }
   ],
   "source": [
    "fig, ax = plt.subplots()\n",
    "sns.distplot(tick['close'], bins=25, color=\"g\", ax=ax)\n",
    "plt.show()"
   ]
  },
  {
   "cell_type": "markdown",
   "metadata": {},
   "source": [
    "## Jupyter 에서는 Mulitprocessing 이 안됨."
   ]
  },
  {
   "cell_type": "code",
   "execution_count": null,
   "metadata": {},
   "outputs": [],
   "source": [
    "output_tick = mp.Queue()\n",
    "output_volume = mp.Queue()\n",
    "output_dollar = mp.Queue()\n",
    "\n",
    "procs = []\n",
    "print('**** 1 *****')\n",
    "procs.append(mp.Process(target=TIB, args=(weekly,output_tick)) ) \n",
    "procs.append(mp.Process(target=VIB, args=(weekly,output_volume)) )\n",
    "procs.append(mp.Process(target=DIB, args=(weekly,output_dollar)) )  \n",
    "print('**** 2 *****')\n",
    "for proc in procs:\n",
    "    proc.start()\n",
    "display(procs)\n",
    "for proc in procs:\n",
    "    proc.join()\n",
    "print('**** 3 *****')\n",
    "tick = output_tick.get()\n",
    "volume = output_volume.get()\n",
    "dollar = output_dollar.get()\n",
    "print('**** 4 *****')\n",
    "output_tick.close()\n",
    "output_volume.close()\n",
    "output_dollar.close()\n",
    "print('**** 5 *****')\n",
    "fig, ax = plt.subplots()\n",
    "sns.kdeplot(tick['close'], color=\"#f200ff\")\n",
    "sns.kdeplot(volume['close'],  color=\"#ffa600\")\n",
    "sns.kdeplot(dollar['close'], color=\"#33ff8f\")\n",
    "plt.show()"
   ]
  },
  {
   "cell_type": "markdown",
   "metadata": {},
   "source": [
    "## ch_v2 로 작업공간 변경"
   ]
  },
  {
   "cell_type": "code",
   "execution_count": null,
   "metadata": {},
   "outputs": [],
   "source": []
  }
 ],
 "metadata": {
  "kernelspec": {
   "display_name": "Python 3",
   "language": "python",
   "name": "python3"
  },
  "language_info": {
   "codemirror_mode": {
    "name": "ipython",
    "version": 3
   },
   "file_extension": ".py",
   "mimetype": "text/x-python",
   "name": "python",
   "nbconvert_exporter": "python",
   "pygments_lexer": "ipython3",
   "version": "3.5.2"
  }
 },
 "nbformat": 4,
 "nbformat_minor": 2
}
