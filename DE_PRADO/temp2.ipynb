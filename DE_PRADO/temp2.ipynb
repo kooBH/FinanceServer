{
 "cells": [
  {
   "cell_type": "code",
   "execution_count": null,
   "metadata": {},
   "outputs": [
    {
     "name": "stderr",
     "output_type": "stream",
     "text": [
      " 27%|██████████████████████▋                                                            | 3/11 [00:06<00:24,  3.05s/it]\n",
      "  0%|                                                                                           | 0/10 [00:00<?, ?it/s]"
     ]
    }
   ],
   "source": [
    "import pandas as pd\n",
    "import numpy as np\n",
    "import os\n",
    "import matplotlib.pyplot as plt\n",
    "import seaborn as sns; sns.set()\n",
    "from bars import TIB,VIB,DIB,dollar_Bar\n",
    "\n",
    "from tqdm import tqdm\n",
    "\n",
    "path = 'MiniKospi/'\n",
    "list_file = os.listdir(path)\n",
    "list_file.sort()\n",
    "data = pd.DataFrame(columns=['close','volume']) \n",
    "data.index.names = ['timestamp']\n",
    "cnt=0\n",
    "for file in tqdm(list_file) :\n",
    "    tmp = pd.read_csv(path+file,index_col=0)\n",
    "    tmp = tmp.drop(columns=['date','time','sell','buy'])\n",
    "    tmp.index = pd.to_datetime(tmp.index)\n",
    "    tmp.index.names = ['timestamp']\n",
    "    data = data.append(tmp)\n",
    "    cnt+=1\n",
    "    if cnt > 3: break;\n",
    "weekly = [g for n, g in data.groupby(pd.Grouper(level='timestamp', freq='W'))]\n",
    "\n",
    "\n",
    "dollar_bar = pd.DataFrame(columns=['close']) \n",
    "dollar_bar.index.names = ['timestamp']\n",
    "\n",
    "for tmp in tqdm(weekly[1:]):\n",
    "    t_dollar = dollar_Bar(tmp,6000000)\n",
    "    dollar_bar = pd.concat([dollar_bar, t_dollar])\n",
    "    \n",
    "dollar_bar['return'] = dollar_bar['close'].pct_change()\n",
    "\n",
    "display(dollar_bar['return'].autocorr(lag=1))"
   ]
  },
  {
   "cell_type": "code",
   "execution_count": null,
   "metadata": {},
   "outputs": [],
   "source": []
  }
 ],
 "metadata": {
  "kernelspec": {
   "display_name": "Python 3",
   "language": "python",
   "name": "python3"
  },
  "language_info": {
   "codemirror_mode": {
    "name": "ipython",
    "version": 3
   },
   "file_extension": ".py",
   "mimetype": "text/x-python",
   "name": "python",
   "nbconvert_exporter": "python",
   "pygments_lexer": "ipython3",
   "version": "3.7.3"
  }
 },
 "nbformat": 4,
 "nbformat_minor": 2
}
