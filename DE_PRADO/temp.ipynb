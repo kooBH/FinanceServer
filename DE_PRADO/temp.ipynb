{
 "cells": [
  {
   "cell_type": "markdown",
   "metadata": {},
   "source": [
    "2-b \n",
    "\n",
    "bar 갯수를 맞춘 상태에서 dollar bar가 stable.\n",
    "\n",
    "tick bar의 수에 volume 의 수를 맞추는게 의미가 있는가?\n",
    "만번의 거래가 1 volume씩만 한거랑 만번의 volume이랑 같은가?\n",
    "\n",
    "std 는 cnt가 커질 수 록 클 수밖에 없다. std를 맞추려고 bar 갯수를 맞췄을 때는  \n",
    "dollar가 stable"
   ]
  },
  {
   "cell_type": "code",
   "execution_count": 1,
   "metadata": {},
   "outputs": [],
   "source": [
    "import pandas as pd\n",
    "import numpy as np\n",
    "import os\n",
    "import matplotlib.pyplot as plt\n",
    "import seaborn as sns; sns.set()\n",
    "from bars import TIB,VIB,DIB,dollar_Bar\n",
    "\n",
    "from tqdm import tqdm\n"
   ]
  },
  {
   "cell_type": "code",
   "execution_count": 2,
   "metadata": {},
   "outputs": [
    {
     "name": "stderr",
     "output_type": "stream",
     "text": [
      "100%|██████████████████████████████████████████████████████████████████████████████████| 11/11 [00:15<00:00,  1.38s/it]\n"
     ]
    }
   ],
   "source": [
    "path = 'MiniKospi/'\n",
    "list_file = os.listdir(path)\n",
    "list_file.sort()\n",
    "data = pd.DataFrame(columns=['close','volume']) \n",
    "data.index.names = ['timestamp']\n",
    "cnt=0\n",
    "for file in tqdm(list_file) :\n",
    "    tmp = pd.read_csv(path+file,index_col=0)\n",
    "    tmp = tmp.drop(columns=['date','time','sell','buy'])\n",
    "    tmp.index = pd.to_datetime(tmp.index)\n",
    "    tmp.index.names = ['timestamp']\n",
    "    data = data.append(tmp)\n",
    "    cnt+=1\n",
    "    #if cnt > 3: break;\n",
    "weekly = [g for n, g in data.groupby(pd.Grouper(level='timestamp', freq='W'))]"
   ]
  },
  {
   "cell_type": "code",
   "execution_count": null,
   "metadata": {},
   "outputs": [],
   "source": [
    "\n",
    "dollar_bar = pd.DataFrame(columns=['close']) \n",
    "dollar_bar.index.names = ['timestamp']\n",
    "\n",
    "for tmp in tqdm(weekly[1:]):\n",
    "    t_dollar = dollar_Bar(tmp,6000000)\n",
    "    dollar_bar = pd.concat([dollar_bar, t_dollar])"
   ]
  },
  {
   "cell_type": "code",
   "execution_count": null,
   "metadata": {},
   "outputs": [],
   "source": [
    "dollar_bar['return'] = dollar_bar['close'].pct_change()"
   ]
  },
  {
   "cell_type": "code",
   "execution_count": null,
   "metadata": {},
   "outputs": [],
   "source": [
    "display(dollar_bar['return'].autocorr(lag=1))"
   ]
  }
 ],
 "metadata": {
  "kernelspec": {
   "display_name": "Python 3",
   "language": "python",
   "name": "python3"
  }
 },
 "nbformat": 4,
 "nbformat_minor": 2
}
