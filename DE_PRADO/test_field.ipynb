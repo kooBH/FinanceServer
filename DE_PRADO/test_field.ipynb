{
 "cells": [
  {
   "cell_type": "code",
   "execution_count": 27,
   "metadata": {},
   "outputs": [],
   "source": [
    "from alpha_vantage.timeseries import TimeSeries\n",
    "import pandas as pd\n",
    "import os\n",
    "import matplotlib.pyplot as plt"
   ]
  },
  {
   "cell_type": "code",
   "execution_count": 17,
   "metadata": {},
   "outputs": [],
   "source": [
    "symbol = 'ES=F'\n",
    "f = open(\"ALPHA_KEY\", 'r')\n",
    "key = f.readline()\n",
    "f.close()\n",
    "# AlphaVantage에서 데이터를 받아온다.\n",
    "ts  = TimeSeries(key=key, output_format='pandas')\n",
    "tmp, meta_tmp = ts.get_intraday(symbol=symbol,interval='1min', outputsize='full')\n",
    "tmp.index = pd.to_datetime(tmp.index)"
   ]
  },
  {
   "cell_type": "code",
   "execution_count": 18,
   "metadata": {},
   "outputs": [
    {
     "data": {
      "text/html": [
       "<div>\n",
       "<style scoped>\n",
       "    .dataframe tbody tr th:only-of-type {\n",
       "        vertical-align: middle;\n",
       "    }\n",
       "\n",
       "    .dataframe tbody tr th {\n",
       "        vertical-align: top;\n",
       "    }\n",
       "\n",
       "    .dataframe thead th {\n",
       "        text-align: right;\n",
       "    }\n",
       "</style>\n",
       "<table border=\"1\" class=\"dataframe\">\n",
       "  <thead>\n",
       "    <tr style=\"text-align: right;\">\n",
       "      <th></th>\n",
       "      <th>1. open</th>\n",
       "      <th>2. high</th>\n",
       "      <th>4. close</th>\n",
       "      <th>5. volume</th>\n",
       "      <th>3. low</th>\n",
       "    </tr>\n",
       "    <tr>\n",
       "      <th>date</th>\n",
       "      <th></th>\n",
       "      <th></th>\n",
       "      <th></th>\n",
       "      <th></th>\n",
       "      <th></th>\n",
       "    </tr>\n",
       "  </thead>\n",
       "  <tbody>\n",
       "    <tr>\n",
       "      <th>2019-06-27 00:00:00</th>\n",
       "      <td>2927.5</td>\n",
       "      <td>2927.5</td>\n",
       "      <td>2927.5</td>\n",
       "      <td>0.0</td>\n",
       "      <td>2927.5</td>\n",
       "    </tr>\n",
       "    <tr>\n",
       "      <th>2019-06-27 00:01:00</th>\n",
       "      <td>2927.5</td>\n",
       "      <td>2927.5</td>\n",
       "      <td>2927.5</td>\n",
       "      <td>125.0</td>\n",
       "      <td>2927.5</td>\n",
       "    </tr>\n",
       "    <tr>\n",
       "      <th>2019-06-27 00:02:00</th>\n",
       "      <td>2927.5</td>\n",
       "      <td>2927.5</td>\n",
       "      <td>2927.5</td>\n",
       "      <td>79.0</td>\n",
       "      <td>2927.5</td>\n",
       "    </tr>\n",
       "    <tr>\n",
       "      <th>2019-06-27 00:03:00</th>\n",
       "      <td>2927.5</td>\n",
       "      <td>2927.5</td>\n",
       "      <td>2927.5</td>\n",
       "      <td>84.0</td>\n",
       "      <td>2927.5</td>\n",
       "    </tr>\n",
       "    <tr>\n",
       "      <th>2019-06-27 00:04:00</th>\n",
       "      <td>2927.5</td>\n",
       "      <td>2927.5</td>\n",
       "      <td>2927.5</td>\n",
       "      <td>89.0</td>\n",
       "      <td>2927.5</td>\n",
       "    </tr>\n",
       "  </tbody>\n",
       "</table>\n",
       "</div>"
      ],
      "text/plain": [
       "                     1. open  2. high  4. close  5. volume  3. low\n",
       "date                                                              \n",
       "2019-06-27 00:00:00   2927.5   2927.5    2927.5        0.0  2927.5\n",
       "2019-06-27 00:01:00   2927.5   2927.5    2927.5      125.0  2927.5\n",
       "2019-06-27 00:02:00   2927.5   2927.5    2927.5       79.0  2927.5\n",
       "2019-06-27 00:03:00   2927.5   2927.5    2927.5       84.0  2927.5\n",
       "2019-06-27 00:04:00   2927.5   2927.5    2927.5       89.0  2927.5"
      ]
     },
     "metadata": {},
     "output_type": "display_data"
    },
    {
     "data": {
      "text/html": [
       "<div>\n",
       "<style scoped>\n",
       "    .dataframe tbody tr th:only-of-type {\n",
       "        vertical-align: middle;\n",
       "    }\n",
       "\n",
       "    .dataframe tbody tr th {\n",
       "        vertical-align: top;\n",
       "    }\n",
       "\n",
       "    .dataframe thead th {\n",
       "        text-align: right;\n",
       "    }\n",
       "</style>\n",
       "<table border=\"1\" class=\"dataframe\">\n",
       "  <thead>\n",
       "    <tr style=\"text-align: right;\">\n",
       "      <th></th>\n",
       "      <th>1. open</th>\n",
       "      <th>2. high</th>\n",
       "      <th>4. close</th>\n",
       "      <th>5. volume</th>\n",
       "      <th>3. low</th>\n",
       "    </tr>\n",
       "    <tr>\n",
       "      <th>date</th>\n",
       "      <th></th>\n",
       "      <th></th>\n",
       "      <th></th>\n",
       "      <th></th>\n",
       "      <th></th>\n",
       "    </tr>\n",
       "  </thead>\n",
       "  <tbody>\n",
       "    <tr>\n",
       "      <th>2019-07-02 03:56:00</th>\n",
       "      <td>2965.75</td>\n",
       "      <td>2966.00</td>\n",
       "      <td>2965.75</td>\n",
       "      <td>161.0</td>\n",
       "      <td>2965.50</td>\n",
       "    </tr>\n",
       "    <tr>\n",
       "      <th>2019-07-02 03:57:00</th>\n",
       "      <td>2965.75</td>\n",
       "      <td>2965.75</td>\n",
       "      <td>2965.25</td>\n",
       "      <td>408.0</td>\n",
       "      <td>2965.00</td>\n",
       "    </tr>\n",
       "    <tr>\n",
       "      <th>2019-07-02 03:58:00</th>\n",
       "      <td>2965.00</td>\n",
       "      <td>2965.25</td>\n",
       "      <td>2965.25</td>\n",
       "      <td>434.0</td>\n",
       "      <td>2965.00</td>\n",
       "    </tr>\n",
       "    <tr>\n",
       "      <th>2019-07-02 03:59:00</th>\n",
       "      <td>2965.25</td>\n",
       "      <td>2965.50</td>\n",
       "      <td>2965.25</td>\n",
       "      <td>226.0</td>\n",
       "      <td>2965.25</td>\n",
       "    </tr>\n",
       "    <tr>\n",
       "      <th>2019-07-02 04:00:00</th>\n",
       "      <td>2965.25</td>\n",
       "      <td>2965.50</td>\n",
       "      <td>2965.25</td>\n",
       "      <td>477.0</td>\n",
       "      <td>2965.00</td>\n",
       "    </tr>\n",
       "  </tbody>\n",
       "</table>\n",
       "</div>"
      ],
      "text/plain": [
       "                     1. open  2. high  4. close  5. volume   3. low\n",
       "date                                                               \n",
       "2019-07-02 03:56:00  2965.75  2966.00   2965.75      161.0  2965.50\n",
       "2019-07-02 03:57:00  2965.75  2965.75   2965.25      408.0  2965.00\n",
       "2019-07-02 03:58:00  2965.00  2965.25   2965.25      434.0  2965.00\n",
       "2019-07-02 03:59:00  2965.25  2965.50   2965.25      226.0  2965.25\n",
       "2019-07-02 04:00:00  2965.25  2965.50   2965.25      477.0  2965.00"
      ]
     },
     "metadata": {},
     "output_type": "display_data"
    }
   ],
   "source": [
    "display(tmp.head())\n",
    "display(tmp.tail())"
   ]
  },
  {
   "cell_type": "code",
   "execution_count": 19,
   "metadata": {},
   "outputs": [],
   "source": [
    "data = tmp.copy()"
   ]
  },
  {
   "cell_type": "code",
   "execution_count": 41,
   "metadata": {
    "scrolled": true
   },
   "outputs": [
    {
     "data": {
      "text/plain": [
       "<matplotlib.axes._subplots.AxesSubplot at 0x7f19b248d160>"
      ]
     },
     "execution_count": 41,
     "metadata": {},
     "output_type": "execute_result"
    },
    {
     "data": {
      "image/png": "[encoded data removed]",
      "text/plain": [
       "<Figure size 432x288 with 1 Axes>"
      ]
     },
     "metadata": {
      "needs_background": "light"
     },
     "output_type": "display_data"
    }
   ],
   "source": [
    "data['4. close'].plot()"
   ]
  },
  {
   "cell_type": "markdown",
   "metadata": {},
   "source": [
    "### Every 1,000 Volume"
   ]
  },
  {
   "cell_type": "code",
   "execution_count": 45,
   "metadata": {},
   "outputs": [
    {
     "name": "stdout",
     "output_type": "stream",
     "text": [
      "3660\n"
     ]
    },
    {
     "data": {
      "text/plain": [
       "[<matplotlib.lines.Line2D at 0x7f19b22dd828>]"
      ]
     },
     "metadata": {},
     "output_type": "display_data"
    },
    {
     "data": {
      "image/png": "[encoded data removed]",
      "text/plain": [
       "<Figure size 432x288 with 1 Axes>"
      ]
     },
     "metadata": {
      "needs_background": "light"
     },
     "output_type": "display_data"
    }
   ],
   "source": [
    "threshold = 1000\n",
    "\n",
    "num_volume=0\n",
    "num_buy = 0\n",
    "c_tick = 0 # current tick counter\n",
    "prev_p =0\n",
    "cur_p =0\n",
    "d_P_t =0\n",
    "b_t=[1]\n",
    "\n",
    "for i in data.index:\n",
    "        c_tick += data.loc[i]['5. volume']\n",
    "        if(c_tick > size_tick):\n",
    "            prev_p = cur_p\n",
    "            cur_p = data.loc[i]['4. close']\n",
    "            d_p = cur_p - prev_p\n",
    "            if d_p != 0:\n",
    "                b_t.append(abs(d_p)/d_p )\n",
    "            else :\n",
    "                b_t.append(b_t[-1])\n",
    "            if(b_t[-1]==1):\n",
    "                num_buy+=1\n",
    "            \n",
    "            num_tick+=1\n",
    "            c_tick -=threshold;\n",
    "            ## c_volume >= 2*threshold 예외 \n",
    "            while(c_tick > threshold):\n",
    "                num_tick+=1\n",
    "                b_t.append(b_t[-1])\n",
    "                c_tick -=threshold;\n",
    "sum_b = 0            \n",
    "e_t = []\n",
    "for i in b_t : \n",
    "    sum_b += i\n",
    "    e_t.append(sum_b)    \n",
    "print(num_tick)\n",
    "display(plt.plot(e_t))\n",
    "\n"
   ]
  },
  {
   "cell_type": "markdown",
   "metadata": {},
   "source": [
    "### Dollar Bars"
   ]
  },
  {
   "cell_type": "code",
   "execution_count": null,
   "metadata": {},
   "outputs": [],
   "source": [
    "threshold_dollar = 1000\n",
    "\n",
    "num_volume=0\n",
    "num_buy = 0\n",
    "c_tick = 0 # current tick counter\n",
    "prev_p =0\n",
    "cur_p =0\n",
    "d_P_t =0\n",
    "b_t=[1]\n",
    "\n",
    "for i in data.index:\n",
    "        c_tick += data.loc[i]['5. volume']\n",
    "        if(c_tick > size_tick):\n",
    "            prev_p = cur_p\n",
    "            cur_p = data.loc[i]['4. close']\n",
    "            d_p = cur_p - prev_p\n",
    "            if d_p != 0:\n",
    "                b_t.append(abs(d_p)/d_p )\n",
    "            else :\n",
    "                b_t.append(b_t[-1])\n",
    "            if(b_t[-1]==1):\n",
    "                num_buy+=1\n",
    "            \n",
    "            num_tick+=1\n",
    "            c_tick -=threshold_dollar;\n",
    "sum_b = 0            \n",
    "e_t = []\n",
    "for i in b_t : \n",
    "    sum_b += i\n",
    "    e_t.append(sum_b)    \n",
    "print(num_tick)\n",
    "display(plt.plot(e_t))\n",
    "\n"
   ]
  }
 ],
 "metadata": {
  "kernelspec": {
   "display_name": "Python 3",
   "language": "python",
   "name": "python3"
  },
  "language_info": {
   "codemirror_mode": {
    "name": "ipython",
    "version": 3
   },
   "file_extension": ".py",
   "mimetype": "text/x-python",
   "name": "python",
   "nbconvert_exporter": "python",
   "pygments_lexer": "ipython3",
   "version": "3.5.2"
  }
 },
 "nbformat": 4,
 "nbformat_minor": 2
}
