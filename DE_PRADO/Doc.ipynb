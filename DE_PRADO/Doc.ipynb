{
 "cells": [
  {
   "cell_type": "markdown",
   "metadata": {},
   "source": [
    "http://tug.ctan.org/info/undergradmath/undergradmath.pdf"
   ]
  },
  {
   "cell_type": "markdown",
   "metadata": {},
   "source": [
    "### Tick Data"
   ]
  },
  {
   "cell_type": "markdown",
   "metadata": {},
   "source": [
    "## E-Mini S&P 500\n",
    "S&P500 선물거래의 1/5규모로, 미국의 스탠더드 앤 푸어사가 기업규모 유동성 산업대표성을 감안하여 선정한 보통주 500종목을 대상으로 작성해 발표하는 주가지수로 미국에서 가장 많이 활용되는 대표적인 지수입니다. 공업주(400종목) 운수주(20종목) 공공주(40종목) 금융주(40종목)의 그룹별 지수가 있으며, 이를 종합한 것이 S&P500지수입니다."
   ]
  },
  {
   "cell_type": "markdown",
   "metadata": {},
   "source": [
    "## 2.3.2.1 Tick Imblanace Bars"
   ]
  },
  {
   "cell_type": "markdown",
   "metadata": {},
   "source": [
    "### Tick Rule\n",
    "+ $P_t$ is the price associated with tick $t$\n",
    "\n",
    "$\n",
    " b_t  = \n",
    " \\begin{cases}\n",
    " \\Delta b_{t-1}  &\\text{if  \\( \\Delta P_t = 0\\)}\\\\\n",
    " \\frac{|\\Delta P_t|}{\\Delta P_t} &\\text{if \\( \\Delta P_t \\neq 0 \\)}\n",
    " \\end{cases}\n",
    " $\n",
    "\n",
    "$\n",
    " b_t \\in \\{-1,1\\}\n",
    "$\n",
    "\n"
   ]
  },
  {
   "cell_type": "markdown",
   "metadata": {},
   "source": [
    "## 2.3.2.2 Volume/Dollar Imblanace Bars"
   ]
  },
  {
   "cell_type": "code",
   "execution_count": 3,
   "metadata": {},
   "outputs": [],
   "source": [
    "def test(a):\n",
    "    a=a+1\n",
    "    return a"
   ]
  },
  {
   "cell_type": "code",
   "execution_count": 4,
   "metadata": {},
   "outputs": [
    {
     "name": "stdout",
     "output_type": "stream",
     "text": [
      "4\n"
     ]
    }
   ],
   "source": [
    "print(test(3))"
   ]
  },
  {
   "cell_type": "code",
   "execution_count": null,
   "metadata": {},
   "outputs": [],
   "source": []
  },
  {
   "cell_type": "code",
   "execution_count": null,
   "metadata": {},
   "outputs": [],
   "source": []
  }
 ],
 "metadata": {
  "kernelspec": {
   "display_name": "Python 3",
   "language": "python",
   "name": "python3"
  },
  "language_info": {
   "codemirror_mode": {
    "name": "ipython",
    "version": 3
   },
   "file_extension": ".py",
   "mimetype": "text/x-python",
   "name": "python",
   "nbconvert_exporter": "python",
   "pygments_lexer": "ipython3",
   "version": "3.7.1"
  }
 },
 "nbformat": 4,
 "nbformat_minor": 4
}
