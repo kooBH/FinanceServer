{
 "cells": [
  {
   "cell_type": "code",
   "execution_count": 7,
   "metadata": {},
   "outputs": [],
   "source": [
    "import dollarBar as db\n",
    "import sys,os\n",
    "import pandas as pd\n",
    "import numpy as np\n",
    "from tqdm import tqdm"
   ]
  },
  {
   "cell_type": "code",
   "execution_count": 8,
   "metadata": {},
   "outputs": [
    {
     "name": "stderr",
     "output_type": "stream",
     "text": [
      "100%|███████████████████████████████████████████████████████████████████████████████| 136/136 [00:01<00:00, 113.35it/s]\n"
     ]
    }
   ],
   "source": [
    "path = '../Kiwoom/KODEX_KOSDAC_150_LEV/'\n",
    "list_file = os.listdir(path)\n",
    "list_file = [elem[:-4] for elem in list_file]\n",
    "list_file=list(map(int,list_file))\n",
    "list_file.sort()\n",
    "list_file = [str(elem) + '.csv' for elem in list_file]\n",
    "\n",
    "data = pd.DataFrame(columns=['close','volume']) \n",
    "data.index.names = ['date']\n",
    "for file in tqdm(list_file) :\n",
    "   # display((path))\n",
    "    tmp = pd.read_csv(path+file,index_col='date')\n",
    "    #tmp = tmp.drop(columns=['close','volume','sell','buy'])\n",
    "    tmp.index = pd.to_datetime(tmp.index)\n",
    "    tmp.index.names = ['date']\n",
    "    data = data.append(tmp)\n",
    "data = data.reindex(index=data.index[::-1])\n",
    "data.to_csv(path + 'KODEX_KOSDAC_150_LEV.csv')"
   ]
  },
  {
   "cell_type": "code",
   "execution_count": null,
   "metadata": {},
   "outputs": [],
   "source": []
  }
 ],
 "metadata": {
  "kernelspec": {
   "display_name": "Python 3",
   "language": "python",
   "name": "python3"
  },
  "language_info": {
   "codemirror_mode": {
    "name": "ipython",
    "version": 3
   },
   "file_extension": ".py",
   "mimetype": "text/x-python",
   "name": "python",
   "nbconvert_exporter": "python",
   "pygments_lexer": "ipython3",
   "version": "3.7.1"
  }
 },
 "nbformat": 4,
 "nbformat_minor": 4
}
