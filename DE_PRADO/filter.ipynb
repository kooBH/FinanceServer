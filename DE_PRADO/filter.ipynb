{
 "cells": [
  {
   "cell_type": "markdown",
   "metadata": {},
   "source": [
    "### Bollinger Band\n",
    "\n",
    "https://www.investopedia.com/terms/b/bollingerbands.asp\n",
    "\n",
    "BOLU=MA(TP,n)+m∗σ[TP,n]   \n",
    "BOLD=MA(TP,n)−m∗σ[TP,n]  \n",
    "where:  \n",
    "BOLU=Upper Bollinger Band  \n",
    "BOLD=Lower Bollinger Band  \n",
    "MA=Moving average  \n",
    "TP (typical price)=(High+Low+Close)÷3  \n",
    "n=Number of days in smoothing period (typically 20)  \n",
    "m=Number of standard deviations (typically 2)  \n",
    "σ[TP,n]=Standard Deviation over last n periods of TP  \n",
    "​\t   "
   ]
  },
  {
   "cell_type": "markdown",
   "metadata": {},
   "source": [
    "### CUSUM filter"
   ]
  },
  {
   "cell_type": "code",
   "execution_count": null,
   "metadata": {},
   "outputs": [],
   "source": []
  }
 ],
 "metadata": {
  "kernelspec": {
   "display_name": "Python 3",
   "language": "python",
   "name": "python3"
  },
  "language_info": {
   "codemirror_mode": {
    "name": "ipython",
    "version": 3
   },
   "file_extension": ".py",
   "mimetype": "text/x-python",
   "name": "python",
   "nbconvert_exporter": "python",
   "pygments_lexer": "ipython3",
   "version": "3.7.1"
  }
 },
 "nbformat": 4,
 "nbformat_minor": 4
}
