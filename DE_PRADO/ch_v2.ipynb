{
 "cells": [
  {
   "cell_type": "markdown",
   "metadata": {},
   "source": [
    "# Note\n",
    "\n",
    "\n",
    "\n",
    "### 1. 일간 vs 주간\n",
    "\n",
    "### 2. 초깃값 설정\n",
    "지금은 $ E[\\theta_t] + \\sigma[\\theta_t]$\n",
    "\n",
    "### 3. EWMA\n",
    "   $\\text{weight} = \\frac{2}{ \\text{window} + 2 }$\n",
    "   \n",
    "### 4. threshold\n",
    "\n",
    "+ Volume bar 에서 $P[b_t = 1]$ 도 EWMA 를 적용해야하는가?\n",
    "+ Jupyter에서 Multi Processing이 아예 안되는가?"
   ]
  },
  {
   "cell_type": "markdown",
   "metadata": {},
   "source": [
    "### TODO\n",
    "1. $b_t$ 는 batch 연산 가능\n",
    "2. 데이터를 다 numpy 데이터로 변환해서 처리 후 Dataframe으로\n",
    "\n"
   ]
  },
  {
   "cell_type": "code",
   "execution_count": 1,
   "metadata": {},
   "outputs": [],
   "source": [
    "import pandas as pd\n",
    "import numpy as np\n",
    "import os\n",
    "import matplotlib.pyplot as plt\n",
    "import seaborn as sns; sns.set()\n",
    "from bars import TIB,VIB,DIB\n",
    "\n",
    "from tqdm import tqdm\n",
    "\n",
    "import multiprocessing as mp"
   ]
  },
  {
   "cell_type": "code",
   "execution_count": 2,
   "metadata": {
    "scrolled": true
   },
   "outputs": [
    {
     "name": "stderr",
     "output_type": "stream",
     "text": [
      "  9%|███████▌                                                                           | 1/11 [00:04<00:47,  4.71s/it]\n"
     ]
    }
   ],
   "source": [
    "path = 'MiniKospi/'\n",
    "list_file = os.listdir(path)\n",
    "list_file.sort()\n",
    "data = pd.DataFrame(columns=['close','volume']) \n",
    "data.index.names = ['timestamp']\n",
    "cnt=0\n",
    "for file in tqdm(list_file) :\n",
    "    tmp = pd.read_csv(path+file,index_col=0)\n",
    "    tmp = tmp.drop(columns=['date','time','sell','buy'])\n",
    "    tmp.index = pd.to_datetime(tmp.index)\n",
    "    tmp.index.names = ['timestamp']\n",
    "    data = data.append(tmp)\n",
    "    cnt+=1\n",
    "    if cnt > 1: break;\n",
    "weekly = [g for n, g in data.groupby(pd.Grouper(level='timestamp', freq='D'))]\n"
   ]
  },
  {
   "cell_type": "markdown",
   "metadata": {},
   "source": [
    "```python\n",
    "def TIB(weekly_data,threshold=5000,index='timestamp',column='close'): \n",
    "def VIB(weekly_data,threshold=20000,index='timestamp',col_price='close',col_volume='volume'):\n",
    "def DIB(weekly_data,threshold=200000,index='timestamp',col_price='close',col_volume='volume'):        \n",
    "```"
   ]
  },
  {
   "cell_type": "code",
   "execution_count": 3,
   "metadata": {},
   "outputs": [
    {
     "name": "stdout",
     "output_type": "stream",
     "text": [
      "TIB start\n",
      "3203.60898541634\n",
      "1891.8271904361247\n",
      "3203.60898541634 0.7578014740473576\n",
      "3202.971578137109 0.7577491412111247\n",
      "3202.4693481758172 0.757706045669295\n",
      "VIB start\n",
      "19294.080736394408 3.36192567037792 4.653442057393759\n",
      "19290.32047361359 0.000559304332623081 0.0010922409519647173\n",
      "19287.3578204621 0.00034273995377473443 0.0007296655519237568\n",
      "DIB start\n",
      "1030012.2730892131 147.8848988552611 147.8848988552611\n"
     ]
    },
    {
     "name": "stderr",
     "output_type": "stream",
     "text": [
      "\r",
      "  0%|                                                                                            | 0/2 [00:00<?, ?it/s]"
     ]
    },
    {
     "name": "stdout",
     "output_type": "stream",
     "text": [
      "1029807.4148971938 0.29294899841279215 0.29294899841279215\n"
     ]
    },
    {
     "name": "stderr",
     "output_type": "stream",
     "text": [
      "\r",
      " 50%|██████████████████████████████████████████                                          | 1/2 [00:14<00:14, 14.94s/it]"
     ]
    },
    {
     "name": "stdout",
     "output_type": "stream",
     "text": [
      "1029646.0018960339 0.19473716947685724 0.19473716947685724\n"
     ]
    },
    {
     "name": "stderr",
     "output_type": "stream",
     "text": [
      "100%|████████████████████████████████████████████████████████████████████████████████████| 2/2 [00:33<00:00, 16.08s/it]\n"
     ]
    }
   ],
   "source": [
    "tick = TIB(weekly)\n",
    "volume = VIB(weekly)\n",
    "dollar = DIB(weekly)"
   ]
  },
  {
   "cell_type": "code",
   "execution_count": 4,
   "metadata": {},
   "outputs": [],
   "source": [
    "#tick.to_csv('tick_t5K_full.csv')\n",
    "#volume.to_csv('volume_t20K_full.csv')'''\n",
    "#dollar.to_csv('dib_t6M_d35.csv')"
   ]
  },
  {
   "cell_type": "code",
   "execution_count": 5,
   "metadata": {},
   "outputs": [],
   "source": [
    "#tick = pd.read_csv('tick_t5K_full.csv',index_col = 'timestamp')\n",
    "#volume = pd.read_csv('volume_t20K_full.csv',index_col = 'timestamp')\n",
    "#dollar = pd.read_csv('dollar_t6M_full.csv',index_col = 'timestamp')"
   ]
  },
  {
   "cell_type": "code",
   "execution_count": 6,
   "metadata": {},
   "outputs": [
    {
     "name": "stdout",
     "output_type": "stream",
     "text": [
      "size of tick 0\n",
      "size of volume 791\n",
      "size of dollar 791\n"
     ]
    }
   ],
   "source": [
    "print('size of tick ' + str(tick.index.size))\n",
    "print('size of volume ' + str(volume.index.size))\n",
    "print('size of dollar ' + str(dollar.index.size))"
   ]
  },
  {
   "cell_type": "markdown",
   "metadata": {},
   "source": [
    "### Time bar"
   ]
  },
  {
   "cell_type": "code",
   "execution_count": 7,
   "metadata": {},
   "outputs": [
    {
     "data": {
      "text/plain": [
       "871"
      ]
     },
     "metadata": {},
     "output_type": "display_data"
    }
   ],
   "source": [
    "logic_time = {\n",
    "    'close'  : 'last'\n",
    "    }\n",
    "time_bar = data.resample('H').apply(logic_time)\n",
    "display(time_bar.index.size)"
   ]
  },
  {
   "cell_type": "markdown",
   "metadata": {},
   "source": [
    "### close dist"
   ]
  },
  {
   "cell_type": "code",
   "execution_count": 8,
   "metadata": {
    "scrolled": false
   },
   "outputs": [
    {
     "name": "stderr",
     "output_type": "stream",
     "text": [
      "C:\\Python37\\lib\\site-packages\\statsmodels\\nonparametric\\kde.py:448: RuntimeWarning: invalid value encountered in greater\n",
      "  X = X[np.logical_and(X > clip[0], X < clip[1])] # won't work for two columns.\n",
      "C:\\Python37\\lib\\site-packages\\statsmodels\\nonparametric\\kde.py:448: RuntimeWarning: invalid value encountered in less\n",
      "  X = X[np.logical_and(X > clip[0], X < clip[1])] # won't work for two columns.\n"
     ]
    },
    {
     "data": {
      "image/png": "[encoded data removed]",
      "text/plain": [
       "<Figure size 432x288 with 1 Axes>"
      ]
     },
     "metadata": {
      "needs_background": "light"
     },
     "output_type": "display_data"
    }
   ],
   "source": [
    "fig, ax = plt.subplots()\n",
    "sns.kdeplot(tick['close'], color=\"green\")\n",
    "sns.kdeplot(volume['close'],  color=\"red\")\n",
    "sns.kdeplot(dollar['close'], color=\"blue\")\n",
    "sns.kdeplot(time_bar['close'], color=\"black\")\n",
    "plt.show()"
   ]
  },
  {
   "cell_type": "markdown",
   "metadata": {},
   "source": [
    "### Distribution of imbalance bars"
   ]
  },
  {
   "cell_type": "code",
   "execution_count": 9,
   "metadata": {},
   "outputs": [
    {
     "data": {
      "image/png": "[encoded data removed]",
      "text/plain": [
       "<Figure size 432x288 with 1 Axes>"
      ]
     },
     "metadata": {
      "needs_background": "light"
     },
     "output_type": "display_data"
    }
   ],
   "source": [
    "tick['return'] = tick['close'].pct_change()\n",
    "volume['return'] = volume['close'].pct_change()\n",
    "dollar['return'] = dollar['close'].pct_change()\n",
    "\n",
    "time_bar['return'] = time_bar['close'].pct_change()\n",
    "\n",
    "tick = tick.dropna()\n",
    "volume = volume.dropna()\n",
    "dollar = dollar.dropna()\n",
    "time_bar = time_bar.dropna()\n",
    "\n",
    "fig, ax = plt.subplots()\n",
    "sns.kdeplot(tick['return'], color=\"green\")\n",
    "sns.kdeplot(volume['return'],  color=\"red\")\n",
    "sns.kdeplot(dollar['return'], color=\"blue\")\n",
    "#sns.kdeplot(time_bar['return'], color=\"black\")\n",
    "plt.show()"
   ]
  },
  {
   "cell_type": "code",
   "execution_count": 10,
   "metadata": {},
   "outputs": [
    {
     "name": "stderr",
     "output_type": "stream",
     "text": [
      "C:\\Python37\\lib\\site-packages\\pandas\\plotting\\_converter.py:129: FutureWarning: Using an implicitly registered datetime converter for a matplotlib plotting method. The converter was registered by pandas on import. Future versions of pandas will require you to explicitly register matplotlib converters.\n",
      "\n",
      "To register the converters:\n",
      "\t>>> from pandas.plotting import register_matplotlib_converters\n",
      "\t>>> register_matplotlib_converters()\n",
      "  warnings.warn(msg, FutureWarning)\n"
     ]
    },
    {
     "data": {
      "image/png": "[encoded data removed]",
      "text/plain": [
       "<Figure size 1080x360 with 1 Axes>"
      ]
     },
     "metadata": {
      "needs_background": "light"
     },
     "output_type": "display_data"
    }
   ],
   "source": [
    " fig, ax1 = plt.subplots()\n",
    "\n",
    "#plt.plot(data_day.index, data_day['close'],color='#ff0000')\n",
    "plt.plot(data.index, data['close'],color='#ff0000')\n",
    "# df_corr = data_day[data_day.columns[0]]\n",
    "# print(df_corr.autocorr)\n",
    "\n",
    "''' ax2 = ax2.bar(tick_temp.index, tick_temp['dummy'],color='#5d8c70')'''\n",
    "#ax2 = ax2.plot(tick.index, tick['close'],color='#5d8c70')\n",
    "plt.plot(tick.index, tick['close'],color='green')\n",
    "\n",
    "plt.plot(volume.index, volume['close'],color='red')\n",
    "plt.plot(dollar.index, volume['close'],color='blue')\n",
    "\n",
    "fig.set_figwidth(15)\n",
    "fig.set_figheight(5)\n",
    "plt.show()"
   ]
  },
  {
   "cell_type": "markdown",
   "metadata": {},
   "source": [
    "### Auto Correlation"
   ]
  },
  {
   "cell_type": "code",
   "execution_count": 11,
   "metadata": {},
   "outputs": [
    {
     "data": {
      "text/plain": [
       "-0.00015682505623154509"
      ]
     },
     "metadata": {},
     "output_type": "display_data"
    },
    {
     "data": {
      "text/plain": [
       "nan"
      ]
     },
     "metadata": {},
     "output_type": "display_data"
    },
    {
     "data": {
      "text/plain": [
       "-0.013113158135671684"
      ]
     },
     "metadata": {},
     "output_type": "display_data"
    },
    {
     "data": {
      "text/plain": [
       "-0.013113158135671684"
      ]
     },
     "metadata": {},
     "output_type": "display_data"
    },
    {
     "data": {
      "text/plain": [
       "0.981152272658946"
      ]
     },
     "metadata": {},
     "output_type": "display_data"
    },
    {
     "data": {
      "text/plain": [
       "nan"
      ]
     },
     "metadata": {},
     "output_type": "display_data"
    },
    {
     "data": {
      "text/plain": [
       "0.9965749628169303"
      ]
     },
     "metadata": {},
     "output_type": "display_data"
    },
    {
     "data": {
      "text/plain": [
       "0.9965749628169303"
      ]
     },
     "metadata": {},
     "output_type": "display_data"
    }
   ],
   "source": [
    "display(time_bar['return'].autocorr(lag=1))\n",
    "display(tick['return'].autocorr(lag=1))\n",
    "display(volume['return'].autocorr(lag=1))\n",
    "display(dollar['return'].autocorr(lag=1))\n",
    "\n",
    "display(time_bar['close'].autocorr(lag=1))\n",
    "display(tick['close'].autocorr(lag=1))\n",
    "display(volume['close'].autocorr(lag=1))\n",
    "display(dollar['close'].autocorr(lag=1))"
   ]
  },
  {
   "cell_type": "markdown",
   "metadata": {},
   "source": [
    "# num of imbalance bar "
   ]
  },
  {
   "cell_type": "code",
   "execution_count": 12,
   "metadata": {},
   "outputs": [
    {
     "ename": "TypeError",
     "evalue": "Only valid with DatetimeIndex, TimedeltaIndex or PeriodIndex, but got an instance of 'Index'",
     "output_type": "error",
     "traceback": [
      "\u001b[1;31m---------------------------------------------------------------------------\u001b[0m",
      "\u001b[1;31mTypeError\u001b[0m                                 Traceback (most recent call last)",
      "\u001b[1;32m<ipython-input-12-2ee85cf52519>\u001b[0m in \u001b[0;36m<module>\u001b[1;34m\u001b[0m\n\u001b[0;32m      6\u001b[0m     }\n\u001b[0;32m      7\u001b[0m \u001b[1;33m\u001b[0m\u001b[0m\n\u001b[1;32m----> 8\u001b[1;33m \u001b[0mtick_temp\u001b[0m \u001b[1;33m=\u001b[0m \u001b[0mtick\u001b[0m\u001b[1;33m.\u001b[0m\u001b[0mresample\u001b[0m \u001b[1;33m(\u001b[0m\u001b[1;34m'W'\u001b[0m \u001b[1;33m)\u001b[0m\u001b[1;33m.\u001b[0m\u001b[0mapply\u001b[0m\u001b[1;33m(\u001b[0m\u001b[0mlogic_count\u001b[0m\u001b[1;33m)\u001b[0m\u001b[1;33m\u001b[0m\u001b[1;33m\u001b[0m\u001b[0m\n\u001b[0m\u001b[0;32m      9\u001b[0m \u001b[0mvolume_temp\u001b[0m \u001b[1;33m=\u001b[0m \u001b[0mvolume\u001b[0m\u001b[1;33m.\u001b[0m\u001b[0mresample\u001b[0m \u001b[1;33m(\u001b[0m\u001b[1;34m'W'\u001b[0m \u001b[1;33m)\u001b[0m\u001b[1;33m.\u001b[0m\u001b[0mapply\u001b[0m\u001b[1;33m(\u001b[0m\u001b[0mlogic_count\u001b[0m\u001b[1;33m)\u001b[0m\u001b[1;33m\u001b[0m\u001b[1;33m\u001b[0m\u001b[0m\n\u001b[0;32m     10\u001b[0m \u001b[0mdollar_temp\u001b[0m \u001b[1;33m=\u001b[0m \u001b[0mdollar\u001b[0m\u001b[1;33m.\u001b[0m\u001b[0mresample\u001b[0m \u001b[1;33m(\u001b[0m\u001b[1;34m'W'\u001b[0m \u001b[1;33m)\u001b[0m\u001b[1;33m.\u001b[0m\u001b[0mapply\u001b[0m\u001b[1;33m(\u001b[0m\u001b[0mlogic_count\u001b[0m\u001b[1;33m)\u001b[0m\u001b[1;33m\u001b[0m\u001b[1;33m\u001b[0m\u001b[0m\n",
      "\u001b[1;32mC:\\Python37\\lib\\site-packages\\pandas\\core\\generic.py\u001b[0m in \u001b[0;36mresample\u001b[1;34m(self, rule, how, axis, fill_method, closed, label, convention, kind, loffset, limit, base, on, level)\u001b[0m\n\u001b[0;32m   8153\u001b[0m                      \u001b[0maxis\u001b[0m\u001b[1;33m=\u001b[0m\u001b[0maxis\u001b[0m\u001b[1;33m,\u001b[0m \u001b[0mkind\u001b[0m\u001b[1;33m=\u001b[0m\u001b[0mkind\u001b[0m\u001b[1;33m,\u001b[0m \u001b[0mloffset\u001b[0m\u001b[1;33m=\u001b[0m\u001b[0mloffset\u001b[0m\u001b[1;33m,\u001b[0m\u001b[1;33m\u001b[0m\u001b[1;33m\u001b[0m\u001b[0m\n\u001b[0;32m   8154\u001b[0m                      \u001b[0mconvention\u001b[0m\u001b[1;33m=\u001b[0m\u001b[0mconvention\u001b[0m\u001b[1;33m,\u001b[0m\u001b[1;33m\u001b[0m\u001b[1;33m\u001b[0m\u001b[0m\n\u001b[1;32m-> 8155\u001b[1;33m                      base=base, key=on, level=level)\n\u001b[0m\u001b[0;32m   8156\u001b[0m         return _maybe_process_deprecations(r,\n\u001b[0;32m   8157\u001b[0m                                            \u001b[0mhow\u001b[0m\u001b[1;33m=\u001b[0m\u001b[0mhow\u001b[0m\u001b[1;33m,\u001b[0m\u001b[1;33m\u001b[0m\u001b[1;33m\u001b[0m\u001b[0m\n",
      "\u001b[1;32mC:\\Python37\\lib\\site-packages\\pandas\\core\\resample.py\u001b[0m in \u001b[0;36mresample\u001b[1;34m(obj, kind, **kwds)\u001b[0m\n\u001b[0;32m   1248\u001b[0m     \"\"\"\n\u001b[0;32m   1249\u001b[0m     \u001b[0mtg\u001b[0m \u001b[1;33m=\u001b[0m \u001b[0mTimeGrouper\u001b[0m\u001b[1;33m(\u001b[0m\u001b[1;33m**\u001b[0m\u001b[0mkwds\u001b[0m\u001b[1;33m)\u001b[0m\u001b[1;33m\u001b[0m\u001b[1;33m\u001b[0m\u001b[0m\n\u001b[1;32m-> 1250\u001b[1;33m     \u001b[1;32mreturn\u001b[0m \u001b[0mtg\u001b[0m\u001b[1;33m.\u001b[0m\u001b[0m_get_resampler\u001b[0m\u001b[1;33m(\u001b[0m\u001b[0mobj\u001b[0m\u001b[1;33m,\u001b[0m \u001b[0mkind\u001b[0m\u001b[1;33m=\u001b[0m\u001b[0mkind\u001b[0m\u001b[1;33m)\u001b[0m\u001b[1;33m\u001b[0m\u001b[1;33m\u001b[0m\u001b[0m\n\u001b[0m\u001b[0;32m   1251\u001b[0m \u001b[1;33m\u001b[0m\u001b[0m\n\u001b[0;32m   1252\u001b[0m \u001b[1;33m\u001b[0m\u001b[0m\n",
      "\u001b[1;32mC:\\Python37\\lib\\site-packages\\pandas\\core\\resample.py\u001b[0m in \u001b[0;36m_get_resampler\u001b[1;34m(self, obj, kind)\u001b[0m\n\u001b[0;32m   1378\u001b[0m         raise TypeError(\"Only valid with DatetimeIndex, \"\n\u001b[0;32m   1379\u001b[0m                         \u001b[1;34m\"TimedeltaIndex or PeriodIndex, \"\u001b[0m\u001b[1;33m\u001b[0m\u001b[1;33m\u001b[0m\u001b[0m\n\u001b[1;32m-> 1380\u001b[1;33m                         \"but got an instance of %r\" % type(ax).__name__)\n\u001b[0m\u001b[0;32m   1381\u001b[0m \u001b[1;33m\u001b[0m\u001b[0m\n\u001b[0;32m   1382\u001b[0m     \u001b[1;32mdef\u001b[0m \u001b[0m_get_grouper\u001b[0m\u001b[1;33m(\u001b[0m\u001b[0mself\u001b[0m\u001b[1;33m,\u001b[0m \u001b[0mobj\u001b[0m\u001b[1;33m,\u001b[0m \u001b[0mvalidate\u001b[0m\u001b[1;33m=\u001b[0m\u001b[1;32mTrue\u001b[0m\u001b[1;33m)\u001b[0m\u001b[1;33m:\u001b[0m\u001b[1;33m\u001b[0m\u001b[1;33m\u001b[0m\u001b[0m\n",
      "\u001b[1;31mTypeError\u001b[0m: Only valid with DatetimeIndex, TimedeltaIndex or PeriodIndex, but got an instance of 'Index'"
     ]
    }
   ],
   "source": [
    "tick['dummy'] = 1\n",
    "volume['dummy'] = 1\n",
    "dollar['dummy'] = 1\n",
    "logic_count = {\n",
    "    'dummy'  : 'sum'\n",
    "    }\n",
    "\n",
    "tick_temp = tick.resample ('W' ).apply(logic_count)\n",
    "volume_temp = volume.resample ('W' ).apply(logic_count)\n",
    "dollar_temp = dollar.resample ('W' ).apply(logic_count)\n",
    "\n",
    "fig, ax1 = plt.subplots()\n",
    "plt.plot(tick_temp.index, tick_temp['dummy'],color='green')\n",
    "plt.plot(volume_temp.index, volume_temp['dummy'],color='red')\n",
    "plt.plot(dollar_temp.index, dollar_temp['dummy'],color='blue')\n",
    "fig.set_figwidth(15)\n",
    "fig.set_figheight(5)\n",
    "plt.show()\n",
    "\n"
   ]
  },
  {
   "cell_type": "markdown",
   "metadata": {},
   "source": [
    "### Monthly Variance of imbalance bars"
   ]
  },
  {
   "cell_type": "code",
   "execution_count": null,
   "metadata": {},
   "outputs": [],
   "source": [
    "logic_month = {\n",
    "    'return'  : 'var'\n",
    "    }\n",
    "tick_month = tick.resample ('M' ).apply(logic_month)\n",
    "volume_month = volume.resample ('M' ).apply(logic_month)\n",
    "dollar_month = dollar.resample ('M' ).apply(logic_month)\n",
    "\n",
    "fig, ax1 = plt.subplots()\n",
    "plt.plot(tick_month.index, tick_month['return'],color='green')\n",
    "plt.plot(volume_month.index, volume_month['return'],color='red')\n",
    "plt.plot(dollar_month.index, dollar_month['return'],color='blue')\n",
    "fig.set_figwidth(15)\n",
    "fig.set_figheight(5)\n",
    "plt.show()\n"
   ]
  },
  {
   "cell_type": "markdown",
   "metadata": {},
   "source": [
    "### STD"
   ]
  },
  {
   "cell_type": "code",
   "execution_count": null,
   "metadata": {
    "scrolled": true
   },
   "outputs": [],
   "source": [
    "display(np.std(tick['return']))\n",
    "display(np.std(volume['return']))\n",
    "display(np.std(dollar['return']))"
   ]
  },
  {
   "cell_type": "code",
   "execution_count": null,
   "metadata": {},
   "outputs": [],
   "source": [
    "display(np.std(tick['close']))\n",
    "display(np.std(volume['close']))\n",
    "display(np.std(dollar['close']))"
   ]
  },
  {
   "cell_type": "code",
   "execution_count": null,
   "metadata": {},
   "outputs": [],
   "source": []
  }
 ],
 "metadata": {
  "kernelspec": {
   "display_name": "Python 3",
   "language": "python",
   "name": "python3"
  },
  "language_info": {
   "codemirror_mode": {
    "name": "ipython",
    "version": 3
   },
   "file_extension": ".py",
   "mimetype": "text/x-python",
   "name": "python",
   "nbconvert_exporter": "python",
   "pygments_lexer": "ipython3",
   "version": "3.7.3"
  }
 },
 "nbformat": 4,
 "nbformat_minor": 2
}
