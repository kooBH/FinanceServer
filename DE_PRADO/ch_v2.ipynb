{
 "cells": [
  {
   "cell_type": "markdown",
   "metadata": {},
   "source": [
    "# Note\n",
    "\n",
    "\n",
    "\n",
    "### 1. 일간 vs 주간\n",
    "\n",
    "### 2. 초깃값 설정\n",
    "지금은 $ E[\\theta_t] + \\sigma[\\theta_t]$\n",
    "\n",
    "### 3. EWMA\n",
    "   $\\text{weight} = \\frac{2}{ \\text{window} + 2 }$\n",
    "   \n",
    "### 4. threshold\n",
    "\n",
    "+ Volume bar 에서 $P[b_t = 1]$ 도 EWMA 를 적용해야하는가?\n",
    "+ Jupyter에서 Multi Processing이 아예 안되는가?"
   ]
  },
  {
   "cell_type": "markdown",
   "metadata": {},
   "source": [
    "### TODO\n",
    "1. $b_t$ 는 batch 연산 가능\n",
    "2. 데이터를 다 numpy 데이터로 변환해서 처리 후 Dataframe으로\n",
    "\n"
   ]
  },
  {
   "cell_type": "code",
   "execution_count": 1,
   "metadata": {},
   "outputs": [],
   "source": [
    "import pandas as pd\n",
    "import numpy as np\n",
    "import os\n",
    "import matplotlib.pyplot as plt\n",
    "import seaborn as sns; sns.set()\n",
    "from bars import TIB,VIB,DIB\n",
    "\n",
    "from tqdm import tqdm\n",
    "\n",
    "import multiprocessing as mp"
   ]
  },
  {
   "cell_type": "code",
   "execution_count": 2,
   "metadata": {},
   "outputs": [
    {
     "name": "stderr",
     "output_type": "stream",
     "text": [
      "100%|██████████████████████████████████████████████████████████████████████████████████| 11/11 [00:14<00:00,  1.33s/it]\n"
     ]
    }
   ],
   "source": [
    "path = 'MiniKospi/'\n",
    "list_file = os.listdir(path)\n",
    "list_file.sort()\n",
    "data = pd.DataFrame(columns=['close','volume']) \n",
    "data.index.names = ['timestamp']\n",
    "cnt=0\n",
    "for file in tqdm(list_file) :\n",
    "    tmp = pd.read_csv(path+file,index_col=0)\n",
    "    tmp = tmp.drop(columns=['date','time','sell','buy'])\n",
    "    tmp.index = pd.to_datetime(tmp.index)\n",
    "    tmp.index.names = ['timestamp']\n",
    "    data = data.append(tmp)\n",
    "    cnt+=1\n",
    "    #if cnt > 3: break;\n",
    "weekly = [g for n, g in data.groupby(pd.Grouper(level='timestamp', freq='W'))]"
   ]
  },
  {
   "cell_type": "markdown",
   "metadata": {},
   "source": [
    "```python\n",
    "def TIB(weekly_data,threshold=5000,index='timestamp',column='close'): \n",
    "def VIB(weekly_data,threshold=20000,index='timestamp',col_price='close',col_volume='volume'):\n",
    "def DIB(weekly_data,threshold=200000,index='timestamp',col_price='close',col_volume='volume'):        \n",
    "```"
   ]
  },
  {
   "cell_type": "code",
   "execution_count": null,
   "metadata": {},
   "outputs": [
    {
     "name": "stdout",
     "output_type": "stream",
     "text": [
      "DIB start\n"
     ]
    },
    {
     "name": "stderr",
     "output_type": "stream",
     "text": [
      "  3%|██▊                                                                             | 1/29 [02:10<1:01:01, 130.78s/it]"
     ]
    }
   ],
   "source": [
    "#tick = TIB(weekly)\n",
    "#volume = VIB(weekly)\n",
    "dollar = DIB(weekly)"
   ]
  },
  {
   "cell_type": "code",
   "execution_count": null,
   "metadata": {},
   "outputs": [],
   "source": [
    "'''tick.to_csv('tick_t5K_full.csv')\n",
    "volume.to_csv('volume_t20K_full.csv')'''\n",
    "dollar.to_csv('dib_t6M_.csv')"
   ]
  },
  {
   "cell_type": "code",
   "execution_count": null,
   "metadata": {},
   "outputs": [],
   "source": [
    "dollar = pd.read_csv('dollar_t6M_full.csv',index_col = 'timestamp')"
   ]
  },
  {
   "cell_type": "code",
   "execution_count": null,
   "metadata": {},
   "outputs": [],
   "source": [
    "print('size of tick ' + str(tick.index.size))\n",
    "print('size of volume ' + str(volume.index.size))\n",
    "print('size of dollar ' + str(dollar.index.size))"
   ]
  },
  {
   "cell_type": "markdown",
   "metadata": {},
   "source": [
    "### Time bar"
   ]
  },
  {
   "cell_type": "code",
   "execution_count": null,
   "metadata": {},
   "outputs": [],
   "source": [
    "logic_time = {\n",
    "    'close'  : 'last'\n",
    "    }\n",
    "time_bar = data.resample('H').apply(logic_time)\n",
    "display(time_bar.index.size)"
   ]
  },
  {
   "cell_type": "markdown",
   "metadata": {},
   "source": [
    "### close dist"
   ]
  },
  {
   "cell_type": "code",
   "execution_count": null,
   "metadata": {
    "scrolled": false
   },
   "outputs": [],
   "source": [
    "fig, ax = plt.subplots()\n",
    "sns.kdeplot(tick['close'], color=\"green\")\n",
    "sns.kdeplot(volume['close'],  color=\"red\")\n",
    "sns.kdeplot(dollar['close'], color=\"blue\")\n",
    "sns.kdeplot(time_bar['close'], color=\"black\")\n",
    "plt.show()"
   ]
  },
  {
   "cell_type": "markdown",
   "metadata": {},
   "source": [
    "### Distribution of imbalance bars"
   ]
  },
  {
   "cell_type": "code",
   "execution_count": null,
   "metadata": {},
   "outputs": [],
   "source": [
    "tick['return'] = tick['close'].pct_change()\n",
    "volume['return'] = volume['close'].pct_change()\n",
    "dollar['return'] = dollar['close'].pct_change()\n",
    "\n",
    "time_bar['return'] = time_bar['close'].pct_change()\n",
    "\n",
    "tick = tick.dropna()\n",
    "volume = volume.dropna()\n",
    "dollar = dollar.dropna()\n",
    "time_bar = time_bar.dropna()\n",
    "\n",
    "fig, ax = plt.subplots()\n",
    "sns.kdeplot(tick['return'], color=\"green\")\n",
    "sns.kdeplot(volume['return'],  color=\"red\")\n",
    "sns.kdeplot(dollar['return'], color=\"blue\")\n",
    "#sns.kdeplot(time_bar['return'], color=\"black\")\n",
    "plt.show()"
   ]
  },
  {
   "cell_type": "code",
   "execution_count": null,
   "metadata": {},
   "outputs": [],
   "source": [
    " fig, ax1 = plt.subplots()\n",
    "\n",
    "#plt.plot(data_day.index, data_day['close'],color='#ff0000')\n",
    "plt.plot(data.index, data['close'],color='#ff0000')\n",
    "# df_corr = data_day[data_day.columns[0]]\n",
    "# print(df_corr.autocorr)\n",
    "\n",
    "''' ax2 = ax2.bar(tick_temp.index, tick_temp['dummy'],color='#5d8c70')'''\n",
    "#ax2 = ax2.plot(tick.index, tick['close'],color='#5d8c70')\n",
    "plt.plot(tick.index, tick['close'],color='green')\n",
    "\n",
    "plt.plot(volume.index, volume['close'],color='red')\n",
    "plt.plot(volume.index, volume['close'],color='blue')\n",
    "\n",
    "fig.set_figwidth(15)\n",
    "fig.set_figheight(5)\n",
    "plt.show()"
   ]
  },
  {
   "cell_type": "markdown",
   "metadata": {},
   "source": [
    "### Auto Correlation"
   ]
  },
  {
   "cell_type": "code",
   "execution_count": null,
   "metadata": {},
   "outputs": [],
   "source": [
    "display(time_bar['return'].autocorr(lag=1))\n",
    "display(tick['return'].autocorr(lag=1))\n",
    "display(volume['return'].autocorr(lag=1))\n",
    "display(dollar['return'].autocorr(lag=1))\n",
    "\n",
    "display(time_bar['close'].autocorr(lag=1))\n",
    "display(tick['close'].autocorr(lag=1))\n",
    "display(volume['close'].autocorr(lag=1))\n",
    "display(dollar['close'].autocorr(lag=1))"
   ]
  },
  {
   "cell_type": "markdown",
   "metadata": {},
   "source": [
    "# num of imbalance bar "
   ]
  },
  {
   "cell_type": "code",
   "execution_count": null,
   "metadata": {},
   "outputs": [],
   "source": [
    "tick['dummy'] = 1\n",
    "volume['dummy'] = 1\n",
    "dollar['dummy'] = 1\n",
    "logic_count = {\n",
    "    'dummy'  : 'sum'\n",
    "    }\n",
    "\n",
    "tick_temp = tick.resample ('W' ).apply(logic_count)\n",
    "volume_temp = volume.resample ('W' ).apply(logic_count)\n",
    "dollar_temp = dollar.resample ('W' ).apply(logic_count)\n",
    "\n",
    "fig, ax1 = plt.subplots()\n",
    "plt.plot(tick_temp.index, tick_temp['dummy'],color='green')\n",
    "plt.plot(volume_temp.index, volume_temp['dummy'],color='red')\n",
    "plt.plot(dollar_temp.index, dollar_temp['dummy'],color='blue')\n",
    "fig.set_figwidth(15)\n",
    "fig.set_figheight(5)\n",
    "plt.show()\n",
    "\n"
   ]
  },
  {
   "cell_type": "markdown",
   "metadata": {},
   "source": [
    "### Monthly Variance of imbalance bars"
   ]
  },
  {
   "cell_type": "code",
   "execution_count": null,
   "metadata": {},
   "outputs": [],
   "source": [
    "logic_month = {\n",
    "    'return'  : 'var'\n",
    "    }\n",
    "tick_month = tick.resample ('M' ).apply(logic_month)\n",
    "volume_month = volume.resample ('M' ).apply(logic_month)\n",
    "dollar_month = dollar.resample ('M' ).apply(logic_month)\n",
    "\n",
    "fig, ax1 = plt.subplots()\n",
    "plt.plot(tick_month.index, tick_month['return'],color='green')\n",
    "plt.plot(volume_month.index, volume_month['return'],color='red')\n",
    "plt.plot(dollar_month.index, dollar_month['return'],color='blue')\n",
    "fig.set_figwidth(15)\n",
    "fig.set_figheight(5)\n",
    "plt.show()\n"
   ]
  },
  {
   "cell_type": "markdown",
   "metadata": {},
   "source": [
    "### STD"
   ]
  },
  {
   "cell_type": "code",
   "execution_count": null,
   "metadata": {
    "scrolled": true
   },
   "outputs": [],
   "source": [
    "display(np.std(tick['return']))\n",
    "display(np.std(volume['return']))\n",
    "display(np.std(dollar['return']))"
   ]
  },
  {
   "cell_type": "code",
   "execution_count": null,
   "metadata": {},
   "outputs": [],
   "source": [
    "display(np.std(tick['close']))\n",
    "display(np.std(volume['close']))\n",
    "display(np.std(dollar['close']))"
   ]
  },
  {
   "cell_type": "code",
   "execution_count": null,
   "metadata": {},
   "outputs": [],
   "source": []
  }
 ],
 "metadata": {
  "kernelspec": {
   "display_name": "Python 3",
   "language": "python",
   "name": "python3"
  },
  "language_info": {
   "codemirror_mode": {
    "name": "ipython",
    "version": 3
   },
   "file_extension": ".py",
   "mimetype": "text/x-python",
   "name": "python",
   "nbconvert_exporter": "python",
   "pygments_lexer": "ipython3",
   "version": "3.7.3"
  }
 },
 "nbformat": 4,
 "nbformat_minor": 2
}
