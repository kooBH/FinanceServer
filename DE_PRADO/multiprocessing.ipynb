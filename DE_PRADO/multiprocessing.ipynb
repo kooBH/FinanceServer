{
 "cells": [
  {
   "cell_type": "markdown",
   "metadata": {},
   "source": [
    "https://medium.com/@grvsinghal/speed-up-your-python-code-using-multiprocessing-on-windows-and-jupyter-or-ipython-2714b49d6fac"
   ]
  },
  {
   "cell_type": "code",
   "execution_count": null,
   "metadata": {},
   "outputs": [
    {
     "name": "stdout",
     "output_type": "stream",
     "text": [
      "Subprocess has been started\n"
     ]
    }
   ],
   "source": [
    "import multiprocessing\n",
    "import time\n",
    "\n",
    "def subprocess():   # is a plain old (pickle-able) function\n",
    "    for i in range(10):\n",
    "        print(\"Running\")\n",
    "        time.sleep(1)\n",
    "    print(\"Subprocess Completed\")\n",
    "    return True\n",
    "\n",
    "class Test:\n",
    "    def __init__(self):\n",
    "        self.pool = multiprocessing.Pool(1)\n",
    "\n",
    "    def start(self):\n",
    "        result = self.pool.apply_async(subprocess)\n",
    "        print(\"Subprocess has been started\")\n",
    "        result.get()    # wait for the end of subprocess\n",
    "        self.pool.close()\n",
    "        self.pool.join()\n",
    "\n",
    "if __name__ == '__main__':\n",
    "    test = Test()\n",
    "    test.start()"
   ]
  },
  {
   "cell_type": "code",
   "execution_count": null,
   "metadata": {},
   "outputs": [],
   "source": [
    "import multiprocessing as mp\n",
    "def addd(a,b):\n",
    "    print('s')\n",
    "    a+=1\n",
    "    b.put(a)\n",
    "    print('b')\n",
    "\n",
    "    \n",
    "    \n",
    "output1 = mp.Queue()\n",
    "output2 = mp.Queue()\n",
    "addd(1,output1)\n",
    "procs = []\n",
    "procs.append(mp.Process(target=addd, args=(3,output1)) ) \n",
    "procs.append(mp.Process(target=addd, args=(5,output2)) ) \n",
    "\n",
    "print('go')\n",
    "for proc in procs:\n",
    "    proc.start()\n",
    "    print('start')\n",
    "    \n",
    "\n",
    "\n",
    "for proc in procs:\n",
    "    proc.join()\n",
    "    print('join')\n",
    "a = output1.get()\n",
    "b = output2.get()\n",
    "print(a)\n",
    "output1.close()\n",
    "print(b)\n",
    "output2.close()\n"
   ]
  }
 ],
 "metadata": {
  "kernelspec": {
   "display_name": "Python 3",
   "language": "python",
   "name": "python3"
  },
  "language_info": {
   "codemirror_mode": {
    "name": "ipython",
    "version": 3
   },
   "file_extension": ".py",
   "mimetype": "text/x-python",
   "name": "python",
   "nbconvert_exporter": "python",
   "pygments_lexer": "ipython3",
   "version": "3.7.3"
  }
 },
 "nbformat": 4,
 "nbformat_minor": 2
}
