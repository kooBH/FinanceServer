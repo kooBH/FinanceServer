{
 "cells": [
  {
   "cell_type": "markdown",
   "metadata": {},
   "source": [
    "## 1. Symbol List 초기화 또는 불러오기"
   ]
  },
  {
   "cell_type": "code",
   "execution_count": 1,
   "metadata": {},
   "outputs": [],
   "source": [
    "import SymbolList as sl"
   ]
  },
  {
   "cell_type": "code",
   "execution_count": 4,
   "metadata": {},
   "outputs": [
    {
     "name": "stdout",
     "output_type": "stream",
     "text": [
      "DUP : Apple Inc.\n",
      "DUP : Tesla, Inc.\n",
      "DUP : Samsung Electronics Co., Ltd\n",
      "DUP : Apple Inc.\n",
      "DUP : Oracle Corporation\n",
      "DUP : Amazon.com, Inc.\n",
      "DUP : SK hynix, Inc.\n",
      "DUP : NAVER Corporation\n",
      "DUP : Microsoft Corporation\n",
      "DUP : LG Electronics Inc\n",
      "DUP : International Business Machines Corporation\n"
     ]
    }
   ],
   "source": [
    "df = sl.init_symbol_DF()\n",
    "sl.add_symbol(df,init=True)"
   ]
  },
  {
   "cell_type": "code",
   "execution_count": 5,
   "metadata": {},
   "outputs": [
    {
     "data": {
      "text/html": [
       "<div>\n",
       "<style scoped>\n",
       "    .dataframe tbody tr th:only-of-type {\n",
       "        vertical-align: middle;\n",
       "    }\n",
       "\n",
       "    .dataframe tbody tr th {\n",
       "        vertical-align: top;\n",
       "    }\n",
       "\n",
       "    .dataframe thead th {\n",
       "        text-align: right;\n",
       "    }\n",
       "</style>\n",
       "<table border=\"1\" class=\"dataframe\">\n",
       "  <thead>\n",
       "    <tr style=\"text-align: right;\">\n",
       "      <th></th>\n",
       "      <th>Symbol</th>\n",
       "      <th>From</th>\n",
       "      <th>To</th>\n",
       "    </tr>\n",
       "    <tr>\n",
       "      <th>Name</th>\n",
       "      <th></th>\n",
       "      <th></th>\n",
       "      <th></th>\n",
       "    </tr>\n",
       "  </thead>\n",
       "  <tbody>\n",
       "    <tr>\n",
       "      <th>Apple Inc.</th>\n",
       "      <td>AAPL</td>\n",
       "      <td>2010-01-01</td>\n",
       "      <td>2010-01-01</td>\n",
       "    </tr>\n",
       "    <tr>\n",
       "      <th>Tesla, Inc.</th>\n",
       "      <td>TSLA</td>\n",
       "      <td>2010-01-01</td>\n",
       "      <td>2010-01-01</td>\n",
       "    </tr>\n",
       "    <tr>\n",
       "      <th>Samsung Electronics Co., Ltd</th>\n",
       "      <td>005930.KS</td>\n",
       "      <td>2010-01-01</td>\n",
       "      <td>2010-01-01</td>\n",
       "    </tr>\n",
       "    <tr>\n",
       "      <th>Oracle Corporation</th>\n",
       "      <td>ORCL</td>\n",
       "      <td>2010-01-01</td>\n",
       "      <td>2010-01-01</td>\n",
       "    </tr>\n",
       "    <tr>\n",
       "      <th>Amazon.com, Inc.</th>\n",
       "      <td>AMZN</td>\n",
       "      <td>2010-01-01</td>\n",
       "      <td>2010-01-01</td>\n",
       "    </tr>\n",
       "  </tbody>\n",
       "</table>\n",
       "</div>"
      ],
      "text/plain": [
       "                                 Symbol        From          To\n",
       "Name                                                           \n",
       "Apple Inc.                         AAPL  2010-01-01  2010-01-01\n",
       "Tesla, Inc.                        TSLA  2010-01-01  2010-01-01\n",
       "Samsung Electronics Co., Ltd  005930.KS  2010-01-01  2010-01-01\n",
       "Oracle Corporation                 ORCL  2010-01-01  2010-01-01\n",
       "Amazon.com, Inc.                   AMZN  2010-01-01  2010-01-01"
      ]
     },
     "execution_count": 5,
     "metadata": {},
     "output_type": "execute_result"
    }
   ],
   "source": [
    "df.head()"
   ]
  },
  {
   "cell_type": "markdown",
   "metadata": {},
   "source": [
    "## 2. "
   ]
  }
 ],
 "metadata": {
  "kernelspec": {
   "display_name": "Python 3",
   "language": "python",
   "name": "python3"
  },
  "language_info": {
   "codemirror_mode": {
    "name": "ipython",
    "version": 3
   },
   "file_extension": ".py",
   "mimetype": "text/x-python",
   "name": "python",
   "nbconvert_exporter": "python",
   "pygments_lexer": "ipython3",
   "version": "3.7.2"
  }
 },
 "nbformat": 4,
 "nbformat_minor": 2
}
