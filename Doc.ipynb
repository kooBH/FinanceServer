{
 "cells": [
  {
   "cell_type": "code",
   "execution_count": 50,
   "metadata": {},
   "outputs": [],
   "source": [
    "import SymbolList as sl\n",
    "import pandas as pd\n",
    "import datetime as dt \n",
    "import fix_yahoo_finance as yf"
   ]
  },
  {
   "cell_type": "markdown",
   "metadata": {},
   "source": [
    "## 1. Symbol List 초기화 또는 불러오기"
   ]
  },
  {
   "cell_type": "code",
   "execution_count": 41,
   "metadata": {},
   "outputs": [
    {
     "name": "stdout",
     "output_type": "stream",
     "text": [
      "DUP : Apple Inc.\n",
      "DUP : Apple Inc.\n",
      "DUP : Microsoft Corporation\n",
      "DUP : International Business Machines Corporation\n",
      "DUP : Oracle Corporation\n",
      "DUP : Amazon.com, Inc.\n",
      "DUP : Tesla, Inc.\n",
      "DUP : Samsung Electronics Co., Ltd\n",
      "DUP : SK hynix, Inc.\n",
      "DUP : LG Electronics Inc\n",
      "DUP : NAVER Corporation\n"
     ]
    }
   ],
   "source": [
    "df = sl.init_symbol_DF()\n",
    "sl.add_symbol(df,init=True)"
   ]
  },
  {
   "cell_type": "code",
   "execution_count": 42,
   "metadata": {},
   "outputs": [
    {
     "data": {
      "text/html": [
       "<div>\n",
       "<style scoped>\n",
       "    .dataframe tbody tr th:only-of-type {\n",
       "        vertical-align: middle;\n",
       "    }\n",
       "\n",
       "    .dataframe tbody tr th {\n",
       "        vertical-align: top;\n",
       "    }\n",
       "\n",
       "    .dataframe thead th {\n",
       "        text-align: right;\n",
       "    }\n",
       "</style>\n",
       "<table border=\"1\" class=\"dataframe\">\n",
       "  <thead>\n",
       "    <tr style=\"text-align: right;\">\n",
       "      <th></th>\n",
       "      <th>Symbol</th>\n",
       "      <th>From</th>\n",
       "      <th>To</th>\n",
       "    </tr>\n",
       "    <tr>\n",
       "      <th>Name</th>\n",
       "      <th></th>\n",
       "      <th></th>\n",
       "      <th></th>\n",
       "    </tr>\n",
       "  </thead>\n",
       "  <tbody>\n",
       "    <tr>\n",
       "      <th>Apple Inc.</th>\n",
       "      <td>AAPL</td>\n",
       "      <td>2010-01-01</td>\n",
       "      <td>2019-05-19</td>\n",
       "    </tr>\n",
       "    <tr>\n",
       "      <th>Microsoft Corporation</th>\n",
       "      <td>MSFT</td>\n",
       "      <td>2010-01-01</td>\n",
       "      <td>2019-05-19</td>\n",
       "    </tr>\n",
       "    <tr>\n",
       "      <th>International Business Machines Corporation</th>\n",
       "      <td>IBM</td>\n",
       "      <td>2010-01-01</td>\n",
       "      <td>2019-05-19</td>\n",
       "    </tr>\n",
       "    <tr>\n",
       "      <th>Oracle Corporation</th>\n",
       "      <td>ORCL</td>\n",
       "      <td>2010-01-01</td>\n",
       "      <td>2019-05-19</td>\n",
       "    </tr>\n",
       "    <tr>\n",
       "      <th>Amazon.com, Inc.</th>\n",
       "      <td>AMZN</td>\n",
       "      <td>2010-01-01</td>\n",
       "      <td>2019-05-19</td>\n",
       "    </tr>\n",
       "    <tr>\n",
       "      <th>Tesla, Inc.</th>\n",
       "      <td>TSLA</td>\n",
       "      <td>2010-01-01</td>\n",
       "      <td>2019-05-19</td>\n",
       "    </tr>\n",
       "    <tr>\n",
       "      <th>Samsung Electronics Co., Ltd</th>\n",
       "      <td>005930.KS</td>\n",
       "      <td>2010-01-01</td>\n",
       "      <td>2019-05-19</td>\n",
       "    </tr>\n",
       "    <tr>\n",
       "      <th>SK hynix, Inc.</th>\n",
       "      <td>000660.KS</td>\n",
       "      <td>2010-01-01</td>\n",
       "      <td>2019-05-19</td>\n",
       "    </tr>\n",
       "    <tr>\n",
       "      <th>LG Electronics Inc</th>\n",
       "      <td>066570.KS</td>\n",
       "      <td>2010-01-01</td>\n",
       "      <td>2019-05-19</td>\n",
       "    </tr>\n",
       "    <tr>\n",
       "      <th>NAVER Corporation</th>\n",
       "      <td>035420.KS</td>\n",
       "      <td>2010-01-01</td>\n",
       "      <td>2019-05-19</td>\n",
       "    </tr>\n",
       "  </tbody>\n",
       "</table>\n",
       "</div>"
      ],
      "text/plain": [
       "                                                Symbol        From          To\n",
       "Name                                                                          \n",
       "Apple Inc.                                        AAPL  2010-01-01  2019-05-19\n",
       "Microsoft Corporation                             MSFT  2010-01-01  2019-05-19\n",
       "International Business Machines Corporation        IBM  2010-01-01  2019-05-19\n",
       "Oracle Corporation                                ORCL  2010-01-01  2019-05-19\n",
       "Amazon.com, Inc.                                  AMZN  2010-01-01  2019-05-19\n",
       "Tesla, Inc.                                       TSLA  2010-01-01  2019-05-19\n",
       "Samsung Electronics Co., Ltd                 005930.KS  2010-01-01  2019-05-19\n",
       "SK hynix, Inc.                               000660.KS  2010-01-01  2019-05-19\n",
       "LG Electronics Inc                           066570.KS  2010-01-01  2019-05-19\n",
       "NAVER Corporation                            035420.KS  2010-01-01  2019-05-19"
      ]
     },
     "execution_count": 42,
     "metadata": {},
     "output_type": "execute_result"
    }
   ],
   "source": []
  },
  {
   "cell_type": "markdown",
   "metadata": {},
   "source": [
    "## 2. Symbol List 에서 데이터 받기"
   ]
  },
  {
   "cell_type": "code",
   "execution_count": 43,
   "metadata": {},
   "outputs": [],
   "source": [
    "list_df = [None] * len(df.index)"
   ]
  },
  {
   "cell_type": "code",
   "execution_count": 46,
   "metadata": {},
   "outputs": [
    {
     "name": "stdout",
     "output_type": "stream",
     "text": [
      "Note::symbol_list.csv is updated.\n"
     ]
    }
   ],
   "source": [
    "for idx in range(0,len(df.index)):\n",
    "    list_df[idx] = df.index[idx]\n",
    "    # print('Note::Processing' + list_df[idx])\n",
    "    today = dt.datetime.utcnow().strftime(\"%Y-%m-%d\")\n",
    "    # 이미 최신 데이터\n",
    "    if(df.iloc[idx][2] == today):\n",
    "        # print('  Pass::Alread up-to-date.')\n",
    "        continue\n",
    "    try:\n",
    "        temp_df = yf.download(df.iloc[idx][0], start = df.iloc[idx][1], end =  today)\n",
    "        df.iloc[idx][2] = today\n",
    "    except ValueError:\n",
    "        print('Value Error')\n",
    "    temp_df.to_csv(list_df[idx] + '.csv')\n",
    "# 심볼리스트 갱신\n",
    "df.to_csv('symbol_list.csv')\n",
    "print('Note::symbol_list.csv is updated.')"
   ]
  },
  {
   "cell_type": "markdown",
   "metadata": {},
   "source": [
    "## 3. 통계"
   ]
  },
  {
   "cell_type": "markdown",
   "metadata": {},
   "source": [
    "+ how to calculate coskew and cokurtosis\n",
    "https://stackoverflow.com/questions/41890870/how-to-calculate-coskew-and-cokurtosis\n",
    "\n",
    "생각을 좀 해봐야겠다.\n",
    "\n",
    "$$ K(X,X,Y,Y)= {E[(X - E[X])^2(Y - E[Y]^2)] \\over \\sigma_X^2\\sigma_Y^2}$$"
   ]
  },
  {
   "cell_type": "code",
   "execution_count": 61,
   "metadata": {},
   "outputs": [
    {
     "data": {
      "text/plain": [
       "-0.8499127293799393"
      ]
     },
     "execution_count": 61,
     "metadata": {},
     "output_type": "execute_result"
    }
   ],
   "source": [
    "t_df = pd.read_csv(list_df[0] + '.csv',index_col = 'Date')\n",
    "\n",
    "# 연간 종가\n",
    "t_data = t_df.iloc[-240:]['Close']\n",
    "t_data.kurt()"
   ]
  },
  {
   "cell_type": "code",
   "execution_count": null,
   "metadata": {},
   "outputs": [],
   "source": []
  }
 ],
 "metadata": {
  "kernelspec": {
   "display_name": "Python 3",
   "language": "python",
   "name": "python3"
  },
  "language_info": {
   "codemirror_mode": {
    "name": "ipython",
    "version": 3
   },
   "file_extension": ".py",
   "mimetype": "text/x-python",
   "name": "python",
   "nbconvert_exporter": "python",
   "pygments_lexer": "ipython3",
   "version": "3.7.2"
  }
 },
 "nbformat": 4,
 "nbformat_minor": 2
}
