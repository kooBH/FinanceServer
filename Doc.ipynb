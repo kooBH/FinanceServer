{
 "cells": [
  {
   "cell_type": "markdown",
   "metadata": {},
   "source": [
    "# INDEX<a naeme=\"INDEX\"></a>\n",
    "+ [초기설정(필수)](#초기설정)\n",
    "+ [심볼리스트 생성](#init)\n",
    "+ [데이터 다운로드](#down)\n",
    "+ [OLS 초기설정](#ols)\n",
    "    + [1 변수](#1ols)\n",
    "    + [2 변수](#2ols)\n",
    "    + [3 변수](#3ols)\n",
    "    + [4 변수](#4ols)\n",
    "+ [Joint Plot](#joint)\n",
    "+ [데이터확인](#확인)\n",
    "+ [co-kurtosis - WIP](#cokur)\n"
   ]
  },
  {
   "cell_type": "markdown",
   "metadata": {},
   "source": [
    "## Note\n",
    "+ read_csv 에서 오류가 난다면 Analyze.py에\n",
    "\n",
    "```pytho\n",
    "engine = 'python'\n",
    "```\n",
    "를 추가해 줘보자.\n",
    "\n",
    "```python\n",
    "pd.read_csv('data/'+target_1 + '.csv',index_col='Date',engine='python')\n",
    "```\n",
    "\n",
    "+ csv 파일이 제대로 되어있는지 확인하여보자  \n",
    "메모장으로 열었을 시에 제대로 ',' 로 구분되어야한다.  \n",
    "엑셀 파일을 받아서 csv로 변환이 잘 안되는 경우가 있다.\n",
    "\n",
    "+ 출력이 스크롤 안에 안 들어가게 하기\n",
    "Cell -> All output (또는 Current outputs) -> toggle scrolling"
   ]
  },
  {
   "cell_type": "markdown",
   "metadata": {},
   "source": [
    "### [초기 설정](#INDEX)<a name=\"초기설정\"></a>\n",
    "+ 한글 출력을 위한 폰트 설정, 각 PC마다 환경이 다름 (matlplot 한글폰트.ipynb 참고)\n",
    "+ 사용할 지표들 등록"
   ]
  },
  {
   "cell_type": "code",
   "execution_count": null,
   "metadata": {
    "scrolled": false
   },
   "outputs": [],
   "source": [
    "import SymbolList as sl\n",
    "import Analyze as an\n",
    "import numpy as np\n",
    "import pandas as pd\n",
    "import datetime as dt \n",
    "from statsmodels.formula.api import ols \n",
    "import seaborn as sns;  sns.set()\n",
    "import matplotlib.pyplot as plt\n",
    "import matplotlib as mpl\n",
    "\n",
    "# matplot 설정\n",
    "mpl.rcParams['axes.unicode_minus'] = False\n",
    "# -*- coding: utf-8 -*-\n",
    "plt.rc('font', family=\"LG PC\")\n",
    "# 리스트 설정\n",
    "ten_kor = ['Samsung_Electronics','SK_hynix','LG_Electronics',\n",
    "    '삼성SDI','엔씨소프트','카카오','삼성전기',\n",
    "    'LG디스플레이','삼성SDS','네이버']\n",
    "ten_US = [  'Apple','Microsoft','IBM','Oracle',\n",
    "            'Amazon','Tesla','Alphabet','Facebook',\n",
    "            'Cisco','타이완 반도체','Intel','오라클','SAP']\n",
    "index_kor = '와이즈'\n",
    "#index_US = 'IXT'\n",
    "index_US = 'XLK'\n",
    "#stan_US = ['IXT','VIX','BitCoin','MSCI','ten_Year_Treasury']\n",
    "stan_US = ['XLK','VIX','BitCoin','MSCI','ten_Year_Treasury']"
   ]
  },
  {
   "cell_type": "markdown",
   "metadata": {
    "scrolled": false
   },
   "source": [
    "### 지표 설명\n",
    "+ [와이즈](http://www.wiseindex.com/Index/Index#/WI610.0) - 와이즈 IT하드웨어 지수\n",
    "+ IXT : TECHNOLOGY SELECT SECTOR INDEX  - 현재 미사용, 온전히 3년치를 얻을 방법을 못 찾음\n",
    "+ [XLK](https://finance.yahoo.com/quote/XLK?p=XLK&.tsrc=fin-srch): Technology Select Sector SPDR Fund \n",
    "+ [VIX](https://finance.yahoo.com/quote/ZM?p=ZM&.tsrc=fin-srch) : VelocityShares Daily 2x VIX Short-Term ETN, S&P500지수 옵션 가격의 향후 30일 동안의 변동성에 대한 시장의 기대\n",
    "+ [MSCI](https://finance.yahoo.com/quote/EEM?p=EEM&.tsrc=fin-srch) : iShares MSCI Emerging Markets ETF\n",
    "+ [ten_Year_Treasury](https://finance.yahoo.com/quote/IEF?p=IEF&.tsrc=fin-srch) : iShares 7-10 Year Treasury Bond ETF"
   ]
  },
  {
   "cell_type": "markdown",
   "metadata": {},
   "source": [
    "### Doc\n",
    "+ 시간대 조절(WIP)  \n",
    "    1. concat\n",
    "    2. dropna\n",
    "    3. number index\n",
    "    4. kor index를 다 -1 shift\n",
    "    5. process  \n",
    "**note** : 이것이 유의미한 차이를 보일까?\n",
    "\n",
    "--- \n",
    "\n",
    "+ 한국 기업 ~IXT(XLK로 대체)+ VIX + 비트코인 + 미국 금리(DGS10) + MSCI"
   ]
  },
  {
   "cell_type": "markdown",
   "metadata": {},
   "source": [
    "# [OLS 초기설정](#INDEX)<a name=\"ols\"></a>"
   ]
  },
  {
   "cell_type": "code",
   "execution_count": null,
   "metadata": {},
   "outputs": [],
   "source": [
    "import itertools as it\n",
    "start='2016-01-04'\n",
    "end='2018-12-28'\n",
    "ols_ind=[]\n",
    "for i in stan_US:\n",
    "    tmp = pd.read_csv('data/'+i+'.csv',index_col='Date',engine='c')\n",
    "    tmp = tmp[['Close']]\n",
    "    tmp = tmp.loc[start:end]\n",
    "    tmp.columns = [i]\n",
    "    ols_ind.append(tmp)\n",
    "    \n",
    "ols_dep1 = pd.read_csv('data/Samsung_Electronics.csv',index_col='Date',engine='c')\n",
    "ols_dep1 = ols_dep1[['Close']]\n",
    "ols_dep1 = ols_dep1.loc[start:end]\n",
    "ols_dep1.columns = ['Samsung_Electronics']\n",
    "\n",
    "ols_dep2 = pd.read_csv('data/네이버.csv',index_col='Date',engine='c')\n",
    "ols_dep2 = ols_dep2[['Close']]\n",
    "ols_dep2 = ols_dep2.loc[start:end]\n",
    "ols_dep2.columns = ['네이버']"
   ]
  },
  {
   "cell_type": "markdown",
   "metadata": {},
   "source": [
    "### [1 Var OLS](#INDEX)<a name=\"1ols\"></a>"
   ]
  },
  {
   "cell_type": "code",
   "execution_count": null,
   "metadata": {},
   "outputs": [],
   "source": [
    "for idx in range(len(ols_ind)):\n",
    "    ols_df = pd.concat([ols_dep1, ols_ind[idx]], axis=1, sort=False)\n",
    "    #ols_df = ols_df.pct_change()\n",
    "    ols_df = ols_df[ols_df.select_dtypes(include=['number']).columns] * 100\n",
    "    ols_df = ols_df.dropna()\n",
    "    model_fit = ols('Samsung_Electronics'+'~1+'+stan_US[idx],data=ols_df).fit()\n",
    "    \n",
    "    print(model_fit.rsquared, end='')\n",
    "    print(' :삼성전자 ~ '+ stan_US[idx])\n",
    "    #print(model_fit.summary())\n",
    "    \n",
    "for idx in range(len(ols_ind)):\n",
    "    ols_df = pd.concat([ols_dep2, ols_ind[idx]], axis=1, sort=False)\n",
    "    #ols_df = ols_df.pct_change()\n",
    "    ols_df = ols_df[ols_df.select_dtypes(include=['number']).columns] * 100\n",
    "    ols_df = ols_df.dropna()\n",
    "    model_fit = ols('네이버'+'~1+'+stan_US[idx],data=ols_df).fit()\n",
    "    print(model_fit.rsquared, end='')\n",
    "    print(' : 네이버 ~ ' + stan_US[idx])\n",
    "    #print(model_fit.summary())"
   ]
  },
  {
   "cell_type": "markdown",
   "metadata": {},
   "source": [
    "### [2 Var OLS](#INDEX)<a name=\"2ols\"></a>"
   ]
  },
  {
   "cell_type": "code",
   "execution_count": null,
   "metadata": {
    "scrolled": true
   },
   "outputs": [],
   "source": [
    "com = it.combinations(range(len(stan_US)), 2)\n",
    "for idx in com:\n",
    "    ols_df = pd.concat([ols_dep1, ols_ind[idx[0]],ols_ind[idx[1]]], axis=1, sort=False)\n",
    "    #ols_df = ols_df.pct_change()\n",
    "    ols_df = ols_df.dropna()\n",
    "    model_fit = ols('Samsung_Electronics'+'~1+'+stan_US[idx[0]]+'+'+stan_US[idx[1]],data=ols_df).fit()\n",
    "    print('%.5f'%(model_fit.rsquared), end='')\n",
    "    print(' :삼성전자 ~ '+ stan_US[idx[0]] +' + '+stan_US[idx[1]])\n",
    "    #print(model_fit.summary())\n",
    "com = it.combinations(range(len(stan_US)), 2)  \n",
    "for idx in com:\n",
    "    ols_df = pd.concat([ols_dep2, ols_ind[idx[0]],ols_ind[idx[1]]], axis=1, sort=False)\n",
    "    #ols_df = ols_df.pct_change()\n",
    "    ols_df = ols_df.dropna()\n",
    "    model_fit = ols('네이버'+'~1+'+stan_US[idx[0]]+'+'+stan_US[idx[1]],data=ols_df).fit()\n",
    "    print('%.5f'%(model_fit.rsquared), end='')\n",
    "    print(' :네이버 ~ '+ stan_US[idx[0]] +' + '+stan_US[idx[1]])\n",
    "    #print(model_fit.summary())"
   ]
  },
  {
   "cell_type": "markdown",
   "metadata": {},
   "source": [
    "### [3 Var OLS](#INDEX)<a name=\"3ols\"></a>"
   ]
  },
  {
   "cell_type": "code",
   "execution_count": null,
   "metadata": {},
   "outputs": [],
   "source": [
    "com = it.combinations(range(len(stan_US)), 3)\n",
    "for idx in com:\n",
    "    ols_df = pd.concat([ols_dep1, ols_ind[idx[0]],ols_ind[idx[1]],ols_ind[idx[2]]], axis=1, sort=False)\n",
    "    ols_df = ols_df.pct_change()\n",
    "    ols_df = ols_df.dropna()\n",
    "    model_fit = ols('Samsung_Electronics'+'~1+'+stan_US[idx[0]]+'+'+stan_US[idx[1]]+'+'+stan_US[idx[2]],data=ols_df).fit()\n",
    "    print('%.5f'%(model_fit.rsquared), end='')\n",
    "    print(' :삼성전자 ~ '+ stan_US[idx[0]] +' + '+stan_US[idx[1]]+' + '+stan_US[idx[2]])\n",
    "    #print(model_fit.summary())\n",
    "com = it.combinations(range(len(stan_US)), 3)  \n",
    "for idx in com:\n",
    "    ols_df = pd.concat([ols_dep2, ols_ind[idx[0]],ols_ind[idx[1]],ols_ind[idx[2]]], axis=1, sort=False)\n",
    "    ols_df = ols_df.pct_change()\n",
    "    ols_df = ols_df.dropna()\n",
    "    model_fit = ols('네이버'+'~1+'+stan_US[idx[0]]+'+'+stan_US[idx[1]] + '+'+stan_US[idx[2]],data=ols_df).fit()\n",
    "    print('%.5f'%(model_fit.rsquared), end='')\n",
    "    print(' :네이버 ~ '+ stan_US[idx[0]] +' + '+stan_US[idx[1]]+ ' + ' + stan_US[idx[2]])\n",
    "    #print(model_fit.summary())"
   ]
  },
  {
   "cell_type": "markdown",
   "metadata": {},
   "source": [
    "### [4 Var OLS](#INDEX)<a name=\"4ols\"></a>"
   ]
  },
  {
   "cell_type": "code",
   "execution_count": null,
   "metadata": {},
   "outputs": [],
   "source": [
    "com = it.combinations(range(len(stan_US)), 4)\n",
    "for idx in com:\n",
    "    ols_df = pd.concat([ols_dep1, ols_ind[idx[0]],ols_ind[idx[1]],ols_ind[idx[2]],ols_ind[idx[3]]], axis=1, sort=False)\n",
    "    ols_df = ols_df.pct_change()\n",
    "    ols_df = ols_df.dropna()\n",
    "    model_fit = ols('Samsung_Electronics'+'~1+'+stan_US[idx[0]]+'+'+stan_US[idx[1]]+'+'+stan_US[idx[2]],data=ols_df).fit()\n",
    "    print('%.5f'%(model_fit.rsquared), end='')\n",
    "    print(' :삼성전자 ~ '+ stan_US[idx[0]] +' + '+stan_US[idx[1]]+' + '+stan_US[idx[1]]+' + '+stan_US[idx[2]])\n",
    "    #print(model_fit.summary())\n",
    "com = it.combinations(range(len(stan_US)), 4)  \n",
    "for idx in com:\n",
    "    ols_df = pd.concat([ols_dep2, ols_ind[idx[0]],ols_ind[idx[1]],ols_ind[idx[2]],ols_ind[idx[3]]], axis=1, sort=False)\n",
    "    ols_df = ols_df.pct_change()\n",
    "    ols_df = ols_df.dropna()\n",
    "    model_fit = ols('네이버'+'~1+'+stan_US[idx[0]]+'+'+stan_US[idx[1]] + '+'+stan_US[idx[2]],data=ols_df).fit()\n",
    "    print('%.5f'%(model_fit.rsquared), end='')\n",
    "    print(' :네이버 ~ '+ stan_US[idx[0]] +' + '+stan_US[idx[1]]+ ' + ' + stan_US[idx[1]]+' + '+stan_US[idx[2]])\n",
    "    #print(model_fit.summary())"
   ]
  },
  {
   "cell_type": "markdown",
   "metadata": {},
   "source": [
    "# [데이터 확인](#INDEX)<a name=\"확인\"></a>"
   ]
  },
  {
   "cell_type": "code",
   "execution_count": null,
   "metadata": {},
   "outputs": [],
   "source": [
    "an.isValid(stan_US)"
   ]
  },
  {
   "cell_type": "code",
   "execution_count": null,
   "metadata": {
    "scrolled": false
   },
   "outputs": [],
   "source": [
    "an.isValid(ten_kor)\n",
    "#an.isValid(ten_US)"
   ]
  },
  {
   "cell_type": "markdown",
   "metadata": {},
   "source": [
    "# [Symbol List 초기화 & 불러오기](#INDEX)<a name=\"init\"></a>\n",
    "+ IXT 같은 index 는 잘 안불러진다.\n",
    "+ 잘 받았는지 검증하는 루틴이 필요함. "
   ]
  },
  {
   "cell_type": "code",
   "execution_count": null,
   "metadata": {
    "scrolled": true
   },
   "outputs": [],
   "source": [
    "df = sl.init_symbol_DF()\n",
    "sl.add_symbol(df,'삼성SDS','018260.KS',init=True)\n",
    "df = sl.init_symbol_DF()"
   ]
  },
  {
   "cell_type": "markdown",
   "metadata": {},
   "source": [
    "# [Symbol List 에서 데이터 받기](#INDEX)<a name=\"down\"></a>"
   ]
  },
  {
   "cell_type": "markdown",
   "metadata": {},
   "source": [
    "TODO::이전에 받은 날짜에 이어서 붙이는거 추가하자."
   ]
  },
  {
   "cell_type": "code",
   "execution_count": null,
   "metadata": {
    "scrolled": true
   },
   "outputs": [],
   "source": [
    "sl.download()"
   ]
  },
  {
   "cell_type": "markdown",
   "metadata": {},
   "source": [
    "# [co-kurtosis WIP](#INDEX)<a name=\"cokur\"></a>\n",
    "+ how to calculate coskew and cokurtosis\n",
    "https://stackoverflow.com/questions/41890870/how-to-calculate-coskew-and-cokurtosis\n",
    "\n",
    "생각을 좀 해봐야겠다.\n",
    "\n",
    "$$ K(X,X,Y,Y)= {E[(X - E[X])^2(Y - E[Y]^2)] \\over \\sigma_X^2\\sigma_Y^2}$$"
   ]
  },
  {
   "cell_type": "markdown",
   "metadata": {},
   "source": [
    "# [Joint plot](#INDEX)<a name=\"joint\"></a>\n",
    "https://seaborn.pydata.org/generated/seaborn.jointplot.html"
   ]
  },
  {
   "cell_type": "code",
   "execution_count": null,
   "metadata": {
    "scrolled": false
   },
   "outputs": [],
   "source": [
    "for idx in range(0,len(ten_kor)):\n",
    "    an.joint(ten_kor[idx],index_US)"
   ]
  },
  {
   "cell_type": "code",
   "execution_count": null,
   "metadata": {
    "scrolled": false
   },
   "outputs": [],
   "source": [
    "for idx in range(0,len(ten_US)):\n",
    "    an.joint(ten_US[idx],index_kor)"
   ]
  }
 ],
 "metadata": {
  "kernelspec": {
   "display_name": "Python 3",
   "language": "python",
   "name": "python3"
  },
  "language_info": {
   "codemirror_mode": {
    "name": "ipython",
    "version": 3
   },
   "file_extension": ".py",
   "mimetype": "text/x-python",
   "name": "python",
   "nbconvert_exporter": "python",
   "pygments_lexer": "ipython3",
   "version": "3.7.2"
  }
 },
 "nbformat": 4,
 "nbformat_minor": 2
}
