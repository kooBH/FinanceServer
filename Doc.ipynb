{
 "cells": [
  {
   "cell_type": "markdown",
   "metadata": {},
   "source": [
    "### Note\n",
    "read_csv 에서 오류가 난다면 Analyze.py에\n",
    "\n",
    "```pytho\n",
    "engine = 'python'\n",
    "```\n",
    "를 추가해 줘보자.\n",
    "\n",
    "```python\n",
    "pd.read_csv('data/'+target_1 + '.csv',index_col='Date',engine='python')\n",
    "```\n",
    "\n",
    "또 csv 파일이 제대로 되어있는지 확인하여보자  \n",
    "메모장으로 열었을 시에 제대로 ',' 로 구분되어야한다."
   ]
  },
  {
   "cell_type": "code",
   "execution_count": 1,
   "metadata": {
    "scrolled": false
   },
   "outputs": [],
   "source": [
    "import SymbolList as sl\n",
    "import Analyze as an\n",
    "import numpy as np\n",
    "import pandas as pd\n",
    "import datetime as dt \n",
    "from statsmodels.formula.api import ols \n",
    "import seaborn as sns;  sns.set()\n",
    "import matplotlib.pyplot as plt\n",
    "import matplotlib as mpl"
   ]
  },
  {
   "cell_type": "markdown",
   "metadata": {},
   "source": [
    "+ 한글 출력을 위한 폰트 설정, 각 PC마다 환경이 다름\n",
    "+ 사용할 지표들의 이름"
   ]
  },
  {
   "cell_type": "markdown",
   "metadata": {},
   "source": [
    "1. 인덱스들은 야후에서 잘 안받아짐, 수동으로 받은거 csv 로 쓸수 있게 다듬자.\n",
    "2. 한글 폰트\n",
    "3. 데이터 프레임 무결성 검증 루틴\n",
    "4. 축소되지 않은 출력물\n",
    "5. OLS 루틴"
   ]
  },
  {
   "cell_type": "code",
   "execution_count": 5,
   "metadata": {
    "scrolled": false
   },
   "outputs": [],
   "source": [
    "# matplot 설정\n",
    "mpl.rcParams['axes.unicode_minus'] = False\n",
    "# -*- coding: utf-8 -*-\n",
    "plt.rc('font', family=\"LG PC\")\n",
    "# 리스트 설정\n",
    "ten_kor = ['Samsung_Electronics','SK_hynix','LG_Electronics',\n",
    "    '삼성SDI','엔씨소프트','카카오','삼성전기',\n",
    "    'LG디스플레이','삼성SDS','네이버']\n",
    "ten_US = [  'Apple','Microsoft','IBM','Oracle',\n",
    "            'Amazon','Tesla','Alphabet','Facebook',\n",
    "            'Cisco','타이완 반도체','Intel','오라클','SAP']\n",
    "index_kor = '와이즈'\n",
    "index_US = 'IXT'\n",
    "#stan_US = ['IXT','VIX','BitCoin','MSCI','ten_Year_Treasury']\n",
    "stan_US = ['XLK','VIX','BitCoin','MSCI','ten_Year_Treasury']"
   ]
  },
  {
   "cell_type": "markdown",
   "metadata": {},
   "source": [
    "1. concat\n",
    "2. dropna\n",
    "3. number index\n",
    "4. kor index를 다 -1 \n",
    "5. process\n",
    "\n",
    "+ 한국 기업 ~IXT+ VIX + 비트코인 + 미국 금리(DGS10) + MSCI\n",
    "\n",
    "---\n",
    "\n",
    "시간대가 문제이다. \n",
    "일단 "
   ]
  },
  {
   "cell_type": "markdown",
   "metadata": {},
   "source": [
    "### OLS"
   ]
  },
  {
   "cell_type": "code",
   "execution_count": 20,
   "metadata": {},
   "outputs": [],
   "source": [
    "import itertools as it\n",
    "start='2016-01-04'\n",
    "end='2018-12-28'\n",
    "ols_ind=[]\n",
    "for i in stan_US:\n",
    "    tmp = pd.read_csv('data/'+i+'.csv',index_col='Date',engine='c')\n",
    "    tmp = tmp[['Close']]\n",
    "    tmp = tmp.loc[start:end]\n",
    "    tmp.columns = [i]\n",
    "    ols_ind.append(tmp)\n",
    "    \n",
    "ols_dep1 = pd.read_csv('data/Samsung_Electronics.csv',index_col='Date',engine='c')\n",
    "ols_dep1 = ols_dep1[['Close']]\n",
    "ols_dep1 = ols_dep1.loc[start:end]\n",
    "ols_dep1.columns = ['Samsung_Electronics']\n",
    "\n",
    "ols_dep2 = pd.read_csv('data/네이버.csv',index_col='Date',engine='c')\n",
    "ols_dep2 = ols_dep2[['Close']]\n",
    "ols_dep2 = ols_dep2.loc[start:end]\n",
    "ols_dep2.columns = ['네이버']"
   ]
  },
  {
   "cell_type": "markdown",
   "metadata": {},
   "source": [
    "### 1 Var OLS"
   ]
  },
  {
   "cell_type": "code",
   "execution_count": 43,
   "metadata": {},
   "outputs": [
    {
     "name": "stdout",
     "output_type": "stream",
     "text": [
      "0.696594066543756 :삼성전자 ~ XLK\n",
      "0.10984004203338982 :삼성전자 ~ VIX\n",
      "0.5509360270498003 :삼성전자 ~ BitCoin\n",
      "0.8723481270006285 :삼성전자 ~ MSCI\n",
      "0.425379182528571 :삼성전자 ~ ten_Year_Treasury\n",
      "0.010481082889032711 : 네이버 ~ XLK\n",
      "0.29466118012643683 : 네이버 ~ VIX\n",
      "0.04615024389757394 : 네이버 ~ BitCoin\n",
      "0.20497433233128448 : 네이버 ~ MSCI\n",
      "0.0062850960222518015 : 네이버 ~ ten_Year_Treasury\n"
     ]
    }
   ],
   "source": [
    "for idx in range(len(ols_ind)):\n",
    "    ols_df = pd.concat([ols_dep1, ols_ind[idx]], axis=1, sort=False)\n",
    "    #ols_df = ols_df.pct_change()\n",
    "    ols_df = ols_df[ols_df.select_dtypes(include=['number']).columns] * 100\n",
    "    ols_df = ols_df.dropna()\n",
    "    model_fit = ols('Samsung_Electronics'+'~1+'+stan_US[idx],data=ols_df).fit()\n",
    "    \n",
    "    print(model_fit.rsquared, end='')\n",
    "    print(' :삼성전자 ~ '+ stan_US[idx])\n",
    "    #print(model_fit.summary())\n",
    "    \n",
    "for idx in range(len(ols_ind)):\n",
    "    ols_df = pd.concat([ols_dep2, ols_ind[idx]], axis=1, sort=False)\n",
    "    #ols_df = ols_df.pct_change()\n",
    "    ols_df = ols_df[ols_df.select_dtypes(include=['number']).columns] * 100\n",
    "    ols_df = ols_df.dropna()\n",
    "    model_fit = ols('네이버'+'~1+'+stan_US[idx],data=ols_df).fit()\n",
    "    print(model_fit.rsquared, end='')\n",
    "    print(' : 네이버 ~ ' + stan_US[idx])\n",
    "    #print(model_fit.summary())"
   ]
  },
  {
   "cell_type": "markdown",
   "metadata": {},
   "source": [
    "### 2 Var OLS"
   ]
  },
  {
   "cell_type": "code",
   "execution_count": 33,
   "metadata": {
    "scrolled": true
   },
   "outputs": [
    {
     "name": "stdout",
     "output_type": "stream",
     "text": [
      "0.76909 :삼성전자 ~ XLK + VIX\n",
      "0.71104 :삼성전자 ~ XLK + BitCoin\n",
      "0.88257 :삼성전자 ~ XLK + MSCI\n",
      "0.70558 :삼성전자 ~ XLK + ten_Year_Treasury\n",
      "0.63078 :삼성전자 ~ VIX + BitCoin\n",
      "0.87886 :삼성전자 ~ VIX + MSCI\n",
      "0.59696 :삼성전자 ~ VIX + ten_Year_Treasury\n",
      "0.87454 :삼성전자 ~ BitCoin + MSCI\n",
      "0.60996 :삼성전자 ~ BitCoin + ten_Year_Treasury\n",
      "0.88705 :삼성전자 ~ MSCI + ten_Year_Treasury\n",
      "0.29846 :네이버 ~ XLK + VIX\n",
      "0.05715 :네이버 ~ XLK + BitCoin\n",
      "0.45340 :네이버 ~ XLK + MSCI\n",
      "0.10498 :네이버 ~ XLK + ten_Year_Treasury\n",
      "0.32590 :네이버 ~ VIX + BitCoin\n",
      "0.39528 :네이버 ~ VIX + MSCI\n",
      "0.29483 :네이버 ~ VIX + ten_Year_Treasury\n",
      "0.28534 :네이버 ~ BitCoin + MSCI\n",
      "0.11628 :네이버 ~ BitCoin + ten_Year_Treasury\n",
      "0.39222 :네이버 ~ MSCI + ten_Year_Treasury\n"
     ]
    }
   ],
   "source": [
    "com = it.combinations(range(len(stan_US)), 2)\n",
    "for idx in com:\n",
    "    ols_df = pd.concat([ols_dep1, ols_ind[idx[0]],ols_ind[idx[1]]], axis=1, sort=False)\n",
    "    #ols_df = ols_df.pct_change()\n",
    "    ols_df = ols_df.dropna()\n",
    "    model_fit = ols('Samsung_Electronics'+'~1+'+stan_US[idx[0]]+'+'+stan_US[idx[1]],data=ols_df).fit()\n",
    "    print('%.5f'%(model_fit.rsquared), end='')\n",
    "    print(' :삼성전자 ~ '+ stan_US[idx[0]] +' + '+stan_US[idx[1]])\n",
    "    #print(model_fit.summary())\n",
    "com = it.combinations(range(len(stan_US)), 2)  \n",
    "for idx in com:\n",
    "    ols_df = pd.concat([ols_dep2, ols_ind[idx[0]],ols_ind[idx[1]]], axis=1, sort=False)\n",
    "    #ols_df = ols_df.pct_change()\n",
    "    ols_df = ols_df.dropna()\n",
    "    model_fit = ols('네이버'+'~1+'+stan_US[idx[0]]+'+'+stan_US[idx[1]],data=ols_df).fit()\n",
    "    print('%.5f'%(model_fit.rsquared), end='')\n",
    "    print(' :네이버 ~ '+ stan_US[idx[0]] +' + '+stan_US[idx[1]])\n",
    "    #print(model_fit.summary())"
   ]
  },
  {
   "cell_type": "markdown",
   "metadata": {},
   "source": [
    "### 3 Var OLS"
   ]
  },
  {
   "cell_type": "code",
   "execution_count": 52,
   "metadata": {},
   "outputs": [
    {
     "name": "stdout",
     "output_type": "stream",
     "text": [
      "0.00822 :삼성전자 ~ XLK + VIX + BitCoin\n",
      "0.04025 :삼성전자 ~ XLK + VIX + MSCI\n",
      "0.00797 :삼성전자 ~ XLK + VIX + ten_Year_Treasury\n",
      "0.03959 :삼성전자 ~ XLK + BitCoin + MSCI\n",
      "0.00360 :삼성전자 ~ XLK + BitCoin + ten_Year_Treasury\n",
      "0.04151 :삼성전자 ~ XLK + MSCI + ten_Year_Treasury\n",
      "0.02730 :삼성전자 ~ VIX + BitCoin + MSCI\n",
      "0.00829 :삼성전자 ~ VIX + BitCoin + ten_Year_Treasury\n",
      "0.02610 :삼성전자 ~ VIX + MSCI + ten_Year_Treasury\n",
      "0.02645 :삼성전자 ~ BitCoin + MSCI + ten_Year_Treasury\n",
      "0.00642 :네이버 ~ XLK + VIX + BitCoin\n",
      "0.00986 :네이버 ~ XLK + VIX + MSCI\n",
      "0.00720 :네이버 ~ XLK + VIX + ten_Year_Treasury\n",
      "0.00793 :네이버 ~ XLK + BitCoin + MSCI\n",
      "0.00209 :네이버 ~ XLK + BitCoin + ten_Year_Treasury\n",
      "0.00876 :네이버 ~ XLK + MSCI + ten_Year_Treasury\n",
      "0.00848 :네이버 ~ VIX + BitCoin + MSCI\n",
      "0.00729 :네이버 ~ VIX + BitCoin + ten_Year_Treasury\n",
      "0.00876 :네이버 ~ VIX + MSCI + ten_Year_Treasury\n",
      "0.00778 :네이버 ~ BitCoin + MSCI + ten_Year_Treasury\n"
     ]
    }
   ],
   "source": [
    "com = it.combinations(range(len(stan_US)), 3)\n",
    "for idx in com:\n",
    "    ols_df = pd.concat([ols_dep1, ols_ind[idx[0]],ols_ind[idx[1]],ols_ind[idx[2]]], axis=1, sort=False)\n",
    "    ols_df = ols_df.pct_change()\n",
    "    ols_df = ols_df.dropna()\n",
    "    model_fit = ols('Samsung_Electronics'+'~1+'+stan_US[idx[0]]+'+'+stan_US[idx[1]]+'+'+stan_US[idx[2]],data=ols_df).fit()\n",
    "    print('%.5f'%(model_fit.rsquared), end='')\n",
    "    print(' :삼성전자 ~ '+ stan_US[idx[0]] +' + '+stan_US[idx[1]]+' + '+stan_US[idx[2]])\n",
    "    #print(model_fit.summary())\n",
    "com = it.combinations(range(len(stan_US)), 3)  \n",
    "for idx in com:\n",
    "    ols_df = pd.concat([ols_dep2, ols_ind[idx[0]],ols_ind[idx[1]],ols_ind[idx[2]]], axis=1, sort=False)\n",
    "    ols_df = ols_df.pct_change()\n",
    "    ols_df = ols_df.dropna()\n",
    "    model_fit = ols('네이버'+'~1+'+stan_US[idx[0]]+'+'+stan_US[idx[1]] + '+'+stan_US[idx[2]],data=ols_df).fit()\n",
    "    print('%.5f'%(model_fit.rsquared), end='')\n",
    "    print(' :네이버 ~ '+ stan_US[idx[0]] +' + '+stan_US[idx[1]]+ ' + ' + stan_US[idx[2]])\n",
    "    #print(model_fit.summary())"
   ]
  },
  {
   "cell_type": "markdown",
   "metadata": {},
   "source": [
    "### 4 Var OLS"
   ]
  },
  {
   "cell_type": "code",
   "execution_count": 50,
   "metadata": {},
   "outputs": [
    {
     "name": "stdout",
     "output_type": "stream",
     "text": [
      "0.00822 :삼성전자 ~ XLK + VIX + VIX + BitCoin\n",
      "0.00822 :삼성전자 ~ XLK + VIX + VIX + BitCoin\n",
      "0.04025 :삼성전자 ~ XLK + VIX + VIX + MSCI\n",
      "0.03959 :삼성전자 ~ XLK + BitCoin + BitCoin + MSCI\n",
      "0.02730 :삼성전자 ~ VIX + BitCoin + BitCoin + MSCI\n",
      "0.00642 :네이버 ~ XLK + VIX + VIX + BitCoin\n",
      "0.00642 :네이버 ~ XLK + VIX + VIX + BitCoin\n",
      "0.00986 :네이버 ~ XLK + VIX + VIX + MSCI\n",
      "0.00793 :네이버 ~ XLK + BitCoin + BitCoin + MSCI\n",
      "0.00848 :네이버 ~ VIX + BitCoin + BitCoin + MSCI\n"
     ]
    }
   ],
   "source": [
    "com = it.combinations(range(len(stan_US)), 4)\n",
    "for idx in com:\n",
    "    ols_df = pd.concat([ols_dep1, ols_ind[idx[0]],ols_ind[idx[1]],ols_ind[idx[2]],ols_ind[idx[3]]], axis=1, sort=False)\n",
    "    ols_df = ols_df.pct_change()\n",
    "    ols_df = ols_df.dropna()\n",
    "    model_fit = ols('Samsung_Electronics'+'~1+'+stan_US[idx[0]]+'+'+stan_US[idx[1]]+'+'+stan_US[idx[2]],data=ols_df).fit()\n",
    "    print('%.5f'%(model_fit.rsquared), end='')\n",
    "    print(' :삼성전자 ~ '+ stan_US[idx[0]] +' + '+stan_US[idx[1]]+' + '+stan_US[idx[1]]+' + '+stan_US[idx[2]])\n",
    "    #print(model_fit.summary())\n",
    "com = it.combinations(range(len(stan_US)), 4)  \n",
    "for idx in com:\n",
    "    ols_df = pd.concat([ols_dep2, ols_ind[idx[0]],ols_ind[idx[1]],ols_ind[idx[2]],ols_ind[idx[3]]], axis=1, sort=False)\n",
    "    ols_df = ols_df.pct_change()\n",
    "    ols_df = ols_df.dropna()\n",
    "    model_fit = ols('네이버'+'~1+'+stan_US[idx[0]]+'+'+stan_US[idx[1]] + '+'+stan_US[idx[2]],data=ols_df).fit()\n",
    "    print('%.5f'%(model_fit.rsquared), end='')\n",
    "    print(' :네이버 ~ '+ stan_US[idx[0]] +' + '+stan_US[idx[1]]+ ' + ' + stan_US[idx[1]]+' + '+stan_US[idx[2]])\n",
    "    #print(model_fit.summary())"
   ]
  },
  {
   "cell_type": "markdown",
   "metadata": {},
   "source": [
    "### 데이터 유효성 검사"
   ]
  },
  {
   "cell_type": "code",
   "execution_count": null,
   "metadata": {},
   "outputs": [],
   "source": [
    "an.isValid(stan_US)"
   ]
  },
  {
   "cell_type": "code",
   "execution_count": null,
   "metadata": {
    "scrolled": false
   },
   "outputs": [],
   "source": [
    "an.isValid(ten_kor)\n",
    "#an.isValid(ten_US)"
   ]
  },
  {
   "cell_type": "markdown",
   "metadata": {},
   "source": [
    "## Symbol List 초기화 & 불러오기\n",
    "+ IXT 같은 index 는 잘 안불러진다.\n",
    "+ 잘 받았는지 검증하는 루틴이 필요함. "
   ]
  },
  {
   "cell_type": "code",
   "execution_count": 3,
   "metadata": {
    "scrolled": true
   },
   "outputs": [
    {
     "name": "stdout",
     "output_type": "stream",
     "text": [
      "DUP : 삼성SDS\n",
      "DUP : Apple\n",
      "DUP : Microsoft\n",
      "DUP : IBM\n",
      "DUP : Oracle\n",
      "DUP : Amazon\n",
      "DUP : Tesla\n",
      "DUP : Alphabet\n",
      "DUP : Facebook\n",
      "DUP : Cisco\n",
      "DUP : 타이완 반도체\n",
      "DUP : Intel\n",
      "DUP : 오라클\n",
      "DUP : SAP\n",
      "DUP : Samsung_Electronics\n",
      "DUP : SK_hynix\n",
      "DUP : LG_Electronics\n",
      "DUP : 삼성SDI\n",
      "DUP : 엔씨소프트\n",
      "DUP : 삼성SDS\n",
      "DUP : 카카오\n",
      "DUP : 삼성전기\n",
      "DUP : LG디스플레이\n",
      "DUP : 네이버\n",
      "ADD : XLK\n",
      "DUP : BitCoin\n",
      "DUP : MSCI\n",
      "DUP : ten_Year_Treasury\n",
      "DUP : VIX\n"
     ]
    }
   ],
   "source": [
    "df = sl.init_symbol_DF()\n",
    "sl.add_symbol(df,'삼성SDS','018260.KS',init=True)\n",
    "df = sl.init_symbol_DF()"
   ]
  },
  {
   "cell_type": "markdown",
   "metadata": {},
   "source": [
    "## 2. Symbol List 에서 데이터 받기"
   ]
  },
  {
   "cell_type": "markdown",
   "metadata": {},
   "source": [
    "TODO::이전에 받은 날짜에 이어서 붙이는거 추가하자."
   ]
  },
  {
   "cell_type": "code",
   "execution_count": 4,
   "metadata": {
    "scrolled": true
   },
   "outputs": [
    {
     "name": "stdout",
     "output_type": "stream",
     "text": [
      "Note::Processing  삼성SDS\n",
      "  Pass::Alread up-to-date.\n",
      "Note::Processing  Apple\n",
      "  Pass::Alread up-to-date.\n",
      "Note::Processing  Microsoft\n",
      "  Pass::Alread up-to-date.\n",
      "Note::Processing  IBM\n",
      "  Pass::Alread up-to-date.\n",
      "Note::Processing  Oracle\n",
      "  Pass::Alread up-to-date.\n",
      "Note::Processing  Amazon\n",
      "  Pass::Alread up-to-date.\n",
      "Note::Processing  Tesla\n",
      "  Pass::Alread up-to-date.\n",
      "Note::Processing  Alphabet\n",
      "  Pass::Alread up-to-date.\n",
      "Note::Processing  Facebook\n",
      "  Pass::Alread up-to-date.\n",
      "Note::Processing  Cisco\n",
      "  Pass::Alread up-to-date.\n",
      "Note::Processing  타이완 반도체\n",
      "  Pass::Alread up-to-date.\n",
      "Note::Processing  Intel\n",
      "  Pass::Alread up-to-date.\n",
      "Note::Processing  오라클\n",
      "  Pass::Alread up-to-date.\n",
      "Note::Processing  SAP\n",
      "  Pass::Alread up-to-date.\n",
      "Note::Processing  Samsung_Electronics\n",
      "  Pass::Alread up-to-date.\n",
      "Note::Processing  SK_hynix\n",
      "  Pass::Alread up-to-date.\n",
      "Note::Processing  LG_Electronics\n",
      "  Pass::Alread up-to-date.\n",
      "Note::Processing  삼성SDI\n",
      "  Pass::Alread up-to-date.\n",
      "Note::Processing  엔씨소프트\n",
      "  Pass::Alread up-to-date.\n",
      "Note::Processing  카카오\n",
      "  Pass::Alread up-to-date.\n",
      "Note::Processing  삼성전기\n",
      "  Pass::Alread up-to-date.\n",
      "Note::Processing  LG디스플레이\n",
      "  Pass::Alread up-to-date.\n",
      "Note::Processing  네이버\n",
      "  Pass::Alread up-to-date.\n",
      "Note::Processing  VIX\n",
      "  Pass::Alread up-to-date.\n",
      "Note::Processing  MSCI_EM\n",
      "  Pass::Alread up-to-date.\n",
      "Note::Processing  OIL\n",
      "  Pass::Alread up-to-date.\n",
      "Note::Processing  BitCoin\n",
      "  Pass::Alread up-to-date.\n",
      "Note::Processing  MSCI\n",
      "  Pass::Alread up-to-date.\n",
      "Note::Processing  10 Year Treasury\n",
      "  Pass::Alread up-to-date.\n",
      "Note::Processing  10_Year_Treasury\n",
      "  Pass::Alread up-to-date.\n",
      "Note::Processing  ten_Year_Treasury\n",
      "  Pass::Alread up-to-date.\n",
      "Note::Processing  XLK\n",
      "[*********************100%***********************]  1 of 1 downloaded\n",
      "Note::data/symbol_list.csv is updated.\n"
     ]
    }
   ],
   "source": [
    "sl.download()"
   ]
  },
  {
   "cell_type": "markdown",
   "metadata": {},
   "source": [
    "## 3. 통계"
   ]
  },
  {
   "cell_type": "markdown",
   "metadata": {},
   "source": [
    "+ how to calculate coskew and cokurtosis\n",
    "https://stackoverflow.com/questions/41890870/how-to-calculate-coskew-and-cokurtosis\n",
    "\n",
    "생각을 좀 해봐야겠다.\n",
    "\n",
    "$$ K(X,X,Y,Y)= {E[(X - E[X])^2(Y - E[Y]^2)] \\over \\sigma_X^2\\sigma_Y^2}$$"
   ]
  },
  {
   "cell_type": "markdown",
   "metadata": {},
   "source": [
    "### 출력이 스크롤 안에 안 들어가게 하기\n",
    "Cell -> All output (또는 Current outputs) -> toggle scrolling\n",
    "\n",
    "### Joint plot\n",
    "https://seaborn.pydata.org/generated/seaborn.jointplot.html"
   ]
  },
  {
   "cell_type": "code",
   "execution_count": null,
   "metadata": {
    "scrolled": false
   },
   "outputs": [],
   "source": [
    "for idx in range(0,len(ten_kor)):\n",
    "    an.joint(ten_kor[idx],index_US)"
   ]
  },
  {
   "cell_type": "code",
   "execution_count": null,
   "metadata": {
    "scrolled": false
   },
   "outputs": [],
   "source": [
    "for idx in range(0,len(ten_US)):\n",
    "    an.joint(ten_US[idx],index_kor)"
   ]
  }
 ],
 "metadata": {
  "kernelspec": {
   "display_name": "Python 3",
   "language": "python",
   "name": "python3"
  },
  "language_info": {
   "codemirror_mode": {
    "name": "ipython",
    "version": 3
   },
   "file_extension": ".py",
   "mimetype": "text/x-python",
   "name": "python",
   "nbconvert_exporter": "python",
   "pygments_lexer": "ipython3",
   "version": "3.7.2"
  }
 },
 "nbformat": 4,
 "nbformat_minor": 2
}
