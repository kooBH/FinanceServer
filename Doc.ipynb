{
 "cells": [
  {
   "cell_type": "code",
   "execution_count": 34,
   "metadata": {},
   "outputs": [
    {
     "ename": "ModuleNotFoundError",
     "evalue": "No module named 'analysis'",
     "output_type": "error",
     "traceback": [
      "\u001b[1;31m---------------------------------------------------------------------------\u001b[0m",
      "\u001b[1;31mModuleNotFoundError\u001b[0m                       Traceback (most recent call last)",
      "\u001b[1;32m<ipython-input-34-deea8a7c56d3>\u001b[0m in \u001b[0;36m<module>\u001b[1;34m\u001b[0m\n\u001b[0;32m      1\u001b[0m \u001b[1;32mimport\u001b[0m \u001b[0mSymbolList\u001b[0m \u001b[1;32mas\u001b[0m \u001b[0msl\u001b[0m\u001b[1;33m\u001b[0m\u001b[1;33m\u001b[0m\u001b[0m\n\u001b[1;32m----> 2\u001b[1;33m \u001b[1;32mimport\u001b[0m \u001b[0manalysis\u001b[0m \u001b[1;32mas\u001b[0m \u001b[0man\u001b[0m\u001b[1;33m\u001b[0m\u001b[1;33m\u001b[0m\u001b[0m\n\u001b[0m\u001b[0;32m      3\u001b[0m \u001b[1;32mimport\u001b[0m \u001b[0mpandas\u001b[0m \u001b[1;32mas\u001b[0m \u001b[0mpd\u001b[0m\u001b[1;33m\u001b[0m\u001b[1;33m\u001b[0m\u001b[0m\n\u001b[0;32m      4\u001b[0m \u001b[1;32mimport\u001b[0m \u001b[0mdatetime\u001b[0m \u001b[1;32mas\u001b[0m \u001b[0mdt\u001b[0m\u001b[1;33m\u001b[0m\u001b[1;33m\u001b[0m\u001b[0m\n\u001b[0;32m      5\u001b[0m \u001b[1;32mimport\u001b[0m \u001b[0mfix_yahoo_finance\u001b[0m \u001b[1;32mas\u001b[0m \u001b[0myf\u001b[0m\u001b[1;33m\u001b[0m\u001b[1;33m\u001b[0m\u001b[0m\n",
      "\u001b[1;31mModuleNotFoundError\u001b[0m: No module named 'analysis'"
     ]
    }
   ],
   "source": [
    "import SymbolList as sl\n",
    "import analysis as an\n",
    "import pandas as pd\n",
    "import datetime as dt \n",
    "import fix_yahoo_finance as yf\n",
    "from statsmodels.formula.api import ols \n",
    "import seaborn as sns;  sns.set()"
   ]
  },
  {
   "cell_type": "markdown",
   "metadata": {},
   "source": [
    "## 1. Symbol List 초기화 또는 불러오기"
   ]
  },
  {
   "cell_type": "code",
   "execution_count": 35,
   "metadata": {},
   "outputs": [
    {
     "name": "stdout",
     "output_type": "stream",
     "text": [
      "DUP : 삼성SDS\n",
      "DUP : Apple\n",
      "DUP : Microsoft\n",
      "DUP : IBM\n",
      "DUP : Oracle\n",
      "DUP : Amazon\n",
      "DUP : Tesla\n",
      "DUP : Samsung_Electronics\n",
      "DUP : SK_hynix\n",
      "DUP : LG_Electronics\n",
      "DUP : NAVER\n",
      "DUP : KODEX_IT\n",
      "DUP : PHLX_Semiconductor\n",
      "DUP : TIGER_200_IT\n",
      "DUP : BTC_USD\n"
     ]
    }
   ],
   "source": [
    "df = sl.init_symbol_DF()\n",
    "sl.add_symbol(df,'삼성SDS','018260.KS',init=True)\n",
    "sl.add_symbol(df,'KODEX_IT','266370.KS')\n",
    "sl.add_symbol(df,'PHLX_Semiconductor','^SOX')\n",
    "sl.add_symbol(df,'TIGER_200_IT','139260.KS')\n",
    "sl.add_symbol(df,'BTC_USD','BTCUSD=X')\n",
    "df = sl.init_symbol_DF()"
   ]
  },
  {
   "cell_type": "code",
   "execution_count": 36,
   "metadata": {},
   "outputs": [
    {
     "data": {
      "text/html": [
       "<div>\n",
       "<style scoped>\n",
       "    .dataframe tbody tr th:only-of-type {\n",
       "        vertical-align: middle;\n",
       "    }\n",
       "\n",
       "    .dataframe tbody tr th {\n",
       "        vertical-align: top;\n",
       "    }\n",
       "\n",
       "    .dataframe thead th {\n",
       "        text-align: right;\n",
       "    }\n",
       "</style>\n",
       "<table border=\"1\" class=\"dataframe\">\n",
       "  <thead>\n",
       "    <tr style=\"text-align: right;\">\n",
       "      <th></th>\n",
       "      <th>Symbol</th>\n",
       "      <th>From</th>\n",
       "      <th>To</th>\n",
       "    </tr>\n",
       "    <tr>\n",
       "      <th>Name</th>\n",
       "      <th></th>\n",
       "      <th></th>\n",
       "      <th></th>\n",
       "    </tr>\n",
       "  </thead>\n",
       "  <tbody>\n",
       "    <tr>\n",
       "      <th>삼성SDS</th>\n",
       "      <td>018260.Ks</td>\n",
       "      <td>2010-01-01</td>\n",
       "      <td>2019-05-20</td>\n",
       "    </tr>\n",
       "    <tr>\n",
       "      <th>Apple</th>\n",
       "      <td>AAPL</td>\n",
       "      <td>2010-01-01</td>\n",
       "      <td>2019-05-20</td>\n",
       "    </tr>\n",
       "    <tr>\n",
       "      <th>Microsoft</th>\n",
       "      <td>MSFT</td>\n",
       "      <td>2010-01-01</td>\n",
       "      <td>2019-05-20</td>\n",
       "    </tr>\n",
       "    <tr>\n",
       "      <th>IBM</th>\n",
       "      <td>IBM</td>\n",
       "      <td>2010-01-01</td>\n",
       "      <td>2019-05-20</td>\n",
       "    </tr>\n",
       "    <tr>\n",
       "      <th>Oracle</th>\n",
       "      <td>ORCL</td>\n",
       "      <td>2010-01-01</td>\n",
       "      <td>2019-05-20</td>\n",
       "    </tr>\n",
       "    <tr>\n",
       "      <th>Amazon</th>\n",
       "      <td>AMZN</td>\n",
       "      <td>2010-01-01</td>\n",
       "      <td>2019-05-20</td>\n",
       "    </tr>\n",
       "    <tr>\n",
       "      <th>Tesla</th>\n",
       "      <td>TSLA</td>\n",
       "      <td>2010-01-01</td>\n",
       "      <td>2019-05-20</td>\n",
       "    </tr>\n",
       "    <tr>\n",
       "      <th>Samsung_Electronics</th>\n",
       "      <td>005930.KS</td>\n",
       "      <td>2010-01-01</td>\n",
       "      <td>2019-05-20</td>\n",
       "    </tr>\n",
       "    <tr>\n",
       "      <th>SK_hynix</th>\n",
       "      <td>000660.KS</td>\n",
       "      <td>2010-01-01</td>\n",
       "      <td>2019-05-20</td>\n",
       "    </tr>\n",
       "    <tr>\n",
       "      <th>LG_Electronics</th>\n",
       "      <td>066570.KS</td>\n",
       "      <td>2010-01-01</td>\n",
       "      <td>2019-05-20</td>\n",
       "    </tr>\n",
       "    <tr>\n",
       "      <th>NAVER</th>\n",
       "      <td>035420.KS</td>\n",
       "      <td>2010-01-01</td>\n",
       "      <td>2019-05-20</td>\n",
       "    </tr>\n",
       "    <tr>\n",
       "      <th>KODEX_IT</th>\n",
       "      <td>266370.Ks</td>\n",
       "      <td>2010-01-01</td>\n",
       "      <td>2019-05-20</td>\n",
       "    </tr>\n",
       "    <tr>\n",
       "      <th>PHLX_Semiconductor</th>\n",
       "      <td>^SOX</td>\n",
       "      <td>2010-01-01</td>\n",
       "      <td>2019-05-20</td>\n",
       "    </tr>\n",
       "    <tr>\n",
       "      <th>TIGER_200_IT</th>\n",
       "      <td>139260.KS</td>\n",
       "      <td>2010-01-01</td>\n",
       "      <td>2019-05-20</td>\n",
       "    </tr>\n",
       "    <tr>\n",
       "      <th>BTC-USD</th>\n",
       "      <td>BTCUSD=X</td>\n",
       "      <td>2010-01-01</td>\n",
       "      <td>2019-05-20</td>\n",
       "    </tr>\n",
       "    <tr>\n",
       "      <th>BTC_USD</th>\n",
       "      <td>BTCUSD=X</td>\n",
       "      <td>2010-01-01</td>\n",
       "      <td>2019-05-20</td>\n",
       "    </tr>\n",
       "  </tbody>\n",
       "</table>\n",
       "</div>"
      ],
      "text/plain": [
       "                        Symbol        From          To\n",
       "Name                                                  \n",
       "삼성SDS                018260.Ks  2010-01-01  2019-05-20\n",
       "Apple                     AAPL  2010-01-01  2019-05-20\n",
       "Microsoft                 MSFT  2010-01-01  2019-05-20\n",
       "IBM                        IBM  2010-01-01  2019-05-20\n",
       "Oracle                    ORCL  2010-01-01  2019-05-20\n",
       "Amazon                    AMZN  2010-01-01  2019-05-20\n",
       "Tesla                     TSLA  2010-01-01  2019-05-20\n",
       "Samsung_Electronics  005930.KS  2010-01-01  2019-05-20\n",
       "SK_hynix             000660.KS  2010-01-01  2019-05-20\n",
       "LG_Electronics       066570.KS  2010-01-01  2019-05-20\n",
       "NAVER                035420.KS  2010-01-01  2019-05-20\n",
       "KODEX_IT             266370.Ks  2010-01-01  2019-05-20\n",
       "PHLX_Semiconductor        ^SOX  2010-01-01  2019-05-20\n",
       "TIGER_200_IT         139260.KS  2010-01-01  2019-05-20\n",
       "BTC-USD               BTCUSD=X  2010-01-01  2019-05-20\n",
       "BTC_USD               BTCUSD=X  2010-01-01  2019-05-20"
      ]
     },
     "execution_count": 36,
     "metadata": {},
     "output_type": "execute_result"
    }
   ],
   "source": [
    "df"
   ]
  },
  {
   "cell_type": "markdown",
   "metadata": {},
   "source": [
    "## 2. Symbol List 에서 데이터 받기"
   ]
  },
  {
   "cell_type": "code",
   "execution_count": 37,
   "metadata": {},
   "outputs": [],
   "source": [
    "list_df = [None] * len(df.index)"
   ]
  },
  {
   "cell_type": "markdown",
   "metadata": {},
   "source": [
    "TODO::이전에 받은 날짜에 이어서 붙이는거 추가하자."
   ]
  },
  {
   "cell_type": "code",
   "execution_count": 38,
   "metadata": {},
   "outputs": [
    {
     "name": "stdout",
     "output_type": "stream",
     "text": [
      "Note::Processing  삼성SDS\n",
      "  Pass::Alread up-to-date.\n",
      "Note::Processing  Apple\n",
      "  Pass::Alread up-to-date.\n",
      "Note::Processing  Microsoft\n",
      "  Pass::Alread up-to-date.\n",
      "Note::Processing  IBM\n",
      "  Pass::Alread up-to-date.\n",
      "Note::Processing  Oracle\n",
      "  Pass::Alread up-to-date.\n",
      "Note::Processing  Amazon\n",
      "  Pass::Alread up-to-date.\n",
      "Note::Processing  Tesla\n",
      "  Pass::Alread up-to-date.\n",
      "Note::Processing  Samsung_Electronics\n",
      "  Pass::Alread up-to-date.\n",
      "Note::Processing  SK_hynix\n",
      "  Pass::Alread up-to-date.\n",
      "Note::Processing  LG_Electronics\n",
      "  Pass::Alread up-to-date.\n",
      "Note::Processing  NAVER\n",
      "  Pass::Alread up-to-date.\n",
      "Note::Processing  KODEX_IT\n",
      "  Pass::Alread up-to-date.\n",
      "Note::Processing  PHLX_Semiconductor\n",
      "  Pass::Alread up-to-date.\n",
      "Note::Processing  TIGER_200_IT\n",
      "  Pass::Alread up-to-date.\n",
      "Note::Processing  BTC-USD\n",
      "  Pass::Alread up-to-date.\n",
      "Note::Processing  BTC_USD\n",
      "  Pass::Alread up-to-date.\n",
      "Note::symbol_list.csv is updated.\n"
     ]
    }
   ],
   "source": [
    "for idx in range(0,len(df.index)):\n",
    "    list_df[idx] = df.index[idx]\n",
    "    print('Note::Processing  ' + list_df[idx])\n",
    "    today = dt.datetime.utcnow().strftime(\"%Y-%m-%d\")\n",
    "    # 이미 최신 데이터\n",
    "    if(df.iloc[idx][2] == today):\n",
    "        print('  Pass::Alread up-to-date.')\n",
    "        continue\n",
    "    try:\n",
    "        # print(start + \" ~ \" + today)\n",
    "        temp_df = yf.download(df.iloc[idx][0], start = df.iloc[idx][1], end =  today)\n",
    "        df.iloc[idx][2] = today\n",
    "    except ValueError:\n",
    "        print('Value Error')\n",
    "    temp_df.to_csv(list_df[idx] + '.csv')\n",
    "# 심볼리스트 갱신\n",
    "df.to_csv('symbol_list.csv')\n",
    "print('Note::symbol_list.csv is updated.')"
   ]
  },
  {
   "cell_type": "markdown",
   "metadata": {},
   "source": [
    "## 3. 통계"
   ]
  },
  {
   "cell_type": "markdown",
   "metadata": {},
   "source": [
    "+ how to calculate coskew and cokurtosis\n",
    "https://stackoverflow.com/questions/41890870/how-to-calculate-coskew-and-cokurtosis\n",
    "\n",
    "생각을 좀 해봐야겠다.\n",
    "\n",
    "$$ K(X,X,Y,Y)= {E[(X - E[X])^2(Y - E[Y]^2)] \\over \\sigma_X^2\\sigma_Y^2}$$"
   ]
  },
  {
   "cell_type": "code",
   "execution_count": 39,
   "metadata": {},
   "outputs": [
    {
     "data": {
      "text/plain": [
       "-1.0235350210514458"
      ]
     },
     "execution_count": 39,
     "metadata": {},
     "output_type": "execute_result"
    }
   ],
   "source": [
    "t_df = pd.read_csv(list_df[0] + '.csv',index_col = 'Date')\n",
    "\n",
    "# 연간 종가\n",
    "t_data = t_df.iloc[-240:]['Close']\n",
    "t_data.kurt()"
   ]
  },
  {
   "cell_type": "markdown",
   "metadata": {},
   "source": [
    "### 2개 지수 비교"
   ]
  },
  {
   "cell_type": "code",
   "execution_count": 40,
   "metadata": {},
   "outputs": [],
   "source": [
    "target_1 = 'Samsung_Electronics'\n",
    "target_2 = 'BTC_USD'"
   ]
  },
  {
   "cell_type": "code",
   "execution_count": 41,
   "metadata": {
    "scrolled": false
   },
   "outputs": [
    {
     "data": {
      "text/html": [
       "<div>\n",
       "<style scoped>\n",
       "    .dataframe tbody tr th:only-of-type {\n",
       "        vertical-align: middle;\n",
       "    }\n",
       "\n",
       "    .dataframe tbody tr th {\n",
       "        vertical-align: top;\n",
       "    }\n",
       "\n",
       "    .dataframe thead th {\n",
       "        text-align: right;\n",
       "    }\n",
       "</style>\n",
       "<table border=\"1\" class=\"dataframe\">\n",
       "  <thead>\n",
       "    <tr style=\"text-align: right;\">\n",
       "      <th></th>\n",
       "      <th>Samsung_Electronics</th>\n",
       "    </tr>\n",
       "    <tr>\n",
       "      <th>Date</th>\n",
       "      <th></th>\n",
       "    </tr>\n",
       "  </thead>\n",
       "  <tbody>\n",
       "    <tr>\n",
       "      <th>2010-01-04</th>\n",
       "      <td>16180.0</td>\n",
       "    </tr>\n",
       "    <tr>\n",
       "      <th>2010-01-05</th>\n",
       "      <td>16440.0</td>\n",
       "    </tr>\n",
       "    <tr>\n",
       "      <th>2010-01-06</th>\n",
       "      <td>16820.0</td>\n",
       "    </tr>\n",
       "    <tr>\n",
       "      <th>2010-01-07</th>\n",
       "      <td>16260.0</td>\n",
       "    </tr>\n",
       "    <tr>\n",
       "      <th>2010-01-08</th>\n",
       "      <td>16420.0</td>\n",
       "    </tr>\n",
       "  </tbody>\n",
       "</table>\n",
       "</div>"
      ],
      "text/plain": [
       "            Samsung_Electronics\n",
       "Date                           \n",
       "2010-01-04              16180.0\n",
       "2010-01-05              16440.0\n",
       "2010-01-06              16820.0\n",
       "2010-01-07              16260.0\n",
       "2010-01-08              16420.0"
      ]
     },
     "execution_count": 41,
     "metadata": {},
     "output_type": "execute_result"
    }
   ],
   "source": [
    "ols_df1 = pd.read_csv(target_1 + '.csv',index_col='Date')\n",
    "ols_df1 = ols_df1[['Close']]\n",
    "ols_df1.columns = [target_1]\n",
    "ols_df1.head()"
   ]
  },
  {
   "cell_type": "code",
   "execution_count": 42,
   "metadata": {
    "scrolled": true
   },
   "outputs": [
    {
     "data": {
      "text/html": [
       "<div>\n",
       "<style scoped>\n",
       "    .dataframe tbody tr th:only-of-type {\n",
       "        vertical-align: middle;\n",
       "    }\n",
       "\n",
       "    .dataframe tbody tr th {\n",
       "        vertical-align: top;\n",
       "    }\n",
       "\n",
       "    .dataframe thead th {\n",
       "        text-align: right;\n",
       "    }\n",
       "</style>\n",
       "<table border=\"1\" class=\"dataframe\">\n",
       "  <thead>\n",
       "    <tr style=\"text-align: right;\">\n",
       "      <th></th>\n",
       "      <th>BTC_USD</th>\n",
       "    </tr>\n",
       "    <tr>\n",
       "      <th>Date</th>\n",
       "      <th></th>\n",
       "    </tr>\n",
       "  </thead>\n",
       "  <tbody>\n",
       "    <tr>\n",
       "      <th>2010-07-18</th>\n",
       "      <td>0.08080</td>\n",
       "    </tr>\n",
       "    <tr>\n",
       "      <th>2010-07-19</th>\n",
       "      <td>0.07474</td>\n",
       "    </tr>\n",
       "    <tr>\n",
       "      <th>2010-07-20</th>\n",
       "      <td>0.07921</td>\n",
       "    </tr>\n",
       "    <tr>\n",
       "      <th>2010-07-21</th>\n",
       "      <td>0.05050</td>\n",
       "    </tr>\n",
       "    <tr>\n",
       "      <th>2010-07-22</th>\n",
       "      <td>0.06262</td>\n",
       "    </tr>\n",
       "  </tbody>\n",
       "</table>\n",
       "</div>"
      ],
      "text/plain": [
       "            BTC_USD\n",
       "Date               \n",
       "2010-07-18  0.08080\n",
       "2010-07-19  0.07474\n",
       "2010-07-20  0.07921\n",
       "2010-07-21  0.05050\n",
       "2010-07-22  0.06262"
      ]
     },
     "execution_count": 42,
     "metadata": {},
     "output_type": "execute_result"
    }
   ],
   "source": [
    "ols_df2 = pd.read_csv(target_2 + '.csv',index_col='Date')\n",
    "ols_df2 = ols_df2[['Close']]\n",
    "ols_df2.columns = [target_2]\n",
    "ols_df2.head()"
   ]
  },
  {
   "cell_type": "code",
   "execution_count": 43,
   "metadata": {},
   "outputs": [
    {
     "data": {
      "text/html": [
       "<div>\n",
       "<style scoped>\n",
       "    .dataframe tbody tr th:only-of-type {\n",
       "        vertical-align: middle;\n",
       "    }\n",
       "\n",
       "    .dataframe tbody tr th {\n",
       "        vertical-align: top;\n",
       "    }\n",
       "\n",
       "    .dataframe thead th {\n",
       "        text-align: right;\n",
       "    }\n",
       "</style>\n",
       "<table border=\"1\" class=\"dataframe\">\n",
       "  <thead>\n",
       "    <tr style=\"text-align: right;\">\n",
       "      <th></th>\n",
       "      <th>Samsung_Electronics</th>\n",
       "      <th>BTC_USD</th>\n",
       "    </tr>\n",
       "  </thead>\n",
       "  <tbody>\n",
       "    <tr>\n",
       "      <th>2017-12-26</th>\n",
       "      <td>48200.0</td>\n",
       "      <td>15756.566406</td>\n",
       "    </tr>\n",
       "    <tr>\n",
       "      <th>2017-12-27</th>\n",
       "      <td>49360.0</td>\n",
       "      <td>15416.633789</td>\n",
       "    </tr>\n",
       "    <tr>\n",
       "      <th>2017-12-28</th>\n",
       "      <td>50960.0</td>\n",
       "      <td>14398.702148</td>\n",
       "    </tr>\n",
       "    <tr>\n",
       "      <th>2018-01-02</th>\n",
       "      <td>51020.0</td>\n",
       "      <td>14754.137695</td>\n",
       "    </tr>\n",
       "    <tr>\n",
       "      <th>2018-01-03</th>\n",
       "      <td>51620.0</td>\n",
       "      <td>15156.613281</td>\n",
       "    </tr>\n",
       "  </tbody>\n",
       "</table>\n",
       "</div>"
      ],
      "text/plain": [
       "            Samsung_Electronics       BTC_USD\n",
       "2017-12-26              48200.0  15756.566406\n",
       "2017-12-27              49360.0  15416.633789\n",
       "2017-12-28              50960.0  14398.702148\n",
       "2018-01-02              51020.0  14754.137695\n",
       "2018-01-03              51620.0  15156.613281"
      ]
     },
     "execution_count": 43,
     "metadata": {},
     "output_type": "execute_result"
    }
   ],
   "source": [
    "new_df = pd.concat([ols_df1, ols_df2], axis=1, sort=False)\n",
    "new_df = new_df.dropna()\n",
    "new_df = new_df[-240:]\n",
    "new_df.head()"
   ]
  },
  {
   "cell_type": "code",
   "execution_count": 44,
   "metadata": {},
   "outputs": [
    {
     "data": {
      "text/plain": [
       "<seaborn.axisgrid.JointGrid at 0x22a9c83f0f0>"
      ]
     },
     "execution_count": 44,
     "metadata": {},
     "output_type": "execute_result"
    },
    {
     "data": {
      "image/png": "[encoded data removed]",
      "text/plain": [
       "<Figure size 432x432 with 3 Axes>"
      ]
     },
     "metadata": {
      "needs_background": "light"
     },
     "output_type": "display_data"
    }
   ],
   "source": [
    "ret_index = new_df.pct_change()\n",
    "ret_index = ret_index.dropna()\n",
    "sns.jointplot(target_1, target_2, data = ret_index, kind='reg')"
   ]
  },
  {
   "cell_type": "code",
   "execution_count": 45,
   "metadata": {},
   "outputs": [
    {
     "name": "stdout",
     "output_type": "stream",
     "text": [
      "                             OLS Regression Results                            \n",
      "===============================================================================\n",
      "Dep. Variable:     Samsung_Electronics   R-squared:                       0.062\n",
      "Model:                             OLS   Adj. R-squared:                  0.058\n",
      "Method:                  Least Squares   F-statistic:                     15.78\n",
      "Date:                 Mon, 20 May 2019   Prob (F-statistic):           9.46e-05\n",
      "Time:                         20:05:18   Log-Likelihood:                 622.02\n",
      "No. Observations:                  239   AIC:                            -1240.\n",
      "Df Residuals:                      237   BIC:                            -1233.\n",
      "Df Model:                            1                                         \n",
      "Covariance Type:             nonrobust                                         \n",
      "==============================================================================\n",
      "                 coef    std err          t      P>|t|      [0.025      0.975]\n",
      "------------------------------------------------------------------------------\n",
      "Intercept     -0.0003      0.001     -0.282      0.778      -0.003       0.002\n",
      "BTC_USD       -0.0471      0.012     -3.972      0.000      -0.071      -0.024\n",
      "==============================================================================\n",
      "Omnibus:                        0.136   Durbin-Watson:                   1.857\n",
      "Prob(Omnibus):                  0.934   Jarque-Bera (JB):                0.239\n",
      "Skew:                           0.047   Prob(JB):                        0.888\n",
      "Kurtosis:                       2.878   Cond. No.                         10.2\n",
      "==============================================================================\n",
      "\n",
      "Warnings:\n",
      "[1] Standard Errors assume that the covariance matrix of the errors is correctly specified.\n"
     ]
    }
   ],
   "source": [
    "model_fit = ols(target_1+'~1+'+target_2, data=ret_index).fit()\n",
    "print(model_fit.summary())"
   ]
  },
  {
   "cell_type": "code",
   "execution_count": null,
   "metadata": {},
   "outputs": [],
   "source": []
  }
 ],
 "metadata": {
  "kernelspec": {
   "display_name": "Python 3",
   "language": "python",
   "name": "python3"
  },
  "language_info": {
   "codemirror_mode": {
    "name": "ipython",
    "version": 3
   },
   "file_extension": ".py",
   "mimetype": "text/x-python",
   "name": "python",
   "nbconvert_exporter": "python",
   "pygments_lexer": "ipython3",
   "version": "3.7.2"
  }
 },
 "nbformat": 4,
 "nbformat_minor": 2
}
