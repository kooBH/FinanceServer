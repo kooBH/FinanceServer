{
 "cells": [
  {
   "cell_type": "markdown",
   "metadata": {},
   "source": [
    "+ Top 50 matplotlib  \n",
    "https://www.machinelearningplus.com/plots/top-50-matplotlib-visualizations-the-master-plots-python/\n",
    "\n",
    "+ Top 21 Samsung Competitors – Competitor analysis of Samsung  \n",
    "https://www.marketing91.com/samsung-competitors/  \n",
    "\n"
   ]
  },
  {
   "cell_type": "markdown",
   "metadata": {},
   "source": [
    "\n",
    "# INDEX<a name=\"INDEX\"></a>\n",
    "---\n",
    "+ ## [초기설정(필수)](#초기설정)\n",
    "+ ## [심볼리스트 생성](#init)\n",
    "+ ## [데이터 다운로드](#down)\n",
    "+ ## [OLS](#ols)\n",
    "+ ## [Joint Plot](#joint)\n",
    "+ ## [데이터확인](#확인)\n",
    "+ ## [co-kurtosis](#cokur)\n",
    "+ ## [correlation](#corr)"
   ]
  },
  {
   "cell_type": "markdown",
   "metadata": {},
   "source": [
    "# Note\n",
    "---\n",
    "+ read_csv 에서 오류가 난다면 Analyze.py에\n",
    "\n",
    "```python\n",
    "engine = 'python'\n",
    "```\n",
    "를 추가해 줘보자.\n",
    "\n",
    "```python\n",
    "pd.read_csv('data/'+target_1 + '.csv',index_col='Date',engine='python')\n",
    "```\n",
    "\n",
    "+ csv 파일이 제대로 되어있는지 확인하여보자  \n",
    "        메모장으로 열었을 시에 제대로 ',' 로 구분되어야한다.  \n",
    "        엑셀 파일을 받아서 csv로 변환이 잘 안되는 경우가 있다.\n",
    "\n",
    "+ 출력이 스크롤 안에 안 들어가게 하기  \n",
    "        Cell -> All output (또는 Current outputs) -> toggle scrolling  \n",
    "        또는 cell 선택후 'o'"
   ]
  },
  {
   "cell_type": "markdown",
   "metadata": {},
   "source": [
    "### [초기 설정](#INDEX)<a name=\"초기설정\"></a>\n",
    "+ 한글 출력을 위한 폰트 설정, 각 PC마다 환경이 다름 ([matlplot 한글폰트](matlplot%20한글폰트.ipynb).ipynb 참고)\n",
    "+ 사용할 지표들 등록"
   ]
  },
  {
   "cell_type": "code",
   "execution_count": 2,
   "metadata": {
    "scrolled": false
   },
   "outputs": [],
   "source": [
    "import SymbolList as sl\n",
    "import Analysis as an\n",
    "import Visualization as vi\n",
    "import numpy as np\n",
    "import pandas as pd\n",
    "import datetime as dt \n",
    "from statsmodels.formula.api import ols \n",
    "import seaborn as sns;  sns.set()\n",
    "import matplotlib.pyplot as plt\n",
    "import matplotlib as mpl\n",
    "\n",
    "# matplot 설정\n",
    "mpl.rcParams['axes.unicode_minus'] = False\n",
    "# -*- coding: utf-8 -*-\n",
    "plt.rc('font', family=\"LG PC\")\n",
    "# 리스트 설정\n",
    "ten_kor = ['Samsung_Electronics','SK_hynix','LG_Electronics',\n",
    "    '삼성SDI','엔씨소프트','카카오','삼성전기',\n",
    "    'LG디스플레이','삼성SDS','네이버']\n",
    "ten_US = [  'Apple','Microsoft','IBM','Oracle',\n",
    "            'Amazon','Tesla','Alphabet','Facebook',\n",
    "            'Cisco','타이완 반도체','Intel','오라클','SAP']\n",
    "index_kor = '와이즈'\n",
    "#index_US = 'IXT'\n",
    "index_US = 'XLK'\n",
    "#stan_US = ['IXT','VIX','BitCoin','MSCI','ten_Year_Treasury']\n",
    "stan_US = ['XLK','VIX','BitCoin','MSCI','ten_Year_Treasury']\n",
    "\n",
    "# IT 기업들 \n",
    "#stan_US = ['XLK','ten_Year_Treasury','Apple','NVIDIA','AMD','퀄컴']\n",
    "\n",
    "stan_1 = ['KOSPI','SK_hynix','XLK','VIX','BitCoin','MSCI','ten_Year_Treasury']"
   ]
  },
  {
   "cell_type": "markdown",
   "metadata": {
    "scrolled": false
   },
   "source": [
    "### 지표 설명\n",
    "+ [와이즈](http://www.wiseindex.com/Index/Index#/WI610.0) - 와이즈 IT하드웨어 지수\n",
    "+ [IXT](https://finance.yahoo.com/quote/%5EIXT?p=^IXT&.tsrc=fin-srch) : TECHNOLOGY SELECT SECTOR INDEX  - 현재 미사용, 온전한 3년치를 얻을 방법을 못 찾음\n",
    "+ [XLK](https://finance.yahoo.com/quote/XLK?p=XLK&.tsrc=fin-srch): Technology Select Sector SPDR Fund \n",
    "+ [VIX](https://finance.yahoo.com/quote/ZM?p=ZM&.tsrc=fin-srch) : VelocityShares Daily 2x VIX Short-Term ETN(a.k.a 공포지수), S&P500지수 옵션 가격의 향후 30일 동안의 변동성에 대한 시장의 기대\n",
    "+ [MSCI](https://finance.yahoo.com/quote/EEM?p=EEM&.tsrc=fin-srch) : iShares MSCI Emerging Markets ETF\n",
    "+ [ten_Year_Treasury](https://finance.yahoo.com/quote/IEF?p=IEF&.tsrc=fin-srch) : iShares 7-10 Year Treasury Bond ETF"
   ]
  },
  {
   "cell_type": "markdown",
   "metadata": {},
   "source": [
    "# [OLS ](#INDEX)<a name=\"ols\"></a>\n",
    "```python\n",
    "def ols_comb(             \n",
    "           dep,inds,\n",
    "           comb_num=1,\n",
    "           show_summary = False,\n",
    "           do_shift = True,\n",
    "           show_plot = True,  \n",
    "           show_line = False,\n",
    "           weekly=True,\n",
    "           start='2016-01-04',\n",
    "           end='2018-12-28',\n",
    "           engine='c'\n",
    "            )\n",
    "    ```"
   ]
  },
  {
   "cell_type": "code",
   "execution_count": null,
   "metadata": {},
   "outputs": [],
   "source": [
    "an.ols_comb(comb_num=1,dep='KOSPI',inds=stan_US,weekly=True,show_summary=False,show_plot=True)\n",
    "an.ols_comb(comb_num=1,dep='KOSPI',inds=stan_US,weekly=True,show_summary=False,show_plot=True,start=\"2010-01-04\")\n",
    "\n",
    "an.ols_comb(comb_num=2,dep='KOSPI',inds=stan_US,weekly=True,show_summary=False,show_plot=True)\n",
    "an.ols_comb(comb_num=2,dep='KOSPI',inds=stan_US,weekly=True,show_summary=False,show_plot=True,start=\"2010-01-04\")\n",
    "\n",
    "an.ols_comb(comb_num=3,dep='KOSPI',inds=stan_US,weekly=True,show_summary=False,show_plot=True)\n",
    "an.ols_comb(comb_num=3,dep='KOSPI',inds=stan_US,weekly=True,show_summary=False,show_plot=True,start=\"2010-01-04\")\n",
    "\n",
    "an.ols_comb(comb_num=4,dep='KOSPI',inds=stan_US,weekly=True,show_summary=False,show_plot=True)\n",
    "an.ols_comb(comb_num=4,dep='KOSPI',inds=stan_US,weekly=True,show_summary=False,show_plot=True,start=\"2010-01-04\")\n",
    "\n",
    "an.ols_comb(comb_num=5,dep='KOSPI',inds=stan_US,weekly=True,show_summary=False,show_plot=True)\n",
    "an.ols_comb(comb_num=5,dep='KOSPI',inds=stan_US,weekly=True,show_summary=False,show_plot=True,start=\"2010-01-04\")"
   ]
  },
  {
   "cell_type": "code",
   "execution_count": null,
   "metadata": {},
   "outputs": [],
   "source": [
    "an.ols_comb(comb_num=1,dep='Samsung_Electronics',inds=stan_US,weekly=True,show_summary=False,show_plot=True)\n",
    "an.ols_comb(comb_num=1,dep='Samsung_Electronics',inds=stan_US,weekly=True,show_summary=False,show_plot=True,start=\"2010-01-04\")\n",
    "\n",
    "an.ols_comb(comb_num=2,dep='Samsung_Electronics',inds=stan_US,weekly=True,show_summary=False,show_plot=True)\n",
    "an.ols_comb(comb_num=2,dep='Samsung_Electronics',inds=stan_US,weekly=True,show_summary=False,show_plot=True,start=\"2010-01-04\")\n",
    "\n",
    "an.ols_comb(comb_num=3,dep='Samsung_Electronics',inds=stan_US,weekly=True,show_summary=False,show_plot=True)\n",
    "an.ols_comb(comb_num=3,dep='Samsung_Electronics',inds=stan_US,weekly=True,show_summary=False,show_plot=True,start=\"2010-01-04\")\n",
    "\n",
    "an.ols_comb(comb_num=4,dep='Samsung_Electronics',inds=stan_US,weekly=True,show_summary=False,show_plot=True)\n",
    "an.ols_comb(comb_num=4,dep='Samsung_Electronics',inds=stan_US,weekly=True,show_summary=False,show_plot=True,start=\"2010-01-04\")\n",
    "\n",
    "an.ols_comb(comb_num=5,dep='Samsung_Electronics',inds=stan_US,weekly=True,show_summary=False,show_plot=True)\n",
    "an.ols_comb(comb_num=5,dep='Samsung_Electronics',inds=stan_US,weekly=True,show_summary=False,show_plot=True,start=\"2010-01-04\")"
   ]
  },
  {
   "cell_type": "code",
   "execution_count": null,
   "metadata": {},
   "outputs": [],
   "source": [
    "an.ols_comb(comb_num=1,dep='네이버',inds=stan_US,weekly=True,show_summary=False,show_plot=True)\n",
    "an.ols_comb(comb_num=1,dep='네이버',inds=stan_US,weekly=True,show_summary=False,show_plot=True,start=\"2010-01-04\")\n",
    "\n",
    "an.ols_comb(comb_num=2,dep='네이버',inds=stan_US,weekly=True,show_summary=False,show_plot=True)\n",
    "an.ols_comb(comb_num=2,dep='네이버',inds=stan_US,weekly=True,show_summary=False,show_plot=True,start=\"2010-01-04\")\n",
    "\n",
    "an.ols_comb(comb_num=3,dep='네이버',inds=stan_US,weekly=True,show_summary=False,show_plot=True)\n",
    "an.ols_comb(comb_num=3,dep='네이버',inds=stan_US,weekly=True,show_summary=False,show_plot=True,start=\"2010-01-04\")\n",
    "\n",
    "an.ols_comb(comb_num=4,dep='네이버',inds=stan_US,weekly=True,show_summary=False,show_plot=True)\n",
    "an.ols_comb(comb_num=4,dep='네이버',inds=stan_US,weekly=True,show_summary=False,show_plot=True,start=\"2010-01-04\")\n",
    "\n",
    "an.ols_comb(comb_num=5,dep='네이버',inds=stan_US,weekly=True,show_summary=False,show_plot=True)\n",
    "an.ols_comb(comb_num=5,dep='네이버',inds=stan_US,weekly=True,show_summary=False,show_plot=True,start=\"2010-01-04\")"
   ]
  },
  {
   "cell_type": "code",
   "execution_count": null,
   "metadata": {},
   "outputs": [],
   "source": [
    "an.ols_comb(comb_num=1,dep='Samsung_Electronics',inds=stan_1,weekly=True,show_summary=False,show_plot=True)\n",
    "an.ols_comb(comb_num=1,dep='Samsung_Electronics',inds=stan_1,weekly=True,show_summary=False,show_plot=True,start=\"2010-01-04\")\n",
    "\n",
    "an.ols_comb(comb_num=2,dep='Samsung_Electronics',inds=stan_1,weekly=True,show_summary=False,show_plot=True)\n",
    "an.ols_comb(comb_num=2,dep='Samsung_Electronics',inds=stan_1,weekly=True,show_summary=False,show_plot=True,start=\"2010-01-04\")\n",
    "\n",
    "an.ols_comb(comb_num=3,dep='Samsung_Electronics',inds=stan_1,weekly=True,show_summary=False,show_plot=True)\n",
    "an.ols_comb(comb_num=3,dep='Samsung_Electronics',inds=stan_1,weekly=True,show_summary=False,show_plot=True,start=\"2010-01-04\")\n",
    "\n",
    "an.ols_comb(comb_num=4,dep='Samsung_Electronics',inds=stan_1,weekly=True,show_summary=False,show_plot=True)\n",
    "an.ols_comb(comb_num=4,dep='Samsung_Electronics',inds=stan_1,weekly=True,show_summary=False,show_plot=True,start=\"2010-01-04\")\n",
    "\n",
    "an.ols_comb(comb_num=5,dep='Samsung_Electronics',inds=stan_1,weekly=True,show_summary=False,show_plot=True)\n",
    "an.ols_comb(comb_num=5,dep='Samsung_Electronics',inds=stan_1,weekly=True,show_summary=False,show_plot=True,start=\"2010-01-04\")"
   ]
  },
  {
   "cell_type": "markdown",
   "metadata": {},
   "source": [
    "# [데이터 확인](#INDEX)<a name=\"확인\"></a>\n",
    "\n",
    "2016년부터 2018년 까지의 데이터 plotting."
   ]
  },
  {
   "cell_type": "code",
   "execution_count": null,
   "metadata": {},
   "outputs": [],
   "source": [
    "an.isValid(stan_US,start='2010-01-04')"
   ]
  },
  {
   "cell_type": "code",
   "execution_count": null,
   "metadata": {
    "scrolled": false
   },
   "outputs": [],
   "source": [
    "an.isValid(ten_kor)\n",
    "#an.isValid(ten_US)"
   ]
  },
  {
   "cell_type": "markdown",
   "metadata": {},
   "source": [
    "# [Symbol List 초기화 & 불러오기](#INDEX)<a name=\"init\"></a>\n",
    "+ IXT 같은 index 는 잘 안불러진다.\n",
    "+ 잘 받았는지 검증하는 루틴이 필요함. "
   ]
  },
  {
   "cell_type": "code",
   "execution_count": null,
   "metadata": {
    "scrolled": true
   },
   "outputs": [],
   "source": [
    "df = sl.init_symbol_DF()\n",
    "sl.add_symbol(df,'삼성SDS','018260.KS',init=True)\n",
    "df = sl.init_symbol_DF()"
   ]
  },
  {
   "cell_type": "markdown",
   "metadata": {},
   "source": [
    "# [Symbol List 에서 데이터 받기](#INDEX)<a name=\"down\"></a>"
   ]
  },
  {
   "cell_type": "markdown",
   "metadata": {},
   "source": [
    "TODO::이전에 받은 날짜에 이어서 붙이는거 추가하자."
   ]
  },
  {
   "cell_type": "code",
   "execution_count": null,
   "metadata": {
    "scrolled": true
   },
   "outputs": [],
   "source": [
    "sl.download()"
   ]
  },
  {
   "cell_type": "markdown",
   "metadata": {},
   "source": [
    "# [co-kurtosis](#INDEX)<a name=\"cokur\"></a>\n",
    "+ how to calculate coskew and cokurtosis\n",
    "https://stackoverflow.com/questions/41890870/how-to-calculate-coskew-and-cokurtosis\n",
    "\n",
    "생각을 좀 해봐야겠다.\n",
    "\n",
    "$$ K(X,X,Y,Y)= {E[(X - E[X])^2(Y - E[Y]^2)] \\over \\sigma_X^2\\sigma_Y^2}$$\n",
    "\n",
    "변화율로 가야하나, 정규화를 해야하나, 그냥 해도 되나\n",
    "\n",
    "```python\n",
    "def cokur(\n",
    "    target1,\n",
    "    target2,\n",
    "    start='2016-01-04',\n",
    "    end='2018-12-28',\n",
    "    engine='c',\n",
    "    value = 'Close'\n",
    "    ):  \n",
    "    ```"
   ]
  },
  {
   "cell_type": "code",
   "execution_count": 5,
   "metadata": {},
   "outputs": [
    {
     "data": {
      "text/html": [
       "<div>\n",
       "<style scoped>\n",
       "    .dataframe tbody tr th:only-of-type {\n",
       "        vertical-align: middle;\n",
       "    }\n",
       "\n",
       "    .dataframe tbody tr th {\n",
       "        vertical-align: top;\n",
       "    }\n",
       "\n",
       "    .dataframe thead th {\n",
       "        text-align: right;\n",
       "    }\n",
       "</style>\n",
       "<table border=\"1\" class=\"dataframe\">\n",
       "  <thead>\n",
       "    <tr style=\"text-align: right;\">\n",
       "      <th></th>\n",
       "      <th>Samsung_Electronics</th>\n",
       "    </tr>\n",
       "  </thead>\n",
       "  <tbody>\n",
       "    <tr>\n",
       "      <th>XLK</th>\n",
       "      <td>1.181410</td>\n",
       "    </tr>\n",
       "    <tr>\n",
       "      <th>VIX</th>\n",
       "      <td>1.132716</td>\n",
       "    </tr>\n",
       "    <tr>\n",
       "      <th>BitCoin</th>\n",
       "      <td>1.082081</td>\n",
       "    </tr>\n",
       "    <tr>\n",
       "      <th>MSCI</th>\n",
       "      <td>1.299051</td>\n",
       "    </tr>\n",
       "    <tr>\n",
       "      <th>ten_Year_Treasury</th>\n",
       "      <td>1.139796</td>\n",
       "    </tr>\n",
       "  </tbody>\n",
       "</table>\n",
       "</div>"
      ],
      "text/plain": [
       "                   Samsung_Electronics\n",
       "XLK                           1.181410\n",
       "VIX                           1.132716\n",
       "BitCoin                       1.082081\n",
       "MSCI                          1.299051\n",
       "ten_Year_Treasury             1.139796"
      ]
     },
     "metadata": {},
     "output_type": "display_data"
    },
    {
     "data": {
      "text/plain": [
       "<matplotlib.axes._subplots.AxesSubplot at 0x2766a069710>"
      ]
     },
     "execution_count": 5,
     "metadata": {},
     "output_type": "execute_result"
    },
    {
     "data": {
      "image/png": "[encoded data removed]",
      "text/plain": [
       "<Figure size 432x288 with 1 Axes>"
      ]
     },
     "metadata": {
      "needs_background": "light"
     },
     "output_type": "display_data"
    }
   ],
   "source": [
    "df_cokur = pd.DataFrame(columns=['Samsung_Electronics'])\n",
    "for stans in stan_US:\n",
    "    tmp = an.cokur('Samsung_Electronics',stans)\n",
    "    df_cokur.loc[stans] = [tmp['Close']]\n",
    "display(df_cokur)\n",
    "df_cokur.plot(kind='bar',rot=45,title='Co-Kurtosis')\n"
   ]
  },
  {
   "cell_type": "markdown",
   "metadata": {},
   "source": [
    "# [Joint plot](#INDEX)<a name=\"joint\"></a>\n",
    "https://seaborn.pydata.org/generated/seaborn.jointplot.html"
   ]
  },
  {
   "cell_type": "code",
   "execution_count": null,
   "metadata": {
    "scrolled": false
   },
   "outputs": [],
   "source": [
    "for idx in stan_US:\n",
    "    an.joint('Samsung_Electronics',idx)"
   ]
  },
  {
   "cell_type": "code",
   "execution_count": null,
   "metadata": {
    "scrolled": false
   },
   "outputs": [],
   "source": [
    "for idx in range(0,len(ten_US)):\n",
    "    an.joint(ten_US[idx],index_kor)"
   ]
  },
  {
   "cell_type": "markdown",
   "metadata": {},
   "source": [
    "# [Correlation](#INDEX)<a name=\"corr\"></a>"
   ]
  },
  {
   "cell_type": "markdown",
   "metadata": {},
   "source": [
    "```python\n",
    "def corr(\n",
    "    target1,\n",
    "    target2,\n",
    "    start='2016-01-04',\n",
    "    end='2018-12-28',\n",
    "    engine='c',\n",
    "    value = 'Close',\n",
    "    weekly=True\n",
    "    ):   \n",
    "    ```"
   ]
  },
  {
   "cell_type": "code",
   "execution_count": 9,
   "metadata": {},
   "outputs": [],
   "source": [
    "def corr(\n",
    "    target1,\n",
    "    targets,\n",
    "    start='2016-01-04',\n",
    "    end='2018-12-28',\n",
    "    engine='c',\n",
    "    value = 'Close',\n",
    "    weekly=True\n",
    "    ):   \n",
    "    \n",
    "    ### for coverting to weekly data\n",
    "    logic = {\n",
    "    'Open'  : 'first',\n",
    "    'High'  : 'max',\n",
    "    'Low'   : 'min',\n",
    "    'Adj Close':'last',\n",
    "    'Volume': 'sum',\n",
    "    'Close' : 'last'    \n",
    "    }\n",
    "    offset = pd.offsets.timedelta(days=-6)\n",
    "    ###\n",
    "    \n",
    "    df1 = pd.read_csv('data/'+target1+'.csv',index_col='Date',engine=engine)\n",
    "    df1 = df1.loc[start:end]\n",
    "        \n",
    "    if(weekly):       \n",
    "        df1.index = pd.to_datetime(df1.index)\n",
    "        df1 = df1.resample('W', loffset=offset).apply(logic)\n",
    "                \n",
    "    df1 = df1[[value]]\n",
    "    df1 = df1.pct_change()\n",
    "    df1.dropna()        \n",
    "    df1.columns = [target1]\n",
    "    \n",
    "    df_corr = pd.DataFrame(columns=['Samsung_Electronics'])\n",
    "s\n",
    "    for target2 in targets:\n",
    "        df2 = pd.read_csv('data/'+target2+'.csv',index_col='Date',engine=engine)\n",
    "        df2 = df2.loc[start:end]\n",
    "        if(weekly):  \n",
    "            df2.index = pd.to_datetime(df2.index)\n",
    "            df2 = df2.resample('W', loffset=offset).apply(logic)\n",
    "        \n",
    "        df2 = df2[[value]]\n",
    "        df2 = df2.pct_change()\n",
    "        df2.dropna()\n",
    "        df2.columns = [target2]        \n",
    "        df3 = pd.concat([df1, df2],axis=1, sort=False)\n",
    "        tmp = df3.corr()\n",
    "        df_corr.loc[target2] = [tmp.iloc[0][1]]\n",
    "        \n",
    "    df_cokur.loc[stans] = [tmp['Close']]\n",
    "    return t"
   ]
  },
  {
   "cell_type": "code",
   "execution_count": null,
   "metadata": {},
   "outputs": [],
   "source": [
    "display(df_cokur)\n",
    "df_cokur.plot(kind='bar',rot=45,title='Co-Kurtosis')"
   ]
  },
  {
   "cell_type": "code",
   "execution_count": 10,
   "metadata": {},
   "outputs": [
    {
     "ename": "FileNotFoundError",
     "evalue": "[Errno 2] File b'data/X.csv' does not exist: b'data/X.csv'",
     "output_type": "error",
     "traceback": [
      "\u001b[1;31m---------------------------------------------------------------------------\u001b[0m",
      "\u001b[1;31mFileNotFoundError\u001b[0m                         Traceback (most recent call last)",
      "\u001b[1;32m<ipython-input-10-ba171f5856f5>\u001b[0m in \u001b[0;36m<module>\u001b[1;34m\u001b[0m\n\u001b[0;32m      1\u001b[0m \u001b[1;32mfor\u001b[0m \u001b[0mstans\u001b[0m \u001b[1;32min\u001b[0m \u001b[0mstan_US\u001b[0m\u001b[1;33m:\u001b[0m\u001b[1;33m\u001b[0m\u001b[1;33m\u001b[0m\u001b[0m\n\u001b[1;32m----> 2\u001b[1;33m     \u001b[0ma\u001b[0m\u001b[1;33m=\u001b[0m \u001b[0mcorr\u001b[0m\u001b[1;33m(\u001b[0m\u001b[1;34m'Samsung_Electronics'\u001b[0m\u001b[1;33m,\u001b[0m\u001b[0mstans\u001b[0m\u001b[1;33m,\u001b[0m\u001b[0mweekly\u001b[0m\u001b[1;33m=\u001b[0m\u001b[1;32mTrue\u001b[0m\u001b[1;33m)\u001b[0m\u001b[1;33m\u001b[0m\u001b[1;33m\u001b[0m\u001b[0m\n\u001b[0m\u001b[0;32m      3\u001b[0m     \u001b[0mdisplay\u001b[0m\u001b[1;33m(\u001b[0m\u001b[0ma\u001b[0m\u001b[1;33m)\u001b[0m\u001b[1;33m\u001b[0m\u001b[1;33m\u001b[0m\u001b[0m\n",
      "\u001b[1;32m<ipython-input-9-e04a28d09450>\u001b[0m in \u001b[0;36mcorr\u001b[1;34m(target1, targets, start, end, engine, value, weekly)\u001b[0m\n\u001b[0;32m     36\u001b[0m \u001b[1;33m\u001b[0m\u001b[0m\n\u001b[0;32m     37\u001b[0m     \u001b[1;32mfor\u001b[0m \u001b[0mtarget2\u001b[0m \u001b[1;32min\u001b[0m \u001b[0mtargets\u001b[0m\u001b[1;33m:\u001b[0m\u001b[1;33m\u001b[0m\u001b[1;33m\u001b[0m\u001b[0m\n\u001b[1;32m---> 38\u001b[1;33m         \u001b[0mdf2\u001b[0m \u001b[1;33m=\u001b[0m \u001b[0mpd\u001b[0m\u001b[1;33m.\u001b[0m\u001b[0mread_csv\u001b[0m\u001b[1;33m(\u001b[0m\u001b[1;34m'data/'\u001b[0m\u001b[1;33m+\u001b[0m\u001b[0mtarget2\u001b[0m\u001b[1;33m+\u001b[0m\u001b[1;34m'.csv'\u001b[0m\u001b[1;33m,\u001b[0m\u001b[0mindex_col\u001b[0m\u001b[1;33m=\u001b[0m\u001b[1;34m'Date'\u001b[0m\u001b[1;33m,\u001b[0m\u001b[0mengine\u001b[0m\u001b[1;33m=\u001b[0m\u001b[0mengine\u001b[0m\u001b[1;33m)\u001b[0m\u001b[1;33m\u001b[0m\u001b[1;33m\u001b[0m\u001b[0m\n\u001b[0m\u001b[0;32m     39\u001b[0m         \u001b[0mdf2\u001b[0m \u001b[1;33m=\u001b[0m \u001b[0mdf2\u001b[0m\u001b[1;33m.\u001b[0m\u001b[0mloc\u001b[0m\u001b[1;33m[\u001b[0m\u001b[0mstart\u001b[0m\u001b[1;33m:\u001b[0m\u001b[0mend\u001b[0m\u001b[1;33m]\u001b[0m\u001b[1;33m\u001b[0m\u001b[1;33m\u001b[0m\u001b[0m\n\u001b[0;32m     40\u001b[0m         \u001b[1;32mif\u001b[0m\u001b[1;33m(\u001b[0m\u001b[0mweekly\u001b[0m\u001b[1;33m)\u001b[0m\u001b[1;33m:\u001b[0m\u001b[1;33m\u001b[0m\u001b[1;33m\u001b[0m\u001b[0m\n",
      "\u001b[1;32mC:\\Python37\\lib\\site-packages\\pandas\\io\\parsers.py\u001b[0m in \u001b[0;36mparser_f\u001b[1;34m(filepath_or_buffer, sep, delimiter, header, names, index_col, usecols, squeeze, prefix, mangle_dupe_cols, dtype, engine, converters, true_values, false_values, skipinitialspace, skiprows, skipfooter, nrows, na_values, keep_default_na, na_filter, verbose, skip_blank_lines, parse_dates, infer_datetime_format, keep_date_col, date_parser, dayfirst, iterator, chunksize, compression, thousands, decimal, lineterminator, quotechar, quoting, doublequote, escapechar, comment, encoding, dialect, tupleize_cols, error_bad_lines, warn_bad_lines, delim_whitespace, low_memory, memory_map, float_precision)\u001b[0m\n\u001b[0;32m    700\u001b[0m                     skip_blank_lines=skip_blank_lines)\n\u001b[0;32m    701\u001b[0m \u001b[1;33m\u001b[0m\u001b[0m\n\u001b[1;32m--> 702\u001b[1;33m         \u001b[1;32mreturn\u001b[0m \u001b[0m_read\u001b[0m\u001b[1;33m(\u001b[0m\u001b[0mfilepath_or_buffer\u001b[0m\u001b[1;33m,\u001b[0m \u001b[0mkwds\u001b[0m\u001b[1;33m)\u001b[0m\u001b[1;33m\u001b[0m\u001b[1;33m\u001b[0m\u001b[0m\n\u001b[0m\u001b[0;32m    703\u001b[0m \u001b[1;33m\u001b[0m\u001b[0m\n\u001b[0;32m    704\u001b[0m     \u001b[0mparser_f\u001b[0m\u001b[1;33m.\u001b[0m\u001b[0m__name__\u001b[0m \u001b[1;33m=\u001b[0m \u001b[0mname\u001b[0m\u001b[1;33m\u001b[0m\u001b[1;33m\u001b[0m\u001b[0m\n",
      "\u001b[1;32mC:\\Python37\\lib\\site-packages\\pandas\\io\\parsers.py\u001b[0m in \u001b[0;36m_read\u001b[1;34m(filepath_or_buffer, kwds)\u001b[0m\n\u001b[0;32m    427\u001b[0m \u001b[1;33m\u001b[0m\u001b[0m\n\u001b[0;32m    428\u001b[0m     \u001b[1;31m# Create the parser.\u001b[0m\u001b[1;33m\u001b[0m\u001b[1;33m\u001b[0m\u001b[1;33m\u001b[0m\u001b[0m\n\u001b[1;32m--> 429\u001b[1;33m     \u001b[0mparser\u001b[0m \u001b[1;33m=\u001b[0m \u001b[0mTextFileReader\u001b[0m\u001b[1;33m(\u001b[0m\u001b[0mfilepath_or_buffer\u001b[0m\u001b[1;33m,\u001b[0m \u001b[1;33m**\u001b[0m\u001b[0mkwds\u001b[0m\u001b[1;33m)\u001b[0m\u001b[1;33m\u001b[0m\u001b[1;33m\u001b[0m\u001b[0m\n\u001b[0m\u001b[0;32m    430\u001b[0m \u001b[1;33m\u001b[0m\u001b[0m\n\u001b[0;32m    431\u001b[0m     \u001b[1;32mif\u001b[0m \u001b[0mchunksize\u001b[0m \u001b[1;32mor\u001b[0m \u001b[0miterator\u001b[0m\u001b[1;33m:\u001b[0m\u001b[1;33m\u001b[0m\u001b[1;33m\u001b[0m\u001b[0m\n",
      "\u001b[1;32mC:\\Python37\\lib\\site-packages\\pandas\\io\\parsers.py\u001b[0m in \u001b[0;36m__init__\u001b[1;34m(self, f, engine, **kwds)\u001b[0m\n\u001b[0;32m    893\u001b[0m             \u001b[0mself\u001b[0m\u001b[1;33m.\u001b[0m\u001b[0moptions\u001b[0m\u001b[1;33m[\u001b[0m\u001b[1;34m'has_index_names'\u001b[0m\u001b[1;33m]\u001b[0m \u001b[1;33m=\u001b[0m \u001b[0mkwds\u001b[0m\u001b[1;33m[\u001b[0m\u001b[1;34m'has_index_names'\u001b[0m\u001b[1;33m]\u001b[0m\u001b[1;33m\u001b[0m\u001b[1;33m\u001b[0m\u001b[0m\n\u001b[0;32m    894\u001b[0m \u001b[1;33m\u001b[0m\u001b[0m\n\u001b[1;32m--> 895\u001b[1;33m         \u001b[0mself\u001b[0m\u001b[1;33m.\u001b[0m\u001b[0m_make_engine\u001b[0m\u001b[1;33m(\u001b[0m\u001b[0mself\u001b[0m\u001b[1;33m.\u001b[0m\u001b[0mengine\u001b[0m\u001b[1;33m)\u001b[0m\u001b[1;33m\u001b[0m\u001b[1;33m\u001b[0m\u001b[0m\n\u001b[0m\u001b[0;32m    896\u001b[0m \u001b[1;33m\u001b[0m\u001b[0m\n\u001b[0;32m    897\u001b[0m     \u001b[1;32mdef\u001b[0m \u001b[0mclose\u001b[0m\u001b[1;33m(\u001b[0m\u001b[0mself\u001b[0m\u001b[1;33m)\u001b[0m\u001b[1;33m:\u001b[0m\u001b[1;33m\u001b[0m\u001b[1;33m\u001b[0m\u001b[0m\n",
      "\u001b[1;32mC:\\Python37\\lib\\site-packages\\pandas\\io\\parsers.py\u001b[0m in \u001b[0;36m_make_engine\u001b[1;34m(self, engine)\u001b[0m\n\u001b[0;32m   1120\u001b[0m     \u001b[1;32mdef\u001b[0m \u001b[0m_make_engine\u001b[0m\u001b[1;33m(\u001b[0m\u001b[0mself\u001b[0m\u001b[1;33m,\u001b[0m \u001b[0mengine\u001b[0m\u001b[1;33m=\u001b[0m\u001b[1;34m'c'\u001b[0m\u001b[1;33m)\u001b[0m\u001b[1;33m:\u001b[0m\u001b[1;33m\u001b[0m\u001b[1;33m\u001b[0m\u001b[0m\n\u001b[0;32m   1121\u001b[0m         \u001b[1;32mif\u001b[0m \u001b[0mengine\u001b[0m \u001b[1;33m==\u001b[0m \u001b[1;34m'c'\u001b[0m\u001b[1;33m:\u001b[0m\u001b[1;33m\u001b[0m\u001b[1;33m\u001b[0m\u001b[0m\n\u001b[1;32m-> 1122\u001b[1;33m             \u001b[0mself\u001b[0m\u001b[1;33m.\u001b[0m\u001b[0m_engine\u001b[0m \u001b[1;33m=\u001b[0m \u001b[0mCParserWrapper\u001b[0m\u001b[1;33m(\u001b[0m\u001b[0mself\u001b[0m\u001b[1;33m.\u001b[0m\u001b[0mf\u001b[0m\u001b[1;33m,\u001b[0m \u001b[1;33m**\u001b[0m\u001b[0mself\u001b[0m\u001b[1;33m.\u001b[0m\u001b[0moptions\u001b[0m\u001b[1;33m)\u001b[0m\u001b[1;33m\u001b[0m\u001b[1;33m\u001b[0m\u001b[0m\n\u001b[0m\u001b[0;32m   1123\u001b[0m         \u001b[1;32melse\u001b[0m\u001b[1;33m:\u001b[0m\u001b[1;33m\u001b[0m\u001b[1;33m\u001b[0m\u001b[0m\n\u001b[0;32m   1124\u001b[0m             \u001b[1;32mif\u001b[0m \u001b[0mengine\u001b[0m \u001b[1;33m==\u001b[0m \u001b[1;34m'python'\u001b[0m\u001b[1;33m:\u001b[0m\u001b[1;33m\u001b[0m\u001b[1;33m\u001b[0m\u001b[0m\n",
      "\u001b[1;32mC:\\Python37\\lib\\site-packages\\pandas\\io\\parsers.py\u001b[0m in \u001b[0;36m__init__\u001b[1;34m(self, src, **kwds)\u001b[0m\n\u001b[0;32m   1851\u001b[0m         \u001b[0mkwds\u001b[0m\u001b[1;33m[\u001b[0m\u001b[1;34m'usecols'\u001b[0m\u001b[1;33m]\u001b[0m \u001b[1;33m=\u001b[0m \u001b[0mself\u001b[0m\u001b[1;33m.\u001b[0m\u001b[0musecols\u001b[0m\u001b[1;33m\u001b[0m\u001b[1;33m\u001b[0m\u001b[0m\n\u001b[0;32m   1852\u001b[0m \u001b[1;33m\u001b[0m\u001b[0m\n\u001b[1;32m-> 1853\u001b[1;33m         \u001b[0mself\u001b[0m\u001b[1;33m.\u001b[0m\u001b[0m_reader\u001b[0m \u001b[1;33m=\u001b[0m \u001b[0mparsers\u001b[0m\u001b[1;33m.\u001b[0m\u001b[0mTextReader\u001b[0m\u001b[1;33m(\u001b[0m\u001b[0msrc\u001b[0m\u001b[1;33m,\u001b[0m \u001b[1;33m**\u001b[0m\u001b[0mkwds\u001b[0m\u001b[1;33m)\u001b[0m\u001b[1;33m\u001b[0m\u001b[1;33m\u001b[0m\u001b[0m\n\u001b[0m\u001b[0;32m   1854\u001b[0m         \u001b[0mself\u001b[0m\u001b[1;33m.\u001b[0m\u001b[0munnamed_cols\u001b[0m \u001b[1;33m=\u001b[0m \u001b[0mself\u001b[0m\u001b[1;33m.\u001b[0m\u001b[0m_reader\u001b[0m\u001b[1;33m.\u001b[0m\u001b[0munnamed_cols\u001b[0m\u001b[1;33m\u001b[0m\u001b[1;33m\u001b[0m\u001b[0m\n\u001b[0;32m   1855\u001b[0m \u001b[1;33m\u001b[0m\u001b[0m\n",
      "\u001b[1;32mpandas\\_libs\\parsers.pyx\u001b[0m in \u001b[0;36mpandas._libs.parsers.TextReader.__cinit__\u001b[1;34m()\u001b[0m\n",
      "\u001b[1;32mpandas\\_libs\\parsers.pyx\u001b[0m in \u001b[0;36mpandas._libs.parsers.TextReader._setup_parser_source\u001b[1;34m()\u001b[0m\n",
      "\u001b[1;31mFileNotFoundError\u001b[0m: [Errno 2] File b'data/X.csv' does not exist: b'data/X.csv'"
     ]
    }
   ],
   "source": [
    "for stans in stan_US:\n",
    "    a= corr('Samsung_Electronics',stans,weekly=True)\n",
    "    display(a)"
   ]
  },
  {
   "cell_type": "code",
   "execution_count": null,
   "metadata": {},
   "outputs": [],
   "source": []
  }
 ],
 "metadata": {
  "kernelspec": {
   "display_name": "Python 3",
   "language": "python",
   "name": "python3"
  },
  "language_info": {
   "codemirror_mode": {
    "name": "ipython",
    "version": 3
   },
   "file_extension": ".py",
   "mimetype": "text/x-python",
   "name": "python",
   "nbconvert_exporter": "python",
   "pygments_lexer": "ipython3",
   "version": "3.7.2"
  }
 },
 "nbformat": 4,
 "nbformat_minor": 2
}
