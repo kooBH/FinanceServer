{
 "cells": [
  {
   "cell_type": "markdown",
   "metadata": {},
   "source": [
    "+ Top 50 matplotlib  \n",
    "https://www.machinelearningplus.com/plots/top-50-matplotlib-visualizations-the-master-plots-python/\n",
    "\n",
    "+ Top 21 Samsung Competitors – Competitor analysis of Samsung  \n",
    "https://www.marketing91.com/samsung-competitors/  \n",
    "\n"
   ]
  },
  {
   "cell_type": "markdown",
   "metadata": {},
   "source": [
    "\n",
    "# INDEX<a name=\"INDEX\"></a>\n",
    "---\n",
    "+ ## [초기설정(필수)](#초기설정)\n",
    "+ ## [심볼리스트 생성](#init)\n",
    "+ ## [데이터 다운로드](#down)\n",
    "+ ## [OLS](#ols)\n",
    "+ ## [Joint Plot](#joint)\n",
    "+ ## [데이터확인](#확인)\n",
    "+ ## [co-kurtosis](#cokur)\n",
    "+ ## [correlation](#corr)"
   ]
  },
  {
   "cell_type": "markdown",
   "metadata": {},
   "source": [
    "# Note\n",
    "---\n",
    "+ read_csv 에서 오류가 난다면 Analyze.py에\n",
    "\n",
    "```python\n",
    "engine = 'python'\n",
    "```\n",
    "를 추가해 줘보자.\n",
    "\n",
    "```python\n",
    "pd.read_csv('data/'+target_1 + '.csv',index_col='Date',engine='python')\n",
    "```\n",
    "\n",
    "+ csv 파일이 제대로 되어있는지 확인하여보자  \n",
    "        메모장으로 열었을 시에 제대로 ',' 로 구분되어야한다.  \n",
    "        엑셀 파일을 받아서 csv로 변환이 잘 안되는 경우가 있다.\n",
    "\n",
    "+ 출력이 스크롤 안에 안 들어가게 하기  \n",
    "        Cell -> All output (또는 Current outputs) -> toggle scrolling  \n",
    "        또는 cell 선택후 'o'"
   ]
  },
  {
   "cell_type": "markdown",
   "metadata": {},
   "source": [
    "### [초기 설정](#INDEX)<a name=\"초기설정\"></a>\n",
    "+ 한글 출력을 위한 폰트 설정, 각 PC마다 환경이 다름 ([matlplot 한글폰트](matlplot%20한글폰트.ipynb).ipynb 참고)\n",
    "+ 사용할 지표들 등록"
   ]
  },
  {
   "cell_type": "code",
   "execution_count": null,
   "metadata": {
    "scrolled": false
   },
   "outputs": [],
   "source": [
    "import SymbolList as sl\n",
    "import Analysis as an\n",
    "import Visualization as vi\n",
    "import numpy as np\n",
    "import pandas as pd\n",
    "import datetime as dt \n",
    "from statsmodels.formula.api import ols \n",
    "import seaborn as sns;  sns.set()\n",
    "import matplotlib.pyplot as plt\n",
    "import matplotlib as mpl\n",
    "\n",
    "# matplot 설정\n",
    "mpl.rcParams['axes.unicode_minus'] = False\n",
    "# -*- coding: utf-8 -*-\n",
    "plt.rc('font', family=\"LG PC\")\n",
    "# 리스트 설정\n",
    "ten_kor = ['Samsung_Electronics','SK_hynix','LG_Electronics',\n",
    "    '삼성SDI','엔씨소프트','카카오','삼성전기',\n",
    "    'LG디스플레이','삼성SDS','네이버']\n",
    "ten_US = [  'Apple','Microsoft','IBM','Oracle',\n",
    "            'Amazon','Tesla','Alphabet','Facebook',\n",
    "            'Cisco','타이완 반도체','Intel','오라클','SAP']\n",
    "index_kor = '와이즈'\n",
    "#index_US = 'IXT'\n",
    "index_US = 'XLK'\n",
    "#stan_US = ['IXT','VIX','BitCoin','MSCI','ten_Year_Treasury']\n",
    "stan_US = ['XLK','VIX','BitCoin','MSCI','ten_Year_Treasury']\n",
    "\n",
    "# IT 기업들 \n",
    "#stan_US = ['XLK','ten_Year_Treasury','Apple','NVIDIA','AMD','퀄컴']\n",
    "\n",
    "stan_1 = ['KOSPI','SK_hynix','XLK','VIX','BitCoin','MSCI','ten_Year_Treasury']"
   ]
  },
  {
   "cell_type": "markdown",
   "metadata": {
    "scrolled": false
   },
   "source": [
    "### 지표 설명\n",
    "+ [와이즈](http://www.wiseindex.com/Index/Index#/WI610.0) - 와이즈 IT하드웨어 지수\n",
    "+ [IXT](https://finance.yahoo.com/quote/%5EIXT?p=^IXT&.tsrc=fin-srch) : TECHNOLOGY SELECT SECTOR INDEX  - 현재 미사용, 온전한 3년치를 얻을 방법을 못 찾음\n",
    "+ [XLK](https://finance.yahoo.com/quote/XLK?p=XLK&.tsrc=fin-srch): Technology Select Sector SPDR Fund \n",
    "+ [VIX](https://finance.yahoo.com/quote/ZM?p=ZM&.tsrc=fin-srch) : VelocityShares Daily 2x VIX Short-Term ETN(a.k.a 공포지수), S&P500지수 옵션 가격의 향후 30일 동안의 변동성에 대한 시장의 기대\n",
    "+ [MSCI](https://finance.yahoo.com/quote/EEM?p=EEM&.tsrc=fin-srch) : iShares MSCI Emerging Markets ETF\n",
    "+ [ten_Year_Treasury](https://finance.yahoo.com/quote/IEF?p=IEF&.tsrc=fin-srch) : iShares 7-10 Year Treasury Bond ETF"
   ]
  },
  {
   "cell_type": "markdown",
   "metadata": {},
   "source": [
    "# [OLS ](#INDEX)<a name=\"ols\"></a>\n",
    "```python\n",
    "def ols_comb(             \n",
    "           dep,inds,\n",
    "           comb_num=1,\n",
    "           show_summary = False,\n",
    "           do_shift = True,\n",
    "           show_plot = True,  \n",
    "           show_line = False,\n",
    "           weekly=True,\n",
    "           start='2016-01-04',\n",
    "           end='2018-12-28',\n",
    "           engine='c'\n",
    "            )\n",
    "    ```"
   ]
  },
  {
   "cell_type": "code",
   "execution_count": null,
   "metadata": {},
   "outputs": [],
   "source": [
    "an.ols_comb(comb_num=1,dep='Samsung_Electronics',inds=stan_US,weekly=True,show_summary=False,show_plot=True)"
   ]
  },
  {
   "cell_type": "code",
   "execution_count": null,
   "metadata": {},
   "outputs": [],
   "source": [
    "an.ols_comb(comb_num=1,dep='Samsung_Electronics',inds=stan_US,weekly=True,show_summary=False,show_plot=True)\n",
    "an.ols_comb(comb_num=1,dep='Samsung_Electronics',inds=stan_US,weekly=True,show_summary=False,show_plot=True,start=\"2010-01-04\")\n",
    "\n",
    "an.ols_comb(comb_num=2,dep='Samsung_Electronics',inds=stan_US,weekly=True,show_summary=False,show_plot=True)\n",
    "an.ols_comb(comb_num=2,dep='Samsung_Electronics',inds=stan_US,weekly=True,show_summary=False,show_plot=True,start=\"2010-01-04\")\n",
    "\n",
    "an.ols_comb(comb_num=3,dep='Samsung_Electronics',inds=stan_US,weekly=True,show_summary=False,show_plot=True)\n",
    "an.ols_comb(comb_num=3,dep='Samsung_Electronics',inds=stan_US,weekly=True,show_summary=False,show_plot=True,start=\"2010-01-04\")\n",
    "\n",
    "an.ols_comb(comb_num=4,dep='Samsung_Electronics',inds=stan_US,weekly=True,show_summary=False,show_plot=True)\n",
    "an.ols_comb(comb_num=4,dep='Samsung_Electronics',inds=stan_US,weekly=True,show_summary=False,show_plot=True,start=\"2010-01-04\")\n",
    "\n",
    "an.ols_comb(comb_num=5,dep='Samsung_Electronics',inds=stan_US,weekly=True,show_summary=False,show_plot=True)\n",
    "an.ols_comb(comb_num=5,dep='Samsung_Electronics',inds=stan_US,weekly=True,show_summary=False,show_plot=True,start=\"2010-01-04\")"
   ]
  },
  {
   "cell_type": "markdown",
   "metadata": {},
   "source": [
    "# [데이터 확인](#INDEX)<a name=\"확인\"></a>\n",
    "\n",
    "2016년부터 2018년 까지의 데이터 plotting."
   ]
  },
  {
   "cell_type": "code",
   "execution_count": null,
   "metadata": {},
   "outputs": [],
   "source": [
    "an.isValid(stan_US,start='2010-01-04')"
   ]
  },
  {
   "cell_type": "code",
   "execution_count": null,
   "metadata": {
    "scrolled": false
   },
   "outputs": [],
   "source": [
    "an.isValid(ten_kor)\n",
    "#an.isValid(ten_US)"
   ]
  },
  {
   "cell_type": "markdown",
   "metadata": {},
   "source": [
    "# [Symbol List 초기화 & 불러오기](#INDEX)<a name=\"init\"></a>\n",
    "+ IXT 같은 index 는 잘 안불러진다.\n",
    "+ 잘 받았는지 검증하는 루틴이 필요함. "
   ]
  },
  {
   "cell_type": "code",
   "execution_count": null,
   "metadata": {
    "scrolled": true
   },
   "outputs": [],
   "source": [
    "df = sl.init_symbol_DF()\n",
    "sl.add_symbol(df,'삼성SDS','018260.KS',init=True)\n",
    "df = sl.init_symbol_DF()"
   ]
  },
  {
   "cell_type": "markdown",
   "metadata": {},
   "source": [
    "# [Symbol List 에서 데이터 받기](#INDEX)<a name=\"down\"></a>"
   ]
  },
  {
   "cell_type": "markdown",
   "metadata": {},
   "source": [
    "TODO::이전에 받은 날짜에 이어서 붙이는거 추가하자."
   ]
  },
  {
   "cell_type": "code",
   "execution_count": null,
   "metadata": {
    "scrolled": true
   },
   "outputs": [],
   "source": [
    "sl.download()"
   ]
  },
  {
   "cell_type": "markdown",
   "metadata": {},
   "source": [
    "# [co-kurtosis](#INDEX)<a name=\"cokur\"></a>\n",
    "+ how to calculate coskew and cokurtosis\n",
    "https://stackoverflow.com/questions/41890870/how-to-calculate-coskew-and-cokurtosis\n",
    "\n",
    "생각을 좀 해봐야겠다.\n",
    "\n",
    "$$ K(X,X,Y,Y)= {E[(X - E[X])^2(Y - E[Y]^2)] \\over \\sigma_X^2\\sigma_Y^2}$$\n",
    "\n",
    "변화율로 가야하나, 정규화를 해야하나, 그냥 해도 되나\n",
    "\n",
    "```python\n",
    "def cokur(\n",
    "    target1,\n",
    "    target2,\n",
    "    start='2016-01-04',\n",
    "    end='2018-12-28',\n",
    "    engine='c',\n",
    "    value = 'Close'\n",
    "    ):  \n",
    "    ```"
   ]
  },
  {
   "cell_type": "code",
   "execution_count": null,
   "metadata": {},
   "outputs": [],
   "source": [
    "df_cokur = pd.DataFrame(columns=['Samsung_Electronics'])\n",
    "for stans in stan_US:\n",
    "    tmp = an.cokur('Samsung_Electronics',stans)\n",
    "    df_cokur.loc[stans] = [tmp['Close']]\n",
    "display(df_cokur)\n",
    "df_cokur.plot(kind='bar',rot=45,title='Co-Kurtosis')\n"
   ]
  },
  {
   "cell_type": "markdown",
   "metadata": {},
   "source": [
    "# [Joint plot](#INDEX)<a name=\"joint\"></a>\n",
    "https://seaborn.pydata.org/generated/seaborn.jointplot.html"
   ]
  },
  {
   "cell_type": "code",
   "execution_count": null,
   "metadata": {
    "scrolled": false
   },
   "outputs": [],
   "source": [
    "for idx in stan_US:\n",
    "    an.joint('Samsung_Electronics',idx)"
   ]
  },
  {
   "cell_type": "code",
   "execution_count": null,
   "metadata": {
    "scrolled": false
   },
   "outputs": [],
   "source": [
    "for idx in range(0,len(ten_US)):\n",
    "    an.joint(ten_US[idx],index_kor)"
   ]
  },
  {
   "cell_type": "markdown",
   "metadata": {},
   "source": [
    "# [Correlation](#INDEX)<a name=\"corr\"></a>"
   ]
  },
  {
   "cell_type": "markdown",
   "metadata": {},
   "source": [
    "```python\n",
    "def corr(\n",
    "    target1,\n",
    "    targets,\n",
    "    start='2016-01-04',\n",
    "    end='2018-12-28',\n",
    "    engine='c',\n",
    "    value = 'Close',\n",
    "    weekly=True\n",
    "    ):   \n",
    "    ```"
   ]
  },
  {
   "cell_type": "code",
   "execution_count": null,
   "metadata": {},
   "outputs": [],
   "source": [
    "a= an.corr('Samsung_Electronics',stan_US,weekly=True)\n",
    "b = a.plot(kind='barh',figsize=(20,10), title='correlation',fontsize=20)\n",
    "b.title.set_size(32)"
   ]
  },
  {
   "cell_type": "code",
   "execution_count": null,
   "metadata": {},
   "outputs": [],
   "source": []
  }
 ],
 "metadata": {
  "kernelspec": {
   "display_name": "Python 3",
   "language": "python",
   "name": "python3"
  },
  "language_info": {
   "codemirror_mode": {
    "name": "ipython",
    "version": 3
   },
   "file_extension": ".py",
   "mimetype": "text/x-python",
   "name": "python",
   "nbconvert_exporter": "python",
   "pygments_lexer": "ipython3",
   "version": "3.5.2"
  }
 },
 "nbformat": 4,
 "nbformat_minor": 2
}
