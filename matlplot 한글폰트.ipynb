{
 "cells": [
  {
   "cell_type": "markdown",
   "metadata": {},
   "source": [
    "https://programmers.co.kr/learn/courses/21/lessons/950"
   ]
  },
  {
   "cell_type": "code",
   "execution_count": 1,
   "metadata": {},
   "outputs": [],
   "source": [
    "import matplotlib as mpl\n",
    "import matplotlib.pyplot as plt\n",
    "import matplotlib.font_manager as fm"
   ]
  },
  {
   "cell_type": "markdown",
   "metadata": {},
   "source": [
    "테스트용 데이터"
   ]
  },
  {
   "cell_type": "code",
   "execution_count": 2,
   "metadata": {},
   "outputs": [
    {
     "data": {
      "text/plain": [
       "array([  94,  181,  172,  184,  186,  176,  225,  128,  222,  154,  147,\n",
       "        158,  205,  228,  162,  118,  166,  211,  216,  309,  307,  286,\n",
       "        381,  437,  341,  268,  281,  238,  198,  185,  105,  198,  120,\n",
       "         80,   38,   38,  126,  146,  117,   85,   23,  -57,  -87, -106,\n",
       "       -110,  -88, -171, -255, -347, -426], dtype=int32)"
      ]
     },
     "execution_count": 2,
     "metadata": {},
     "output_type": "execute_result"
    }
   ],
   "source": [
    "import numpy as np\n",
    "\n",
    "data = np.random.randint(-100, 100, 50).cumsum()\n",
    "data"
   ]
  },
  {
   "cell_type": "code",
   "execution_count": 3,
   "metadata": {
    "scrolled": true
   },
   "outputs": [
    {
     "data": {
      "text/plain": [
       "Text(0.5, 0, '시간(분)')"
      ]
     },
     "execution_count": 3,
     "metadata": {},
     "output_type": "execute_result"
    },
    {
     "data": {
      "image/png": "[encoded data removed]",
      "text/plain": [
       "<Figure size 432x288 with 1 Axes>"
      ]
     },
     "metadata": {
      "needs_background": "light"
     },
     "output_type": "display_data"
    }
   ],
   "source": [
    "plt.plot(range(50), data, 'r')\n",
    "mpl.rcParams['axes.unicode_minus'] = False\n",
    "plt.title('시간별 가격 추이')\n",
    "plt.ylabel('주식 가격')\n",
    "plt.xlabel('시간(분)')"
   ]
  },
  {
   "cell_type": "code",
   "execution_count": 4,
   "metadata": {},
   "outputs": [
    {
     "name": "stdout",
     "output_type": "stream",
     "text": [
      "버전:  3.0.3\n",
      "설치 위치:  C:\\Python37\\lib\\site-packages\\matplotlib\\__init__.py\n",
      "설정 위치:  C:\\Users\\k0103\\.matplotlib\n",
      "캐시 위치:  C:\\Users\\k0103\\.matplotlib\n"
     ]
    }
   ],
   "source": [
    "print ('버전: ', mpl.__version__)\n",
    "print ('설치 위치: ', mpl.__file__)\n",
    "print ('설정 위치: ', mpl.get_configdir())\n",
    "print ('캐시 위치: ', mpl.get_cachedir())"
   ]
  },
  {
   "cell_type": "code",
   "execution_count": 5,
   "metadata": {},
   "outputs": [
    {
     "name": "stdout",
     "output_type": "stream",
     "text": [
      "설정 파일 위치:  C:\\Python37\\lib\\site-packages\\matplotlib\\mpl-data\\matplotlibrc\n"
     ]
    }
   ],
   "source": [
    "print ('설정 파일 위치: ', mpl.matplotlib_fname())"
   ]
  },
  {
   "cell_type": "code",
   "execution_count": 6,
   "metadata": {},
   "outputs": [
    {
     "name": "stdout",
     "output_type": "stream",
     "text": [
      "285\n"
     ]
    }
   ],
   "source": [
    "font_list = fm.findSystemFonts(fontpaths=None, fontext='ttf')\n",
    "\n",
    "# ttf 폰트 전체개수\n",
    "print(len(font_list))"
   ]
  },
  {
   "cell_type": "markdown",
   "metadata": {},
   "source": [
    "### 여기서 쓰고자 하는 폰트를 찾는다"
   ]
  },
  {
   "cell_type": "code",
   "execution_count": 11,
   "metadata": {},
   "outputs": [
    {
     "name": "stdout",
     "output_type": "stream",
     "text": [
      "285\n"
     ]
    },
    {
     "data": {
      "text/plain": [
       "['cmmi10',\n",
       " 'STIXSizeTwoSym',\n",
       " 'DejaVu Serif',\n",
       " 'DejaVu Serif',\n",
       " 'cmss10',\n",
       " 'DejaVu Serif Display',\n",
       " 'STIXSizeFourSym',\n",
       " 'cmsy10',\n",
       " 'STIXGeneral',\n",
       " 'cmr10',\n",
       " 'STIXNonUnicode',\n",
       " 'cmb10',\n",
       " 'STIXNonUnicode',\n",
       " 'STIXSizeFiveSym',\n",
       " 'DejaVu Sans',\n",
       " 'DejaVu Sans Mono',\n",
       " 'STIXGeneral',\n",
       " 'DejaVu Sans Mono',\n",
       " 'STIXSizeOneSym',\n",
       " 'DejaVu Serif',\n",
       " 'STIXSizeOneSym',\n",
       " 'STIXNonUnicode',\n",
       " 'DejaVu Sans Mono',\n",
       " 'STIXSizeThreeSym',\n",
       " 'DejaVu Sans Display',\n",
       " 'STIXSizeThreeSym',\n",
       " 'DejaVu Sans',\n",
       " 'DejaVu Sans',\n",
       " 'STIXGeneral',\n",
       " 'STIXSizeFourSym',\n",
       " 'STIXGeneral',\n",
       " 'DejaVu Sans',\n",
       " 'cmtt10',\n",
       " 'DejaVu Serif',\n",
       " 'STIXNonUnicode',\n",
       " 'cmex10',\n",
       " 'STIXSizeTwoSym',\n",
       " 'DejaVu Sans Mono',\n",
       " 'Segoe UI',\n",
       " 'HCR Batang Ext',\n",
       " 'Microsoft Himalaya',\n",
       " 'Myanmar Text',\n",
       " 'Courier New',\n",
       " 'Segoe UI',\n",
       " 'Trebuchet MS',\n",
       " 'Malgun Gothic',\n",
       " 'Malgun Gothic',\n",
       " 'Nirmala UI',\n",
       " 'Corbel',\n",
       " 'Consolas',\n",
       " 'Candara',\n",
       " 'AlternateGothic2 BT',\n",
       " 'Constantia',\n",
       " 'Segoe UI',\n",
       " 'Lucida Sans Unicode',\n",
       " 'Segoe UI',\n",
       " 'MBatang',\n",
       " 'Cambria',\n",
       " 'Candara',\n",
       " 'HCR Dotum',\n",
       " 'Gadugi',\n",
       " 'HCR Dotum',\n",
       " 'Candara',\n",
       " 'MJemokBatang',\n",
       " 'Calibri',\n",
       " 'Microsoft New Tai Lue',\n",
       " 'Palatino Linotype',\n",
       " 'Microsoft Tai Le',\n",
       " 'Verdana',\n",
       " 'Segoe UI',\n",
       " 'Verdana',\n",
       " 'Trebuchet MS',\n",
       " 'Franklin Gothic Medium',\n",
       " 'Segoe UI Emoji',\n",
       " 'Nirmala UI',\n",
       " 'Candara',\n",
       " 'Segoe UI',\n",
       " 'Webdings',\n",
       " 'Ink Free',\n",
       " 'Segoe UI',\n",
       " 'Leelawadee UI',\n",
       " 'Arial',\n",
       " 'HoloLens MDL2 Assets',\n",
       " 'Palatino Linotype',\n",
       " 'Comic Sans MS',\n",
       " 'HCR Batang ExtB',\n",
       " 'Times New Roman',\n",
       " 'Verdana',\n",
       " 'Comic Sans MS',\n",
       " 'Segoe Print',\n",
       " 'Cambria',\n",
       " 'Arial',\n",
       " 'Leelawadee UI',\n",
       " 'MV Boli',\n",
       " 'NewJumja',\n",
       " 'Microsoft PhagsPa',\n",
       " 'Times New Roman',\n",
       " 'HCR Dotum Ext',\n",
       " 'Trebuchet MS',\n",
       " 'Leelawadee UI',\n",
       " 'LG PC',\n",
       " 'Microsoft New Tai Lue',\n",
       " 'Arial',\n",
       " 'Consolas',\n",
       " 'Microsoft Tai Le',\n",
       " 'Calibri',\n",
       " 'Constantia',\n",
       " 'Comic Sans MS',\n",
       " 'MDotum',\n",
       " 'Corbel',\n",
       " 'Bahnschrift',\n",
       " 'Calibri',\n",
       " 'Segoe Print',\n",
       " 'Palatino Linotype',\n",
       " 'Corbel',\n",
       " 'Constantia',\n",
       " 'Malgun Gothic',\n",
       " 'Palatino Linotype',\n",
       " 'Microsoft PhagsPa',\n",
       " 'Courier New',\n",
       " 'Microsoft Sans Serif',\n",
       " 'HyhwpEQ',\n",
       " 'Segoe MDL2 Assets',\n",
       " 'Segoe UI',\n",
       " 'Gabriola',\n",
       " 'Calibri',\n",
       " 'Impact',\n",
       " 'Sylfaen',\n",
       " 'Georgia',\n",
       " 'Calibri',\n",
       " 'Lucida Console',\n",
       " 'HCR Batang ExtB',\n",
       " 'MGungHeulim',\n",
       " 'Nirmala UI',\n",
       " 'Wingdings',\n",
       " 'Segoe UI',\n",
       " 'Segoe UI Historic',\n",
       " 'Javanese Text',\n",
       " 'Ebrima',\n",
       " 'Ebrima',\n",
       " 'MHunmin',\n",
       " 'Segoe UI Symbol',\n",
       " 'Franklin Gothic Medium',\n",
       " 'Arial',\n",
       " 'Consolas',\n",
       " 'Consolas',\n",
       " 'Segoe Script',\n",
       " 'Courier New',\n",
       " 'SimSun-ExtB',\n",
       " 'Microsoft Yi Baiti',\n",
       " 'Symbol',\n",
       " 'MSugiHeulim',\n",
       " 'Verdana',\n",
       " 'Courier New',\n",
       " 'Trebuchet MS',\n",
       " 'Times New Roman',\n",
       " 'Constantia',\n",
       " 'Times New Roman',\n",
       " 'Marlett',\n",
       " 'Comic Sans MS',\n",
       " 'MJemokGothic',\n",
       " 'Segoe UI',\n",
       " 'MGungJeong',\n",
       " 'Cambria',\n",
       " 'Tahoma',\n",
       " 'Segoe Script',\n",
       " 'Georgia',\n",
       " 'MSugiJeong',\n",
       " 'Georgia',\n",
       " 'Georgia',\n",
       " 'Segoe UI',\n",
       " 'Arial',\n",
       " 'Tahoma',\n",
       " 'Myanmar Text',\n",
       " 'Segoe UI',\n",
       " 'Calibri',\n",
       " 'HCR Batang',\n",
       " 'HCR Batang',\n",
       " 'Corbel',\n",
       " 'Gadugi',\n",
       " 'Mongolian Baiti']"
      ]
     },
     "execution_count": 11,
     "metadata": {},
     "output_type": "execute_result"
    }
   ],
   "source": [
    "font_list[:10]\n",
    "f = [f.name for f in fm.fontManager.ttflist]\n",
    "print(len(font_list))\n",
    "# 10개의 폰트 명 만 출력\n",
    "f"
   ]
  },
  {
   "cell_type": "markdown",
   "metadata": {},
   "source": [
    "나눔 폰트 검색"
   ]
  },
  {
   "cell_type": "code",
   "execution_count": 10,
   "metadata": {},
   "outputs": [
    {
     "data": {
      "text/plain": [
       "[]"
      ]
     },
     "execution_count": 10,
     "metadata": {},
     "output_type": "execute_result"
    }
   ],
   "source": [
    "[(f.name, f.fname) for f in fm.fontManager.ttflist if 'Nanum' in f.name]"
   ]
  },
  {
   "cell_type": "code",
   "execution_count": null,
   "metadata": {},
   "outputs": [],
   "source": [
    "plt.rc('font', family=\"LG PC\")"
   ]
  }
 ],
 "metadata": {
  "kernelspec": {
   "display_name": "Python 3",
   "language": "python",
   "name": "python3"
  },
  "language_info": {
   "codemirror_mode": {
    "name": "ipython",
    "version": 3
   },
   "file_extension": ".py",
   "mimetype": "text/x-python",
   "name": "python",
   "nbconvert_exporter": "python",
   "pygments_lexer": "ipython3",
   "version": "3.5.2"
  }
 },
 "nbformat": 4,
 "nbformat_minor": 2
}
