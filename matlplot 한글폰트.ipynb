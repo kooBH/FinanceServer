{
 "cells": [
  {
   "cell_type": "markdown",
   "metadata": {},
   "source": [
    "https://programmers.co.kr/learn/courses/21/lessons/950"
   ]
  },
  {
   "cell_type": "code",
   "execution_count": 1,
   "metadata": {},
   "outputs": [],
   "source": [
    "import matplotlib as mpl\n",
    "import matplotlib.pyplot as plt\n",
    "import matplotlib.font_manager as fm"
   ]
  },
  {
   "cell_type": "markdown",
   "metadata": {},
   "source": [
    "테스트용 데이터"
   ]
  },
  {
   "cell_type": "code",
   "execution_count": 2,
   "metadata": {},
   "outputs": [
    {
     "data": {
      "text/plain": [
       "array([ -71, -126, -115, -152, -230, -228, -296, -322, -375, -357, -300,\n",
       "       -392, -406, -470, -551, -548, -567, -638, -598, -536, -572, -573,\n",
       "       -523, -508, -537, -632, -537, -464, -433, -368, -435, -351, -361,\n",
       "       -359, -374, -297, -387, -448, -468, -431, -365, -324, -345, -397,\n",
       "       -411, -330, -425, -356, -455, -480])"
      ]
     },
     "execution_count": 2,
     "metadata": {},
     "output_type": "execute_result"
    }
   ],
   "source": [
    "import numpy as np\n",
    "\n",
    "data = np.random.randint(-100, 100, 50).cumsum()\n",
    "data"
   ]
  },
  {
   "cell_type": "code",
   "execution_count": 3,
   "metadata": {
    "scrolled": true
   },
   "outputs": [
    {
     "data": {
      "text/plain": [
       "Text(0.5, 0, '시간(분)')"
      ]
     },
     "execution_count": 3,
     "metadata": {},
     "output_type": "execute_result"
    },
    {
     "data": {
      "image/png": "[encoded data removed]",
      "text/plain": [
       "<Figure size 432x288 with 1 Axes>"
      ]
     },
     "metadata": {
      "needs_background": "light"
     },
     "output_type": "display_data"
    }
   ],
   "source": [
    "plt.plot(range(50), data, 'r')\n",
    "mpl.rcParams['axes.unicode_minus'] = False\n",
    "plt.title('시간별 가격 추이')\n",
    "plt.ylabel('주식 가격')\n",
    "plt.xlabel('시간(분)')"
   ]
  },
  {
   "cell_type": "code",
   "execution_count": 4,
   "metadata": {},
   "outputs": [
    {
     "name": "stdout",
     "output_type": "stream",
     "text": [
      "버전:  3.0.3\n",
      "설치 위치:  /usr/local/lib/python3.5/dist-packages/matplotlib/__init__.py\n",
      "설정 위치:  /home/kbh/.config/matplotlib\n",
      "캐시 위치:  /home/kbh/.cache/matplotlib\n"
     ]
    }
   ],
   "source": [
    "print ('버전: ', mpl.__version__)\n",
    "print ('설치 위치: ', mpl.__file__)\n",
    "print ('설정 위치: ', mpl.get_configdir())\n",
    "print ('캐시 위치: ', mpl.get_cachedir())"
   ]
  },
  {
   "cell_type": "code",
   "execution_count": 5,
   "metadata": {},
   "outputs": [
    {
     "name": "stdout",
     "output_type": "stream",
     "text": [
      "설정 파일 위치:  /usr/local/lib/python3.5/dist-packages/matplotlib/mpl-data/matplotlibrc\n"
     ]
    }
   ],
   "source": [
    "print ('설정 파일 위치: ', mpl.matplotlib_fname())"
   ]
  },
  {
   "cell_type": "code",
   "execution_count": 6,
   "metadata": {},
   "outputs": [
    {
     "name": "stdout",
     "output_type": "stream",
     "text": [
      "210\n"
     ]
    }
   ],
   "source": [
    "font_list = fm.findSystemFonts(fontpaths=None, fontext='ttf')\n",
    "\n",
    "# ttf 폰트 전체개수\n",
    "print(len(font_list))"
   ]
  },
  {
   "cell_type": "markdown",
   "metadata": {},
   "source": [
    "### 여기서 쓰고자 하는 폰트를 찾는다"
   ]
  },
  {
   "cell_type": "code",
   "execution_count": 7,
   "metadata": {},
   "outputs": [
    {
     "name": "stdout",
     "output_type": "stream",
     "text": [
      "210\n"
     ]
    },
    {
     "data": {
      "text/plain": [
       "['DejaVu Serif',\n",
       " 'STIXGeneral',\n",
       " 'STIXSizeFiveSym',\n",
       " 'DejaVu Sans',\n",
       " 'cmss10',\n",
       " 'cmsy10',\n",
       " 'STIXSizeTwoSym',\n",
       " 'STIXSizeFourSym',\n",
       " 'DejaVu Sans Mono',\n",
       " 'DejaVu Serif Display',\n",
       " 'DejaVu Serif',\n",
       " 'DejaVu Serif',\n",
       " 'STIXSizeOneSym',\n",
       " 'cmtt10',\n",
       " 'STIXSizeThreeSym',\n",
       " 'cmb10',\n",
       " 'STIXNonUnicode',\n",
       " 'DejaVu Sans Mono',\n",
       " 'DejaVu Sans',\n",
       " 'DejaVu Sans Mono',\n",
       " 'STIXSizeOneSym',\n",
       " 'STIXSizeTwoSym',\n",
       " 'STIXGeneral',\n",
       " 'STIXNonUnicode',\n",
       " 'STIXSizeThreeSym',\n",
       " 'STIXGeneral',\n",
       " 'STIXNonUnicode',\n",
       " 'DejaVu Sans Mono',\n",
       " 'DejaVu Sans Display',\n",
       " 'cmmi10',\n",
       " 'cmr10',\n",
       " 'STIXGeneral',\n",
       " 'STIXNonUnicode',\n",
       " 'cmex10',\n",
       " 'DejaVu Serif',\n",
       " 'STIXSizeFourSym',\n",
       " 'DejaVu Sans',\n",
       " 'DejaVu Sans',\n",
       " 'Liberation Sans Narrow',\n",
       " 'Norasi',\n",
       " 'Lato',\n",
       " 'FreeMono',\n",
       " 'Padauk Book',\n",
       " 'STIXNonUnicode',\n",
       " 'Sawasdee',\n",
       " 'Liberation Sans',\n",
       " 'STIXSizeFourSym',\n",
       " 'Ubuntu Condensed',\n",
       " 'STIXSizeThreeSym',\n",
       " 'STIX',\n",
       " 'UnDinaru',\n",
       " 'STIXIntegralsUpD',\n",
       " 'Kinnari',\n",
       " 'STIXGeneral',\n",
       " 'KacstPen',\n",
       " 'Waree',\n",
       " 'Lato',\n",
       " 'Norasi',\n",
       " 'UnBatang',\n",
       " 'Saab',\n",
       " 'UnGraphic',\n",
       " 'Sawasdee',\n",
       " 'STIXSizeFiveSym',\n",
       " 'Lato',\n",
       " 'Tlwg Typewriter',\n",
       " 'FreeSans',\n",
       " 'TakaoPGothic',\n",
       " 'Tlwg Typewriter',\n",
       " 'STIXSizeFourSym',\n",
       " 'STIXIntegralsSm',\n",
       " 'Ubuntu Mono',\n",
       " 'Laksaman',\n",
       " 'Liberation Serif',\n",
       " 'Liberation Serif',\n",
       " 'Waree',\n",
       " 'Lato',\n",
       " 'KacstOne',\n",
       " 'FreeSerif',\n",
       " 'Waree',\n",
       " 'Tlwg Mono',\n",
       " 'KacstArt',\n",
       " 'STIX',\n",
       " 'Padauk',\n",
       " 'KacstLetter',\n",
       " 'STIXSizeTwoSym',\n",
       " 'FreeSerif',\n",
       " 'Lato',\n",
       " 'UnPilgi',\n",
       " 'Kinnari',\n",
       " 'Garuda',\n",
       " 'Abyssinica SIL',\n",
       " 'Liberation Sans',\n",
       " 'Garuda',\n",
       " 'STIXIntegralsUp',\n",
       " 'UnGraphic',\n",
       " 'Lato',\n",
       " 'Kinnari',\n",
       " 'Umpush',\n",
       " 'Garuda',\n",
       " 'UnDotum',\n",
       " 'Norasi',\n",
       " 'Lohit Punjabi',\n",
       " 'NanumGothicCoding',\n",
       " 'STIXIntegralsUpD',\n",
       " 'Umpush',\n",
       " 'Tlwg Mono',\n",
       " 'FreeSerif',\n",
       " 'KacstFarsi',\n",
       " 'Tlwg Typo',\n",
       " 'Ubuntu',\n",
       " 'Lato',\n",
       " 'STIXIntegralsD',\n",
       " 'FreeMono',\n",
       " 'UnPilgi',\n",
       " 'Norasi',\n",
       " 'Ubuntu',\n",
       " 'STIXNonUnicode',\n",
       " 'FreeSans',\n",
       " 'STIXSizeOneSym',\n",
       " 'Loma',\n",
       " 'Padauk Book',\n",
       " 'KacstDecorative',\n",
       " 'Loma',\n",
       " 'Umpush',\n",
       " 'STIXGeneral',\n",
       " 'Liberation Serif',\n",
       " 'STIX',\n",
       " 'Purisa',\n",
       " 'Sawasdee',\n",
       " 'Ubuntu',\n",
       " 'Garuda',\n",
       " 'KacstTitle',\n",
       " 'Liberation Mono',\n",
       " 'Tlwg Mono',\n",
       " 'Lato',\n",
       " 'Purisa',\n",
       " 'Tlwg Typist',\n",
       " 'Liberation Mono',\n",
       " 'Liberation Sans',\n",
       " 'STIXVariants',\n",
       " 'FreeSerif',\n",
       " 'Lato',\n",
       " 'Lato',\n",
       " 'NanumGothic',\n",
       " 'Tlwg Typewriter',\n",
       " 'KacstQurn',\n",
       " 'Liberation Serif',\n",
       " 'Khmer OS System',\n",
       " 'STIXVariants',\n",
       " 'Umpush',\n",
       " 'Norasi',\n",
       " 'Ubuntu',\n",
       " 'UnGungseo',\n",
       " 'Lato',\n",
       " 'Loma',\n",
       " 'Umpush',\n",
       " 'Tibetan Machine Uni',\n",
       " 'Liberation Sans',\n",
       " 'Lato',\n",
       " 'FreeMono',\n",
       " 'Tlwg Typo',\n",
       " 'Tlwg Typo',\n",
       " 'STIXSizeTwoSym',\n",
       " 'Ubuntu',\n",
       " 'UnDotum',\n",
       " 'STIXSizeThreeSym',\n",
       " 'Liberation Sans Narrow',\n",
       " 'FreeSans',\n",
       " 'Lato',\n",
       " 'Tlwg Typist',\n",
       " 'Umpush',\n",
       " 'KacstOffice',\n",
       " 'STIXNonUnicode',\n",
       " 'Sawasdee',\n",
       " 'Norasi',\n",
       " 'NanumBarunGothic',\n",
       " 'STIXIntegralsUp',\n",
       " 'Ubuntu Mono',\n",
       " 'KacstScreen',\n",
       " 'NanumGothicCoding',\n",
       " 'Liberation Sans Narrow',\n",
       " 'Symbola',\n",
       " 'Lato',\n",
       " 'Kinnari',\n",
       " 'KacstNaskh',\n",
       " 'Liberation Mono',\n",
       " 'STIX',\n",
       " 'TakaoPGothic',\n",
       " 'Tlwg Mono',\n",
       " 'KacstOne',\n",
       " 'Ubuntu',\n",
       " 'KacstBook',\n",
       " 'NanumMyeongjo',\n",
       " 'KacstTitleL',\n",
       " 'Tlwg Typist',\n",
       " 'Tlwg Typist',\n",
       " 'Ubuntu Mono',\n",
       " 'STIXIntegralsUpSm',\n",
       " 'Laksaman',\n",
       " 'Ubuntu Mono',\n",
       " 'Tlwg Typewriter',\n",
       " 'Ubuntu',\n",
       " 'Padauk',\n",
       " 'Lato',\n",
       " 'Khmer OS',\n",
       " 'Lato',\n",
       " 'NanumGothic',\n",
       " 'NanumMyeongjo',\n",
       " 'Lato',\n",
       " 'Purisa',\n",
       " 'mry_KacstQurn',\n",
       " 'Lato',\n",
       " 'LKLUG',\n",
       " 'NanumBarunGothic',\n",
       " 'UnBatang',\n",
       " 'STIXGeneral',\n",
       " 'Liberation Sans Narrow',\n",
       " 'Tlwg Typo',\n",
       " 'STIXSizeOneSym',\n",
       " 'KacstPoster',\n",
       " 'Kinnari',\n",
       " 'STIXGeneral',\n",
       " 'Laksaman',\n",
       " 'Loma',\n",
       " 'STIXIntegralsUpSm',\n",
       " 'FreeMono',\n",
       " 'FreeSans',\n",
       " 'Kinnari',\n",
       " 'UnDinaru',\n",
       " 'Ubuntu',\n",
       " 'Waree',\n",
       " 'UnDinaru',\n",
       " 'Purisa',\n",
       " 'KacstDigital',\n",
       " 'STIXNonUnicode',\n",
       " 'STIXIntegralsD',\n",
       " 'OpenSymbol',\n",
       " 'STIX Math',\n",
       " 'Phetsarath OT',\n",
       " 'Laksaman',\n",
       " 'STIXIntegralsSm',\n",
       " 'Liberation Mono']"
      ]
     },
     "execution_count": 7,
     "metadata": {},
     "output_type": "execute_result"
    }
   ],
   "source": [
    "font_list[:10]\n",
    "f = [f.name for f in fm.fontManager.ttflist]\n",
    "print(len(font_list))\n",
    "# 10개의 폰트 명 만 출력\n",
    "f"
   ]
  },
  {
   "cell_type": "markdown",
   "metadata": {},
   "source": [
    "나눔 폰트 검색"
   ]
  },
  {
   "cell_type": "code",
   "execution_count": 8,
   "metadata": {},
   "outputs": [
    {
     "data": {
      "text/plain": [
       "[('NanumGothicCoding',\n",
       "  '/usr/share/fonts/truetype/nanum/NanumGothic_Coding_Bold.ttf'),\n",
       " ('NanumGothic', '/usr/share/fonts/truetype/nanum/NanumGothic.ttf'),\n",
       " ('NanumBarunGothic', '/usr/share/fonts/truetype/nanum/NanumBarunGothic.ttf'),\n",
       " ('NanumGothicCoding',\n",
       "  '/usr/share/fonts/truetype/nanum/NanumGothic_Coding.ttf'),\n",
       " ('NanumMyeongjo', '/usr/share/fonts/truetype/nanum/NanumMyeongjo.ttf'),\n",
       " ('NanumGothic', '/usr/share/fonts/truetype/nanum/NanumGothicBold.ttf'),\n",
       " ('NanumMyeongjo', '/usr/share/fonts/truetype/nanum/NanumMyeongjoBold.ttf'),\n",
       " ('NanumBarunGothic',\n",
       "  '/usr/share/fonts/truetype/nanum/NanumBarunGothicBold.ttf')]"
      ]
     },
     "execution_count": 8,
     "metadata": {},
     "output_type": "execute_result"
    }
   ],
   "source": [
    "[(f.name, f.fname) for f in fm.fontManager.ttflist if 'Nanum' in f.name]"
   ]
  },
  {
   "cell_type": "code",
   "execution_count": null,
   "metadata": {},
   "outputs": [],
   "source": [
    "plt.rc('font', family=\"LG PC\")"
   ]
  }
 ],
 "metadata": {
  "kernelspec": {
   "display_name": "Python 3",
   "language": "python",
   "name": "python3"
  },
  "language_info": {
   "codemirror_mode": {
    "name": "ipython",
    "version": 3
   },
   "file_extension": ".py",
   "mimetype": "text/x-python",
   "name": "python",
   "nbconvert_exporter": "python",
   "pygments_lexer": "ipython3",
   "version": "3.5.2"
  }
 },
 "nbformat": 4,
 "nbformat_minor": 2
}
