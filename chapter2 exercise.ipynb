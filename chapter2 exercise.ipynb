{
 "cells": [
  {
   "cell_type": "code",
   "execution_count": 0,
   "metadata": {
    "colab": {},
    "colab_type": "code",
    "id": "e1hxlS762vSo"
   },
   "outputs": [],
   "source": [
    "import numpy as np\n",
    "import pandas as pd\n",
    "import matplotlib.pyplot as plt"
   ]
  },
  {
   "cell_type": "code",
   "execution_count": 0,
   "metadata": {
    "colab": {
     "base_uri": "https://localhost:8080/",
     "height": 122
    },
    "colab_type": "code",
    "executionInfo": {
     "elapsed": 22852,
     "status": "ok",
     "timestamp": 1562500124565,
     "user": {
      "displayName": "조정효",
      "photoUrl": "",
      "userId": "12388356131346241220"
     },
     "user_tz": -540
    },
    "id": "FsnoWExf22N2",
    "outputId": "2d69834a-1aa7-41d8-b0fa-6afdc04e8e07"
   },
   "outputs": [
    {
     "name": "stdout",
     "output_type": "stream",
     "text": [
      "Go to this URL in a browser: https://accounts.google.com/o/oauth2/auth?client_id=947318989803-6bn6qk8qdgf4n4g3pfee6491hc0brc4i.apps.googleusercontent.com&redirect_uri=urn%3Aietf%3Awg%3Aoauth%3A2.0%3Aoob&scope=email%20https%3A%2F%2Fwww.googleapis.com%2Fauth%2Fdocs.test%20https%3A%2F%2Fwww.googleapis.com%2Fauth%2Fdrive%20https%3A%2F%2Fwww.googleapis.com%2Fauth%2Fdrive.photos.readonly%20https%3A%2F%2Fwww.googleapis.com%2Fauth%2Fpeopleapi.readonly&response_type=code\n",
      "\n",
      "Enter your authorization code:\n",
      "··········\n",
      "Mounted at /content/drive\n"
     ]
    }
   ],
   "source": [
    "from google.colab import drive\n",
    "drive.mount('/content/drive')"
   ]
  },
  {
   "cell_type": "code",
   "execution_count": 0,
   "metadata": {
    "colab": {},
    "colab_type": "code",
    "id": "zgrySUDa3AyE"
   },
   "outputs": [],
   "source": [
    "data = pd.read_csv('/content/drive/My Drive/Colab Notebooks/csv/test.csv')"
   ]
  },
  {
   "cell_type": "code",
   "execution_count": 0,
   "metadata": {
    "colab": {
     "base_uri": "https://localhost:8080/",
     "height": 235
    },
    "colab_type": "code",
    "executionInfo": {
     "elapsed": 6506,
     "status": "ok",
     "timestamp": 1562500142317,
     "user": {
      "displayName": "조정효",
      "photoUrl": "",
      "userId": "12388356131346241220"
     },
     "user_tz": -540
    },
    "id": "gmZkQEKr5qL4",
    "outputId": "33c44fad-525f-4040-94fc-72c07cf1ccfc"
   },
   "outputs": [
    {
     "data": {
      "text/html": [
       "<div>\n",
       "<style scoped>\n",
       "    .dataframe tbody tr th:only-of-type {\n",
       "        vertical-align: middle;\n",
       "    }\n",
       "\n",
       "    .dataframe tbody tr th {\n",
       "        vertical-align: top;\n",
       "    }\n",
       "\n",
       "    .dataframe thead th {\n",
       "        text-align: right;\n",
       "    }\n",
       "</style>\n",
       "<table border=\"1\" class=\"dataframe\">\n",
       "  <thead>\n",
       "    <tr style=\"text-align: right;\">\n",
       "      <th></th>\n",
       "      <th>price</th>\n",
       "      <th>volume</th>\n",
       "      <th>buy</th>\n",
       "      <th>sell</th>\n",
       "      <th>dollar</th>\n",
       "    </tr>\n",
       "    <tr>\n",
       "      <th>date_time</th>\n",
       "      <th></th>\n",
       "      <th></th>\n",
       "      <th></th>\n",
       "      <th></th>\n",
       "      <th></th>\n",
       "    </tr>\n",
       "  </thead>\n",
       "  <tbody>\n",
       "    <tr>\n",
       "      <th>2018-11-21 09:00:00</th>\n",
       "      <td>266.200012</td>\n",
       "      <td>1.0</td>\n",
       "      <td>0.0</td>\n",
       "      <td>1.0</td>\n",
       "      <td>266.200012</td>\n",
       "    </tr>\n",
       "    <tr>\n",
       "      <th>2018-11-21 09:00:00</th>\n",
       "      <td>266.200012</td>\n",
       "      <td>1.0</td>\n",
       "      <td>0.0</td>\n",
       "      <td>1.0</td>\n",
       "      <td>266.200012</td>\n",
       "    </tr>\n",
       "    <tr>\n",
       "      <th>2018-11-21 09:00:00</th>\n",
       "      <td>266.250000</td>\n",
       "      <td>21.0</td>\n",
       "      <td>21.0</td>\n",
       "      <td>0.0</td>\n",
       "      <td>5591.250000</td>\n",
       "    </tr>\n",
       "    <tr>\n",
       "      <th>2018-11-21 09:00:00</th>\n",
       "      <td>266.299988</td>\n",
       "      <td>1.0</td>\n",
       "      <td>1.0</td>\n",
       "      <td>0.0</td>\n",
       "      <td>266.299988</td>\n",
       "    </tr>\n",
       "    <tr>\n",
       "      <th>2018-11-21 09:00:00</th>\n",
       "      <td>266.350006</td>\n",
       "      <td>2.0</td>\n",
       "      <td>2.0</td>\n",
       "      <td>0.0</td>\n",
       "      <td>532.700012</td>\n",
       "    </tr>\n",
       "  </tbody>\n",
       "</table>\n",
       "</div>"
      ],
      "text/plain": [
       "                          price  volume   buy  sell       dollar\n",
       "date_time                                                       \n",
       "2018-11-21 09:00:00  266.200012     1.0   0.0   1.0   266.200012\n",
       "2018-11-21 09:00:00  266.200012     1.0   0.0   1.0   266.200012\n",
       "2018-11-21 09:00:00  266.250000    21.0  21.0   0.0  5591.250000\n",
       "2018-11-21 09:00:00  266.299988     1.0   1.0   0.0   266.299988\n",
       "2018-11-21 09:00:00  266.350006     2.0   2.0   0.0   532.700012"
      ]
     },
     "execution_count": 4,
     "metadata": {
      "tags": []
     },
     "output_type": "execute_result"
    }
   ],
   "source": [
    "data = data.set_index(pd.to_datetime(data.date_time))\n",
    "data.drop(columns='date_time', inplace=True)\n",
    "data['dollar'] = data['price']*data['volume']\n",
    "data.head()"
   ]
  },
  {
   "cell_type": "code",
   "execution_count": 0,
   "metadata": {
    "colab": {
     "base_uri": "https://localhost:8080/",
     "height": 235
    },
    "colab_type": "code",
    "executionInfo": {
     "elapsed": 609,
     "status": "ok",
     "timestamp": 1562500206326,
     "user": {
      "displayName": "조정효",
      "photoUrl": "",
      "userId": "12388356131346241220"
     },
     "user_tz": -540
    },
    "id": "k4AVe13k5uOM",
    "outputId": "abd4abc2-cb5e-487f-9f07-1a4037957811"
   },
   "outputs": [
    {
     "data": {
      "text/html": [
       "<div>\n",
       "<style scoped>\n",
       "    .dataframe tbody tr th:only-of-type {\n",
       "        vertical-align: middle;\n",
       "    }\n",
       "\n",
       "    .dataframe tbody tr th {\n",
       "        vertical-align: top;\n",
       "    }\n",
       "\n",
       "    .dataframe thead th {\n",
       "        text-align: right;\n",
       "    }\n",
       "</style>\n",
       "<table border=\"1\" class=\"dataframe\">\n",
       "  <thead>\n",
       "    <tr style=\"text-align: right;\">\n",
       "      <th></th>\n",
       "      <th>price</th>\n",
       "      <th>volume</th>\n",
       "      <th>buy</th>\n",
       "      <th>sell</th>\n",
       "      <th>dollar</th>\n",
       "    </tr>\n",
       "    <tr>\n",
       "      <th>date_time</th>\n",
       "      <th></th>\n",
       "      <th></th>\n",
       "      <th></th>\n",
       "      <th></th>\n",
       "      <th></th>\n",
       "    </tr>\n",
       "  </thead>\n",
       "  <tbody>\n",
       "    <tr>\n",
       "      <th>2019-07-02 11:14:00</th>\n",
       "      <td>276.899994</td>\n",
       "      <td>1.0</td>\n",
       "      <td>0.0</td>\n",
       "      <td>1.0</td>\n",
       "      <td>276.899994</td>\n",
       "    </tr>\n",
       "    <tr>\n",
       "      <th>2019-07-02 11:14:00</th>\n",
       "      <td>276.950012</td>\n",
       "      <td>2.0</td>\n",
       "      <td>2.0</td>\n",
       "      <td>0.0</td>\n",
       "      <td>553.900024</td>\n",
       "    </tr>\n",
       "    <tr>\n",
       "      <th>2019-07-02 11:14:00</th>\n",
       "      <td>276.950012</td>\n",
       "      <td>2.0</td>\n",
       "      <td>2.0</td>\n",
       "      <td>0.0</td>\n",
       "      <td>553.900024</td>\n",
       "    </tr>\n",
       "    <tr>\n",
       "      <th>2019-07-02 11:14:00</th>\n",
       "      <td>276.950012</td>\n",
       "      <td>2.0</td>\n",
       "      <td>2.0</td>\n",
       "      <td>0.0</td>\n",
       "      <td>553.900024</td>\n",
       "    </tr>\n",
       "    <tr>\n",
       "      <th>2019-07-02 11:14:00</th>\n",
       "      <td>276.950012</td>\n",
       "      <td>2.0</td>\n",
       "      <td>2.0</td>\n",
       "      <td>0.0</td>\n",
       "      <td>553.900024</td>\n",
       "    </tr>\n",
       "  </tbody>\n",
       "</table>\n",
       "</div>"
      ],
      "text/plain": [
       "                          price  volume  buy  sell      dollar\n",
       "date_time                                                     \n",
       "2019-07-02 11:14:00  276.899994     1.0  0.0   1.0  276.899994\n",
       "2019-07-02 11:14:00  276.950012     2.0  2.0   0.0  553.900024\n",
       "2019-07-02 11:14:00  276.950012     2.0  2.0   0.0  553.900024\n",
       "2019-07-02 11:14:00  276.950012     2.0  2.0   0.0  553.900024\n",
       "2019-07-02 11:14:00  276.950012     2.0  2.0   0.0  553.900024"
      ]
     },
     "execution_count": 16,
     "metadata": {
      "tags": []
     },
     "output_type": "execute_result"
    }
   ],
   "source": [
    "df= data.iloc[-10000:]\n",
    "len(df.index)\n",
    "df.head()"
   ]
  },
  {
   "cell_type": "markdown",
   "metadata": {
    "colab_type": "text",
    "id": "cDATbqkYYSg2"
   },
   "source": [
    "# 2.1.\n",
    "# (a)"
   ]
  },
  {
   "cell_type": "code",
   "execution_count": 0,
   "metadata": {
    "colab": {},
    "colab_type": "code",
    "id": "NF4m7id16yuo"
   },
   "outputs": [],
   "source": [
    "def tick_bar(df,m):\n",
    "  return df.iloc[::m]"
   ]
  },
  {
   "cell_type": "code",
   "execution_count": 0,
   "metadata": {
    "colab": {
     "base_uri": "https://localhost:8080/",
     "height": 34
    },
    "colab_type": "code",
    "executionInfo": {
     "elapsed": 3666,
     "status": "ok",
     "timestamp": 1562500142327,
     "user": {
      "displayName": "조정효",
      "photoUrl": "",
      "userId": "12388356131346241220"
     },
     "user_tz": -540
    },
    "id": "0TYIPuQE67-Y",
    "outputId": "2d634d04-a1ef-43ee-ff6e-63dcc402ece6"
   },
   "outputs": [
    {
     "data": {
      "text/plain": [
       "100"
      ]
     },
     "execution_count": 7,
     "metadata": {
      "tags": []
     },
     "output_type": "execute_result"
    }
   ],
   "source": [
    "tb = tick_bar(df,100)\n",
    "len(tb.index)"
   ]
  },
  {
   "cell_type": "code",
   "execution_count": 0,
   "metadata": {
    "colab": {
     "base_uri": "https://localhost:8080/",
     "height": 300
    },
    "colab_type": "code",
    "executionInfo": {
     "elapsed": 3676,
     "status": "ok",
     "timestamp": 1562500142728,
     "user": {
      "displayName": "조정효",
      "photoUrl": "",
      "userId": "12388356131346241220"
     },
     "user_tz": -540
    },
    "id": "fvpfkrEP7BDg",
    "outputId": "707b9bd0-3463-47b5-c14d-8d55c1fb2e8c"
   },
   "outputs": [
    {
     "data": {
      "text/plain": [
       "<matplotlib.axes._subplots.AxesSubplot at 0x7f93e94e6518>"
      ]
     },
     "execution_count": 8,
     "metadata": {
      "tags": []
     },
     "output_type": "execute_result"
    },
    {
     "data": {
      "image/png": "[encoded data removed]",
      "text/plain": [
       "<Figure size 432x288 with 1 Axes>"
      ]
     },
     "metadata": {
      "tags": []
     },
     "output_type": "display_data"
    }
   ],
   "source": [
    "tb.price.plot(marker='*',ls='',label='tick bar')"
   ]
  },
  {
   "cell_type": "code",
   "execution_count": 0,
   "metadata": {
    "colab": {},
    "colab_type": "code",
    "id": "jIs78kmX7Bt7"
   },
   "outputs": [],
   "source": [
    "def volume_bar(df, m):\n",
    "    aux = df.reset_index()    \n",
    "    idx = []\n",
    "    vol_acum = []\n",
    "    c_v = 0\n",
    "    for i, v in aux.volume.items():\n",
    "        c_v = c_v + v \n",
    "        if c_v >= m:\n",
    "            idx.append(i)\n",
    "            vol_acum.append(c_v)\n",
    "            c_v = 0\n",
    "    volume_bar = aux.loc[idx]\n",
    "    volume_bar.loc[idx, 'cum_vol'] = vol_acum \n",
    "    volume_bar = volume_bar.set_index('date_time')\n",
    "    return volume_bar"
   ]
  },
  {
   "cell_type": "code",
   "execution_count": 0,
   "metadata": {
    "colab": {
     "base_uri": "https://localhost:8080/",
     "height": 34
    },
    "colab_type": "code",
    "executionInfo": {
     "elapsed": 3023,
     "status": "ok",
     "timestamp": 1562500142738,
     "user": {
      "displayName": "조정효",
      "photoUrl": "",
      "userId": "12388356131346241220"
     },
     "user_tz": -540
    },
    "id": "OXp5ey66-APA",
    "outputId": "622b2c2c-0aa6-4881-dc29-dd2e86b79a30"
   },
   "outputs": [
    {
     "data": {
      "text/plain": [
       "104"
      ]
     },
     "execution_count": 10,
     "metadata": {
      "tags": []
     },
     "output_type": "execute_result"
    }
   ],
   "source": [
    "vb = volume_bar(df,600)\n",
    "len(vb)\n"
   ]
  },
  {
   "cell_type": "code",
   "execution_count": 0,
   "metadata": {
    "colab": {
     "base_uri": "https://localhost:8080/",
     "height": 300
    },
    "colab_type": "code",
    "executionInfo": {
     "elapsed": 2744,
     "status": "ok",
     "timestamp": 1562500143012,
     "user": {
      "displayName": "조정효",
      "photoUrl": "",
      "userId": "12388356131346241220"
     },
     "user_tz": -540
    },
    "id": "grRVMbJa-yJK",
    "outputId": "d7849b89-4d91-4332-865d-1494f1f617f2"
   },
   "outputs": [
    {
     "data": {
      "text/plain": [
       "<matplotlib.axes._subplots.AxesSubplot at 0x7f93e96d8dd8>"
      ]
     },
     "execution_count": 11,
     "metadata": {
      "tags": []
     },
     "output_type": "execute_result"
    },
    {
     "data": {
      "image/png": "[encoded data removed]",
      "text/plain": [
       "<Figure size 432x288 with 1 Axes>"
      ]
     },
     "metadata": {
      "tags": []
     },
     "output_type": "display_data"
    }
   ],
   "source": [
    "vb.price.plot(marker='*',ls='',c='y')"
   ]
  },
  {
   "cell_type": "code",
   "execution_count": 0,
   "metadata": {
    "colab": {},
    "colab_type": "code",
    "id": "_rBMqFh6An8y"
   },
   "outputs": [],
   "source": []
  },
  {
   "cell_type": "code",
   "execution_count": 0,
   "metadata": {
    "colab": {},
    "colab_type": "code",
    "id": "8ibyjoixBFWC"
   },
   "outputs": [],
   "source": [
    "def dollar_bar(df, m):\n",
    "    aux = df.reset_index()    \n",
    "    idx = []\n",
    "    d_acum = []\n",
    "    c_dv = 0\n",
    "    for i, dv in aux.dollar.items():\n",
    "        c_dv = c_dv + dv \n",
    "        if c_dv >= m:\n",
    "            idx.append(i)\n",
    "            d_acum.append(c_dv)\n",
    "            c_dv = 0 \n",
    "    dollar_bar = aux.loc[idx]\n",
    "    dollar_bar.loc[idx, 'cum_dollar_vol'] = d_acum \n",
    "    dollar_bar = dollar_bar.set_index('date_time')\n",
    "    return dollar_bar\n"
   ]
  },
  {
   "cell_type": "code",
   "execution_count": 0,
   "metadata": {
    "colab": {
     "base_uri": "https://localhost:8080/",
     "height": 34
    },
    "colab_type": "code",
    "executionInfo": {
     "elapsed": 707,
     "status": "ok",
     "timestamp": 1562500150960,
     "user": {
      "displayName": "조정효",
      "photoUrl": "",
      "userId": "12388356131346241220"
     },
     "user_tz": -540
    },
    "id": "0FwHAqCKCOkq",
    "outputId": "279dd033-3d44-453e-8ffa-11e0de2974de"
   },
   "outputs": [
    {
     "data": {
      "text/plain": [
       "108"
      ]
     },
     "execution_count": 13,
     "metadata": {
      "tags": []
     },
     "output_type": "execute_result"
    }
   ],
   "source": [
    "db = dollar_bar(df,160000)\n",
    "len(db)"
   ]
  },
  {
   "cell_type": "code",
   "execution_count": 0,
   "metadata": {
    "colab": {
     "base_uri": "https://localhost:8080/",
     "height": 300
    },
    "colab_type": "code",
    "executionInfo": {
     "elapsed": 1255,
     "status": "ok",
     "timestamp": 1562500151726,
     "user": {
      "displayName": "조정효",
      "photoUrl": "",
      "userId": "12388356131346241220"
     },
     "user_tz": -540
    },
    "id": "h8Q_u5b1CTII",
    "outputId": "35ca644c-03a0-4a65-ef2c-04b23bc6a088"
   },
   "outputs": [
    {
     "data": {
      "text/plain": [
       "<matplotlib.axes._subplots.AxesSubplot at 0x7f93e9612160>"
      ]
     },
     "execution_count": 14,
     "metadata": {
      "tags": []
     },
     "output_type": "execute_result"
    },
    {
     "data": {
      "image/png": "[encoded data removed]",
      "text/plain": [
       "<Figure size 432x288 with 1 Axes>"
      ]
     },
     "metadata": {
      "tags": []
     },
     "output_type": "display_data"
    }
   ],
   "source": [
    "db.price.plot(marker='*',ls='',c='r')"
   ]
  },
  {
   "cell_type": "code",
   "execution_count": 0,
   "metadata": {
    "colab": {},
    "colab_type": "code",
    "id": "EgB8rvU9Cgkw"
   },
   "outputs": [],
   "source": [
    "time = df.resample('2min')"
   ]
  },
  {
   "cell_type": "code",
   "execution_count": 0,
   "metadata": {
    "colab": {
     "base_uri": "https://localhost:8080/",
     "height": 349
    },
    "colab_type": "code",
    "executionInfo": {
     "elapsed": 1264,
     "status": "ok",
     "timestamp": 1562500278231,
     "user": {
      "displayName": "조정효",
      "photoUrl": "",
      "userId": "12388356131346241220"
     },
     "user_tz": -540
    },
    "id": "UEqg_AlbDAgK",
    "outputId": "ae544dcf-d894-4887-a7be-01321fe15a06"
   },
   "outputs": [
    {
     "data": {
      "text/plain": [
       "<matplotlib.legend.Legend at 0x7f93e96690b8>"
      ]
     },
     "execution_count": 17,
     "metadata": {
      "tags": []
     },
     "output_type": "execute_result"
    },
    {
     "data": {
      "image/png": "[encoded data removed]",
      "text/plain": [
       "<Figure size 720x360 with 1 Axes>"
      ]
     },
     "metadata": {
      "tags": []
     },
     "output_type": "display_data"
    }
   ],
   "source": [
    "s_date='2019-07-02 11:00:00'\n",
    "e_date='2019-07-02 15:30:00'\n",
    "\n",
    "plt.figure(figsize=(10,5))\n",
    "df.loc[s_date:e_date].price.plot(marker='o', ms=3, color='b',alpha=0.2,label='tick')\n",
    "\n",
    "\n",
    "tb.loc[s_date:e_date].price.plot(marker='*',\n",
    "                                      ls='',\n",
    "                                      label='tick bar')\n",
    "vb.loc[s_date:e_date].price.plot(marker='x',\n",
    "                                     ls='',\n",
    "                                     label='vol bar')\n",
    "db.loc[s_date:e_date].price.plot(marker='^',\n",
    "                                        ls='',\n",
    "                                        color='y',\n",
    "                                        label='dollar bar')\n",
    "plt.legend()"
   ]
  },
  {
   "cell_type": "code",
   "execution_count": 0,
   "metadata": {
    "colab": {},
    "colab_type": "code",
    "id": "RE8i64vEEBGl"
   },
   "outputs": [],
   "source": [
    "# mlfinlab"
   ]
  },
  {
   "cell_type": "markdown",
   "metadata": {
    "colab_type": "text",
    "id": "wbHZfQpAEnt0"
   },
   "source": [
    "# (b) ??why"
   ]
  },
  {
   "cell_type": "code",
   "execution_count": 0,
   "metadata": {
    "colab": {
     "base_uri": "https://localhost:8080/",
     "height": 34
    },
    "colab_type": "code",
    "executionInfo": {
     "elapsed": 6641,
     "status": "ok",
     "timestamp": 1562501595679,
     "user": {
      "displayName": "조정효",
      "photoUrl": "",
      "userId": "12388356131346241220"
     },
     "user_tz": -540
    },
    "id": "YUfxjBt_Rp9J",
    "outputId": "3e1a893b-ce85-4dd4-a6ae-5026e33aa4f8"
   },
   "outputs": [
    {
     "data": {
      "text/plain": [
       "(262838, 258471, 257489)"
      ]
     },
     "execution_count": 50,
     "metadata": {
      "tags": []
     },
     "output_type": "execute_result"
    }
   ],
   "source": [
    "tba=tick_bar(data,20)\n",
    "vba=volume_bar(data,104)\n",
    "dba=dollar_bar(data,28600)\n",
    "len(tba), len(vba), len(dba)"
   ]
  },
  {
   "cell_type": "code",
   "execution_count": 0,
   "metadata": {
    "colab": {},
    "colab_type": "code",
    "id": "7PUna4eIRqHe"
   },
   "outputs": [],
   "source": [
    "weekly_tick_count = tba.price.resample('1W').count()\n",
    "weekly_vol_count = vba.price.resample('1W').count()\n",
    "weekly_dollar_count = dba.price.resample('1W').count()"
   ]
  },
  {
   "cell_type": "code",
   "execution_count": 0,
   "metadata": {
    "colab": {
     "base_uri": "https://localhost:8080/",
     "height": 312
    },
    "colab_type": "code",
    "executionInfo": {
     "elapsed": 6861,
     "status": "ok",
     "timestamp": 1562501596375,
     "user": {
      "displayName": "조정효",
      "photoUrl": "",
      "userId": "12388356131346241220"
     },
     "user_tz": -540
    },
    "id": "Dx0szIdbRqM2",
    "outputId": "3c420bac-3e00-4a7c-a259-3f8aa8db0643"
   },
   "outputs": [
    {
     "data": {
      "text/plain": [
       "<matplotlib.legend.Legend at 0x7f93e53bbef0>"
      ]
     },
     "execution_count": 52,
     "metadata": {
      "tags": []
     },
     "output_type": "execute_result"
    },
    {
     "data": {
      "image/png": "[encoded data removed]",
      "text/plain": [
       "<Figure size 432x288 with 1 Axes>"
      ]
     },
     "metadata": {
      "tags": []
     },
     "output_type": "display_data"
    }
   ],
   "source": [
    "fig, ax = plt.subplots(1)\n",
    "weekly_tick_count.plot(ax=ax)\n",
    "weekly_vol_count.plot(ax=ax)\n",
    "weekly_dollar_count.plot(ax=ax)\n",
    "ax.legend([\"tick\", \"vol\", 'dollar'])\n"
   ]
  },
  {
   "cell_type": "code",
   "execution_count": 0,
   "metadata": {
    "colab": {},
    "colab_type": "code",
    "id": "uTocygEFRqKK"
   },
   "outputs": [],
   "source": []
  },
  {
   "cell_type": "markdown",
   "metadata": {
    "colab_type": "text",
    "id": "6zstfyP3T_6_"
   },
   "source": [
    "# (c) auto-correlation"
   ]
  },
  {
   "cell_type": "code",
   "execution_count": 0,
   "metadata": {
    "colab": {},
    "colab_type": "code",
    "id": "Q6PwsJwFUHzC"
   },
   "outputs": [],
   "source": [
    "tr = np.log(tba.price).diff().dropna()\n",
    "vr = np.log(vba.price).diff().dropna()\n",
    "dr = np.log(dba.price).diff().dropna()"
   ]
  },
  {
   "cell_type": "code",
   "execution_count": 0,
   "metadata": {
    "colab": {
     "base_uri": "https://localhost:8080/",
     "height": 85
    },
    "colab_type": "code",
    "executionInfo": {
     "elapsed": 594,
     "status": "ok",
     "timestamp": 1562501301110,
     "user": {
      "displayName": "조정효",
      "photoUrl": "",
      "userId": "12388356131346241220"
     },
     "user_tz": -540
    },
    "id": "NvsRAqSbUH1s",
    "outputId": "35f094dd-7cf7-4fd9-95aa-9f877c64c6cb"
   },
   "outputs": [
    {
     "name": "stdout",
     "output_type": "stream",
     "text": [
      "return autocorrelation :  \n",
      " tick bar:  -0.04183208057119642 \n",
      " volume bar:  0.00018952357665061014 \n",
      " dollar bar:  0.001689455420604047\n"
     ]
    }
   ],
   "source": [
    "s = '\\n'\n",
    "print(\"return autocorrelation : \", s, \"tick bar: \", tr.autocorr(),s,\"volume bar: \" ,vr.autocorr(),s,\"dollar bar: \" , dr.autocorr())\n",
    "\n"
   ]
  },
  {
   "cell_type": "code",
   "execution_count": 0,
   "metadata": {
    "colab": {},
    "colab_type": "code",
    "id": "INhyvWgpUH4V"
   },
   "outputs": [],
   "source": []
  },
  {
   "cell_type": "markdown",
   "metadata": {
    "colab_type": "text",
    "id": "04XLGUcuVn7t"
   },
   "source": [
    "# (d) volatility\n",
    "- monthly로 안함"
   ]
  },
  {
   "cell_type": "code",
   "execution_count": 0,
   "metadata": {
    "colab": {
     "base_uri": "https://localhost:8080/",
     "height": 85
    },
    "colab_type": "code",
    "executionInfo": {
     "elapsed": 595,
     "status": "ok",
     "timestamp": 1562501463617,
     "user": {
      "displayName": "조정효",
      "photoUrl": "",
      "userId": "12388356131346241220"
     },
     "user_tz": -540
    },
    "id": "o3zIoQwHVptP",
    "outputId": "25527149-c036-4c84-e46f-d745d443205a"
   },
   "outputs": [
    {
     "name": "stdout",
     "output_type": "stream",
     "text": [
      "standard deviation :  \n",
      " tick bar:  0.0002182427761051778 \n",
      " volume bar:  0.00020750363749310162 \n",
      " dollar bar:  0.00020791976089854376\n"
     ]
    }
   ],
   "source": [
    "s = '\\n'\n",
    "print(\"standard deviation : \", s, \"tick bar: \", tr.std(),s,\"volume bar: \" ,vr.std(),s,\"dollar bar: \" , dr.std())"
   ]
  },
  {
   "cell_type": "code",
   "execution_count": 0,
   "metadata": {
    "colab": {},
    "colab_type": "code",
    "id": "tst1PVRuVpvt"
   },
   "outputs": [],
   "source": []
  },
  {
   "cell_type": "markdown",
   "metadata": {
    "colab_type": "text",
    "id": "YhI5PjegWTXp"
   },
   "source": [
    "# (e) normality"
   ]
  },
  {
   "cell_type": "code",
   "execution_count": 0,
   "metadata": {
    "colab": {},
    "colab_type": "code",
    "id": "0z8pe4g4Vpyh"
   },
   "outputs": [],
   "source": [
    "from scipy.stats import jarque_bera"
   ]
  },
  {
   "cell_type": "code",
   "execution_count": 0,
   "metadata": {
    "colab": {},
    "colab_type": "code",
    "id": "yysYeEMFVp05"
   },
   "outputs": [],
   "source": [
    "jt,_ = jarque_bera(tr)\n",
    "jv,_ = jarque_bera(vr)\n",
    "jd,_ = jarque_bera(dr)"
   ]
  },
  {
   "cell_type": "code",
   "execution_count": 0,
   "metadata": {
    "colab": {
     "base_uri": "https://localhost:8080/",
     "height": 34
    },
    "colab_type": "code",
    "executionInfo": {
     "elapsed": 550,
     "status": "ok",
     "timestamp": 1562501744193,
     "user": {
      "displayName": "조정효",
      "photoUrl": "",
      "userId": "12388356131346241220"
     },
     "user_tz": -540
    },
    "id": "eMYpyD3qW9uD",
    "outputId": "77a38471-81c6-4253-a42f-03f863799a70"
   },
   "outputs": [
    {
     "data": {
      "text/plain": [
       "7327039313.845287"
      ]
     },
     "execution_count": 61,
     "metadata": {
      "tags": []
     },
     "output_type": "execute_result"
    }
   ],
   "source": [
    "jt"
   ]
  },
  {
   "cell_type": "code",
   "execution_count": 0,
   "metadata": {
    "colab": {
     "base_uri": "https://localhost:8080/",
     "height": 85
    },
    "colab_type": "code",
    "executionInfo": {
     "elapsed": 675,
     "status": "ok",
     "timestamp": 1562501774192,
     "user": {
      "displayName": "조정효",
      "photoUrl": "",
      "userId": "12388356131346241220"
     },
     "user_tz": -540
    },
    "id": "WBqQsGRxWxgu",
    "outputId": "7e31c0da-86cd-4e7a-a9ff-ed7a128e966d"
   },
   "outputs": [
    {
     "name": "stdout",
     "output_type": "stream",
     "text": [
      "jarque bera statistics :  \n",
      " tick bar:  7327039313.845287 \n",
      " volume bar:  10696555794.246592 \n",
      " dollar bar:  10821442914.779196\n"
     ]
    }
   ],
   "source": [
    "s = '\\n'\n",
    "print(\"jarque bera statistics : \", s, \"tick bar: \", jt,s,\"volume bar: \" ,jv,s,\"dollar bar: \" , jd)"
   ]
  },
  {
   "cell_type": "code",
   "execution_count": 0,
   "metadata": {
    "colab": {},
    "colab_type": "code",
    "id": "_qw3kUWkWmSI"
   },
   "outputs": [],
   "source": []
  },
  {
   "cell_type": "code",
   "execution_count": 0,
   "metadata": {
    "colab": {},
    "colab_type": "code",
    "id": "4s9trGD8WmUb"
   },
   "outputs": [],
   "source": []
  },
  {
   "cell_type": "code",
   "execution_count": 0,
   "metadata": {
    "colab": {},
    "colab_type": "code",
    "id": "eP3V9DPDWmWZ"
   },
   "outputs": [],
   "source": []
  },
  {
   "cell_type": "markdown",
   "metadata": {
    "colab_type": "text",
    "id": "S945wEODXbJH"
   },
   "source": [
    "# 2.2. Dollar Imbalance bar vs. Dollar bar\n",
    "- serial correlation"
   ]
  },
  {
   "cell_type": "code",
   "execution_count": 2,
   "metadata": {
    "colab": {
     "base_uri": "https://localhost:8080/",
     "height": 35
    },
    "colab_type": "code",
    "executionInfo": {
     "elapsed": 5674,
     "status": "ok",
     "timestamp": 1562661584244,
     "user": {
      "displayName": "조정효",
      "photoUrl": "",
      "userId": "12388356131346241220"
     },
     "user_tz": -540
    },
    "id": "aThil5fyJTD8",
    "outputId": "dc448f1e-3b54-4a7c-858f-e0e288ef5cf5"
   },
   "outputs": [
    {
     "name": "stdout",
     "output_type": "stream",
     "text": [
      "\u001b[?25l\r",
      "\u001b[K     |███████                         | 10kB 16.3MB/s eta 0:00:01\r",
      "\u001b[K     |█████████████▉                  | 20kB 3.5MB/s eta 0:00:01\r",
      "\u001b[K     |████████████████████▊           | 30kB 5.1MB/s eta 0:00:01\r",
      "\u001b[K     |███████████████████████████▋    | 40kB 3.2MB/s eta 0:00:01\r",
      "\u001b[K     |████████████████████████████████| 51kB 3.6MB/s \n",
      "\u001b[?25h"
     ]
    }
   ],
   "source": [
    "!pip install -q mlfinlab"
   ]
  },
  {
   "cell_type": "code",
   "execution_count": 0,
   "metadata": {
    "colab": {},
    "colab_type": "code",
    "id": "LwvgsiC7JW9P"
   },
   "outputs": [],
   "source": [
    "import mlfinlab as ml"
   ]
  },
  {
   "cell_type": "code",
   "execution_count": 0,
   "metadata": {
    "colab": {},
    "colab_type": "code",
    "id": "PDRzxIsmJaoJ"
   },
   "outputs": [],
   "source": [
    "from mlfinlab import data_structures"
   ]
  },
  {
   "cell_type": "code",
   "execution_count": 0,
   "metadata": {
    "colab": {},
    "colab_type": "code",
    "id": "Ekw8FKB246xV"
   },
   "outputs": [],
   "source": [
    "data_structures.get_dollar_imbalance_bars()"
   ]
  },
  {
   "cell_type": "code",
   "execution_count": 0,
   "metadata": {
    "colab": {
     "base_uri": "https://localhost:8080/",
     "height": 235
    },
    "colab_type": "code",
    "executionInfo": {
     "elapsed": 6324,
     "status": "ok",
     "timestamp": 1562501983291,
     "user": {
      "displayName": "조정효",
      "photoUrl": "",
      "userId": "12388356131346241220"
     },
     "user_tz": -540
    },
    "id": "EsrDeF-rJp3V",
    "outputId": "ab9e608e-7523-4659-ffa9-b1793e6b2e5a"
   },
   "outputs": [
    {
     "data": {
      "text/html": [
       "<div>\n",
       "<style scoped>\n",
       "    .dataframe tbody tr th:only-of-type {\n",
       "        vertical-align: middle;\n",
       "    }\n",
       "\n",
       "    .dataframe tbody tr th {\n",
       "        vertical-align: top;\n",
       "    }\n",
       "\n",
       "    .dataframe thead th {\n",
       "        text-align: right;\n",
       "    }\n",
       "</style>\n",
       "<table border=\"1\" class=\"dataframe\">\n",
       "  <thead>\n",
       "    <tr style=\"text-align: right;\">\n",
       "      <th></th>\n",
       "      <th>price</th>\n",
       "      <th>volume</th>\n",
       "    </tr>\n",
       "    <tr>\n",
       "      <th>date_time</th>\n",
       "      <th></th>\n",
       "      <th></th>\n",
       "    </tr>\n",
       "  </thead>\n",
       "  <tbody>\n",
       "    <tr>\n",
       "      <th>2019-07-02 15:34:00</th>\n",
       "      <td>276.850006</td>\n",
       "      <td>1.0</td>\n",
       "    </tr>\n",
       "    <tr>\n",
       "      <th>2019-07-02 15:34:00</th>\n",
       "      <td>276.799988</td>\n",
       "      <td>3.0</td>\n",
       "    </tr>\n",
       "    <tr>\n",
       "      <th>2019-07-02 15:34:00</th>\n",
       "      <td>276.850006</td>\n",
       "      <td>2.0</td>\n",
       "    </tr>\n",
       "    <tr>\n",
       "      <th>2019-07-02 15:34:00</th>\n",
       "      <td>276.850006</td>\n",
       "      <td>2.0</td>\n",
       "    </tr>\n",
       "    <tr>\n",
       "      <th>2019-07-02 15:34:00</th>\n",
       "      <td>276.850006</td>\n",
       "      <td>5.0</td>\n",
       "    </tr>\n",
       "  </tbody>\n",
       "</table>\n",
       "</div>"
      ],
      "text/plain": [
       "                          price  volume\n",
       "date_time                              \n",
       "2019-07-02 15:34:00  276.850006     1.0\n",
       "2019-07-02 15:34:00  276.799988     3.0\n",
       "2019-07-02 15:34:00  276.850006     2.0\n",
       "2019-07-02 15:34:00  276.850006     2.0\n",
       "2019-07-02 15:34:00  276.850006     5.0"
      ]
     },
     "execution_count": 67,
     "metadata": {
      "tags": []
     },
     "output_type": "execute_result"
    }
   ],
   "source": [
    "ddd = data.drop(columns=['buy','sell','dollar'])\n",
    "ddd.tail()"
   ]
  },
  {
   "cell_type": "code",
   "execution_count": 0,
   "metadata": {
    "colab": {
     "base_uri": "https://localhost:8080/",
     "height": 221
    },
    "colab_type": "code",
    "executionInfo": {
     "elapsed": 173558,
     "status": "ok",
     "timestamp": 1562502152049,
     "user": {
      "displayName": "조정효",
      "photoUrl": "",
      "userId": "12388356131346241220"
     },
     "user_tz": -540
    },
    "id": "jxHFGbXhJ3fZ",
    "outputId": "d0af1f3a-8739-4013-9dfc-08d00343955a"
   },
   "outputs": [
    {
     "name": "stdout",
     "output_type": "stream",
     "text": [
      "Reading data in batches:\n",
      "Batch number: 0\n",
      "Returning bars \n",
      "\n",
      "Reading data in batches:\n",
      "Batch number: 0\n",
      "Returning bars \n",
      "\n",
      "Reading data in batches:\n",
      "Batch number: 0\n",
      "Returning bars \n",
      "\n"
     ]
    }
   ],
   "source": [
    "tib = data_structures.get_tick_imbalance_bars('/content/drive/My Drive/Colab Notebooks/csv/test2.csv',3)\n",
    "vib = data_structures.get_volume_imbalance_bars('/content/drive/My Drive/Colab Notebooks/csv/test2.csv',3)\n",
    "dib = data_structures.get_dollar_imbalance_bars('/content/drive/My Drive/Colab Notebooks/csv/test2.csv',3)"
   ]
  },
  {
   "cell_type": "code",
   "execution_count": 0,
   "metadata": {
    "colab": {},
    "colab_type": "code",
    "id": "N-OZojJHNK6b"
   },
   "outputs": [],
   "source": [
    "dib2 = dib.set_index(pd.to_datetime(dib.date_time))\n",
    "dib2 = dib2.drop(columns='date_time')\n",
    "dib3 = dib2.close"
   ]
  },
  {
   "cell_type": "code",
   "execution_count": 0,
   "metadata": {
    "colab": {
     "base_uri": "https://localhost:8080/",
     "height": 136
    },
    "colab_type": "code",
    "executionInfo": {
     "elapsed": 598,
     "status": "ok",
     "timestamp": 1562502496448,
     "user": {
      "displayName": "조정효",
      "photoUrl": "",
      "userId": "12388356131346241220"
     },
     "user_tz": -540
    },
    "id": "2RhQekDPZ-FH",
    "outputId": "27e6a849-5c4c-4d4c-e35b-f834cb840d3e"
   },
   "outputs": [
    {
     "data": {
      "text/plain": [
       "date_time\n",
       "2019-07-02 15:20:00    277.000000\n",
       "2019-07-02 15:21:00    276.950012\n",
       "2019-07-02 15:24:00    276.799988\n",
       "2019-07-02 15:27:00    276.750000\n",
       "2019-07-02 15:29:00    276.649994\n",
       "Name: close, dtype: float64"
      ]
     },
     "execution_count": 81,
     "metadata": {
      "tags": []
     },
     "output_type": "execute_result"
    }
   ],
   "source": [
    "dib3.tail()"
   ]
  },
  {
   "cell_type": "code",
   "execution_count": 0,
   "metadata": {
    "colab": {},
    "colab_type": "code",
    "id": "H6W27vsVYwi3"
   },
   "outputs": [],
   "source": [
    "dibr = np.log(dib3).diff().dropna()"
   ]
  },
  {
   "cell_type": "code",
   "execution_count": 0,
   "metadata": {
    "colab": {
     "base_uri": "https://localhost:8080/",
     "height": 51
    },
    "colab_type": "code",
    "executionInfo": {
     "elapsed": 605,
     "status": "ok",
     "timestamp": 1562502564589,
     "user": {
      "displayName": "조정효",
      "photoUrl": "",
      "userId": "12388356131346241220"
     },
     "user_tz": -540
    },
    "id": "r-jQtKdiZb8v",
    "outputId": "23b72f25-9880-4f69-d977-9fabefa812d5"
   },
   "outputs": [
    {
     "name": "stdout",
     "output_type": "stream",
     "text": [
      "dollar-bar return serial correlation:  0.001689455420604047 \n",
      " dollar-imbalance-bar return serial correlation:  0.008465894869616394\n"
     ]
    }
   ],
   "source": [
    "print(\"dollar-bar return serial correlation: \", dr.autocorr(),s,\"dollar-imbalance-bar return serial correlation: \",dibr.autocorr())"
   ]
  },
  {
   "cell_type": "code",
   "execution_count": 0,
   "metadata": {
    "colab": {},
    "colab_type": "code",
    "id": "mLq-KAY4Z3NQ"
   },
   "outputs": [],
   "source": []
  },
  {
   "cell_type": "markdown",
   "metadata": {
    "colab_type": "text",
    "id": "qrhfHEbQaYNj"
   },
   "source": [
    "# 2.4. Bollinger Bands vs. CUSUM Filter (dollar bar)\n",
    "- count 'outside the bands'\n",
    "- standard deviation\n",
    "- heteroscedastic"
   ]
  },
  {
   "cell_type": "markdown",
   "metadata": {
    "colab_type": "text",
    "id": "kgIDNPvbrgCq"
   },
   "source": [
    "## (a)"
   ]
  },
  {
   "cell_type": "code",
   "execution_count": 0,
   "metadata": {
    "colab": {
     "base_uri": "https://localhost:8080/",
     "height": 235
    },
    "colab_type": "code",
    "executionInfo": {
     "elapsed": 569,
     "status": "ok",
     "timestamp": 1562510121741,
     "user": {
      "displayName": "조정효",
      "photoUrl": "",
      "userId": "12388356131346241220"
     },
     "user_tz": -540
    },
    "id": "ciwIzK9saZd_",
    "outputId": "a95701bd-286b-4dd6-9437-a25f1b355265"
   },
   "outputs": [
    {
     "data": {
      "text/html": [
       "<div>\n",
       "<style scoped>\n",
       "    .dataframe tbody tr th:only-of-type {\n",
       "        vertical-align: middle;\n",
       "    }\n",
       "\n",
       "    .dataframe tbody tr th {\n",
       "        vertical-align: top;\n",
       "    }\n",
       "\n",
       "    .dataframe thead th {\n",
       "        text-align: right;\n",
       "    }\n",
       "</style>\n",
       "<table border=\"1\" class=\"dataframe\">\n",
       "  <thead>\n",
       "    <tr style=\"text-align: right;\">\n",
       "      <th></th>\n",
       "      <th>price</th>\n",
       "      <th>ma</th>\n",
       "      <th>upper_band</th>\n",
       "      <th>lower_band</th>\n",
       "    </tr>\n",
       "    <tr>\n",
       "      <th>date_time</th>\n",
       "      <th></th>\n",
       "      <th></th>\n",
       "      <th></th>\n",
       "      <th></th>\n",
       "    </tr>\n",
       "  </thead>\n",
       "  <tbody>\n",
       "    <tr>\n",
       "      <th>2019-07-02 15:34:00</th>\n",
       "      <td>276.750000</td>\n",
       "      <td>276.742502</td>\n",
       "      <td>283.661064</td>\n",
       "      <td>269.823939</td>\n",
       "    </tr>\n",
       "    <tr>\n",
       "      <th>2019-07-02 15:34:00</th>\n",
       "      <td>276.750000</td>\n",
       "      <td>276.745001</td>\n",
       "      <td>283.663626</td>\n",
       "      <td>269.826376</td>\n",
       "    </tr>\n",
       "    <tr>\n",
       "      <th>2019-07-02 15:34:00</th>\n",
       "      <td>276.750000</td>\n",
       "      <td>276.747501</td>\n",
       "      <td>283.666188</td>\n",
       "      <td>269.828813</td>\n",
       "    </tr>\n",
       "    <tr>\n",
       "      <th>2019-07-02 15:34:00</th>\n",
       "      <td>276.700012</td>\n",
       "      <td>276.747501</td>\n",
       "      <td>283.666188</td>\n",
       "      <td>269.828813</td>\n",
       "    </tr>\n",
       "    <tr>\n",
       "      <th>2019-07-02 15:34:00</th>\n",
       "      <td>276.799988</td>\n",
       "      <td>276.750000</td>\n",
       "      <td>283.668750</td>\n",
       "      <td>269.831250</td>\n",
       "    </tr>\n",
       "  </tbody>\n",
       "</table>\n",
       "</div>"
      ],
      "text/plain": [
       "                          price          ma  upper_band  lower_band\n",
       "date_time                                                          \n",
       "2019-07-02 15:34:00  276.750000  276.742502  283.661064  269.823939\n",
       "2019-07-02 15:34:00  276.750000  276.745001  283.663626  269.826376\n",
       "2019-07-02 15:34:00  276.750000  276.747501  283.666188  269.828813\n",
       "2019-07-02 15:34:00  276.700012  276.747501  283.666188  269.828813\n",
       "2019-07-02 15:34:00  276.799988  276.750000  283.668750  269.831250"
      ]
     },
     "execution_count": 151,
     "metadata": {
      "tags": []
     },
     "output_type": "execute_result"
    }
   ],
   "source": [
    "n = 20\n",
    "ma = dba.price.rolling(n).mean()\n",
    "price_pct = 0.025\n",
    "upper_band = ma + ma*price_pct\n",
    "lower_band = ma - ma*price_pct\n",
    "bb = pd.concat([dba.price, ma, upper_band, lower_band], axis=1).dropna()\n",
    "bb.columns=['price','ma','upper_band','lower_band']\n",
    "bb.tail()"
   ]
  },
  {
   "cell_type": "code",
   "execution_count": 0,
   "metadata": {
    "colab": {
     "base_uri": "https://localhost:8080/",
     "height": 299
    },
    "colab_type": "code",
    "executionInfo": {
     "elapsed": 4526,
     "status": "ok",
     "timestamp": 1562510127014,
     "user": {
      "displayName": "조정효",
      "photoUrl": "",
      "userId": "12388356131346241220"
     },
     "user_tz": -540
    },
    "id": "UI14q1q3mITV",
    "outputId": "08cf7ba0-badd-40c8-830c-65cccf1fd9a9"
   },
   "outputs": [
    {
     "data": {
      "text/plain": [
       "<matplotlib.axes._subplots.AxesSubplot at 0x7f93d386a160>"
      ]
     },
     "execution_count": 152,
     "metadata": {
      "tags": []
     },
     "output_type": "execute_result"
    },
    {
     "data": {
      "image/png": "[encoded data removed]",
      "text/plain": [
       "<Figure size 432x288 with 1 Axes>"
      ]
     },
     "metadata": {
      "tags": []
     },
     "output_type": "display_data"
    }
   ],
   "source": [
    "bb.plot()"
   ]
  },
  {
   "cell_type": "code",
   "execution_count": 0,
   "metadata": {
    "colab": {
     "base_uri": "https://localhost:8080/",
     "height": 34
    },
    "colab_type": "code",
    "executionInfo": {
     "elapsed": 4065,
     "status": "ok",
     "timestamp": 1562510127016,
     "user": {
      "displayName": "조정효",
      "photoUrl": "",
      "userId": "12388356131346241220"
     },
     "user_tz": -540
    },
    "id": "KR3eg7BJmZeR",
    "outputId": "2cce2cc4-4c2c-443f-99c0-049c0d12b08b"
   },
   "outputs": [
    {
     "data": {
      "text/plain": [
       "False"
      ]
     },
     "execution_count": 153,
     "metadata": {
      "tags": []
     },
     "output_type": "execute_result"
    }
   ],
   "source": [
    "np.any(bb.price > bb.upper_band),\n",
    "np.any(bb.price < bb.lower_band)"
   ]
  },
  {
   "cell_type": "code",
   "execution_count": 0,
   "metadata": {
    "colab": {
     "base_uri": "https://localhost:8080/",
     "height": 299
    },
    "colab_type": "code",
    "executionInfo": {
     "elapsed": 4326,
     "status": "ok",
     "timestamp": 1562510152715,
     "user": {
      "displayName": "조정효",
      "photoUrl": "",
      "userId": "12388356131346241220"
     },
     "user_tz": -540
    },
    "id": "U38O97UIn8jo",
    "outputId": "d97b143a-fe14-46a9-a096-35fa1d06402b"
   },
   "outputs": [
    {
     "data": {
      "text/plain": [
       "<matplotlib.axes._subplots.AxesSubplot at 0x7f93d2398898>"
      ]
     },
     "execution_count": 154,
     "metadata": {
      "tags": []
     },
     "output_type": "execute_result"
    },
    {
     "data": {
      "image/png": "[encoded data removed]",
      "text/plain": [
       "<Figure size 432x288 with 1 Axes>"
      ]
     },
     "metadata": {
      "tags": []
     },
     "output_type": "display_data"
    }
   ],
   "source": [
    "n = 20\n",
    "ma = dba.price.rolling(n).mean()\n",
    "price_pct = 0.001\n",
    "upper_band = ma + ma*price_pct\n",
    "lower_band = ma - ma*price_pct\n",
    "bb = pd.concat([dba.price, ma, upper_band, lower_band], axis=1).dropna()\n",
    "bb.columns=['price','ma','upper_band','lower_band']\n",
    "bb.plot()"
   ]
  },
  {
   "cell_type": "code",
   "execution_count": 0,
   "metadata": {
    "colab": {
     "base_uri": "https://localhost:8080/",
     "height": 34
    },
    "colab_type": "code",
    "executionInfo": {
     "elapsed": 609,
     "status": "ok",
     "timestamp": 1562510248056,
     "user": {
      "displayName": "조정효",
      "photoUrl": "",
      "userId": "12388356131346241220"
     },
     "user_tz": -540
    },
    "id": "xCqEbS023O_Y",
    "outputId": "943ef37b-56f6-4089-967c-dcebcd788b82"
   },
   "outputs": [
    {
     "data": {
      "text/plain": [
       "4635"
      ]
     },
     "execution_count": 156,
     "metadata": {
      "tags": []
     },
     "output_type": "execute_result"
    }
   ],
   "source": [
    "len(bb[bb.price > bb.upper_band]) + len(bb[bb.price < bb.lower_band])"
   ]
  },
  {
   "cell_type": "markdown",
   "metadata": {
    "colab_type": "text",
    "id": "xZonKQ6frj3K"
   },
   "source": [
    "## (b)"
   ]
  },
  {
   "cell_type": "code",
   "execution_count": 0,
   "metadata": {
    "colab": {
     "base_uri": "https://localhost:8080/",
     "height": 323
    },
    "colab_type": "code",
    "executionInfo": {
     "elapsed": 588,
     "status": "error",
     "timestamp": 1562507340583,
     "user": {
      "displayName": "조정효",
      "photoUrl": "",
      "userId": "12388356131346241220"
     },
     "user_tz": -540
    },
    "id": "F3JMeuserksE",
    "outputId": "58c856fb-b72b-4235-f38e-3cdee9063023"
   },
   "outputs": [
    {
     "ename": "TypeError",
     "evalue": "ignored",
     "output_type": "error",
     "traceback": [
      "\u001b[0;31m---------------------------------------------------------------------------\u001b[0m",
      "\u001b[0;31mTypeError\u001b[0m                                 Traceback (most recent call last)",
      "\u001b[0;32m<ipython-input-101-c39cff6ec2fb>\u001b[0m in \u001b[0;36m<module>\u001b[0;34m()\u001b[0m\n\u001b[1;32m      1\u001b[0m \u001b[0;32mfrom\u001b[0m \u001b[0mmlfinlab\u001b[0m \u001b[0;32mimport\u001b[0m \u001b[0mfilters\u001b[0m\u001b[0;34m\u001b[0m\u001b[0;34m\u001b[0m\u001b[0m\n\u001b[0;32m----> 2\u001b[0;31m \u001b[0mfilters\u001b[0m\u001b[0;34m.\u001b[0m\u001b[0mcusum_filter\u001b[0m\u001b[0;34m(\u001b[0m\u001b[0mdba\u001b[0m\u001b[0;34m.\u001b[0m\u001b[0mprice\u001b[0m\u001b[0;34m,\u001b[0m \u001b[0;36m0.05\u001b[0m\u001b[0;34m)\u001b[0m\u001b[0;34m\u001b[0m\u001b[0;34m\u001b[0m\u001b[0m\n\u001b[0m",
      "\u001b[0;32m/usr/local/lib/python3.6/dist-packages/mlfinlab/filters/filters.py\u001b[0m in \u001b[0;36mcusum_filter\u001b[0;34m(raw_time_series, threshold, time_stamps)\u001b[0m\n\u001b[1;32m     49\u001b[0m     \u001b[0;31m# Get event time stamps for the entire series\u001b[0m\u001b[0;34m\u001b[0m\u001b[0;34m\u001b[0m\u001b[0;34m\u001b[0m\u001b[0m\n\u001b[1;32m     50\u001b[0m     \u001b[0;32mfor\u001b[0m \u001b[0mi\u001b[0m \u001b[0;32min\u001b[0m \u001b[0mdiff\u001b[0m\u001b[0;34m.\u001b[0m\u001b[0mindex\u001b[0m\u001b[0;34m[\u001b[0m\u001b[0;36m1\u001b[0m\u001b[0;34m:\u001b[0m\u001b[0;34m]\u001b[0m\u001b[0;34m:\u001b[0m\u001b[0;34m\u001b[0m\u001b[0;34m\u001b[0m\u001b[0m\n\u001b[0;32m---> 51\u001b[0;31m         \u001b[0mpos\u001b[0m \u001b[0;34m=\u001b[0m \u001b[0mfloat\u001b[0m\u001b[0;34m(\u001b[0m\u001b[0ms_pos\u001b[0m \u001b[0;34m+\u001b[0m \u001b[0mdiff\u001b[0m\u001b[0;34m.\u001b[0m\u001b[0mloc\u001b[0m\u001b[0;34m[\u001b[0m\u001b[0mi\u001b[0m\u001b[0;34m]\u001b[0m\u001b[0;34m)\u001b[0m\u001b[0;34m\u001b[0m\u001b[0;34m\u001b[0m\u001b[0m\n\u001b[0m\u001b[1;32m     52\u001b[0m         \u001b[0mneg\u001b[0m \u001b[0;34m=\u001b[0m \u001b[0mfloat\u001b[0m\u001b[0;34m(\u001b[0m\u001b[0ms_neg\u001b[0m \u001b[0;34m+\u001b[0m \u001b[0mdiff\u001b[0m\u001b[0;34m.\u001b[0m\u001b[0mloc\u001b[0m\u001b[0;34m[\u001b[0m\u001b[0mi\u001b[0m\u001b[0;34m]\u001b[0m\u001b[0;34m)\u001b[0m\u001b[0;34m\u001b[0m\u001b[0;34m\u001b[0m\u001b[0m\n\u001b[1;32m     53\u001b[0m         \u001b[0ms_pos\u001b[0m \u001b[0;34m=\u001b[0m \u001b[0mmax\u001b[0m\u001b[0;34m(\u001b[0m\u001b[0;36m0.0\u001b[0m\u001b[0;34m,\u001b[0m \u001b[0mpos\u001b[0m\u001b[0;34m)\u001b[0m\u001b[0;34m\u001b[0m\u001b[0;34m\u001b[0m\u001b[0m\n",
      "\u001b[0;32m/usr/local/lib/python3.6/dist-packages/pandas/core/series.py\u001b[0m in \u001b[0;36mwrapper\u001b[0;34m(self)\u001b[0m\n\u001b[1;32m     91\u001b[0m             \u001b[0;32mreturn\u001b[0m \u001b[0mconverter\u001b[0m\u001b[0;34m(\u001b[0m\u001b[0mself\u001b[0m\u001b[0;34m.\u001b[0m\u001b[0miloc\u001b[0m\u001b[0;34m[\u001b[0m\u001b[0;36m0\u001b[0m\u001b[0;34m]\u001b[0m\u001b[0;34m)\u001b[0m\u001b[0;34m\u001b[0m\u001b[0;34m\u001b[0m\u001b[0m\n\u001b[1;32m     92\u001b[0m         raise TypeError(\"cannot convert the series to \"\n\u001b[0;32m---> 93\u001b[0;31m                         \"{0}\".format(str(converter)))\n\u001b[0m\u001b[1;32m     94\u001b[0m \u001b[0;34m\u001b[0m\u001b[0m\n\u001b[1;32m     95\u001b[0m     \u001b[0mwrapper\u001b[0m\u001b[0;34m.\u001b[0m\u001b[0m__name__\u001b[0m \u001b[0;34m=\u001b[0m \u001b[0;34m\"__{name}__\"\u001b[0m\u001b[0;34m.\u001b[0m\u001b[0mformat\u001b[0m\u001b[0;34m(\u001b[0m\u001b[0mname\u001b[0m\u001b[0;34m=\u001b[0m\u001b[0mconverter\u001b[0m\u001b[0;34m.\u001b[0m\u001b[0m__name__\u001b[0m\u001b[0;34m)\u001b[0m\u001b[0;34m\u001b[0m\u001b[0;34m\u001b[0m\u001b[0m\n",
      "\u001b[0;31mTypeError\u001b[0m: cannot convert the series to <class 'float'>"
     ]
    }
   ],
   "source": [
    "from mlfinlab import filters\n",
    "filters.cusum_filter(dba.price, 0.05)"
   ]
  },
  {
   "cell_type": "code",
   "execution_count": 0,
   "metadata": {
    "colab": {},
    "colab_type": "code",
    "id": "3hKogoOYrphk"
   },
   "outputs": [],
   "source": [
    "def getTEvents(gRaw,h):\n",
    "  tEvents,sPos,sNeg=[],0,0\n",
    "  \n",
    "  diff=gRaw.diff()\n",
    "  for i in diff.index[1:]:\n",
    "    sPos,sNeg=max(0,sPos+diff.loc[i]),min(0,sNeg+diff.loc[i])\n",
    "    if sNeg<-h:\n",
    "      sNeg=0;tEvents.append(i)\n",
    "    elif sPos>h:\n",
    "      sPos=0;tEvents.append(i)\n",
    "  \n",
    "  return tEvents"
   ]
  },
  {
   "cell_type": "code",
   "execution_count": 0,
   "metadata": {
    "colab": {
     "base_uri": "https://localhost:8080/",
     "height": 204
    },
    "colab_type": "code",
    "executionInfo": {
     "elapsed": 561,
     "status": "ok",
     "timestamp": 1562512068697,
     "user": {
      "displayName": "조정효",
      "photoUrl": "",
      "userId": "12388356131346241220"
     },
     "user_tz": -540
    },
    "id": "AH4eJhSP-VoR",
    "outputId": "df798f06-dbbf-4635-c2eb-ddb439957122"
   },
   "outputs": [
    {
     "data": {
      "text/html": [
       "<div>\n",
       "<style scoped>\n",
       "    .dataframe tbody tr th:only-of-type {\n",
       "        vertical-align: middle;\n",
       "    }\n",
       "\n",
       "    .dataframe tbody tr th {\n",
       "        vertical-align: top;\n",
       "    }\n",
       "\n",
       "    .dataframe thead th {\n",
       "        text-align: right;\n",
       "    }\n",
       "</style>\n",
       "<table border=\"1\" class=\"dataframe\">\n",
       "  <thead>\n",
       "    <tr style=\"text-align: right;\">\n",
       "      <th></th>\n",
       "      <th>date_time</th>\n",
       "      <th>price</th>\n",
       "    </tr>\n",
       "  </thead>\n",
       "  <tbody>\n",
       "    <tr>\n",
       "      <th>0</th>\n",
       "      <td>2018-11-21 09:00:00</td>\n",
       "      <td>266.100006</td>\n",
       "    </tr>\n",
       "    <tr>\n",
       "      <th>1</th>\n",
       "      <td>2018-11-21 09:00:00</td>\n",
       "      <td>266.200012</td>\n",
       "    </tr>\n",
       "    <tr>\n",
       "      <th>2</th>\n",
       "      <td>2018-11-21 09:00:00</td>\n",
       "      <td>266.100006</td>\n",
       "    </tr>\n",
       "    <tr>\n",
       "      <th>3</th>\n",
       "      <td>2018-11-21 09:00:00</td>\n",
       "      <td>266.149994</td>\n",
       "    </tr>\n",
       "    <tr>\n",
       "      <th>4</th>\n",
       "      <td>2018-11-21 09:00:00</td>\n",
       "      <td>266.299988</td>\n",
       "    </tr>\n",
       "  </tbody>\n",
       "</table>\n",
       "</div>"
      ],
      "text/plain": [
       "            date_time       price\n",
       "0 2018-11-21 09:00:00  266.100006\n",
       "1 2018-11-21 09:00:00  266.200012\n",
       "2 2018-11-21 09:00:00  266.100006\n",
       "3 2018-11-21 09:00:00  266.149994\n",
       "4 2018-11-21 09:00:00  266.299988"
      ]
     },
     "execution_count": 217,
     "metadata": {
      "tags": []
     },
     "output_type": "execute_result"
    }
   ],
   "source": [
    "rawraw = dba[['price']].reset_index()\n",
    "rawraw.head()"
   ]
  },
  {
   "cell_type": "code",
   "execution_count": 0,
   "metadata": {
    "colab": {},
    "colab_type": "code",
    "id": "chuPKHJDyzsh"
   },
   "outputs": [],
   "source": [
    "t_events = getTEvents(rawraw.price, 0.05)"
   ]
  },
  {
   "cell_type": "code",
   "execution_count": 0,
   "metadata": {
    "colab": {
     "base_uri": "https://localhost:8080/",
     "height": 34
    },
    "colab_type": "code",
    "executionInfo": {
     "elapsed": 15542,
     "status": "ok",
     "timestamp": 1562510451143,
     "user": {
      "displayName": "조정효",
      "photoUrl": "",
      "userId": "12388356131346241220"
     },
     "user_tz": -540
    },
    "id": "2TEvEXagzFUM",
    "outputId": "110b67ec-0897-4590-b339-0586499182bd"
   },
   "outputs": [
    {
     "data": {
      "text/plain": [
       "80971"
      ]
     },
     "execution_count": 162,
     "metadata": {
      "tags": []
     },
     "output_type": "execute_result"
    }
   ],
   "source": [
    "len(t_events)"
   ]
  },
  {
   "cell_type": "code",
   "execution_count": 0,
   "metadata": {
    "colab": {
     "base_uri": "https://localhost:8080/",
     "height": 34
    },
    "colab_type": "code",
    "executionInfo": {
     "elapsed": 14419,
     "status": "ok",
     "timestamp": 1562510451145,
     "user": {
      "displayName": "조정효",
      "photoUrl": "",
      "userId": "12388356131346241220"
     },
     "user_tz": -540
    },
    "id": "R8T7-nb0zmMw",
    "outputId": "c3885b18-a7d4-4bb9-8787-d75e261cd494"
   },
   "outputs": [
    {
     "data": {
      "text/plain": [
       "257489"
      ]
     },
     "execution_count": 163,
     "metadata": {
      "tags": []
     },
     "output_type": "execute_result"
    }
   ],
   "source": [
    "len(rawraw)"
   ]
  },
  {
   "cell_type": "markdown",
   "metadata": {
    "colab_type": "text",
    "id": "sUiBaz5j4gO2"
   },
   "source": [
    "## (c)"
   ]
  },
  {
   "cell_type": "code",
   "execution_count": 0,
   "metadata": {
    "colab": {},
    "colab_type": "code",
    "id": "M0o36z-c4kiW"
   },
   "outputs": [],
   "source": [
    "up = bb[bb.price > bb.upper_band].price"
   ]
  },
  {
   "cell_type": "code",
   "execution_count": 0,
   "metadata": {
    "colab": {},
    "colab_type": "code",
    "id": "YVdy_0K36XqI"
   },
   "outputs": [],
   "source": [
    "down = bb[bb.price < bb.lower_band].price"
   ]
  },
  {
   "cell_type": "code",
   "execution_count": 0,
   "metadata": {
    "colab": {},
    "colab_type": "code",
    "id": "6qJRdVtT6eTI"
   },
   "outputs": [],
   "source": [
    "##bb_sampled = pd.concat([up,down],)"
   ]
  },
  {
   "cell_type": "code",
   "execution_count": 0,
   "metadata": {
    "colab": {
     "base_uri": "https://localhost:8080/",
     "height": 1000
    },
    "colab_type": "code",
    "executionInfo": {
     "elapsed": 563,
     "status": "ok",
     "timestamp": 1562512103726,
     "user": {
      "displayName": "조정효",
      "photoUrl": "",
      "userId": "12388356131346241220"
     },
     "user_tz": -540
    },
    "id": "s0A3tFut3unv",
    "outputId": "899ddfe1-d30c-44c8-e263-295f86aeba06"
   },
   "outputs": [
    {
     "data": {
      "text/html": [
       "<div>\n",
       "<style scoped>\n",
       "    .dataframe tbody tr th:only-of-type {\n",
       "        vertical-align: middle;\n",
       "    }\n",
       "\n",
       "    .dataframe tbody tr th {\n",
       "        vertical-align: top;\n",
       "    }\n",
       "\n",
       "    .dataframe thead th {\n",
       "        text-align: right;\n",
       "    }\n",
       "</style>\n",
       "<table border=\"1\" class=\"dataframe\">\n",
       "  <thead>\n",
       "    <tr style=\"text-align: right;\">\n",
       "      <th></th>\n",
       "      <th>price</th>\n",
       "    </tr>\n",
       "  </thead>\n",
       "  <tbody>\n",
       "    <tr>\n",
       "      <th>0</th>\n",
       "      <td>266.200012</td>\n",
       "    </tr>\n",
       "    <tr>\n",
       "      <th>1</th>\n",
       "      <td>266.100006</td>\n",
       "    </tr>\n",
       "    <tr>\n",
       "      <th>2</th>\n",
       "      <td>266.299988</td>\n",
       "    </tr>\n",
       "    <tr>\n",
       "      <th>3</th>\n",
       "      <td>266.350006</td>\n",
       "    </tr>\n",
       "    <tr>\n",
       "      <th>4</th>\n",
       "      <td>266.299988</td>\n",
       "    </tr>\n",
       "    <tr>\n",
       "      <th>5</th>\n",
       "      <td>266.350006</td>\n",
       "    </tr>\n",
       "    <tr>\n",
       "      <th>6</th>\n",
       "      <td>266.299988</td>\n",
       "    </tr>\n",
       "    <tr>\n",
       "      <th>7</th>\n",
       "      <td>266.399994</td>\n",
       "    </tr>\n",
       "    <tr>\n",
       "      <th>8</th>\n",
       "      <td>266.250000</td>\n",
       "    </tr>\n",
       "    <tr>\n",
       "      <th>9</th>\n",
       "      <td>266.350006</td>\n",
       "    </tr>\n",
       "    <tr>\n",
       "      <th>10</th>\n",
       "      <td>266.450012</td>\n",
       "    </tr>\n",
       "    <tr>\n",
       "      <th>11</th>\n",
       "      <td>266.350006</td>\n",
       "    </tr>\n",
       "    <tr>\n",
       "      <th>12</th>\n",
       "      <td>266.450012</td>\n",
       "    </tr>\n",
       "    <tr>\n",
       "      <th>13</th>\n",
       "      <td>266.600006</td>\n",
       "    </tr>\n",
       "    <tr>\n",
       "      <th>14</th>\n",
       "      <td>266.549988</td>\n",
       "    </tr>\n",
       "    <tr>\n",
       "      <th>15</th>\n",
       "      <td>266.399994</td>\n",
       "    </tr>\n",
       "    <tr>\n",
       "      <th>16</th>\n",
       "      <td>266.450012</td>\n",
       "    </tr>\n",
       "    <tr>\n",
       "      <th>17</th>\n",
       "      <td>266.399994</td>\n",
       "    </tr>\n",
       "    <tr>\n",
       "      <th>18</th>\n",
       "      <td>266.299988</td>\n",
       "    </tr>\n",
       "    <tr>\n",
       "      <th>19</th>\n",
       "      <td>266.200012</td>\n",
       "    </tr>\n",
       "    <tr>\n",
       "      <th>20</th>\n",
       "      <td>266.149994</td>\n",
       "    </tr>\n",
       "    <tr>\n",
       "      <th>21</th>\n",
       "      <td>266.049988</td>\n",
       "    </tr>\n",
       "    <tr>\n",
       "      <th>22</th>\n",
       "      <td>265.899994</td>\n",
       "    </tr>\n",
       "    <tr>\n",
       "      <th>23</th>\n",
       "      <td>265.799988</td>\n",
       "    </tr>\n",
       "    <tr>\n",
       "      <th>24</th>\n",
       "      <td>265.850006</td>\n",
       "    </tr>\n",
       "    <tr>\n",
       "      <th>25</th>\n",
       "      <td>265.950012</td>\n",
       "    </tr>\n",
       "    <tr>\n",
       "      <th>26</th>\n",
       "      <td>265.899994</td>\n",
       "    </tr>\n",
       "    <tr>\n",
       "      <th>27</th>\n",
       "      <td>265.950012</td>\n",
       "    </tr>\n",
       "    <tr>\n",
       "      <th>28</th>\n",
       "      <td>265.850006</td>\n",
       "    </tr>\n",
       "    <tr>\n",
       "      <th>29</th>\n",
       "      <td>265.950012</td>\n",
       "    </tr>\n",
       "    <tr>\n",
       "      <th>...</th>\n",
       "      <td>...</td>\n",
       "    </tr>\n",
       "    <tr>\n",
       "      <th>80941</th>\n",
       "      <td>276.899994</td>\n",
       "    </tr>\n",
       "    <tr>\n",
       "      <th>80942</th>\n",
       "      <td>276.950012</td>\n",
       "    </tr>\n",
       "    <tr>\n",
       "      <th>80943</th>\n",
       "      <td>277.049988</td>\n",
       "    </tr>\n",
       "    <tr>\n",
       "      <th>80944</th>\n",
       "      <td>276.950012</td>\n",
       "    </tr>\n",
       "    <tr>\n",
       "      <th>80945</th>\n",
       "      <td>276.899994</td>\n",
       "    </tr>\n",
       "    <tr>\n",
       "      <th>80946</th>\n",
       "      <td>276.799988</td>\n",
       "    </tr>\n",
       "    <tr>\n",
       "      <th>80947</th>\n",
       "      <td>276.899994</td>\n",
       "    </tr>\n",
       "    <tr>\n",
       "      <th>80948</th>\n",
       "      <td>276.950012</td>\n",
       "    </tr>\n",
       "    <tr>\n",
       "      <th>80949</th>\n",
       "      <td>277.049988</td>\n",
       "    </tr>\n",
       "    <tr>\n",
       "      <th>80950</th>\n",
       "      <td>277.100006</td>\n",
       "    </tr>\n",
       "    <tr>\n",
       "      <th>80951</th>\n",
       "      <td>277.200012</td>\n",
       "    </tr>\n",
       "    <tr>\n",
       "      <th>80952</th>\n",
       "      <td>277.149994</td>\n",
       "    </tr>\n",
       "    <tr>\n",
       "      <th>80953</th>\n",
       "      <td>277.200012</td>\n",
       "    </tr>\n",
       "    <tr>\n",
       "      <th>80954</th>\n",
       "      <td>277.149994</td>\n",
       "    </tr>\n",
       "    <tr>\n",
       "      <th>80955</th>\n",
       "      <td>277.049988</td>\n",
       "    </tr>\n",
       "    <tr>\n",
       "      <th>80956</th>\n",
       "      <td>277.100006</td>\n",
       "    </tr>\n",
       "    <tr>\n",
       "      <th>80957</th>\n",
       "      <td>277.049988</td>\n",
       "    </tr>\n",
       "    <tr>\n",
       "      <th>80958</th>\n",
       "      <td>277.100006</td>\n",
       "    </tr>\n",
       "    <tr>\n",
       "      <th>80959</th>\n",
       "      <td>277.049988</td>\n",
       "    </tr>\n",
       "    <tr>\n",
       "      <th>80960</th>\n",
       "      <td>276.950012</td>\n",
       "    </tr>\n",
       "    <tr>\n",
       "      <th>80961</th>\n",
       "      <td>276.899994</td>\n",
       "    </tr>\n",
       "    <tr>\n",
       "      <th>80962</th>\n",
       "      <td>276.799988</td>\n",
       "    </tr>\n",
       "    <tr>\n",
       "      <th>80963</th>\n",
       "      <td>276.700012</td>\n",
       "    </tr>\n",
       "    <tr>\n",
       "      <th>80964</th>\n",
       "      <td>276.649994</td>\n",
       "    </tr>\n",
       "    <tr>\n",
       "      <th>80965</th>\n",
       "      <td>276.700012</td>\n",
       "    </tr>\n",
       "    <tr>\n",
       "      <th>80966</th>\n",
       "      <td>276.649994</td>\n",
       "    </tr>\n",
       "    <tr>\n",
       "      <th>80967</th>\n",
       "      <td>276.700012</td>\n",
       "    </tr>\n",
       "    <tr>\n",
       "      <th>80968</th>\n",
       "      <td>276.799988</td>\n",
       "    </tr>\n",
       "    <tr>\n",
       "      <th>80969</th>\n",
       "      <td>276.700012</td>\n",
       "    </tr>\n",
       "    <tr>\n",
       "      <th>80970</th>\n",
       "      <td>276.799988</td>\n",
       "    </tr>\n",
       "  </tbody>\n",
       "</table>\n",
       "<p>80971 rows × 1 columns</p>\n",
       "</div>"
      ],
      "text/plain": [
       "            price\n",
       "0      266.200012\n",
       "1      266.100006\n",
       "2      266.299988\n",
       "3      266.350006\n",
       "4      266.299988\n",
       "5      266.350006\n",
       "6      266.299988\n",
       "7      266.399994\n",
       "8      266.250000\n",
       "9      266.350006\n",
       "10     266.450012\n",
       "11     266.350006\n",
       "12     266.450012\n",
       "13     266.600006\n",
       "14     266.549988\n",
       "15     266.399994\n",
       "16     266.450012\n",
       "17     266.399994\n",
       "18     266.299988\n",
       "19     266.200012\n",
       "20     266.149994\n",
       "21     266.049988\n",
       "22     265.899994\n",
       "23     265.799988\n",
       "24     265.850006\n",
       "25     265.950012\n",
       "26     265.899994\n",
       "27     265.950012\n",
       "28     265.850006\n",
       "29     265.950012\n",
       "...           ...\n",
       "80941  276.899994\n",
       "80942  276.950012\n",
       "80943  277.049988\n",
       "80944  276.950012\n",
       "80945  276.899994\n",
       "80946  276.799988\n",
       "80947  276.899994\n",
       "80948  276.950012\n",
       "80949  277.049988\n",
       "80950  277.100006\n",
       "80951  277.200012\n",
       "80952  277.149994\n",
       "80953  277.200012\n",
       "80954  277.149994\n",
       "80955  277.049988\n",
       "80956  277.100006\n",
       "80957  277.049988\n",
       "80958  277.100006\n",
       "80959  277.049988\n",
       "80960  276.950012\n",
       "80961  276.899994\n",
       "80962  276.799988\n",
       "80963  276.700012\n",
       "80964  276.649994\n",
       "80965  276.700012\n",
       "80966  276.649994\n",
       "80967  276.700012\n",
       "80968  276.799988\n",
       "80969  276.700012\n",
       "80970  276.799988\n",
       "\n",
       "[80971 rows x 1 columns]"
      ]
     },
     "execution_count": 219,
     "metadata": {
      "tags": []
     },
     "output_type": "execute_result"
    }
   ],
   "source": [
    "cusum_sampled = rawraw.iloc[t_events][['price']]\n",
    "cusum_sampled.reset_index(inplace=True, drop=True)\n",
    "cusum_sampled"
   ]
  },
  {
   "cell_type": "code",
   "execution_count": 0,
   "metadata": {
    "colab": {
     "base_uri": "https://localhost:8080/",
     "height": 299
    },
    "colab_type": "code",
    "executionInfo": {
     "elapsed": 850,
     "status": "ok",
     "timestamp": 1562512159445,
     "user": {
      "displayName": "조정효",
      "photoUrl": "",
      "userId": "12388356131346241220"
     },
     "user_tz": -540
    },
    "id": "1cXSfirR-v5e",
    "outputId": "340d8e88-bdb5-4a1c-98d4-34ada249e69a"
   },
   "outputs": [
    {
     "data": {
      "text/plain": [
       "<matplotlib.axes._subplots.AxesSubplot at 0x7f93d182f940>"
      ]
     },
     "execution_count": 223,
     "metadata": {
      "tags": []
     },
     "output_type": "execute_result"
    },
    {
     "data": {
      "image/png": "[encoded data removed]",
      "text/plain": [
       "<Figure size 432x288 with 1 Axes>"
      ]
     },
     "metadata": {
      "tags": []
     },
     "output_type": "display_data"
    }
   ],
   "source": [
    "bb_sampled.rolling(20).std().dropna().plot()"
   ]
  },
  {
   "cell_type": "code",
   "execution_count": 0,
   "metadata": {
    "colab": {
     "base_uri": "https://localhost:8080/",
     "height": 286
    },
    "colab_type": "code",
    "executionInfo": {
     "elapsed": 929,
     "status": "ok",
     "timestamp": 1562512160956,
     "user": {
      "displayName": "조정효",
      "photoUrl": "",
      "userId": "12388356131346241220"
     },
     "user_tz": -540
    },
    "id": "6hzpju2I4Fr_",
    "outputId": "fbd27c60-3439-4730-bc95-fad6e48e6d45"
   },
   "outputs": [
    {
     "data": {
      "text/plain": [
       "<matplotlib.axes._subplots.AxesSubplot at 0x7f93d17345c0>"
      ]
     },
     "execution_count": 224,
     "metadata": {
      "tags": []
     },
     "output_type": "execute_result"
    },
    {
     "data": {
      "image/png": "[encoded data removed]",
      "text/plain": [
       "<Figure size 432x288 with 1 Axes>"
      ]
     },
     "metadata": {
      "tags": []
     },
     "output_type": "display_data"
    }
   ],
   "source": [
    "\n",
    "cusum_sampled.rolling(20).std().dropna().plot()"
   ]
  },
  {
   "cell_type": "code",
   "execution_count": 0,
   "metadata": {
    "colab": {},
    "colab_type": "code",
    "id": "xlT8evxf8XgE"
   },
   "outputs": [],
   "source": []
  }
 ],
 "metadata": {
  "colab": {
   "collapsed_sections": [],
   "name": "chapter2 exercise.ipynb",
   "provenance": [],
   "version": "0.3.2"
  },
  "kernelspec": {
   "display_name": "Python 3",
   "language": "python",
   "name": "python3"
  },
  "language_info": {
   "codemirror_mode": {
    "name": "ipython",
    "version": 3
   },
   "file_extension": ".py",
   "mimetype": "text/x-python",
   "name": "python",
   "nbconvert_exporter": "python",
   "pygments_lexer": "ipython3",
   "version": "3.7.3"
  }
 },
 "nbformat": 4,
 "nbformat_minor": 1
}
