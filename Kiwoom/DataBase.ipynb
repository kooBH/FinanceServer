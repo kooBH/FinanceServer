{
 "cells": [
  {
   "cell_type": "code",
   "execution_count": 9,
   "metadata": {},
   "outputs": [],
   "source": [
    "import sqlite3 as sq\n",
    "import pandas as pd"
   ]
  },
  {
   "cell_type": "markdown",
   "metadata": {},
   "source": [
    "https://wikidocs.net/5327"
   ]
  },
  {
   "cell_type": "code",
   "execution_count": 2,
   "metadata": {},
   "outputs": [
    {
     "data": {
      "text/plain": [
       "'2.6.0'"
      ]
     },
     "execution_count": 2,
     "metadata": {},
     "output_type": "execute_result"
    }
   ],
   "source": [
    "sqlite3.version"
   ]
  },
  {
   "cell_type": "markdown",
   "metadata": {},
   "source": [
    "삼성전자 DB 생성 / 연결"
   ]
  },
  {
   "cell_type": "code",
   "execution_count": null,
   "metadata": {},
   "outputs": [],
   "source": [
    "connect = sqlite3.connect(\"c:/Users/Jason/kospi.db\")"
   ]
  },
  {
   "cell_type": "markdown",
   "metadata": {},
   "source": [
    "데이터 조작을 위한 커서 생성"
   ]
  },
  {
   "cell_type": "code",
   "execution_count": null,
   "metadata": {},
   "outputs": [],
   "source": [
    " cursor = connect.cursor()"
   ]
  },
  {
   "cell_type": "markdown",
   "metadata": {},
   "source": [
    "약간의 테스트를 해야겠다. \n",
    "구성이 데이터의 중복이 존재하는 DataFrame을 DB에 update하는 것인데. 중복되는 자료는 제외하고 append 해야한다."
   ]
  },
  {
   "cell_type": "code",
   "execution_count": 5,
   "metadata": {},
   "outputs": [],
   "source": [
    "connect.close()"
   ]
  },
  {
   "cell_type": "code",
   "execution_count": 7,
   "metadata": {},
   "outputs": [],
   "source": [
    "conTest = sq.connect('test.db')"
   ]
  },
  {
   "cell_type": "code",
   "execution_count": 8,
   "metadata": {},
   "outputs": [],
   "source": [
    "curTest = conTest.cursor()"
   ]
  },
  {
   "cell_type": "code",
   "execution_count": 65,
   "metadata": {},
   "outputs": [],
   "source": [
    "temp = pd.DataFrame(columns=['close','volume'])\n",
    "temp.index.name = 'date' \n",
    "temp.loc[\"2018-03-01\"] = [10,20]\n",
    "temp.to_sql('test', conTest, if_exists='append')"
   ]
  },
  {
   "cell_type": "code",
   "execution_count": 57,
   "metadata": {},
   "outputs": [],
   "source": [
    "temp2 = pd.DataFrame(columns=['close','volume'])\n",
    "temp2.index.name = 'date' \n",
    "temp2.loc[\"2018-03-02\"] = [11,22]\n",
    "temp2.to_sql('test', conTest, if_exists='append')"
   ]
  },
  {
   "cell_type": "code",
   "execution_count": 63,
   "metadata": {},
   "outputs": [],
   "source": [
    "temp3 = pd.DataFrame(columns=['close','volume'])\n",
    "temp3.index.name = 'date' \n",
    "temp3.loc[\"2018-03-02\"] = [11,22]\n",
    "temp3.loc[\"2018-03-03\"] = [133,233]\n",
    "temp3.to_sql('test', conTest, if_exists='append')"
   ]
  },
  {
   "cell_type": "code",
   "execution_count": 59,
   "metadata": {},
   "outputs": [
    {
     "data": {
      "text/html": [
       "<div>\n",
       "<style scoped>\n",
       "    .dataframe tbody tr th:only-of-type {\n",
       "        vertical-align: middle;\n",
       "    }\n",
       "\n",
       "    .dataframe tbody tr th {\n",
       "        vertical-align: top;\n",
       "    }\n",
       "\n",
       "    .dataframe thead th {\n",
       "        text-align: right;\n",
       "    }\n",
       "</style>\n",
       "<table border=\"1\" class=\"dataframe\">\n",
       "  <thead>\n",
       "    <tr style=\"text-align: right;\">\n",
       "      <th></th>\n",
       "      <th>close</th>\n",
       "      <th>volume</th>\n",
       "    </tr>\n",
       "    <tr>\n",
       "      <th>date</th>\n",
       "      <th></th>\n",
       "      <th></th>\n",
       "    </tr>\n",
       "  </thead>\n",
       "  <tbody>\n",
       "    <tr>\n",
       "      <th>2018-03-01</th>\n",
       "      <td>10</td>\n",
       "      <td>20</td>\n",
       "    </tr>\n",
       "  </tbody>\n",
       "</table>\n",
       "</div>"
      ],
      "text/plain": [
       "           close volume\n",
       "date                   \n",
       "2018-03-01    10     20"
      ]
     },
     "execution_count": 59,
     "metadata": {},
     "output_type": "execute_result"
    }
   ],
   "source": [
    "temp"
   ]
  },
  {
   "cell_type": "code",
   "execution_count": 51,
   "metadata": {},
   "outputs": [],
   "source": [
    "temp.to_sql('test', conTest, if_exists='replace')"
   ]
  },
  {
   "cell_type": "code",
   "execution_count": 66,
   "metadata": {},
   "outputs": [
    {
     "data": {
      "text/plain": [
       "[('2018-03-01', 10, 20),\n",
       " ('2018-03-01', 10, 20),\n",
       " ('2018-03-02', 11, 22),\n",
       " ('2018-03-02', 11, 22),\n",
       " ('2018-03-03', 133, 233),\n",
       " ('2018-03-02', 11, 22),\n",
       " ('2018-03-03', 133, 233),\n",
       " ('2018-03-02', 11, 22),\n",
       " ('2018-03-03', 133, 233),\n",
       " ('2018-03-01', 10, 20)]"
      ]
     },
     "execution_count": 66,
     "metadata": {},
     "output_type": "execute_result"
    }
   ],
   "source": [
    "curTest.execute(\"SELECT * FROM test\")\n",
    "curTest.fetchall()"
   ]
  },
  {
   "cell_type": "markdown",
   "metadata": {},
   "source": [
    "https://pandas.pydata.org/pandas-docs/stable/reference/api/pandas.DataFrame.to_sql.html\n",
    "\n",
    "할 수 있는게 fail,replace,append  밖에 없네.\n",
    "그러면 겹치는 건 제거하고 append를 해주는 수밖에 없는가. \n",
    "그러면\n",
    "1. DF\n",
    "2. DB\n",
    "\n",
    "DB 에서 가장 최근 자료 시간을 받아서 그거 이전의 DF 를 다 지운 다음에 DB 에 넣도록 하면 되겠네\n"
   ]
  },
  {
   "cell_type": "markdown",
   "metadata": {},
   "source": [
    "### 가장 최근 자료 인덱스[시간] 가져오기"
   ]
  },
  {
   "cell_type": "markdown",
   "metadata": {},
   "source": [
    "curTest.description"
   ]
  },
  {
   "cell_type": "markdown",
   "metadata": {},
   "source": [
    "### DF 에서 특정 시간 이전의 자료 지우기"
   ]
  },
  {
   "cell_type": "markdown",
   "metadata": {},
   "source": []
  },
  {
   "cell_type": "code",
   "execution_count": null,
   "metadata": {},
   "outputs": [],
   "source": []
  },
  {
   "cell_type": "code",
   "execution_count": null,
   "metadata": {},
   "outputs": [],
   "source": []
  }
 ],
 "metadata": {
  "kernelspec": {
   "display_name": "Python 3",
   "language": "python",
   "name": "python3"
  },
  "language_info": {
   "codemirror_mode": {
    "name": "ipython",
    "version": 3
   },
   "file_extension": ".py",
   "mimetype": "text/x-python",
   "name": "python",
   "nbconvert_exporter": "python",
   "pygments_lexer": "ipython3",
   "version": "3.7.1"
  }
 },
 "nbformat": 4,
 "nbformat_minor": 4
}
