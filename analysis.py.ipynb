{
 "cells": [
  {
   "cell_type": "code",
   "execution_count": null,
   "metadata": {},
   "outputs": [],
   "source": [
    "import SymbolList as sl\n",
    "import pandas as pd\n",
    "import datetime as dt \n",
    "from statsmodels.formula.api import ols \n",
    "import seaborn as sns;  sns.set()\n",
    "\n",
    "def show(target_1,target_2):\n",
    "    ols_df1 = pd.read_csv(target_1 + '.csv',index_col='Date')\n",
    "    ols_df1 = ols_df1[['Close']]\n",
    "    ols_df1.columns = [target_1]\n",
    "    \n",
    "    ols_df2 = pd.read_csv(target_2 + '.csv',index_col='Date')\n",
    "    ols_df2 = ols_df2[['Close']]\n",
    "    ols_df2.columns = [target_2]\n",
    "\n",
    "    new_df = pd.concat([ols_df1, ols_df2], axis=1, sort=False)\n",
    "    new_df = new_df.dropna()\n",
    "    new_df = new_df[-240:]\n",
    "\n",
    "    ret_index = new_df.pct_change()\n",
    "    ret_index = ret_index.dropna()\n",
    "    sns.jointplot(target_1, target_2, data = ret_index, kind='reg')"
   ]
  }
 ],
 "metadata": {
  "kernelspec": {
   "display_name": "Python 3",
   "language": "python",
   "name": "python3"
  },
  "language_info": {
   "codemirror_mode": {
    "name": "ipython",
    "version": 3
   },
   "file_extension": ".py",
   "mimetype": "text/x-python",
   "name": "python",
   "nbconvert_exporter": "python",
   "pygments_lexer": "ipython3",
   "version": "3.7.2"
  }
 },
 "nbformat": 4,
 "nbformat_minor": 2
}
